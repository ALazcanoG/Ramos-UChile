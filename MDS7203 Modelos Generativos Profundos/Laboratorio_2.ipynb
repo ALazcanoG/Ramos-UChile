{
  "cells": [
    {
      "cell_type": "markdown",
      "metadata": {
        "cell_id": "3ec1cec624ef406c8f6a8d3cb7b93d46",
        "deepnote_cell_type": "markdown",
        "id": "e4Pr6pv5ie50"
      },
      "source": [
        "**MDS7203 Modelos Generativos Profundos, Primavera 2023**\n",
        "\n",
        "# Laboratorio 2: Modelo de lenguaje auto-regresivo\n",
        "\n",
        "**Profesor**: Felipe Tobar, **Auxiliares**: Cristóbal Alcázar, Camilo Carvajal Reyes, **Ayudante**: Joaquín Barceló.\n",
        "\n",
        "**Fecha de entrega**: viernes 29 de septiembre 2023"
      ]
    },
    {
      "cell_type": "markdown",
      "metadata": {
        "cell_id": "38cd31c023b047f080018f94f24927e8",
        "deepnote_cell_type": "markdown",
        "id": "ml3a5QZcLr5E"
      },
      "source": [
        "**Nombre: Arturo Lazcano**"
      ]
    },
    {
      "cell_type": "markdown",
      "metadata": {
        "cell_id": "279c16d9f94a4b5dbe45f9f4f6ff6f07",
        "deepnote_cell_type": "markdown",
        "id": "YKLgeYwkLr5F"
      },
      "source": [
        "**Instrucciones**: El presente notebook contiene enunciado e instrucciones para la realización del laboratorio. Usted deberá completar los códigos (en este archivo o en una copia del mismo) donde se le pida hacerlo. Usted deberá entregar el notebook con sus respuestas, cumpliendo lo siguiente:\n",
        "\n",
        "- Los comentarios en código deben ser concisos pero claros. No se evaluarán sub-preguntas donde solo exista código sin comentarios pertinentes.\n",
        "- El código debe ser ordenado y ejectuable. No se evaluarán notebooks o scripts que generen errores en su ejecución. Se aconseja resetear la kernel y corroborar la correcta execución de todas las celdas antes de ejecutar el entrenamiento de su modelo.\n",
        "- Si bien se aconseja el uso de internet y otras herramientas para asistir su trabajo, asi como discusiones con el ED y estudiantes, el código que entregue debe ser de su autoría.\n",
        "\n",
        "El objetivo del laboratorio será implementar, desde casi cero, un modelo de lenguaje estilo GPT, i.e., basado en el uso de un bloque \"decoder\" de la arquitectura Transformer (como se muestra en la imagen a continuación). Este tipo de modelos es un ejemplo de modelo auto-regresivo y que ha tenido gran relevancia en el último tiempo."
      ]
    },
    {
      "cell_type": "code",
      "execution_count": 36,
      "metadata": {
        "colab": {
          "base_uri": "https://localhost:8080/",
          "height": 516
        },
        "id": "Y0lr58uqLr5F",
        "outputId": "2a9cf781-49fe-4e06-d743-6917fcc0f77c"
      },
      "outputs": [
        {
          "output_type": "execute_result",
          "data": {
            "text/html": [
              "<img src=\"https://i.stack.imgur.com/bWnx0.png\"/>"
            ],
            "text/plain": [
              "<IPython.core.display.Image object>"
            ]
          },
          "metadata": {},
          "execution_count": 36
        }
      ],
      "source": [
        "from IPython.display import Image\n",
        "Image(url='https://i.stack.imgur.com/bWnx0.png')"
      ]
    },
    {
      "cell_type": "markdown",
      "metadata": {
        "id": "ZrsoPmB4Lr5G"
      },
      "source": [
        "Algunos links útiles:\n",
        "\n",
        "* [Language Models are Unsupervised Multitask Learners](https://d4mucfpksywv.cloudfront.net/better-language-models/language-models.pdf)\n",
        "* [GPT2, original blog post](https://openai.com/research/better-language-models)"
      ]
    },
    {
      "cell_type": "markdown",
      "metadata": {
        "cell_id": "40d3aa47f3204ca888f874beb273d9f5",
        "deepnote_cell_type": "text-cell-h3",
        "formattedRanges": [],
        "id": "9b2j5mtMLr5G"
      },
      "source": [
        "### Resumen de preguntas"
      ]
    },
    {
      "cell_type": "markdown",
      "metadata": {
        "cell_id": "14369c673f3049a19e647a78a00686d4",
        "deepnote_cell_type": "text-cell-todo",
        "formattedRanges": [],
        "id": "z-5m3G8tLr5G"
      },
      "source": [
        "- [ ] a) (0,5 ptos.) Definición de diccionarios para vocabulario"
      ]
    },
    {
      "cell_type": "markdown",
      "metadata": {
        "cell_id": "c3ae5920aed6440ea4c012068c08bb8b",
        "checked": false,
        "deepnote_cell_type": "text-cell-todo",
        "formattedRanges": [],
        "id": "UaIwrSOKLr5G"
      },
      "source": [
        "- [ ] b) (bonus) Utilización de embeddings previo a la normalización"
      ]
    },
    {
      "cell_type": "markdown",
      "metadata": {
        "cell_id": "d259ba9b76b74b2e8eb0132b06f7f31c",
        "checked": false,
        "deepnote_cell_type": "text-cell-todo",
        "formattedRanges": [],
        "id": "Iu-dHvaYLr5G"
      },
      "source": [
        "- [ ] c) (bonus) Escalamiento por $1/\\sqrt{d_k}$."
      ]
    },
    {
      "cell_type": "markdown",
      "metadata": {
        "cell_id": "14547d4ff1564ceca8f1133b2bf3831f",
        "checked": false,
        "deepnote_cell_type": "text-cell-todo",
        "formattedRanges": [],
        "id": "uzUEpmd0Lr5G"
      },
      "source": [
        "- [ ] d) (1.5 ptos.) Creación de clase `Head`."
      ]
    },
    {
      "cell_type": "markdown",
      "metadata": {
        "cell_id": "806e04b64a5f4e8c9c46b8addb61da30",
        "checked": false,
        "deepnote_cell_type": "text-cell-todo",
        "formattedRanges": [],
        "id": "EZeawZGvLr5G"
      },
      "source": [
        "- [ ] e) (0.75 pto.) Implementación de clase `FeedForward`."
      ]
    },
    {
      "cell_type": "markdown",
      "metadata": {
        "cell_id": "af2c2194e9e94407b2ed8d38ac7dd9c5",
        "checked": false,
        "deepnote_cell_type": "text-cell-todo",
        "formattedRanges": [],
        "id": "FCWFCEgjLr5H"
      },
      "source": [
        "- [ ] f) (0.5 ptos.) Relación entre hiper-parámetros n_head y head_size."
      ]
    },
    {
      "cell_type": "markdown",
      "metadata": {
        "cell_id": "9cec4a573e824ff2a535781db9773328",
        "checked": false,
        "deepnote_cell_type": "text-cell-todo",
        "formattedRanges": [],
        "id": "Ybb7sNnYLr5H"
      },
      "source": [
        "- [ ] g) (0.75 ptos.) Forward pass en `DecoderBlock`."
      ]
    },
    {
      "cell_type": "markdown",
      "metadata": {
        "cell_id": "33851255223c4c569a4ef98add7b0b4f",
        "checked": false,
        "deepnote_cell_type": "text-cell-todo",
        "formattedRanges": [],
        "id": "FneUxkHoLr5H"
      },
      "source": [
        "- [ ] h) (1 pto.) Implementación clase `GPTLM`."
      ]
    },
    {
      "cell_type": "markdown",
      "metadata": {
        "cell_id": "273f32755bf446cba8132463ead5c3ac",
        "checked": false,
        "deepnote_cell_type": "text-cell-todo",
        "formattedRanges": [],
        "id": "oRdVL5NcLr5H"
      },
      "source": [
        "- [ ] i) (1 pto.) Training loop."
      ]
    },
    {
      "cell_type": "markdown",
      "metadata": {
        "id": "3PTHymaNLr5H"
      },
      "source": [
        "- [ ] j) (bonus) Comparar modelo con Baseline."
      ]
    },
    {
      "cell_type": "code",
      "execution_count": 50,
      "metadata": {
        "cell_id": "3381cfa7678849408eeaf9aedb7fb2d1",
        "deepnote_cell_type": "code",
        "deepnote_to_be_reexecuted": false,
        "execution_millis": 5134,
        "execution_start": 1693917871424,
        "id": "xIPkmAHJmC9s",
        "source_hash": null
      },
      "outputs": [],
      "source": [
        "# Librerías del Lab 2\n",
        "import torch\n",
        "import torch.nn as nn\n",
        "from torch.nn import functional as F\n",
        "import matplotlib.pyplot as plt\n",
        "import numpy as np\n",
        "import math"
      ]
    },
    {
      "cell_type": "markdown",
      "metadata": {
        "id": "EOnhyPbMLr5H"
      },
      "source": [
        "Características de la GPU, si es que está disponible."
      ]
    },
    {
      "cell_type": "code",
      "execution_count": 2,
      "metadata": {
        "colab": {
          "base_uri": "https://localhost:8080/"
        },
        "id": "3RI6G03zLr5H",
        "outputId": "508fe57e-c62c-4d32-8952-7830c43c9edf"
      },
      "outputs": [
        {
          "output_type": "stream",
          "name": "stdout",
          "text": [
            "Fri Sep 29 13:19:15 2023       \n",
            "+-----------------------------------------------------------------------------+\n",
            "| NVIDIA-SMI 525.105.17   Driver Version: 525.105.17   CUDA Version: 12.0     |\n",
            "|-------------------------------+----------------------+----------------------+\n",
            "| GPU  Name        Persistence-M| Bus-Id        Disp.A | Volatile Uncorr. ECC |\n",
            "| Fan  Temp  Perf  Pwr:Usage/Cap|         Memory-Usage | GPU-Util  Compute M. |\n",
            "|                               |                      |               MIG M. |\n",
            "|===============================+======================+======================|\n",
            "|   0  Tesla T4            Off  | 00000000:00:04.0 Off |                    0 |\n",
            "| N/A   41C    P8     9W /  70W |      0MiB / 15360MiB |      0%      Default |\n",
            "|                               |                      |                  N/A |\n",
            "+-------------------------------+----------------------+----------------------+\n",
            "                                                                               \n",
            "+-----------------------------------------------------------------------------+\n",
            "| Processes:                                                                  |\n",
            "|  GPU   GI   CI        PID   Type   Process name                  GPU Memory |\n",
            "|        ID   ID                                                   Usage      |\n",
            "|=============================================================================|\n",
            "|  No running processes found                                                 |\n",
            "+-----------------------------------------------------------------------------+\n"
          ]
        }
      ],
      "source": [
        "!nvidia-smi"
      ]
    },
    {
      "cell_type": "markdown",
      "metadata": {
        "cell_id": "a607d5c593c64504a2c445b78a01b637",
        "deepnote_cell_type": "markdown",
        "id": "O54vJC-DjbMe"
      },
      "source": [
        "## 1. Corpus 📖\n",
        "\n",
        "Escoja uno de los dos datasets:\n",
        "- shakespeare.txt: concatenación de obras de shakespeare, ~ 1 millon de caracteres\n",
        "- cabromagico.txt: concatenación de los libros de Harry Potter, ~ 6 millones de caracteres\n",
        "\n",
        "Escoja en base a sus gustos y capacidades de cómputo."
      ]
    },
    {
      "cell_type": "code",
      "execution_count": 3,
      "metadata": {
        "colab": {
          "base_uri": "https://localhost:8080/"
        },
        "id": "PWnCl-wsLr5I",
        "outputId": "f2c0fcbe-82e6-4d6b-9f74-8df9473b0baa"
      },
      "outputs": [
        {
          "output_type": "stream",
          "name": "stdout",
          "text": [
            "--2023-09-29 13:19:15--  https://raw.githubusercontent.com/GAMES-UChile/Curso-Modelos-Generativos-Profundos/main/labs/data/shakespeare.txt\n",
            "Resolving raw.githubusercontent.com (raw.githubusercontent.com)... 185.199.110.133, 185.199.108.133, 185.199.111.133, ...\n",
            "Connecting to raw.githubusercontent.com (raw.githubusercontent.com)|185.199.110.133|:443... connected.\n",
            "HTTP request sent, awaiting response... 200 OK\n",
            "Length: 1115394 (1.1M) [text/plain]\n",
            "Saving to: ‘shakespeare.txt’\n",
            "\n",
            "shakespeare.txt     100%[===================>]   1.06M  --.-KB/s    in 0.06s   \n",
            "\n",
            "2023-09-29 13:19:15 (18.2 MB/s) - ‘shakespeare.txt’ saved [1115394/1115394]\n",
            "\n"
          ]
        }
      ],
      "source": [
        "# Si usan colab, descargar dataset desde repo GAMES descomentando una de las siguientes lineas:\n",
        "!wget https://raw.githubusercontent.com/GAMES-UChile/Curso-Modelos-Generativos-Profundos/main/labs/data/shakespeare.txt\n",
        "# !wget https://raw.githubusercontent.com/GAMES-UChile/Curso-Modelos-Generativos-Profundos/main/labs/data/cabromagico.txt"
      ]
    },
    {
      "cell_type": "code",
      "execution_count": 4,
      "metadata": {
        "colab": {
          "base_uri": "https://localhost:8080/"
        },
        "id": "9qMf9JGlLr5I",
        "outputId": "47344ed8-2dcd-44a6-e238-d456290ecc90"
      },
      "outputs": [
        {
          "output_type": "stream",
          "name": "stdout",
          "text": [
            "Tamaño del corpus (shakespeare.txt): 1,115,394 caracteres\n"
          ]
        }
      ],
      "source": [
        "# Selecciona el corpus a su gusto\n",
        "filename = 'shakespeare.txt'\n",
        "#filename = 'cabromagico.txt'\n",
        "\n",
        "with open(filename, 'r', encoding='utf-8') as file:\n",
        "    text = file.read()\n",
        "\n",
        "print(f\"Tamaño del corpus ({filename}): {len(text):,} caracteres\")"
      ]
    },
    {
      "cell_type": "code",
      "execution_count": 5,
      "metadata": {
        "colab": {
          "base_uri": "https://localhost:8080/"
        },
        "id": "f4GolQ73Lr5I",
        "outputId": "96f7f9d9-10ee-4949-ba4b-d2e6e20a44c5"
      },
      "outputs": [
        {
          "output_type": "stream",
          "name": "stdout",
          "text": [
            "\n",
            " !$&',-.3:;?ABCDEFGHIJKLMNOPQRSTUVWXYZabcdefghijklmnopqrstuvwxyz\n",
            "65\n"
          ]
        }
      ],
      "source": [
        "# caracteres que se usarán a modo de formar potenciales palabras (notar que está el \\n -> salto de línea)\n",
        "chars = sorted(list(set(text)))\n",
        "vocab_size = len(chars)\n",
        "print(''.join(chars))\n",
        "print(vocab_size)"
      ]
    },
    {
      "cell_type": "markdown",
      "metadata": {
        "cell_id": "063a10ca987f4b479fb3b53b92f2ad52",
        "deepnote_cell_type": "markdown",
        "id": "HpsWg0NkLr5I"
      },
      "source": [
        "> a) (0.5 ptos.) Dada una lista de ordenada de caracteres, defina:\n",
        "> - stoi: un diccionario caracter -> índice\n",
        "> - itos: un diccionario índice -> caracter\n",
        "> Con lo anterior, defina dos funciones encode y decode que tomen un string y una lista de índices respectivamente y devuelvan una lista de índices y un string según corresponda."
      ]
    },
    {
      "cell_type": "code",
      "execution_count": 6,
      "metadata": {
        "cell_id": "599ecea77d984abaace18d2f1cc934f1",
        "deepnote_cell_type": "code",
        "deepnote_to_be_reexecuted": false,
        "execution_millis": 9,
        "execution_start": 1693859157194,
        "id": "NURlEkGjkSEf",
        "source_hash": null
      },
      "outputs": [],
      "source": [
        "# --------------------------------------------\n",
        "\n",
        "stoi = {k: v for v, k in enumerate(chars)}\n",
        "itos = {y: x for x, y in stoi.items()}\n",
        "\n",
        "# encoder: toma un string, devuelve una lista de índices\n",
        "encode = lambda s: [stoi[x] for x in s]\n",
        "\n",
        "# decoder: toma una lista de índices, devuelve un string\n",
        "decode = lambda l: ''.join([itos[x] for x in l])\n",
        "\n",
        "# --------------------------------------------"
      ]
    },
    {
      "cell_type": "code",
      "execution_count": 7,
      "metadata": {
        "id": "kdtmIAWELr5I"
      },
      "outputs": [],
      "source": [
        "if filename == 'shakespeare.txt':\n",
        "    assert encode('hola, que tal?') == [46, 53, 50, 39, 6, 1, 55, 59, 43, 1, 58, 39, 50, 12], 'Verifica que el output entregue una lista de enteros'\n",
        "    assert decode(encode('hola, que tal?')) == 'hola, que tal?', 'Debe ser un string'\n",
        "elif filename == 'cabromagico.txt':\n",
        "    assert encode('hola, que tal?') == [73, 80, 77, 66, 14, 4, 82, 86, 70, 4, 85, 66, 77, 33], 'Verifica que el output entregue una lista de enteros'\n",
        "    assert decode(encode('hola, que tal?')) == 'hola, que tal?', 'Debe ser un string'\n",
        "else:\n",
        "    print('Estas usando un filename distinto para construir el corpus!\\nSi estas explorando otro corpus esta bien!\\nRecuerda verificar que la funcionalidad esta correcta con shakespear o cabromagico.')"
      ]
    },
    {
      "cell_type": "markdown",
      "metadata": {
        "cell_id": "488abcf1ec984a438cab8626fc6e8160",
        "deepnote_cell_type": "markdown",
        "id": "ktvBOC1qmJDY"
      },
      "source": [
        "Nuestro modelo no entiende el lenguaje directamente, sino que los representa como números. Pasamos el corpus completo a su representación de enteros, usando el `stoi` (aka _string-to-index_)."
      ]
    },
    {
      "cell_type": "code",
      "execution_count": 8,
      "metadata": {
        "cell_id": "9e79dd31677a477580450a4b80e2aa95",
        "colab": {
          "base_uri": "https://localhost:8080/"
        },
        "deepnote_cell_type": "code",
        "deepnote_to_be_reexecuted": false,
        "execution_millis": 136,
        "execution_start": 1693859161854,
        "id": "WAsyhejrl2X6",
        "outputId": "af27bca5-4289-4f4b-b367-2656913e20d3",
        "source_hash": null
      },
      "outputs": [
        {
          "output_type": "execute_result",
          "data": {
            "text/plain": [
              "torch.Size([1115394])"
            ]
          },
          "metadata": {},
          "execution_count": 8
        }
      ],
      "source": [
        "# dataset a tensor\n",
        "data = torch.tensor(encode(text), dtype=torch.long)\n",
        "data.shape"
      ]
    },
    {
      "cell_type": "code",
      "execution_count": 9,
      "metadata": {
        "cell_id": "39c418201e2a4534a13ddc5527929041",
        "colab": {
          "base_uri": "https://localhost:8080/"
        },
        "deepnote_cell_type": "code",
        "id": "d9aOmlLVlEcr",
        "outputId": "859d9416-8647-4284-b8de-53cff4e9c299"
      },
      "outputs": [
        {
          "output_type": "stream",
          "name": "stdout",
          "text": [
            "Texto con los primeros 100 caracteres:\n",
            "----------------------------------------------\n",
            "\n",
            "First Citizen:\n",
            "Before we proceed any further, hear me speak.\n",
            "\n",
            "All:\n",
            "Speak, speak.\n",
            "\n",
            "First Citizen:\n",
            "You\n",
            "\n",
            "----------------------------------------------\n",
            "Su representación como tensor de PyTorch...\n",
            "\n",
            "tensor([18, 47, 56, 57, 58,  1, 15, 47, 58, 47, 64, 43, 52, 10,  0, 14, 43, 44,\n",
            "        53, 56, 43,  1, 61, 43,  1, 54, 56, 53, 41, 43, 43, 42,  1, 39, 52, 63,\n",
            "         1, 44, 59, 56, 58, 46, 43, 56,  6,  1, 46, 43, 39, 56,  1, 51, 43,  1,\n",
            "        57, 54, 43, 39, 49,  8,  0,  0, 13, 50, 50, 10,  0, 31, 54, 43, 39, 49,\n",
            "         6,  1, 57, 54, 43, 39, 49,  8,  0,  0, 18, 47, 56, 57, 58,  1, 15, 47,\n",
            "        58, 47, 64, 43, 52, 10,  0, 37, 53, 59])\n"
          ]
        }
      ],
      "source": [
        "# ejemplo de caracteres con su representación\n",
        "N=100\n",
        "print(f\"Texto con los primeros {N} caracteres:\\n----------------------------------------------\\n\")\n",
        "print(text[:N])\n",
        "print(\"\\n----------------------------------------------\\nSu representación como tensor de PyTorch...\\n\")\n",
        "print(data[:N])"
      ]
    },
    {
      "cell_type": "markdown",
      "metadata": {
        "cell_id": "5aa3280c539a40c7a350543d116126c6",
        "deepnote_cell_type": "markdown",
        "id": "Aqdw5-8BnVhX"
      },
      "source": [
        "## 2. Separar el dataset 🔨 y 🎓"
      ]
    },
    {
      "cell_type": "code",
      "execution_count": 10,
      "metadata": {
        "cell_id": "4ee3ee4d9f4c425e86da95a874ce263f",
        "colab": {
          "base_uri": "https://localhost:8080/"
        },
        "deepnote_cell_type": "code",
        "deepnote_to_be_reexecuted": false,
        "execution_millis": 14,
        "execution_start": 1693859215823,
        "id": "zzUjG0OqnWr4",
        "outputId": "0c3118d8-2b8c-4284-9afb-c7c446acad65",
        "source_hash": null
      },
      "outputs": [
        {
          "output_type": "stream",
          "name": "stdout",
          "text": [
            "--> Tamaño del corpus de entrenamiento: 1,003,854 (0.90) caracteres\n",
            "--> Tamaño del corpus de validación: 111,540 (0.10) caracteres\n"
          ]
        }
      ],
      "source": [
        "# definir % de train y validación\n",
        "n = int(0.9 * len(data))  # 90%\n",
        "train_data = data[:n]\n",
        "val_data = data[n:]\n",
        "print(f\"--> Tamaño del corpus de entrenamiento: {len(train_data):,} ({(train_data.shape[0] / data.shape[0]):.2f}) caracteres\")\n",
        "print(f\"--> Tamaño del corpus de validación: {len(val_data):,} ({(val_data.shape[0] / data.shape[0]):.2f}) caracteres\")"
      ]
    },
    {
      "cell_type": "markdown",
      "metadata": {
        "cell_id": "91dfd4134b1c44ba8b699996afd1cc7d",
        "deepnote_cell_type": "markdown",
        "id": "JaWNJQnzpzC8"
      },
      "source": [
        "Sobre la mécanica de datos y etiquetas,\n",
        "\n",
        "* Accedemos a los datos a partir de \"fragmentos contextuales\"; esto es un bloque de texto en representación númerica de tamaño `block_size`\n",
        "* El modelo es semi-supervisado, es decir, búscamos entrenar un modelo de tal forma que dado ${x}_{i:j}$ _tokens_, vamos a predecir el siguiente _token_ $x_{j+1}$\n",
        "* Las etiquetas emergen del mismo bloque contextual moviendo la ventana con un _offset_ de 1."
      ]
    },
    {
      "cell_type": "markdown",
      "metadata": {
        "cell_id": "97a1b7a307504727b77d318f9923413a",
        "deepnote_cell_type": "markdown",
        "id": "zFVaZzxuq0H3"
      },
      "source": [
        "Por ejemplo, dado un bloque de tamaño 8,\n"
      ]
    },
    {
      "cell_type": "code",
      "execution_count": 11,
      "metadata": {
        "cell_id": "b4b1cc1b8e7d4b9795c52191988b8056",
        "colab": {
          "base_uri": "https://localhost:8080/"
        },
        "deepnote_cell_type": "code",
        "deepnote_to_be_reexecuted": false,
        "execution_millis": 23,
        "execution_start": 1693859220379,
        "id": "ouHuc50ApdRS",
        "outputId": "23874c8d-d35c-4013-a287-e304e47aed50",
        "source_hash": null
      },
      "outputs": [
        {
          "output_type": "stream",
          "name": "stdout",
          "text": [
            "Una bloque contextual (X, Y) será:\n",
            "\n",
            "X: [18, 47, 56, 57, 58, 1, 15, 47, 58, 47, 64, 43, 52]\n",
            "  --> decode(X): First Citizen\n",
            "------------------------------------\n",
            "Y: [47, 56, 57, 58, 1, 15, 47, 58, 47, 64, 43, 52, 10]\n",
            "  --> decode(Y): irst Citizen:\n"
          ]
        }
      ],
      "source": [
        "# ejemplo de bloque contextual\n",
        "block_size = 13\n",
        "print(f\"Una bloque contextual (X, Y) será:\\n\")\n",
        "print(f\"X: {[x.item() for x in data[:block_size]]}\")\n",
        "print(f\"  --> decode(X): {decode([x.item() for x in data[:block_size]])}\")\n",
        "print('------------------------------------')\n",
        "print(f\"Y: {[x.item() for x in data[1:block_size+1]]}\")\n",
        "print(f\"  --> decode(Y): {decode([y.item() for y in data[1:block_size+1]])}\")"
      ]
    },
    {
      "cell_type": "markdown",
      "metadata": {
        "cell_id": "d2f37b21b42246a3adfb3998f07f9387",
        "deepnote_cell_type": "markdown",
        "id": "ukclPGdHwALB"
      },
      "source": [
        "Sin embago, dentro de cada bloque contextual ocupamos la información de manera autoregresiva, generando múltiple observaciones a partir de este..."
      ]
    },
    {
      "cell_type": "code",
      "execution_count": 12,
      "metadata": {
        "cell_id": "07f3c398835145b38ffa4db9f8b924e6",
        "colab": {
          "base_uri": "https://localhost:8080/"
        },
        "deepnote_cell_type": "code",
        "deepnote_to_be_reexecuted": false,
        "execution_millis": 17,
        "execution_start": 1693859223706,
        "id": "NBir0GCgshQH",
        "outputId": "66bde8c5-7d0e-470a-c868-08aa978e2b97",
        "source_hash": null
      },
      "outputs": [
        {
          "output_type": "stream",
          "name": "stdout",
          "text": [
            "Cuando el input es tensor([18]) el target es: 47\n",
            "Cuando el input es tensor([18, 47]) el target es: 56\n",
            "Cuando el input es tensor([18, 47, 56]) el target es: 57\n",
            "Cuando el input es tensor([18, 47, 56, 57]) el target es: 58\n",
            "Cuando el input es tensor([18, 47, 56, 57, 58]) el target es: 1\n",
            "Cuando el input es tensor([18, 47, 56, 57, 58,  1]) el target es: 15\n",
            "Cuando el input es tensor([18, 47, 56, 57, 58,  1, 15]) el target es: 47\n",
            "Cuando el input es tensor([18, 47, 56, 57, 58,  1, 15, 47]) el target es: 58\n",
            "Cuando el input es tensor([18, 47, 56, 57, 58,  1, 15, 47, 58]) el target es: 47\n",
            "Cuando el input es tensor([18, 47, 56, 57, 58,  1, 15, 47, 58, 47]) el target es: 64\n",
            "Cuando el input es tensor([18, 47, 56, 57, 58,  1, 15, 47, 58, 47, 64]) el target es: 43\n",
            "Cuando el input es tensor([18, 47, 56, 57, 58,  1, 15, 47, 58, 47, 64, 43]) el target es: 52\n",
            "Cuando el input es tensor([18, 47, 56, 57, 58,  1, 15, 47, 58, 47, 64, 43, 52]) el target es: 10\n"
          ]
        }
      ],
      "source": [
        "# ejemplos de inputs con target respectivos\n",
        "x = train_data[:block_size]\n",
        "y = train_data[1:block_size+1]\n",
        "for t in range(block_size):\n",
        "    context = x[:t+1]\n",
        "    target = y[t]\n",
        "    print(f\"Cuando el input es {context} el target es: {target}\")"
      ]
    },
    {
      "cell_type": "markdown",
      "metadata": {
        "cell_id": "7ed1dfd8af584e109c9348cd1d0912db",
        "deepnote_cell_type": "markdown",
        "id": "AeRBbWV6z75E"
      },
      "source": [
        "Por lo tanto, cada bloque contextual, genera un número de observaciones igual a su tamaño.\n",
        "\n",
        "En términos de _batches_, podemos procesar en paralelo, múltiples bloques contextuales. Lo importante es que cada bloque contextual es independiente, y no hay computo que ocurra a nivel transversal, sino paralelo entre estos. No se mezclan las secuencias autoregresivas de cada contexto."
      ]
    },
    {
      "cell_type": "code",
      "execution_count": 13,
      "metadata": {
        "cell_id": "779633ce16194ccfbcc43f79bf338b7a",
        "colab": {
          "base_uri": "https://localhost:8080/"
        },
        "deepnote_cell_type": "code",
        "deepnote_to_be_reexecuted": false,
        "execution_millis": 265,
        "execution_start": 1693859227529,
        "id": "X3hWnI_5yp7x",
        "outputId": "b77f2e02-0873-4ce0-ae20-c73c4968b988",
        "source_hash": null
      },
      "outputs": [
        {
          "output_type": "stream",
          "name": "stdout",
          "text": [
            "inputs:\n",
            "torch.Size([4, 8])\n",
            "tensor([[52, 42,  1, 40, 47, 42,  1, 46],\n",
            "        [57, 58, 11,  1, 39, 52, 42,  6],\n",
            "        [ 1, 39, 52, 42,  0, 50, 53, 60],\n",
            "        [10,  0, 21, 44,  1, 58, 46, 43]])\n",
            "targets:\n",
            "torch.Size([4, 8])\n",
            "tensor([[42,  1, 40, 47, 42,  1, 46, 43],\n",
            "        [58, 11,  1, 39, 52, 42,  6,  1],\n",
            "        [39, 52, 42,  0, 50, 53, 60, 43],\n",
            "        [ 0, 21, 44,  1, 58, 46, 43, 63]])\n",
            "----\n",
            "Cuando el input es [52] el target: 42\n",
            "Cuando el input es [52, 42] el target: 1\n",
            "Cuando el input es [52, 42, 1] el target: 40\n",
            "Cuando el input es [52, 42, 1, 40] el target: 47\n",
            "Cuando el input es [52, 42, 1, 40, 47] el target: 42\n",
            "Cuando el input es [52, 42, 1, 40, 47, 42] el target: 1\n",
            "Cuando el input es [52, 42, 1, 40, 47, 42, 1] el target: 46\n",
            "Cuando el input es [52, 42, 1, 40, 47, 42, 1, 46] el target: 43\n",
            "Cuando el input es [57] el target: 58\n",
            "Cuando el input es [57, 58] el target: 11\n",
            "Cuando el input es [57, 58, 11] el target: 1\n",
            "Cuando el input es [57, 58, 11, 1] el target: 39\n",
            "Cuando el input es [57, 58, 11, 1, 39] el target: 52\n",
            "Cuando el input es [57, 58, 11, 1, 39, 52] el target: 42\n",
            "Cuando el input es [57, 58, 11, 1, 39, 52, 42] el target: 6\n",
            "Cuando el input es [57, 58, 11, 1, 39, 52, 42, 6] el target: 1\n",
            "Cuando el input es [1] el target: 39\n",
            "Cuando el input es [1, 39] el target: 52\n",
            "Cuando el input es [1, 39, 52] el target: 42\n",
            "Cuando el input es [1, 39, 52, 42] el target: 0\n",
            "Cuando el input es [1, 39, 52, 42, 0] el target: 50\n",
            "Cuando el input es [1, 39, 52, 42, 0, 50] el target: 53\n",
            "Cuando el input es [1, 39, 52, 42, 0, 50, 53] el target: 60\n",
            "Cuando el input es [1, 39, 52, 42, 0, 50, 53, 60] el target: 43\n",
            "Cuando el input es [10] el target: 0\n",
            "Cuando el input es [10, 0] el target: 21\n",
            "Cuando el input es [10, 0, 21] el target: 44\n",
            "Cuando el input es [10, 0, 21, 44] el target: 1\n",
            "Cuando el input es [10, 0, 21, 44, 1] el target: 58\n",
            "Cuando el input es [10, 0, 21, 44, 1, 58] el target: 46\n",
            "Cuando el input es [10, 0, 21, 44, 1, 58, 46] el target: 43\n",
            "Cuando el input es [10, 0, 21, 44, 1, 58, 46, 43] el target: 63\n"
          ]
        }
      ],
      "source": [
        "# colocar seed como su RUT\n",
        "torch.manual_seed(20470051)\n",
        "batch_size = 4\n",
        "block_size = 8  # largo de ventana máximo para considerar en la precisión\n",
        "# Estos parámetros se re-definirán para el entrenamiento final\n",
        "\n",
        "def get_batch(split):\n",
        "    # generate a small batch of data of inputs x and targets y\n",
        "    data = train_data if split == 'train' else val_data\n",
        "    ix = torch.randint(len(data) - block_size, (batch_size,))\n",
        "    x = torch.stack([data[i:i+block_size] for i in ix])\n",
        "    y = torch.stack([data[i+1:i+block_size+1] for i in ix])\n",
        "    return x, y\n",
        "\n",
        "xb, yb = get_batch('train')\n",
        "print('inputs:')\n",
        "print(xb.shape)\n",
        "print(xb)\n",
        "print('targets:')\n",
        "print(yb.shape)\n",
        "print(yb)\n",
        "\n",
        "print('----')\n",
        "\n",
        "for b in range(batch_size): # batch dimension\n",
        "    for t in range(block_size): # time dimension\n",
        "        context = xb[b, :t+1]\n",
        "        target = yb[b,t]\n",
        "        print(f\"Cuando el input es {context.tolist()} el target: {target}\")"
      ]
    },
    {
      "cell_type": "markdown",
      "metadata": {
        "cell_id": "1889b0faf3d648409045388624948ef6",
        "deepnote_cell_type": "markdown",
        "id": "U-xAeNbk1f2E"
      },
      "source": [
        "Lo que recibirá la red como _input_ será:"
      ]
    },
    {
      "cell_type": "code",
      "execution_count": 14,
      "metadata": {
        "cell_id": "ace2e494f0af47718468b6e75eb1dd54",
        "colab": {
          "base_uri": "https://localhost:8080/"
        },
        "deepnote_cell_type": "code",
        "deepnote_to_be_reexecuted": false,
        "execution_millis": 17,
        "execution_start": 1693859236814,
        "id": "gTCL2aQY1VbI",
        "outputId": "4fa78e2d-e39b-436f-ddad-9d7c0b8976e5",
        "source_hash": null
      },
      "outputs": [
        {
          "output_type": "execute_result",
          "data": {
            "text/plain": [
              "tensor([[52, 42,  1, 40, 47, 42,  1, 46],\n",
              "        [57, 58, 11,  1, 39, 52, 42,  6],\n",
              "        [ 1, 39, 52, 42,  0, 50, 53, 60],\n",
              "        [10,  0, 21, 44,  1, 58, 46, 43]])"
            ]
          },
          "metadata": {},
          "execution_count": 14
        }
      ],
      "source": [
        "xb # input"
      ]
    },
    {
      "cell_type": "markdown",
      "metadata": {
        "cell_id": "8f4d24230cbc46af97f97d7090c150d4",
        "deepnote_cell_type": "markdown",
        "id": "OPG_QkSJ1km7"
      },
      "source": [
        "## 3. Baseline"
      ]
    },
    {
      "cell_type": "markdown",
      "metadata": {
        "cell_id": "6e48f01409934cf88739d426f3a1b144",
        "deepnote_cell_type": "markdown",
        "id": "ps9P2zGWLr5N"
      },
      "source": [
        "Creamos un modelo base clásico, para luego compararlo con nuestro Transformer."
      ]
    },
    {
      "cell_type": "code",
      "execution_count": 17,
      "metadata": {
        "cell_id": "79776665f2914e0dad0b035148df8a82",
        "deepnote_cell_type": "code",
        "id": "MlAT7Lnx1hyd",
        "colab": {
          "base_uri": "https://localhost:8080/"
        },
        "outputId": "994943fd-9b11-4ecf-9514-fe51d20469b2"
      },
      "outputs": [
        {
          "output_type": "stream",
          "name": "stdout",
          "text": [
            "torch.Size([32, 65])\n",
            "tensor(4.6607, grad_fn=<NllLossBackward0>)\n",
            "\n",
            "HGtECvzIt$Q 3rkfe;zhQwRKLs uDtuvVZjgEO:xuhJ FcIYRNLhkLduHbJbRzqV3?x-TP,ZUYhkPyzqpFY vqqheSRYlDhMGUYg\n",
            "------------------ \n",
            " resultado malaso el de arriba jaja\n"
          ]
        }
      ],
      "source": [
        "torch.manual_seed(20470051)\n",
        "\n",
        "class BigramLanguageModel(nn.Module):\n",
        "\n",
        "    def __init__(self, vocab_size):\n",
        "        super().__init__()\n",
        "        # cada token lee sucesivamente los logits para el token siguiente de una lookup table\n",
        "        self.token_embedding_table = nn.Embedding(vocab_size, vocab_size)\n",
        "\n",
        "    def forward(self, idx, targets=None):\n",
        "\n",
        "        # idx y targets son ambos tensores de tamaño (B,T) con elementos enteros\n",
        "        logits = self.token_embedding_table(idx) # (B,T,C)\n",
        "\n",
        "        if targets is None:\n",
        "            loss = None\n",
        "        else:\n",
        "            B, T, C = logits.shape\n",
        "            logits = logits.view(B*T, C)\n",
        "            targets = targets.view(B*T)\n",
        "            loss = F.cross_entropy(logits, targets)\n",
        "\n",
        "        return logits, loss\n",
        "\n",
        "    def generate(self, idx, max_new_tokens):\n",
        "        # idx es un arreglo (B, T) de indices del contexto actual\n",
        "        for _ in range(max_new_tokens):\n",
        "            # obtener predicciones\n",
        "            logits, loss = self(idx)\n",
        "            # concentrarse en el último paso\n",
        "            logits = logits[:, -1, :]  # se convierte en (B, C)\n",
        "            # aplicamos softmax para obtener probabilidades\n",
        "            probs = F.softmax(logits, dim=-1)  # (B, C)\n",
        "            # samplear de la distribución\n",
        "            idx_next = torch.multinomial(probs, num_samples=1) # (B, 1)\n",
        "            # agregar el índice de la muestra a la secuencia actual\n",
        "            idx = torch.cat((idx, idx_next), dim=1) # (B, T+1)\n",
        "        return idx\n",
        "\n",
        "# definir modelo y probarlo (sin entrenar)\n",
        "m = BigramLanguageModel(vocab_size)\n",
        "\n",
        "# si xb, yb están en cuda descomentar estas líneas\n",
        "#device = 'cuda' if torch.cuda.is_available() else 'cpu'\n",
        "#m.to(device)\n",
        "\n",
        "logits, loss = m(xb, yb)\n",
        "print(logits.shape)\n",
        "print(loss)\n",
        "\n",
        "print(decode(m.generate(idx = torch.zeros((1, 1), dtype=torch.long), max_new_tokens=100)[0].tolist()))  # ---> cpu\n",
        "#print(decode(m.generate(idx = torch.zeros((1, 1), dtype=torch.long, device=device), max_new_tokens=100)[0].tolist()))  # ---> gpu\n",
        "print('------------------ \\n resultado malaso el de arriba jaja')"
      ]
    },
    {
      "cell_type": "markdown",
      "metadata": {
        "cell_id": "d163007f6061430fa982a27a84438b23",
        "deepnote_cell_type": "text-cell-h2",
        "formattedRanges": [],
        "id": "KUlz4cRXLr5N"
      },
      "source": [
        "## 4. Self-attention"
      ]
    },
    {
      "cell_type": "markdown",
      "metadata": {
        "cell_id": "0f104b88006e4923a61a73a4d2c7cf87",
        "deepnote_cell_type": "markdown",
        "id": "f50B3S92Lr5N"
      },
      "source": [
        "En la sección anterior, vimos que cada _token_ toma una representación vectorial llamada _embeddings_.\n",
        "\n",
        "Nuestro corpus contiene $65$ caracteres únicos con un _embedding_ asociado a cada _token_. La idea de representar el lenguaje en términos de tokens, y estos a su vez en vectores, es que podemos aprender estas representaciones vectoriales a partir de los datos. Sin embargo, la representación es única, y muchas veces un mismo _token_ puede tener distintos significados según su contexto. Por ejemplo:\n",
        "1. \"Te banco a morir!\"\n",
        "2. \"El banco está abierto hasta las dos.\"\n",
        "\n",
        "En ambas oraciones anteriores, el token `banco` tiene un significado distinto. Se espera entonces que la representación de ese token sea distinta en ambos casos y eso lo logramos con la influencia de los tokens presentes en el mismo contexto.\n",
        "\n",
        "La idea principal de _self-attention_ es utilizar la secuencia de _embeddings_ dentro de un contexto para computar un promedio ponderado a partir de estos. Dado una secuencia de _embeddings_ de _tokens_ $x_1, \\dots, x_n$, el mecanismo de _self-attention_ (o auto-atención) produce una nueva secuencia de _embeddings_ $x'_1, \\dots, x'_n$, donde cada $x'_i$ es una combinación lineal de todos los $x_j$:\n",
        "\n",
        "$$\n",
        "x'_i = \\sum_{j=1}^{n} \\alpha_{ij} x_{j}\n",
        "$$\n",
        "\n",
        "Los coeficientes $\\alpha_{ij}$ se llaman ponderadores de atención y están normalizados tal que $\\sum_{j}\\alpha_{ji}=1$."
      ]
    },
    {
      "cell_type": "markdown",
      "metadata": {
        "cell_id": "9e921ba45c064d5d9628b6dc9f470c9b",
        "deepnote_cell_type": "text-cell-p",
        "formattedRanges": [],
        "id": "Z36_F42NLr5N"
      },
      "source": [
        "En términos sencillos, construiremos un mecanismo de comunicación entre distintos tokens dentro del bloque de contexto, que se representará por una colección de ponderadores en una matriz. Esta colección de ponderadores la llamaremos matriz de atención (o self-attention) y nos permitirá vía la operación de multiplicación de matrices, agregar distintos valores dentro de un bloque contextual en una sola cantidad. Spoiler, estos pesos serán data-dependientes."
      ]
    },
    {
      "cell_type": "markdown",
      "metadata": {
        "cell_id": "9296b572acca4bad82f5cfc62690af5b",
        "deepnote_cell_type": "text-cell-p",
        "formattedRanges": [],
        "id": "vdMElN1gLr5N"
      },
      "source": [
        "Comencemos emulando la operación con pesos fijos, usaremos la parte triangular inferior de una matriz identidad de 3x3, la cual normalizaremos a nivel de fila."
      ]
    },
    {
      "cell_type": "code",
      "execution_count": 18,
      "metadata": {
        "cell_id": "b8c36015c3a24412a5f725c06a0e08ac",
        "deepnote_cell_type": "code",
        "deepnote_to_be_reexecuted": false,
        "execution_millis": 44,
        "execution_start": 1693860540618,
        "source_hash": null,
        "colab": {
          "base_uri": "https://localhost:8080/"
        },
        "id": "9Du6cvZkLr5N",
        "outputId": "5dae6eb5-48b9-4c78-c16d-3941d645caf4"
      },
      "outputs": [
        {
          "output_type": "stream",
          "name": "stdout",
          "text": [
            "a= tensor([[1.0000, 0.0000, 0.0000],\n",
            "        [0.5000, 0.5000, 0.0000],\n",
            "        [0.3333, 0.3333, 0.3333]]) \n",
            "\n",
            "b= tensor([[9., 4.],\n",
            "        [6., 0.],\n",
            "        [1., 0.]]) \n",
            "\n",
            "c= tensor([[9.0000, 4.0000],\n",
            "        [7.5000, 2.0000],\n",
            "        [5.3333, 1.3333]])\n"
          ]
        }
      ],
      "source": [
        "# Ejemplo de juguete que ilustra como la multiplicación matricial puede ser usada para una adición con pesos\n",
        "torch.manual_seed(20470051)\n",
        "\n",
        "a = torch.tril(torch.ones(3, 3))\n",
        "a = a / torch.sum(a, 1, keepdim=True)\n",
        "b = torch.randint(0,10,(3,2)).float()\n",
        "c = a @ b\n",
        "\n",
        "print('a=',a,'\\n')\n",
        "print('b=',b,'\\n')\n",
        "print('c=',c)"
      ]
    },
    {
      "cell_type": "markdown",
      "metadata": {
        "cell_id": "ff4d0f0d742e4f9ba3bcb7f6e8e560ef",
        "deepnote_cell_type": "markdown",
        "id": "q3q7cM0GLr5O"
      },
      "source": [
        "Notemos que $c$ tiene en cada fila los resultados de los valores acumulados de $b$ según los ponderadores de $a$.\n",
        "\n",
        "El tensor $a$ se interpreta como una matriz de token-a-token y representa la interación/influencia del token en la posición $i$ con el token de la posición $j$. Dado que nuestro modelo es autoregresivo, los tokens del presente solo pueden ser influenciados por tokens pasados, o ellos mismos. Por eso las posiciones de $a$ que cumplen esta restricción $i \\leq j$, son elementos que conforman la matriz triangular inferior de $a$. El resto de las posiciones no tiene influencia sobre los tokens pasados (i.e. 0).\n"
      ]
    },
    {
      "cell_type": "markdown",
      "metadata": {
        "cell_id": "f3c3eaff6931470ab66a89baf7c2b884",
        "deepnote_cell_type": "markdown",
        "id": "Tpffh9cTLr5O"
      },
      "source": [
        "Vamos a crear un _batch_ con datos síntetico de tamaño `B`, donde cada bloque contextual será de largo $T$, y cada _token_ que compone el contexto se representa por $C$ dimensiones (i.e. tamaño del _embedding_)."
      ]
    },
    {
      "cell_type": "code",
      "execution_count": 19,
      "metadata": {
        "cell_id": "e2e10fa5f831461daec2ca0c93b27a04",
        "deepnote_cell_type": "code",
        "deepnote_to_be_reexecuted": false,
        "execution_millis": 25,
        "execution_start": 1693861772506,
        "source_hash": null,
        "colab": {
          "base_uri": "https://localhost:8080/"
        },
        "id": "1ULmiZahLr5O",
        "outputId": "108e4710-1f93-499c-cc98-df18fd5c8537"
      },
      "outputs": [
        {
          "output_type": "execute_result",
          "data": {
            "text/plain": [
              "torch.Size([4, 8, 2])"
            ]
          },
          "metadata": {},
          "execution_count": 19
        }
      ],
      "source": [
        "torch.manual_seed(20470051)\n",
        "\n",
        "B,T,C = 4,8,2 # batch, time, channels\n",
        "x = torch.randn(B,T,C)\n",
        "x.shape"
      ]
    },
    {
      "cell_type": "code",
      "execution_count": 20,
      "metadata": {
        "id": "glcKAUCzLr5O"
      },
      "outputs": [],
      "source": [
        "xbow = torch.zeros((B,T,C))\n",
        "for b in range(B):\n",
        "    for t in range(T):\n",
        "        xprev = x[b,:t+1] # (t,C)\n",
        "        xbow[b,t] = torch.mean(xprev, 0)"
      ]
    },
    {
      "cell_type": "code",
      "execution_count": 21,
      "metadata": {
        "cell_id": "2aa3b323c83c4ac4a4f7ea1930ca253c",
        "deepnote_cell_type": "code",
        "deepnote_to_be_reexecuted": false,
        "execution_millis": 16,
        "execution_start": 1693862258062,
        "source_hash": null,
        "colab": {
          "base_uri": "https://localhost:8080/"
        },
        "id": "JMCMrPaiLr5O",
        "outputId": "54a10d34-13f3-4c2e-de6c-0630434ee56e"
      },
      "outputs": [
        {
          "output_type": "execute_result",
          "data": {
            "text/plain": [
              "True"
            ]
          },
          "metadata": {},
          "execution_count": 21
        }
      ],
      "source": [
        "# Versión usando softmax\n",
        "tril = torch.tril(torch.ones(T, T))\n",
        "wei = torch.zeros((T,T))\n",
        "wei = wei.masked_fill(tril == 0, float('-inf'))\n",
        "wei = F.softmax(wei, dim=-1)\n",
        "xbow3 = wei @ x\n",
        "torch.allclose(xbow, xbow3)\n"
      ]
    },
    {
      "cell_type": "code",
      "execution_count": 22,
      "metadata": {
        "cell_id": "f89fedd9c5664d448a0f73d90c8c53ca",
        "deepnote_cell_type": "code",
        "deepnote_to_be_reexecuted": false,
        "execution_millis": 14,
        "execution_start": 1693862260341,
        "source_hash": null,
        "colab": {
          "base_uri": "https://localhost:8080/"
        },
        "id": "qe3pD05ILr5O",
        "outputId": "b716bca3-a41a-47ed-b140-263931ff9fc1"
      },
      "outputs": [
        {
          "output_type": "execute_result",
          "data": {
            "text/plain": [
              "tensor([[1.0000, 0.0000, 0.0000, 0.0000, 0.0000, 0.0000, 0.0000, 0.0000],\n",
              "        [0.5000, 0.5000, 0.0000, 0.0000, 0.0000, 0.0000, 0.0000, 0.0000],\n",
              "        [0.3333, 0.3333, 0.3333, 0.0000, 0.0000, 0.0000, 0.0000, 0.0000],\n",
              "        [0.2500, 0.2500, 0.2500, 0.2500, 0.0000, 0.0000, 0.0000, 0.0000],\n",
              "        [0.2000, 0.2000, 0.2000, 0.2000, 0.2000, 0.0000, 0.0000, 0.0000],\n",
              "        [0.1667, 0.1667, 0.1667, 0.1667, 0.1667, 0.1667, 0.0000, 0.0000],\n",
              "        [0.1429, 0.1429, 0.1429, 0.1429, 0.1429, 0.1429, 0.1429, 0.0000],\n",
              "        [0.1250, 0.1250, 0.1250, 0.1250, 0.1250, 0.1250, 0.1250, 0.1250]])"
            ]
          },
          "metadata": {},
          "execution_count": 22
        }
      ],
      "source": [
        "wei"
      ]
    },
    {
      "cell_type": "markdown",
      "metadata": {
        "cell_id": "f647ef2e2b1d4f589593fb378fe2616f",
        "deepnote_cell_type": "markdown",
        "id": "q5bglPWoLr5O"
      },
      "source": [
        "Los ponderadores anteriores son uniformes, ahora introducimos los conceptos de _queries_ y _keys_ para ver como computar los ponderadores a partir de los datos.\n",
        "\n",
        "* Un _query_ $q(\\cdot)$ corresponde a una proyección lineal de la representación de _embeddings_ de un token particular. Por ejemplo, se proyecto $\\mathbb{R}^{C}\\rightarrow \\mathbb{R}^{H}$.\n",
        "* Los _keys_ es la matriz $K\\in\\mathbb{R}^{T\\times H}$ que contiene proyecciones lineales de todos los _embeddings_ de tokens dentro del contexto, incluído el token que es el query. La proyección lineal de los _keys_ es de igual tamaño (i.e. $H$) que la proyección del _query_.\n",
        "* Los ponderadores para cada _query_ se obtiene a partir de qué tan próximo se relaciona un token respecto al resto de los token dentro de un contexto. Por ejemplo, $q(x_i) \\times K$"
      ]
    },
    {
      "cell_type": "code",
      "execution_count": 23,
      "metadata": {
        "cell_id": "a4f9611bdc5f426b87b42952cdf55d51",
        "deepnote_cell_type": "code",
        "id": "qCKh6wpeLr5O",
        "outputId": "6c586a90-fddd-47ee-e635-7008fc853add",
        "colab": {
          "base_uri": "https://localhost:8080/",
          "height": 175
        }
      },
      "outputs": [
        {
          "output_type": "error",
          "ename": "NameError",
          "evalue": "ignored",
          "traceback": [
            "\u001b[0;31m---------------------------------------------------------------------------\u001b[0m",
            "\u001b[0;31mNameError\u001b[0m                                 Traceback (most recent call last)",
            "\u001b[0;32m<ipython-input-23-a5e152a92754>\u001b[0m in \u001b[0;36m<cell line: 1>\u001b[0;34m()\u001b[0m\n\u001b[0;32m----> 1\u001b[0;31m \u001b[0mImage\u001b[0m\u001b[0;34m(\u001b[0m\u001b[0murl\u001b[0m\u001b[0;34m=\u001b[0m\u001b[0;34m\"https://sebastianraschka.com/images/blog/2023/self-attention-from-scratch/context-vector.png\"\u001b[0m\u001b[0;34m)\u001b[0m\u001b[0;34m\u001b[0m\u001b[0;34m\u001b[0m\u001b[0m\n\u001b[0m",
            "\u001b[0;31mNameError\u001b[0m: name 'Image' is not defined"
          ]
        }
      ],
      "source": [
        "Image(url=\"https://sebastianraschka.com/images/blog/2023/self-attention-from-scratch/context-vector.png\")"
      ]
    },
    {
      "cell_type": "markdown",
      "metadata": {
        "cell_id": "2bdc17d026094321b7b1b6b53fd3bec9",
        "deepnote_cell_type": "markdown",
        "id": "pEXvuFjRLr5P"
      },
      "source": [
        "> b) (Bonus): Explique porqué no se utilizan directamente los _embeddings_ para computar la matriz de atención previo a la normalización, i.e. `X @ X.transpose(-2,-1)`, en vez de usar las proyecciones $QK^\\top$. $X$ es un tensor con dimensiones batch size (B), ventana de contexto (T), dimensiones de embedding (C)."
      ]
    },
    {
      "cell_type": "markdown",
      "source": [
        "Si tomamos solo los *embeddings* en cuenta, no estamos aprendiendo $Q$, $K$ ni $V$. Haciendo las proyecciones de la forma $Q = XW_X$, $K=XW_Q$ para así aprender las *queries* y *keys*, estamos obteniendo más aspectos del input y así el modelo es capaz de obtener un mejor rendimiento.\n",
        "\n",
        "\n",
        "---\n",
        "\n"
      ],
      "metadata": {
        "id": "U8AJhFfZdkbP"
      }
    },
    {
      "cell_type": "markdown",
      "metadata": {
        "cell_id": "8bdb8dd7d9954b87b248303181315e57",
        "deepnote_cell_type": "markdown",
        "id": "FmOtPdSULr5P"
      },
      "source": [
        "> c) (Bonus): Explique los argumentos detras de escalar por $1/\\sqrt{d_k}$ referidos en el paper _[Attention Is All You Need](https://arxiv.org/pdf/1706.03762.pdf)_ (Vaswani 2017)."
      ]
    },
    {
      "cell_type": "markdown",
      "source": [
        "Según el paper, es para contrarrestar el efecto que tiene $d_k$ cuando este toma valores altos, ya que el producto punto crece demasiado en magnitud con un alto $d_k$ dejando a la función $softmax(\\cdot)$ en regiones donde posee gradientes muy pequeños.  \n",
        "\n",
        "La función es escalada por ese valor pues, suponiendo cada entrada de $Q$ y $K$ con una distribución idéntica (random de media 0 y varianza 1), podemos enfocarnos spg en la primera entrada (arriba-izquierda). Obteniendo así que el primer elemento es\n",
        "\n",
        "\\begin{equation*}\n",
        "  \\sum_{i=0}^{d_k} Q_{1,i}K_{i,1}\n",
        "\\end{equation*}\n",
        "\n",
        "Y como son $Q$ y $K$ son independientes,\n",
        "\n",
        "\\begin{equation*}\n",
        "  \\mathbb{E}(Q_{1,i}K_{i,1}) = \\mathbb{E}(Q_{1,i})\\mathbb{E}(K_{i,1}) = 0\n",
        "\\end{equation*}  \n",
        "\n",
        "\\begin{equation*}\n",
        "  Var(Q_{1,i}K_{i,1}) = [Var(Q_{1,i}) + \\mathbb{E}(Q_{1,i})^2][Var(K_{i,1}) + \\mathbb{E}(K_{i,1})^2] - \\mathbb{E}(Q_{1,i})^2\\mathbb{E}(K_{i,1})^2 = 1\n",
        "\\end{equation*}\n",
        "\n",
        "Y sumando hasta $d_k$,\n",
        "\n",
        "\\begin{equation*}\n",
        "  \\mathbb{E}\\bigg(\\sum_{i=0}^{d_k} Q_{1,i}K_{i,1}\\bigg) = \\sum_{i=0}^{d_k} \\mathbb{E}(Q_{1,i})\\mathbb{E}(K_{i,1}) = 0\n",
        "\\end{equation*}  \n",
        "\n",
        "\\begin{equation*}\n",
        "  Var\\bigg(\\sum_{i=0}^{d_k} Q_{1,i}K_{i,1}\\bigg) = \\sum_{i=0}^{d_k} Var(Q_{1,i}K_{i,1}) = d_k\n",
        "\\end{equation*}\n",
        "\n",
        "Por lo que si se quiere normalizar, debe ser por $\\sqrt{d_k}$ pues la varianza de el numerador es $d_k$. Notar que esto no afecta a la media pues sigue siendo 0."
      ],
      "metadata": {
        "id": "QNM5TUpFVWbn"
      }
    },
    {
      "cell_type": "code",
      "execution_count": 24,
      "metadata": {
        "id": "LKsZyRicLr5P"
      },
      "outputs": [],
      "source": [
        "# colocar seed como su RUT\n",
        "torch.manual_seed(20470051)\n",
        "\n",
        "B,T,C = 4,8,32  # batch, time, channels\n",
        "x = torch.randn(B,T,C)"
      ]
    },
    {
      "cell_type": "markdown",
      "metadata": {
        "cell_id": "ff534d33b5ae46b5a252eaa2023dfa39",
        "deepnote_cell_type": "markdown",
        "id": "oIVojet7Lr5P"
      },
      "source": [
        "Ejemplo de aplicación de módulo de atención"
      ]
    },
    {
      "cell_type": "code",
      "execution_count": 25,
      "metadata": {
        "cell_id": "64725c524c18451a843b2f837bd65dcd",
        "deepnote_cell_type": "code",
        "colab": {
          "base_uri": "https://localhost:8080/"
        },
        "id": "jDx__oECLr5P",
        "outputId": "d9956a61-263c-44f4-c99c-e7bb41329aa2"
      },
      "outputs": [
        {
          "output_type": "execute_result",
          "data": {
            "text/plain": [
              "torch.Size([4, 8, 16])"
            ]
          },
          "metadata": {},
          "execution_count": 25
        }
      ],
      "source": [
        "head_size = 16\n",
        "key = nn.Linear(C, head_size, bias=False)\n",
        "query = nn.Linear(C, head_size, bias=False)\n",
        "value = nn.Linear(C, head_size, bias=False)\n",
        "k = key(x)  # (B, T, 16)\n",
        "q = query(x)  # (B, T, 16)\n",
        "wei =  q @ k.transpose(-2, -1)  # (B, T, 16) @ (B, 16, T) ---> (B, T, T)\n",
        "\n",
        "tril = torch.tril(torch.ones(T, T))\n",
        "wei = wei.masked_fill(tril == 0, float('-inf'))\n",
        "wei = F.softmax(wei, dim=-1)\n",
        "\n",
        "v = value(x)\n",
        "out = wei @ v\n",
        "\n",
        "out.shape"
      ]
    },
    {
      "cell_type": "markdown",
      "metadata": {
        "cell_id": "5db2feb142554dddb5ce05738c1f743e",
        "deepnote_cell_type": "markdown",
        "id": "N_ShVBUxLr5P"
      },
      "source": [
        "Observaciones:\n",
        "- Atención es un **mecanismo de comunicación**. Puede ser entendido como nodos en un grafo dirigido conectándose unos con otros y agregando información con una suma ponderada de todos los nodos que apuntan a ellos, con pesos dependientes de los datos.\n",
        "- No hay una noción de espacio. Atención simplemente actua sobre el conjunto de vectores. Es por este motivo que se necesitan encoders posicionales.\n",
        "- Cada punto dentro de un batch es, desde luego, procesado de manera independiente y nunca intractua con los otros.\n",
        "- En un bloque de atención \"encoder\" basta comentar la linea que hace masking con `tril`, que hace que los tokens se comuniquen todos con todos. El bloque anterior se llama \"decoder\" porque aplica un masking triangular y se encuentre frecuentemente en configuraciones autoregresivas.\n",
        "- \"auto-atención\" (_self-attention_) sólo signfica que tanto _keys_ como _values_ son producidas desde la misma fuente que las _queries_. En \"atención-cruzada\" (_cross-attention_), las _queries_ vienen de $x$, pero _keys_ y _values_ vienen de otra fuente externa (como puede ser un modulo encoder).\n",
        "- Atención \"escalada\" divide `wei` por $\\frac{1}{\\sqrt{head\\_size}}$. Esto hace que cuando los input $Q$ y $K$ tengan varianza unitaria, `wei` también tendrá varianza unitaria y evitará la saturación de la Softmax."
      ]
    },
    {
      "cell_type": "markdown",
      "metadata": {
        "cell_id": "833c93c83a6f42e6a9c6e3adce82a4be",
        "deepnote_cell_type": "markdown",
        "id": "Oh8Lin8ILr5P"
      },
      "source": [
        "> d) (1.5 ptos.) Cree una clase `Head` que implemente un módulo de auto-atención."
      ]
    },
    {
      "cell_type": "code",
      "execution_count": 26,
      "metadata": {
        "cell_id": "e86d22f778c4464894ee70eeb6f47ae1",
        "deepnote_cell_type": "code",
        "id": "fQYDqqanLr5P"
      },
      "outputs": [],
      "source": [
        "n_embd = 64  # dimensionalidad del input\n",
        "dropout = 0.0 # porcentaje a dropear\n",
        "\n",
        "class Head(nn.Module):\n",
        "    \"\"\" Una cabeza de auto-atención \"\"\"\n",
        "\n",
        "    def __init__(self, head_size):\n",
        "        super().__init__()\n",
        "        # ------------------------\n",
        "\n",
        "        # Definir key, query y value según transformaciones lineales\n",
        "        # bias=False pues después se normalizan\n",
        "        self.key = nn.Linear(n_embd, head_size, bias=False)\n",
        "        self.query = nn.Linear(n_embd, head_size, bias=False)\n",
        "        self.value = nn.Linear(n_embd, head_size, bias=False)\n",
        "\n",
        "        # ------------------------\n",
        "        # HINT: cuando aplique tril, ocupe self.tril se define automaticamente\n",
        "        # al instanciar\n",
        "        self.register_buffer('tril', torch.tril(torch.ones(block_size, block_size)))\n",
        "\n",
        "        self.dropout = nn.Dropout(dropout)\n",
        "\n",
        "    def forward(self, x):\n",
        "        # input size (batch, time-step, channels)\n",
        "        # output size (batch, time-step, channels)\n",
        "        B,T,C = x.shape\n",
        "        # -----------------------------------------\n",
        "\n",
        "        # Aplicar las funciones anteriores\n",
        "        k = self.key(x)  # (B,T,C)\n",
        "        q = self.query(x)  # (B,T,C)\n",
        "        v = self.value(x)  # (B,T,C)\n",
        "\n",
        "        # Computar los score de atención (\"affinities\")\n",
        "        wei = (q @ k.transpose(-2, -1)) / math.sqrt(C)  # (B, T, C) @ (B, C, T) -> (B, T, T)\n",
        "        tril = torch.tril(torch.ones(T, T))\n",
        "        wei =  wei.masked_fill(self.tril[:T, :T] == 0, float(\"-inf\"))  # (B, T, T)\n",
        "        wei = F.softmax(wei, dim=-1)  # (B, T, T)\n",
        "        wei = self.dropout(wei)\n",
        "\n",
        "        # Adición (con pesos) de las atenciones\n",
        "        out = wei @ v  # (B, T, T) @ (B, T, C) -> (B, T, C)\n",
        "\n",
        "        # --------------------------------------\n",
        "\n",
        "        return out"
      ]
    },
    {
      "cell_type": "markdown",
      "metadata": {
        "cell_id": "96c2b9cefd6b453cb437392b7f03f5d4",
        "deepnote_cell_type": "markdown",
        "id": "46U8drh7Lr5P"
      },
      "source": [
        "La arquitectura decoder del paper Transformer implementa varias versiones de _self-attention_ en paralelo, cada una es una \"cábeza de atención\", y estas concatenan sus resultados en un modulo conocido como `MultiHeadAttention`."
      ]
    },
    {
      "cell_type": "code",
      "execution_count": 27,
      "metadata": {
        "cell_id": "214c8ece545f4817b8561dfae0db408a",
        "deepnote_cell_type": "code",
        "id": "ZzuEyiwyLr5P"
      },
      "outputs": [],
      "source": [
        "class MultiHeadAttention(nn.Module):\n",
        "    \"\"\" Múltiples cabezas de auto-atención en paralelo \"\"\"\n",
        "\n",
        "    def __init__(self, num_heads, head_size):\n",
        "        super().__init__()\n",
        "        self.heads = nn.ModuleList([Head(head_size) for _ in range(num_heads)])\n",
        "        self.proj = nn.Linear(head_size * num_heads, n_embd)\n",
        "        self.dropout = nn.Dropout(dropout)\n",
        "\n",
        "    def forward(self, x):\n",
        "        out = torch.cat([h(x) for h in self.heads], dim=-1)\n",
        "        out = self.dropout(self.proj(out))\n",
        "        return out"
      ]
    },
    {
      "cell_type": "markdown",
      "metadata": {
        "cell_id": "5d5e70b87ba948e6b2db556e91caeac7",
        "deepnote_cell_type": "markdown",
        "id": "iRCvEFHJLr5Q"
      },
      "source": [
        "> e) (0.75 pto.) Implemente una clase `FeedForward` como se describe en el artículo [\"Attention is all you need, Vaswani et al.\"](https://arxiv.org/pdf/1706.03762.pdf)."
      ]
    },
    {
      "cell_type": "code",
      "execution_count": 28,
      "metadata": {
        "cell_id": "2bd2438a5180464c873da561e6a8527c",
        "deepnote_cell_type": "code",
        "id": "gcAQEn1fLr5Q"
      },
      "outputs": [],
      "source": [
        "class FeedFoward(nn.Module):\n",
        "    \"\"\"\n",
        "        Implementar FeedForward descrita en sección:\n",
        "         \"3.3 Position-wise Feed-Fordward Networks\", paper\n",
        "         \"Attention is All You Need\"\n",
        "        https://arxiv.org/pdf/1706.03762.pdf\n",
        "\n",
        "        in: n_embd\n",
        "        out: n_embd\n",
        "    \"\"\"\n",
        "\n",
        "    def __init__(self, n_embd):\n",
        "        super().__init__()\n",
        "        self.net = nn.Sequential(\n",
        "            # -------------------\n",
        "\n",
        "            # Defina las operaciones a razlizar, secuencialmente al input\n",
        "            # Recuerde que la primera capa aumenta el tamaño del input en un facor de 4\n",
        "            # Luego en la última volvemos a la dimensionalidad inicial\n",
        "\n",
        "            # ------------------\n",
        "            # Directo del paper \"Attention is All You Need\" (ver ecuación (2))\n",
        "            nn.Linear(n_embd, 4*n_embd),\n",
        "            nn.ReLU(),\n",
        "            nn.Linear(4*n_embd, n_embd),\n",
        "        )\n",
        "\n",
        "    def forward(self, x):\n",
        "        return self.net(x)\n"
      ]
    },
    {
      "cell_type": "code",
      "execution_count": 37,
      "metadata": {
        "cell_id": "fd893f1e2d6842b08beb90dd1091e678",
        "deepnote_cell_type": "code",
        "colab": {
          "base_uri": "https://localhost:8080/",
          "height": 722
        },
        "id": "Fw9MYHCOLr5Q",
        "outputId": "0ffd25c2-05d0-4100-83f7-88a2ac1c5e00"
      },
      "outputs": [
        {
          "output_type": "execute_result",
          "data": {
            "text/html": [
              "<img src=\"http://jalammar.github.io/images/gpt2/gpt2-transformer-block-vectors-2.png\"/>"
            ],
            "text/plain": [
              "<IPython.core.display.Image object>"
            ]
          },
          "metadata": {},
          "execution_count": 37
        }
      ],
      "source": [
        "Image(url=\"http://jalammar.github.io/images/gpt2/gpt2-transformer-block-vectors-2.png\")"
      ]
    },
    {
      "cell_type": "markdown",
      "metadata": {
        "cell_id": "e0384b1c93274e7abfb20d5627b2958c",
        "deepnote_cell_type": "markdown",
        "id": "7pv-OU3LLr5Q"
      },
      "source": [
        "> f) (0.5 ptos.) Explique la relación entre los hiperparámetros `n_head` y `head_size` de la clase `MultiHeadAttention`. Piense en su rol dentro del bloque decoder (i.e. atención + feedforward)."
      ]
    },
    {
      "cell_type": "markdown",
      "metadata": {
        "id": "0CPHPSMGLr5Q"
      },
      "source": [
        "**Respuesta:** `n_head` se refiere al número de cabezas de atención utilizadas en la clase `MultiHeadAttention` mientras que `head_size` especifica la dimensión del espacio de representación para cada cabeza (head) de atención.  \n",
        "En términos del decoder, `n_head` permite que el modelo capture diferentes tipos de relaciones, mientras que `head_size` controla la capacidad de cada cabeza para modelar información dentro de esas relaciones."
      ]
    },
    {
      "cell_type": "markdown",
      "metadata": {
        "id": "ZPMvrhKXLr5Q"
      },
      "source": [
        "Ahora procederemos a armar la clase que implemente un bloque de Decoder. Nótese que en realidad estamos codificando texto con este bloque, pero esto corresponde a la parte \"Decoder\" del Transformer original, por ende guardamos esa nomenclatura. La motivación del uso del decoder es modelar el texto de maner auto-regresiva, que es ideal para la generación de texto."
      ]
    },
    {
      "cell_type": "code",
      "execution_count": 38,
      "metadata": {
        "colab": {
          "base_uri": "https://localhost:8080/",
          "height": 516
        },
        "id": "blnqxGbLLr5Q",
        "outputId": "183c0924-e2be-479c-951c-59da95dd9463"
      },
      "outputs": [
        {
          "output_type": "execute_result",
          "data": {
            "text/html": [
              "<img src=\"https://i.stack.imgur.com/bWnx0.png\"/>"
            ],
            "text/plain": [
              "<IPython.core.display.Image object>"
            ]
          },
          "metadata": {},
          "execution_count": 38
        }
      ],
      "source": [
        "Image(url='https://i.stack.imgur.com/bWnx0.png')"
      ]
    },
    {
      "cell_type": "markdown",
      "metadata": {
        "cell_id": "708d555c66ac4f4a940e82ab2251cb76",
        "deepnote_cell_type": "markdown",
        "id": "xIX9cUyCLr5Q"
      },
      "source": [
        "> g) (0.75 ptos.) Complete el paso _forward_ de la clase `DecoderBlock`. Recuerde en particula incorporar las conexiones residuales (_skip connections_)."
      ]
    },
    {
      "cell_type": "code",
      "execution_count": 31,
      "metadata": {
        "cell_id": "8a013f2aceba4d7eb70390a12f21c308",
        "deepnote_cell_type": "code",
        "id": "Lf1k33mQLr5R"
      },
      "outputs": [],
      "source": [
        "class DecoderBlock(nn.Module):\n",
        "    \"\"\"  BloqueTransformer: COMUNICACIÓN seguida de CÓMPUTO \"\"\"\n",
        "\n",
        "    def __init__(self, n_embd, n_head):\n",
        "        # n_embd: dimensión de embeddings, n_head: número de cabezas de atención\n",
        "        super().__init__()\n",
        "        head_size = n_embd // n_head\n",
        "        self.sa = MultiHeadAttention(n_head, head_size)\n",
        "        self.ffwd = FeedFoward(n_embd)\n",
        "        self.ln1 = nn.LayerNorm(n_embd)\n",
        "        self.ln2 = nn.LayerNorm(n_embd)\n",
        "\n",
        "    def forward(self, x):\n",
        "        # Hint: aplique las capas de normalización siempre antes de otra capa (Pre-LN varaint)\n",
        "        # Ver: https://magazine.sebastianraschka.com/p/why-the-original-transformer-figure\n",
        "        # ---------------------\n",
        "\n",
        "        x = x + self.sa(self.ln1(x))\n",
        "        x = x + self.ffwd(self.ln2(x))\n",
        "\n",
        "        # ----------------------\n",
        "\n",
        "        return x"
      ]
    },
    {
      "cell_type": "markdown",
      "metadata": {
        "cell_id": "cd75ed98e96247ffa253556488b53e4e",
        "deepnote_cell_type": "markdown",
        "id": "PI3R0pfiLr5R"
      },
      "source": [
        "## 5. Modelo GPT: Juntando todo"
      ]
    },
    {
      "cell_type": "markdown",
      "metadata": {
        "cell_id": "00e10b6c07f5442b95e5c2b0819edc0a",
        "deepnote_cell_type": "markdown",
        "id": "kVgBtfZ6Lr5R"
      },
      "source": [
        "> h) (1 pto.) Complete el código de la clase `GPTLanguageModel`procesando adecuadamente el input del modelo. Complete además el método `generate` para samplear elementos que completen auto-regresivamente una secuencia."
      ]
    },
    {
      "cell_type": "code",
      "execution_count": 32,
      "metadata": {
        "cell_id": "88ed14ab007b4feea097aaa558f1cb73",
        "deepnote_cell_type": "code",
        "id": "57TnvlV3Lr5R"
      },
      "outputs": [],
      "source": [
        "class GPTLanguageModel(nn.Module):\n",
        "\n",
        "    def __init__(self):\n",
        "        super().__init__()\n",
        "        # cada token lee directamente los logits para el token siguiente de una lookup table\n",
        "        self.token_embedding_table = nn.Embedding(vocab_size, n_embd)\n",
        "        self.position_embedding_table = nn.Embedding(block_size, n_embd)\n",
        "        self.blocks = nn.Sequential(*[DecoderBlock(n_embd, n_head=n_head) for _ in range(n_layer)])\n",
        "        self.ln_f = nn.LayerNorm(n_embd) # final layer norm\n",
        "        self.lm_head = nn.Linear(n_embd, vocab_size)\n",
        "\n",
        "        self.apply(self._init_weights)\n",
        "\n",
        "    def _init_weights(self, module):\n",
        "        if isinstance(module, nn.Linear):\n",
        "            torch.nn.init.normal_(module.weight, mean=0.0, std=0.02)\n",
        "            if module.bias is not None:\n",
        "                torch.nn.init.zeros_(module.bias)\n",
        "        elif isinstance(module, nn.Embedding):\n",
        "            torch.nn.init.normal_(module.weight, mean=0.0, std=0.02)\n",
        "\n",
        "    def forward(self, idx, targets=None):\n",
        "        B, T = idx.shape\n",
        "\n",
        "        # idx y targets son ambos tensores (B,T) de enteros\n",
        "        tok_emb = self.token_embedding_table(idx) # (B,T,C)\n",
        "        pos_emb = self.position_embedding_table(torch.arange(T, device=device)) # (T,C)\n",
        "\n",
        "        # -----------------------------\n",
        "\n",
        "        x = tok_emb + pos_emb  # DEFINIR x, con shape (B,T,C)\n",
        "\n",
        "        # procesar x\n",
        "        x = self.blocks(x)\n",
        "\n",
        "        logits = self.lm_head(x)  # CALCULAR logits (B,T,vocab_size)\n",
        "\n",
        "        # -------------------------------\n",
        "\n",
        "        if targets is None:\n",
        "            loss = None\n",
        "        else:\n",
        "            B, T, C = logits.shape\n",
        "            logits = logits.view(B*T, C)\n",
        "            targets = targets.view(B*T)\n",
        "            loss = F.cross_entropy(logits, targets)\n",
        "\n",
        "        return logits, loss\n",
        "\n",
        "    def generate(self, idx, max_new_tokens):\n",
        "        # idx es un arreglo (B, T) de índices en el contexto actual\n",
        "        for _ in range(max_new_tokens):\n",
        "            # restringir idx a los últimos block_size tokens\n",
        "            idx_cond = idx[:, -block_size:]\n",
        "            # obtener las predicciones\n",
        "            logits, loss = self(idx_cond)\n",
        "            # enfocarse sólo en el último paso\n",
        "            logits = logits[:, -1, :]  # se convierte en size (B, C)\n",
        "            # ------------------------------------------------------------\n",
        "\n",
        "            # aplicar softmax para obtener las probabilidades\n",
        "            probs = F.softmax(logits, dim=-1)   # tensor de dimensionalidad (B, C)\n",
        "\n",
        "            # definir una distribución apropiada para samplear usando las probabilidades\n",
        "            idx_next = torch.multinomial(probs, num_samples=1)  # tensor de índices de dim (B, 1)\n",
        "\n",
        "            # adjuntar el token generado a la secuencia (actualizando idx)\n",
        "            idx = torch.cat((idx, idx_next), dim=1)  # tensor resultante de dimensionalidad (B, T+1)\n",
        "\n",
        "            # ------------------------------------------------------------\n",
        "\n",
        "        return idx\n"
      ]
    },
    {
      "cell_type": "code",
      "execution_count": 61,
      "metadata": {
        "cell_id": "56fa2d0e8f424060841dfb5a0793b8e8",
        "deepnote_cell_type": "code",
        "colab": {
          "base_uri": "https://localhost:8080/"
        },
        "id": "nEO7809CLr5R",
        "outputId": "62bccbdf-fb83-42f8-bb36-50b8d23d3e32"
      },
      "outputs": [
        {
          "output_type": "stream",
          "name": "stdout",
          "text": [
            "Número de parámetros del modelo: 10.739777 millones\n"
          ]
        }
      ],
      "source": [
        "# Definimos hiperparámetros (global variables, esto se puede hacer mucho mejor)\n",
        "\n",
        "batch_size = 16 # cuantos secuencias de fragmentos del corpus procesaremos de manera independiente (aka B)?\n",
        "block_size = 128 # cuál será el tamaño del bloque de contexto a considerar para predecir (aka T)?\n",
        "max_iters = 7000 # 5000\n",
        "eval_interval = 100 # 500\n",
        "learning_rate = 3e-4  # modelo de tamaño pequeño probar esta lr por defecto\n",
        "device = 'cuda' if torch.cuda.is_available() else 'cpu'\n",
        "eval_iters = 200\n",
        "n_embd = 384  # se debe considerar en conjunto con n_head, según análisis en (f)\n",
        "n_head = n_embd // 128  # se debe considerar en conjunto con n_embd, según análisis en (f)\n",
        "n_layer = 6\n",
        "dropout = 0.2\n",
        "\n",
        "\n",
        "model = GPTLanguageModel()\n",
        "model.to(device)\n",
        "\n",
        "# printear el número de parámetros del modelo\n",
        "print('Número de parámetros del modelo:', sum(p.numel() for p in model.parameters())/1e6, 'millones')\n",
        "\n",
        "# definir el optimizador de PyTorch\n",
        "optimizer = torch.optim.AdamW(model.parameters(), lr=learning_rate)"
      ]
    },
    {
      "cell_type": "markdown",
      "metadata": {
        "id": "eBkNwKdPLr5R"
      },
      "source": [
        "Definiremos una función para generar batches de secuencias a partir de nuestro corpus de entrenamiento o validación. Además de una función para obtener estimaciones de la función de costo."
      ]
    },
    {
      "cell_type": "code",
      "execution_count": 62,
      "metadata": {
        "id": "8LmpE6W4Lr5R"
      },
      "outputs": [],
      "source": [
        "# definimos un \"DataLoader\"\n",
        "def get_batch(split):\n",
        "    # generate a small batch of data of inputs x and targets y\n",
        "    data = train_data if split == 'train' else val_data\n",
        "    ix = torch.randint(len(data) - block_size, (batch_size,))\n",
        "    x = torch.stack([data[i:i+block_size] for i in ix])\n",
        "    y = torch.stack([data[i+1:i+block_size+1] for i in ix])\n",
        "    x, y = x.to(device), y.to(device)\n",
        "    return x, y\n",
        "\n",
        "\n",
        "# definimos una función para obtener estimados de nuestras\n",
        "# pérdidas tanto en los conjuntos de train como en val\n",
        "@torch.no_grad()\n",
        "def estimate_loss():\n",
        "    out = {}\n",
        "    model.eval()\n",
        "    for split in ['train', 'val']:\n",
        "        losses = torch.zeros(eval_iters)\n",
        "        for k in range(eval_iters):\n",
        "            X, Y = get_batch(split)\n",
        "            logits, loss = model(X, Y)\n",
        "            losses[k] = loss.item()\n",
        "        out[split] = losses.mean()\n",
        "    model.train()\n",
        "    return out"
      ]
    },
    {
      "cell_type": "markdown",
      "metadata": {
        "id": "8HrcD4C-Lr5S"
      },
      "source": [
        "Primer sanity check, obtener batches con dimensiones correctas:"
      ]
    },
    {
      "cell_type": "code",
      "execution_count": 63,
      "metadata": {
        "colab": {
          "base_uri": "https://localhost:8080/"
        },
        "id": "cM5PHOMBLr5S",
        "outputId": "9732b5b0-3f1e-454e-eb54-fa05017c1808"
      },
      "outputs": [
        {
          "output_type": "execute_result",
          "data": {
            "text/plain": [
              "(torch.Size([16, 128]), torch.Size([16, 128]))"
            ]
          },
          "metadata": {},
          "execution_count": 63
        }
      ],
      "source": [
        "# Verifiquemos que las dimensiones sean correctas\n",
        "xb, yb = get_batch('train')\n",
        "xb.shape, yb.shape"
      ]
    },
    {
      "cell_type": "markdown",
      "metadata": {
        "id": "I6wWzJr5Lr5S"
      },
      "source": [
        "Segundo sanity check, verificar que la data fluya correctamente por el modelo,"
      ]
    },
    {
      "cell_type": "code",
      "execution_count": 64,
      "metadata": {
        "colab": {
          "base_uri": "https://localhost:8080/"
        },
        "id": "A3IrfSvCLr5S",
        "outputId": "5024423b-c5cf-4552-fed0-21407d400902"
      },
      "outputs": [
        {
          "output_type": "execute_result",
          "data": {
            "text/plain": [
              "torch.Size([16, 128, 65])"
            ]
          },
          "metadata": {},
          "execution_count": 64
        }
      ],
      "source": [
        "# Verifiquemos que el forwardpass del modelo no tenga problemas\n",
        "model(xb)[0].shape"
      ]
    },
    {
      "cell_type": "markdown",
      "metadata": {
        "cell_id": "6cd551bb57f54567a9780b868c2081e7",
        "deepnote_cell_type": "markdown",
        "id": "iVYGBX-LLr5S"
      },
      "source": [
        "> i) (1 pto.) Complete el bucle de entrenamiento usando comandos de `pytorch.optimize` conocidos. Ejecute el entrenamiento (se recomienda dejarlo corriendo e ir hacer algo más...). Corrobore que se modelo es capaz de generar texto."
      ]
    },
    {
      "cell_type": "code",
      "execution_count": 65,
      "metadata": {
        "cell_id": "faa0a3b9283247f1a8cf6d6b8d599959",
        "deepnote_cell_type": "code",
        "id": "8EDV2e33Lr5S",
        "colab": {
          "base_uri": "https://localhost:8080/"
        },
        "outputId": "561da272-fe37-4b0c-c52c-c919fd57c9ce"
      },
      "outputs": [
        {
          "output_type": "stream",
          "name": "stdout",
          "text": [
            "step 0: train loss 4.1200, val loss 4.1222\n",
            "step 100: train loss 2.5041, val loss 2.5013\n",
            "step 200: train loss 2.4210, val loss 2.4493\n",
            "step 300: train loss 2.3268, val loss 2.3531\n",
            "step 400: train loss 2.2158, val loss 2.2565\n",
            "step 500: train loss 2.0466, val loss 2.1475\n",
            "step 600: train loss 1.9387, val loss 2.0354\n",
            "step 700: train loss 1.8723, val loss 1.9890\n",
            "step 800: train loss 1.8020, val loss 1.9368\n",
            "step 900: train loss 1.7512, val loss 1.9138\n",
            "step 1000: train loss 1.7200, val loss 1.8698\n",
            "step 1100: train loss 1.6873, val loss 1.8585\n",
            "step 1200: train loss 1.6527, val loss 1.8233\n",
            "step 1300: train loss 1.6335, val loss 1.8241\n",
            "step 1400: train loss 1.6103, val loss 1.7674\n",
            "step 1500: train loss 1.5881, val loss 1.7773\n",
            "step 1600: train loss 1.5628, val loss 1.7489\n",
            "step 1700: train loss 1.5529, val loss 1.7316\n",
            "step 1800: train loss 1.5333, val loss 1.7236\n",
            "step 1900: train loss 1.5154, val loss 1.7061\n",
            "step 2000: train loss 1.5084, val loss 1.6829\n",
            "step 2100: train loss 1.4918, val loss 1.6949\n",
            "step 2200: train loss 1.4890, val loss 1.6736\n",
            "step 2300: train loss 1.4781, val loss 1.6918\n",
            "step 2400: train loss 1.4676, val loss 1.6690\n",
            "step 2500: train loss 1.4560, val loss 1.6476\n",
            "step 2600: train loss 1.4393, val loss 1.6579\n",
            "step 2700: train loss 1.4321, val loss 1.6360\n",
            "step 2800: train loss 1.4262, val loss 1.6513\n",
            "step 2900: train loss 1.4087, val loss 1.6167\n",
            "step 3000: train loss 1.4004, val loss 1.6237\n",
            "step 3100: train loss 1.3974, val loss 1.6095\n",
            "step 3200: train loss 1.3933, val loss 1.6129\n",
            "step 3300: train loss 1.3906, val loss 1.6022\n",
            "step 3400: train loss 1.3795, val loss 1.5976\n",
            "step 3500: train loss 1.3726, val loss 1.5965\n",
            "step 3600: train loss 1.3708, val loss 1.6081\n",
            "step 3700: train loss 1.3607, val loss 1.6083\n",
            "step 3800: train loss 1.3601, val loss 1.5890\n",
            "step 3900: train loss 1.3587, val loss 1.5901\n",
            "step 4000: train loss 1.3518, val loss 1.5911\n",
            "step 4100: train loss 1.3435, val loss 1.5915\n",
            "step 4200: train loss 1.3283, val loss 1.5627\n",
            "step 4300: train loss 1.3326, val loss 1.5668\n",
            "step 4400: train loss 1.3257, val loss 1.5736\n",
            "step 4500: train loss 1.3301, val loss 1.5749\n",
            "step 4600: train loss 1.3127, val loss 1.5626\n",
            "step 4700: train loss 1.3122, val loss 1.5651\n",
            "step 4800: train loss 1.3106, val loss 1.5618\n",
            "step 4900: train loss 1.3095, val loss 1.5854\n",
            "step 5000: train loss 1.3013, val loss 1.5629\n",
            "step 5100: train loss 1.2979, val loss 1.5794\n",
            "step 5200: train loss 1.2890, val loss 1.5548\n",
            "step 5300: train loss 1.2900, val loss 1.5488\n",
            "step 5400: train loss 1.2890, val loss 1.5387\n",
            "step 5500: train loss 1.2853, val loss 1.5522\n",
            "step 5600: train loss 1.2765, val loss 1.5482\n",
            "step 5700: train loss 1.2749, val loss 1.5459\n",
            "step 5800: train loss 1.2722, val loss 1.5465\n",
            "step 5900: train loss 1.2695, val loss 1.5469\n",
            "step 6000: train loss 1.2652, val loss 1.5381\n",
            "step 6100: train loss 1.2606, val loss 1.5212\n",
            "step 6200: train loss 1.2555, val loss 1.5364\n",
            "step 6300: train loss 1.2509, val loss 1.5445\n",
            "step 6400: train loss 1.2586, val loss 1.5476\n",
            "step 6500: train loss 1.2579, val loss 1.5336\n",
            "step 6600: train loss 1.2493, val loss 1.5425\n",
            "step 6700: train loss 1.2363, val loss 1.5198\n",
            "step 6800: train loss 1.2399, val loss 1.5375\n",
            "step 6900: train loss 1.2319, val loss 1.5340\n",
            "step 6999: train loss 1.2344, val loss 1.5336\n"
          ]
        }
      ],
      "source": [
        "# colocar RUT como semilla\n",
        "torch.manual_seed(20470051)\n",
        "\n",
        "# Guardar losses en una lista\n",
        "train_loss_list = []\n",
        "val_loss_list = []\n",
        "\n",
        "# comenzamos el training loop...\n",
        "for iter in range(max_iters):\n",
        "\n",
        "    # de vez en cuando evaluar la loss en los conjuntos de train y evaluación\n",
        "    if iter % eval_interval == 0 or iter == max_iters - 1:\n",
        "        losses = estimate_loss()\n",
        "        print(f\"step {iter}: train loss {losses['train']:.4f}, val loss {losses['val']:.4f}\")\n",
        "\n",
        "        # Guardar loss de train y val\n",
        "        train_loss_list.append(losses['train'])\n",
        "        val_loss_list.append(losses['val'])\n",
        "\n",
        "    # samplear un batch de datos\n",
        "    xb, yb = get_batch('train')\n",
        "\n",
        "    # evaluate the loss\n",
        "    logits, loss = model(xb, yb)\n",
        "\n",
        "    # ----------------------------------------\n",
        "\n",
        "    # activar el optimizador y hacer el paso backward con el resultado de la función loss\n",
        "    optimizer.zero_grad(set_to_none=True)\n",
        "    loss.backward()\n",
        "    optimizer.step()\n",
        "\n",
        "    # ----------------------------------------"
      ]
    },
    {
      "cell_type": "markdown",
      "source": [
        "En la ejecución anterior se cambió cada cuánto se calcula la loss y se printea la evolución del modelo para obtener más puntos de loss y obtener un mejor gráfico.  \n",
        "Este queda como sigue:"
      ],
      "metadata": {
        "id": "Wrj7T4cuRADU"
      }
    },
    {
      "cell_type": "code",
      "source": [
        "# Gráficar train loss y val loss\n",
        "plt.plot(range(max_iters+1)[::100], train_loss_list, label='train loss')\n",
        "plt.plot(range(max_iters+1)[::100], val_loss_list, label='val loss')\n",
        "plt.title('Evolución de loss modelo GPT')\n",
        "plt.xlabel('Iteración')\n",
        "plt.ylabel('Loss')\n",
        "plt.legend()\n",
        "plt.show()"
      ],
      "metadata": {
        "colab": {
          "base_uri": "https://localhost:8080/",
          "height": 472
        },
        "id": "gfMrC_UMN7Il",
        "outputId": "686d1f95-38a2-4f74-9df3-31a6cba74e62"
      },
      "execution_count": 82,
      "outputs": [
        {
          "output_type": "display_data",
          "data": {
            "text/plain": [
              "<Figure size 640x480 with 1 Axes>"
            ],
            "image/png": "[encoded data removed]"
          },
          "metadata": {}
        }
      ]
    },
    {
      "cell_type": "markdown",
      "metadata": {
        "cell_id": "5a8d031142ab45d48e9b9eeb81f6b2f7",
        "deepnote_cell_type": "markdown",
        "id": "KEu7ufBrLr5S"
      },
      "source": [
        "## 6. Generando secuencias de texto con el modelo"
      ]
    },
    {
      "cell_type": "code",
      "execution_count": 94,
      "metadata": {
        "cell_id": "9e6d66e2a3ba49a4ae3c23d4e65d57df",
        "deepnote_cell_type": "code",
        "id": "OVGGn9t6Lr5S",
        "colab": {
          "base_uri": "https://localhost:8080/"
        },
        "outputId": "9f3b6ba1-98d0-4661-d2b3-b7fe86c19aa8"
      },
      "outputs": [
        {
          "output_type": "stream",
          "name": "stdout",
          "text": [
            "\n",
            "in easting: it warm ship\n",
            "Set Edward'st littler; which an hear\n",
            "Made sworn this cause read past our friends,\n",
            "Having on their abandment\n",
            "Thou knavest in mine holy king,\n",
            "In many head and kings, being up is father.\n",
            "\n",
            "CLIFFOR LAURET:\n",
            "Ay, you have not ill manquet.\n",
            "Here in colding his own and comfortest with his country,\n",
            "To the hopier of my blood hath you.\n",
            "\n",
            "LEONTES:\n",
            "Why, soft! how his pairiesthing!\n",
            "\n",
            "JOHN OF AUFIDIUS:\n",
            "\n",
            "PrINCES:\n",
            "News regard as her watch Has\n",
            "As you'll to-make me friar,\n",
            "To it most men in spee\n",
            "----------------------- \n",
            " wenaso el resultado juju\n"
          ]
        }
      ],
      "source": [
        "# Generar usando el modelo\n",
        "context = torch.zeros((1, 1), dtype=torch.long, device=device)\n",
        "print(decode(model.generate(context, max_new_tokens=500)[0].tolist()))\n",
        "\n",
        "print('----------------------- \\n wenaso el resultado juju')\n",
        "\n",
        "# Para escribir en un archivo\n",
        "# open('output.txt', 'w').write(decode(m.generate(context, max_new_tokens=10000)[0].tolist()))"
      ]
    },
    {
      "cell_type": "markdown",
      "metadata": {
        "id": "q3vyj8IcLr5S"
      },
      "source": [
        "> j) (bonus) Define un training loop para el baseline (modelo bi-grama). Entrénelo usando un número similar de épocas y compare las losses y generación de texto con su modelo anterior."
      ]
    },
    {
      "cell_type": "code",
      "source": [
        "# Defino el modelo nuevamente\n",
        "m = BigramLanguageModel(vocab_size)\n",
        "learning_rate = 0.001\n",
        "max_iters = 7000 #5000\n",
        "\n",
        "# Enviar a 'device'\n",
        "m.to(device)\n",
        "\n",
        "# Definir optimizador con los parámetros del modelo\n",
        "optimizer = torch.optim.AdamW(m.parameters(), lr=learning_rate)\n",
        "\n",
        "# Guardar losses en una lista\n",
        "train_loss_list_2 = []\n",
        "\n",
        "# Iterar\n",
        "for iter in range(max_iters):\n",
        "\n",
        "  # obtener batches\n",
        "  xb, yb = get_batch('train')\n",
        "\n",
        "  # cacular logits y loss del modelo\n",
        "  logits, loss = m(xb, yb)\n",
        "\n",
        "  # Guardar loss\n",
        "  train_loss_list_2.append(loss.item())\n",
        "\n",
        "  #activar el optimizador y hacer el paso backward con el resultado de la función loss\n",
        "  optimizer.zero_grad(set_to_none=True)\n",
        "  loss.backward()\n",
        "  optimizer.step()"
      ],
      "metadata": {
        "id": "8M3x51sX-UID"
      },
      "execution_count": 47,
      "outputs": []
    },
    {
      "cell_type": "code",
      "source": [
        "# Generar usando el modelo\n",
        "context = torch.zeros((1, 1), dtype=torch.long, device=device)\n",
        "print(decode(m.generate(context, max_new_tokens=500)[0].tolist()))\n",
        "print('')\n",
        "print('loss final:', loss.item())\n",
        "print('----------------------- \\n resultado mejor que en el Baseline jeje')"
      ],
      "metadata": {
        "colab": {
          "base_uri": "https://localhost:8080/"
        },
        "id": "-QQQt-5Q-4Ih",
        "outputId": "762575ad-8fb8-48b6-9745-1e8063e971e4"
      },
      "execution_count": 48,
      "outputs": [
        {
          "output_type": "stream",
          "name": "stdout",
          "text": [
            "\n",
            "Yooro.\n",
            "WARANCAllutothin we hanV:\n",
            "3OFwonome wesbrs tal:\n",
            "\n",
            "Yout hele.\n",
            "AGof, s usshesof, GBed aneafe winser mer fa go fung,\n",
            "ENouXFomyowhehCERsto &EDarthar!\n",
            "\n",
            "OV, il in lainoQUG hate hindey hj:\n",
            "CY LIxhimayoron weres Yoro an uthe m.\n",
            "HAgu t.\n",
            "\n",
            "Sk heankl-imsth havenofe be\n",
            "ARCo tond:\n",
            "ALoS:\n",
            "Burervit,\n",
            "KENI plfee d mayof hur he KI weeat,\n",
            "It icivire alowifind\n",
            "RLI lathearoure foweeatrd aneno MedZ&y e\n",
            "My an.\n",
            "CaXENESCAPr chaik,\n",
            "\n",
            "CEvivesthe tlll t t'sthe iurey, oummsse arkntanorel d as cenelashat here'prdotith g a\n",
            "\n",
            "loss final: 2.4767372608184814\n",
            "----------------------- \n",
            " resultado mejor que en el Baseline jeje\n"
          ]
        }
      ]
    },
    {
      "cell_type": "markdown",
      "source": [
        "\n",
        "\n",
        "---\n",
        "\n",
        "A continuación se ve el gráfico de cómo evoluciona la función de pérdida en este modelo bigrama. Notar que este gráfico toma valores de 20 en 20 (definidos por el parámetro `espaciado` que está más abajo)."
      ],
      "metadata": {
        "id": "oqoHGX7vRN1l"
      }
    },
    {
      "cell_type": "code",
      "source": [
        "# Definir espaciado (espaciado=2: [0,1,2,3,4,5] ---> [0,2,4])\n",
        "espaciado = 20\n",
        "\n",
        "# Gráficar loss\n",
        "plt.plot(range(max_iters)[::espaciado], train_loss_list_2[::espaciado])\n",
        "plt.title('Evolución de loss modelo bigrama')\n",
        "plt.xlabel('Iteración')\n",
        "plt.ylabel('Loss')\n",
        "plt.show()"
      ],
      "metadata": {
        "colab": {
          "base_uri": "https://localhost:8080/",
          "height": 472
        },
        "id": "QfdVlZAMHDtn",
        "outputId": "cff21f57-6bd5-4440-b57d-8a3b74e95970"
      },
      "execution_count": 87,
      "outputs": [
        {
          "output_type": "display_data",
          "data": {
            "text/plain": [
              "<Figure size 640x480 with 1 Axes>"
            ],
            "image/png": "[encoded data removed]"
          },
          "metadata": {}
        }
      ]
    },
    {
      "cell_type": "markdown",
      "source": [
        "En la siguiente celda de código se ve la comparación de ambos modelos con respecto a los valores de su función de pérdida. Notar que los valores están seleccionados de manera que en cierta iteración se pueda calcular la loss de cada modelo y así poder comparar de buena forma.  \n",
        "En este caso las `max_iters=7000` y se grafican 71 puntos."
      ],
      "metadata": {
        "id": "Bb9RKTj3RcRh"
      }
    },
    {
      "cell_type": "code",
      "source": [
        "# Definir espaciado (espaciado=2: [0,1,2,3,4,5] ---> [0,2,4])\n",
        "espaciado = 100\n",
        "\n",
        "# Gráficar loss GPT vs Bigrama\n",
        "plt.plot(range(max_iters)[::espaciado], train_loss_list_2[::espaciado], label='loss modelo bigrama')\n",
        "plt.plot(range(max_iters+1)[::100], train_loss_list, label='train loss modelo gpt') # espaciado definido por max_iters / eval_interval\n",
        "plt.plot(range(max_iters+1)[::100], val_loss_list, label='val loss modelo gpt') # espaciado definido por max_iters / eval_interval\n",
        "plt.title('Comparación modelo GPT vs Bigrama')\n",
        "plt.xlabel('Iteración')\n",
        "plt.ylabel('Loss')\n",
        "plt.legend()\n",
        "plt.show()"
      ],
      "metadata": {
        "colab": {
          "base_uri": "https://localhost:8080/",
          "height": 472
        },
        "id": "FKfsAsBoQId-",
        "outputId": "fcab7beb-91a2-4a3d-edae-6cd8537c79c1"
      },
      "execution_count": 95,
      "outputs": [
        {
          "output_type": "display_data",
          "data": {
            "text/plain": [
              "<Figure size 640x480 with 1 Axes>"
            ],
            "image/png": "[encoded data removed]"
          },
          "metadata": {}
        }
      ]
    }
  ],
  "metadata": {
    "colab": {
      "provenance": [],
      "gpuType": "T4"
    },
    "deepnote": {},
    "deepnote_execution_queue": [],
    "deepnote_notebook_id": "409cf1afb7654c8282dccc46f347e63f",
    "deepnote_persisted_session": {
      "createdAt": "2023-09-04T22:31:43.624Z"
    },
    "kernelspec": {
      "display_name": "Python 3",
      "name": "python3"
    },
    "language_info": {
      "name": "python"
    },
    "accelerator": "GPU"
  },
  "nbformat": 4,
  "nbformat_minor": 0
}