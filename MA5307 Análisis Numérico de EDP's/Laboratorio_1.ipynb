{
  "cells": [
    {
      "cell_type": "code",
      "execution_count": 12,
      "metadata": {
        "id": "e3NhfTou5d_d"
      },
      "outputs": [],
      "source": [
        "import numpy as np\n",
        "from scipy.sparse import diags, kron, csr_matrix, csc_matrix\n",
        "from scipy.sparse.linalg import spsolve, norm, inv, eigsh\n",
        "import matplotlib.pyplot as plt\n",
        "from matplotlib import rc\n",
        "import scipy as sp\n",
        "rc('text', usetex=True) # para usar latex en matplotlib"
      ]
    },
    {
      "cell_type": "markdown",
      "metadata": {
        "id": "sL9p8uWC5d_t"
      },
      "source": [
        "*Universidad de Chile*  \n",
        "*Facultad de Ciencias Físicas y Matemáticas*  \n",
        "*Departamento de Ingeniería Matemática*\n",
        "\n",
        "**MA5307-1 Análisis Numérico de EDP: Teoría y Laboratorio**  \n",
        "**Profesor:** Axel Osses  \n",
        "**Auxiliares:** Emir Chacra y Vicente Salinas\n",
        "\n",
        "**Integrantes:** Sebastián Cobaise, Arturo Lazcano, Benjamin Tardy"
      ]
    },
    {
      "cell_type": "markdown",
      "metadata": {
        "id": "MxHriG-O5d_2"
      },
      "source": [
        "# Laboratorio 1\n",
        "\n",
        "El objetivo de esta sesión práctica es aprender a resolver EDP’s en 2\n",
        "dimensiones mediante el Método de las Diferencias Finitas.\n",
        "\n",
        "Específicamente se resolverá la ecuación de Poisson en un rectángulo unitario y en un dominio perforado, además se estudiará la aproximación para condiciones de borde en dominios con curvatura"
      ]
    },
    {
      "cell_type": "markdown",
      "metadata": {
        "id": "11YPCJTH5d_6"
      },
      "source": [
        "# Parte a"
      ]
    },
    {
      "cell_type": "markdown",
      "metadata": {
        "id": "eSfh5mhs5d_-"
      },
      "source": [
        "\n",
        "## Ecuación de Poisson\n",
        "\n",
        "Considere la ecuación dada por\n",
        "\n",
        "$$\n",
        "\\begin{equation}\n",
        "\\left.\n",
        "\\begin{array}[c]{rll}\n",
        "-\\Delta u= & 0 & \\text{sobre }\\Omega=\\left[  0,1\\right]^{2}\\\\\n",
        "u(0,y)=u(1,y)= & 0 & \\text{en }0\\leq y\\leq 1\\\\\n",
        "u(x,0)= & 0 & \\text{en }0\\leq x\\leq 1\\\\\n",
        "u(x,1)= & g(x) & \\text{en }0\\leq x\\leq 1\n",
        "\\end{array}\n",
        "\\right\\} \\quad (1)\n",
        "\\end{equation}\n",
        "$$\n",
        "\n",
        "Sea $N\\in\\mathbb{N}$, considere la aproximación del cuadrado unitario dado por la malla de puntos\n",
        "$$\n",
        "\\Omega_{h}=\\left\\{  \\left(  x_{j},y_{k}\\right)  \\mid j,k\\in\\left\\{\n",
        "0,1,\\ldots,N+1\\right\\}  \\right\\}\n",
        "$$\n",
        "donde $x_{j}=jh$, $y_{k}=kh$, $h=\\dfrac{1}{N+1}$. Se define el operador laplaciano discretizado por 5 puntos como\n",
        "$$\n",
        "\\Delta_{N}u_{j,k}=\\dfrac{1}{h^{2}}\\left(  u_{j+1,k}+u_{j-1,k}\n",
        "+  u_{j,k-1}+u_{j,k+1}\n",
        "-4u_{jk}\\right)\n",
        "$$\n",
        "donde $u_{jk}$ aproxima a $u\\left(x_{j},y_{k}\\right)  $.\n",
        "\n",
        "Tomando $g(x) = \\sin(\\pi x)$, se puede demostrar que la solución única de esta ecuación está dada por\n",
        "\n",
        "$$u\\left(  x,y\\right)  =\\frac{\\sin\\left( \\pi x\\right)   \\sinh\\left( \\pi y\\right)  }{\\sinh\\left(  \\pi\\right) } $$"
      ]
    },
    {
      "cell_type": "markdown",
      "metadata": {
        "id": "Y1Z4PEfE5eAC"
      },
      "source": [
        "**P1.** Escriba dos funciones que calculen $\\boldsymbol{A}_{h}$ y $\\boldsymbol{b}_{h}$ de la forma más simple posible. Las entradas para estas funciones deben ser $N$ y $g$.\n",
        "\n",
        "También escriba una función `solve` que, utilizando estas funciones (y las funciones auxiliares que necesite), entregue la solución aproximada.\n",
        "\n",
        "**Indicación.** Revise la documentación del comando `kron` (disponible a través de `scypy.sparse`)"
      ]
    },
    {
      "cell_type": "code",
      "execution_count": 30,
      "metadata": {
        "id": "Cf8mwAb25eAG"
      },
      "outputs": [],
      "source": [
        "def Ah(N): \n",
        "  h = 1/(N+1) \n",
        "  e = np.ones(N) #Este comando define un vector de largo n lleno de 1's. Existe también np.zeros. \n",
        "  f = np.ones(N-1) \n",
        "  k = np.array([-f,4*e,-f], dtype= object) #Lista con los vectores \n",
        "  offset = [-1,0,1] #Posiciones respecto a la diagonal en que se ubicarán los vectores \n",
        "  B = sp.sparse.diags(k,offset) #Definir matriz sparse diagonal \n",
        "  print(B.shape)\n",
        "  I = np.eye(N) \n",
        "  A = np.kron(I,B)\n",
        "  h1 = np.ones(N**2-N)\n",
        "  k1 = np.array([-h1,-h1])\n",
        "  offset1 = [-N,N]\n",
        "  diag=sp.sparse.diags(k1,offset1)\n",
        "  print(A.shape)\n",
        "  print(diag.shape)\n",
        "  return ((1/h)**2)*(A+diag) \n",
        " \n",
        "def bh(N,f,g): \n",
        "  h = 1/(N+1) \n",
        "  b = np.zeros(N**2)\n",
        "  for j in range(1,N+1):\n",
        "    for i in range(1,N+1):\n",
        "      b[(j-1)*N+i-1]=f(i*h,j*h) \n",
        "      if j==N:\n",
        "        b[(j-1)*N+i-1]+=(g(i*h)/h**2)\n",
        "  return b\n",
        "def solve(N, f, g):\n",
        "    \"\"\"Resuelve el problema del laplaciano en 2D en (0,1)^2, con condiciones\n",
        "    Dirichlet en el borde, usando una grilla uniforme, con tamano de\n",
        "    paso h=1/N en x e y.\n",
        "    \"\"\"\n",
        "    sol = sp.sparse.linalg.spsolve(Ah(N),bh(N,f,g))\n",
        "    sol1= np.reshape(sol, (N,N))\n",
        "    return sol1"
      ]
    },
    {
      "cell_type": "markdown",
      "metadata": {
        "id": "A70Sq78s5eAK"
      },
      "source": [
        "**P2.** Resuelva la ecuación para $N = 10, 20, 30, 40, 50$. Comente sus resultados."
      ]
    },
    {
      "cell_type": "code",
      "execution_count": 31,
      "metadata": {
        "id": "KHHCUBKC5eAN",
        "colab": {
          "base_uri": "https://localhost:8080/",
          "height": 466
        },
        "outputId": "9b7aca56-062b-4e94-9aa5-44a865f9405e"
      },
      "outputs": [
        {
          "output_type": "stream",
          "name": "stdout",
          "text": [
            "(20, 20)\n",
            "(20, 20)\n",
            "(400, 400)\n"
          ]
        },
        {
          "output_type": "error",
          "ename": "ValueError",
          "evalue": "ignored",
          "traceback": [
            "\u001b[0;31m---------------------------------------------------------------------------\u001b[0m",
            "\u001b[0;31mValueError\u001b[0m                                Traceback (most recent call last)",
            "\u001b[0;32m<ipython-input-31-c36abd488fef>\u001b[0m in \u001b[0;36m<module>\u001b[0;34m()\u001b[0m\n\u001b[1;32m      4\u001b[0m \u001b[0;32mdef\u001b[0m \u001b[0mg1\u001b[0m\u001b[0;34m(\u001b[0m\u001b[0mx\u001b[0m\u001b[0;34m)\u001b[0m\u001b[0;34m:\u001b[0m\u001b[0;34m\u001b[0m\u001b[0;34m\u001b[0m\u001b[0m\n\u001b[1;32m      5\u001b[0m   \u001b[0;32mreturn\u001b[0m \u001b[0mnp\u001b[0m\u001b[0;34m.\u001b[0m\u001b[0msin\u001b[0m\u001b[0;34m(\u001b[0m\u001b[0mnp\u001b[0m\u001b[0;34m.\u001b[0m\u001b[0mpi\u001b[0m\u001b[0;34m*\u001b[0m\u001b[0mx\u001b[0m\u001b[0;34m)\u001b[0m\u001b[0;34m\u001b[0m\u001b[0;34m\u001b[0m\u001b[0m\n\u001b[0;32m----> 6\u001b[0;31m \u001b[0mplt\u001b[0m\u001b[0;34m.\u001b[0m\u001b[0mimshow\u001b[0m\u001b[0;34m(\u001b[0m\u001b[0msolve\u001b[0m\u001b[0;34m(\u001b[0m\u001b[0mN\u001b[0m\u001b[0;34m,\u001b[0m\u001b[0mf1\u001b[0m\u001b[0;34m,\u001b[0m\u001b[0mg1\u001b[0m\u001b[0;34m)\u001b[0m\u001b[0;34m)\u001b[0m\u001b[0;34m\u001b[0m\u001b[0;34m\u001b[0m\u001b[0m\n\u001b[0m\u001b[1;32m      7\u001b[0m \u001b[0mplt\u001b[0m\u001b[0;34m.\u001b[0m\u001b[0mcolorbar\u001b[0m\u001b[0;34m(\u001b[0m\u001b[0;34m)\u001b[0m\u001b[0;34m\u001b[0m\u001b[0;34m\u001b[0m\u001b[0m\n\u001b[1;32m      8\u001b[0m \u001b[0mplt\u001b[0m\u001b[0;34m.\u001b[0m\u001b[0mshow\u001b[0m\u001b[0;34m(\u001b[0m\u001b[0;34m)\u001b[0m\u001b[0;34m\u001b[0m\u001b[0;34m\u001b[0m\u001b[0m\n",
            "\u001b[0;32m<ipython-input-30-3713e4e4e3a5>\u001b[0m in \u001b[0;36msolve\u001b[0;34m(N, f, g)\u001b[0m\n\u001b[1;32m     32\u001b[0m     \u001b[0mpaso\u001b[0m \u001b[0mh\u001b[0m\u001b[0;34m=\u001b[0m\u001b[0;36m1\u001b[0m\u001b[0;34m/\u001b[0m\u001b[0mN\u001b[0m \u001b[0men\u001b[0m \u001b[0mx\u001b[0m \u001b[0me\u001b[0m \u001b[0my\u001b[0m\u001b[0;34m.\u001b[0m\u001b[0;34m\u001b[0m\u001b[0;34m\u001b[0m\u001b[0m\n\u001b[1;32m     33\u001b[0m     \"\"\"\n\u001b[0;32m---> 34\u001b[0;31m     \u001b[0msol\u001b[0m \u001b[0;34m=\u001b[0m \u001b[0msp\u001b[0m\u001b[0;34m.\u001b[0m\u001b[0msparse\u001b[0m\u001b[0;34m.\u001b[0m\u001b[0mlinalg\u001b[0m\u001b[0;34m.\u001b[0m\u001b[0mspsolve\u001b[0m\u001b[0;34m(\u001b[0m\u001b[0mAh\u001b[0m\u001b[0;34m(\u001b[0m\u001b[0mN\u001b[0m\u001b[0;34m)\u001b[0m\u001b[0;34m,\u001b[0m\u001b[0mbh\u001b[0m\u001b[0;34m(\u001b[0m\u001b[0mN\u001b[0m\u001b[0;34m,\u001b[0m\u001b[0mf\u001b[0m\u001b[0;34m,\u001b[0m\u001b[0mg\u001b[0m\u001b[0;34m)\u001b[0m\u001b[0;34m)\u001b[0m\u001b[0;34m\u001b[0m\u001b[0;34m\u001b[0m\u001b[0m\n\u001b[0m\u001b[1;32m     35\u001b[0m     \u001b[0msol1\u001b[0m\u001b[0;34m=\u001b[0m \u001b[0mnp\u001b[0m\u001b[0;34m.\u001b[0m\u001b[0mreshape\u001b[0m\u001b[0;34m(\u001b[0m\u001b[0msol\u001b[0m\u001b[0;34m,\u001b[0m \u001b[0;34m(\u001b[0m\u001b[0mN\u001b[0m\u001b[0;34m,\u001b[0m\u001b[0mN\u001b[0m\u001b[0;34m)\u001b[0m\u001b[0;34m)\u001b[0m\u001b[0;34m\u001b[0m\u001b[0;34m\u001b[0m\u001b[0m\n\u001b[1;32m     36\u001b[0m     \u001b[0;32mreturn\u001b[0m \u001b[0msol1\u001b[0m\u001b[0;34m\u001b[0m\u001b[0;34m\u001b[0m\u001b[0m\n",
            "\u001b[0;32m<ipython-input-30-3713e4e4e3a5>\u001b[0m in \u001b[0;36mAh\u001b[0;34m(N)\u001b[0m\n\u001b[1;32m     16\u001b[0m   \u001b[0mprint\u001b[0m\u001b[0;34m(\u001b[0m\u001b[0mA\u001b[0m\u001b[0;34m.\u001b[0m\u001b[0mshape\u001b[0m\u001b[0;34m)\u001b[0m\u001b[0;34m\u001b[0m\u001b[0;34m\u001b[0m\u001b[0m\n\u001b[1;32m     17\u001b[0m   \u001b[0mprint\u001b[0m\u001b[0;34m(\u001b[0m\u001b[0mdiag\u001b[0m\u001b[0;34m.\u001b[0m\u001b[0mshape\u001b[0m\u001b[0;34m)\u001b[0m\u001b[0;34m\u001b[0m\u001b[0;34m\u001b[0m\u001b[0m\n\u001b[0;32m---> 18\u001b[0;31m   \u001b[0;32mreturn\u001b[0m \u001b[0;34m(\u001b[0m\u001b[0;34m(\u001b[0m\u001b[0;36m1\u001b[0m\u001b[0;34m/\u001b[0m\u001b[0mh\u001b[0m\u001b[0;34m)\u001b[0m\u001b[0;34m**\u001b[0m\u001b[0;36m2\u001b[0m\u001b[0;34m)\u001b[0m\u001b[0;34m*\u001b[0m\u001b[0;34m(\u001b[0m\u001b[0mA\u001b[0m\u001b[0;34m+\u001b[0m\u001b[0mdiag\u001b[0m\u001b[0;34m)\u001b[0m\u001b[0;34m\u001b[0m\u001b[0;34m\u001b[0m\u001b[0m\n\u001b[0m\u001b[1;32m     19\u001b[0m \u001b[0;34m\u001b[0m\u001b[0m\n\u001b[1;32m     20\u001b[0m \u001b[0;32mdef\u001b[0m \u001b[0mbh\u001b[0m\u001b[0;34m(\u001b[0m\u001b[0mN\u001b[0m\u001b[0;34m,\u001b[0m\u001b[0mf\u001b[0m\u001b[0;34m,\u001b[0m\u001b[0mg\u001b[0m\u001b[0;34m)\u001b[0m\u001b[0;34m:\u001b[0m\u001b[0;34m\u001b[0m\u001b[0;34m\u001b[0m\u001b[0m\n",
            "\u001b[0;32m/usr/local/lib/python3.7/dist-packages/scipy/sparse/base.py\u001b[0m in \u001b[0;36m__radd__\u001b[0;34m(self, other)\u001b[0m\n\u001b[1;32m    425\u001b[0m \u001b[0;34m\u001b[0m\u001b[0m\n\u001b[1;32m    426\u001b[0m     \u001b[0;32mdef\u001b[0m \u001b[0m__radd__\u001b[0m\u001b[0;34m(\u001b[0m\u001b[0mself\u001b[0m\u001b[0;34m,\u001b[0m\u001b[0mother\u001b[0m\u001b[0;34m)\u001b[0m\u001b[0;34m:\u001b[0m  \u001b[0;31m# other + self\u001b[0m\u001b[0;34m\u001b[0m\u001b[0;34m\u001b[0m\u001b[0m\n\u001b[0;32m--> 427\u001b[0;31m         \u001b[0;32mreturn\u001b[0m \u001b[0mself\u001b[0m\u001b[0;34m.\u001b[0m\u001b[0m__add__\u001b[0m\u001b[0;34m(\u001b[0m\u001b[0mother\u001b[0m\u001b[0;34m)\u001b[0m\u001b[0;34m\u001b[0m\u001b[0;34m\u001b[0m\u001b[0m\n\u001b[0m\u001b[1;32m    428\u001b[0m \u001b[0;34m\u001b[0m\u001b[0m\n\u001b[1;32m    429\u001b[0m     \u001b[0;32mdef\u001b[0m \u001b[0m__sub__\u001b[0m\u001b[0;34m(\u001b[0m\u001b[0mself\u001b[0m\u001b[0;34m,\u001b[0m \u001b[0mother\u001b[0m\u001b[0;34m)\u001b[0m\u001b[0;34m:\u001b[0m  \u001b[0;31m# self - other\u001b[0m\u001b[0;34m\u001b[0m\u001b[0;34m\u001b[0m\u001b[0m\n",
            "\u001b[0;32m/usr/local/lib/python3.7/dist-packages/scipy/sparse/base.py\u001b[0m in \u001b[0;36m__add__\u001b[0;34m(self, other)\u001b[0m\n\u001b[1;32m    419\u001b[0m             \u001b[0;32mreturn\u001b[0m \u001b[0mself\u001b[0m\u001b[0;34m.\u001b[0m\u001b[0m_add_sparse\u001b[0m\u001b[0;34m(\u001b[0m\u001b[0mother\u001b[0m\u001b[0;34m)\u001b[0m\u001b[0;34m\u001b[0m\u001b[0;34m\u001b[0m\u001b[0m\n\u001b[1;32m    420\u001b[0m         \u001b[0;32melif\u001b[0m \u001b[0misdense\u001b[0m\u001b[0;34m(\u001b[0m\u001b[0mother\u001b[0m\u001b[0;34m)\u001b[0m\u001b[0;34m:\u001b[0m\u001b[0;34m\u001b[0m\u001b[0;34m\u001b[0m\u001b[0m\n\u001b[0;32m--> 421\u001b[0;31m             \u001b[0mother\u001b[0m \u001b[0;34m=\u001b[0m \u001b[0mbroadcast_to\u001b[0m\u001b[0;34m(\u001b[0m\u001b[0mother\u001b[0m\u001b[0;34m,\u001b[0m \u001b[0mself\u001b[0m\u001b[0;34m.\u001b[0m\u001b[0mshape\u001b[0m\u001b[0;34m)\u001b[0m\u001b[0;34m\u001b[0m\u001b[0;34m\u001b[0m\u001b[0m\n\u001b[0m\u001b[1;32m    422\u001b[0m             \u001b[0;32mreturn\u001b[0m \u001b[0mself\u001b[0m\u001b[0;34m.\u001b[0m\u001b[0m_add_dense\u001b[0m\u001b[0;34m(\u001b[0m\u001b[0mother\u001b[0m\u001b[0;34m)\u001b[0m\u001b[0;34m\u001b[0m\u001b[0;34m\u001b[0m\u001b[0m\n\u001b[1;32m    423\u001b[0m         \u001b[0;32melse\u001b[0m\u001b[0;34m:\u001b[0m\u001b[0;34m\u001b[0m\u001b[0;34m\u001b[0m\u001b[0m\n",
            "\u001b[0;32m<__array_function__ internals>\u001b[0m in \u001b[0;36mbroadcast_to\u001b[0;34m(*args, **kwargs)\u001b[0m\n",
            "\u001b[0;32m/usr/local/lib/python3.7/dist-packages/numpy/lib/stride_tricks.py\u001b[0m in \u001b[0;36mbroadcast_to\u001b[0;34m(array, shape, subok)\u001b[0m\n\u001b[1;32m    409\u001b[0m            [1, 2, 3]])\n\u001b[1;32m    410\u001b[0m     \"\"\"\n\u001b[0;32m--> 411\u001b[0;31m     \u001b[0;32mreturn\u001b[0m \u001b[0m_broadcast_to\u001b[0m\u001b[0;34m(\u001b[0m\u001b[0marray\u001b[0m\u001b[0;34m,\u001b[0m \u001b[0mshape\u001b[0m\u001b[0;34m,\u001b[0m \u001b[0msubok\u001b[0m\u001b[0;34m=\u001b[0m\u001b[0msubok\u001b[0m\u001b[0;34m,\u001b[0m \u001b[0mreadonly\u001b[0m\u001b[0;34m=\u001b[0m\u001b[0;32mTrue\u001b[0m\u001b[0;34m)\u001b[0m\u001b[0;34m\u001b[0m\u001b[0;34m\u001b[0m\u001b[0m\n\u001b[0m\u001b[1;32m    412\u001b[0m \u001b[0;34m\u001b[0m\u001b[0m\n\u001b[1;32m    413\u001b[0m \u001b[0;34m\u001b[0m\u001b[0m\n",
            "\u001b[0;32m/usr/local/lib/python3.7/dist-packages/numpy/lib/stride_tricks.py\u001b[0m in \u001b[0;36m_broadcast_to\u001b[0;34m(array, shape, subok, readonly)\u001b[0m\n\u001b[1;32m    348\u001b[0m     it = np.nditer(\n\u001b[1;32m    349\u001b[0m         \u001b[0;34m(\u001b[0m\u001b[0marray\u001b[0m\u001b[0;34m,\u001b[0m\u001b[0;34m)\u001b[0m\u001b[0;34m,\u001b[0m \u001b[0mflags\u001b[0m\u001b[0;34m=\u001b[0m\u001b[0;34m[\u001b[0m\u001b[0;34m'multi_index'\u001b[0m\u001b[0;34m,\u001b[0m \u001b[0;34m'refs_ok'\u001b[0m\u001b[0;34m,\u001b[0m \u001b[0;34m'zerosize_ok'\u001b[0m\u001b[0;34m]\u001b[0m \u001b[0;34m+\u001b[0m \u001b[0mextras\u001b[0m\u001b[0;34m,\u001b[0m\u001b[0;34m\u001b[0m\u001b[0;34m\u001b[0m\u001b[0m\n\u001b[0;32m--> 350\u001b[0;31m         op_flags=['readonly'], itershape=shape, order='C')\n\u001b[0m\u001b[1;32m    351\u001b[0m     \u001b[0;32mwith\u001b[0m \u001b[0mit\u001b[0m\u001b[0;34m:\u001b[0m\u001b[0;34m\u001b[0m\u001b[0;34m\u001b[0m\u001b[0m\n\u001b[1;32m    352\u001b[0m         \u001b[0;31m# never really has writebackifcopy semantics\u001b[0m\u001b[0;34m\u001b[0m\u001b[0;34m\u001b[0m\u001b[0;34m\u001b[0m\u001b[0m\n",
            "\u001b[0;31mValueError\u001b[0m: operands could not be broadcast together with remapped shapes [original->remapped]: (20,20)  and requested shape (400,400)"
          ]
        }
      ],
      "source": [
        "#El error econtrado en el lab es que hay una diferencia en la dimensión de las matrices, problablemente haya una dimensión mal definida (N en vez de N**2)\n",
        "N=20\n",
        "def f1(x,y):\n",
        "  return 0\n",
        "def g1(x):\n",
        "  return np.sin(np.pi*x) \n",
        "plt.imshow(solve(N,f1,g1))\n",
        "plt.colorbar()\n",
        "plt.show()"
      ]
    },
    {
      "cell_type": "markdown",
      "metadata": {
        "id": "coI2WJdy5eAR"
      },
      "source": [
        "**P3.** Estudie el condicionamiento en norma $2$ de la Matriz $A_h$.\n",
        "\n",
        "**Indicación.** Sean $p\\in\\left[  1,+\\infty\\right]  $ y $\\boldsymbol{A}\\in\\mathbb{R}^{N\\times N}$. Se define la norma inducida $p$ de $\\boldsymbol{A}$ como\n",
        "$$\n",
        "\\left\\Vert \\boldsymbol{A}\\right\\Vert _{p}=\\sup\\limits_{\\boldsymbol{x\\in}\\mathbb{R}^{N}\\setminus\\left\\{  \\boldsymbol{0}\\right\\}  }\\dfrac{\\left\\Vert\\boldsymbol{Ax}\\right\\Vert _{p}}{\\left\\Vert \\boldsymbol{x}\\right\\Vert_{p}}\n",
        "$$\n",
        "y, si $\\boldsymbol{A}$ es invertible, el número de condición en norma inducida $p$ como $\\operatorname{cond}_{p}\\left(  \\boldsymbol{A}\\right)  =\\left\\Vert\n",
        "\\boldsymbol{A}\\right\\Vert _{p}\\left\\Vert \\boldsymbol{A}^{-1}\\right\\Vert _{p}$.\n",
        "\n",
        "En este caso particular, como $\\boldsymbol{A}_{h}$ es simétrica, el número de condición en la norma $2$ inducida puede calcularse como\n",
        "$$\n",
        "\\operatorname{cond}_{2}\\left(  \\boldsymbol{A}_{h}\\right)  =\\dfrac{\\lambda_{\\max,h}\\left(  \\boldsymbol{A}_{h}\\right)  }{\\lambda_{\\min,h}\\left(\\boldsymbol{A}_{h}\\right)}\n",
        "$$\n",
        "donde $\\lambda_{\\max,h}\\left(  \\boldsymbol{A}_{h}\\right)  =\\max\\left\\{\\left\\vert \\lambda\\right\\vert \\mid\\lambda\\in\\sigma\\left(  \\boldsymbol{A}_{h}\\right)  \\right\\}  $ y $\\lambda_{\\min,h}\\left(  \\boldsymbol{A}_{h}\\right)\n",
        "=\\min\\left\\{  \\left\\vert \\lambda\\right\\vert \\mid\\lambda\\in\\sigma\\left(\\boldsymbol{A}_{h}\\right)  \\right\\}  $."
      ]
    },
    {
      "cell_type": "code",
      "execution_count": null,
      "metadata": {
        "id": "M3WdQvuA5eAU"
      },
      "outputs": [],
      "source": [
        "def cond_2_sparse(A):\n",
        "    \"\"\"\n",
        "    Calcula el numero de condicionamiento en norma inducida 2\n",
        "    para una matriz sparse simetrica A.\n",
        "    Se obtiene como el valor propio de mayor módulo dividido por el de menor módulo\n",
        "    \n",
        "    Input:\n",
        "    - A matriz sparse simetrica\n",
        "    \n",
        "    Documentacion de eigsh:\n",
        "    https://docs.scipy.org/doc/scipy-0.15.1/reference/generated/scipy.sparse.linalg.eigsh.html\n",
        "    \"\"\"\n",
        "\n",
        "    \n",
        "    \n",
        "    return cond"
      ]
    },
    {
      "cell_type": "markdown",
      "metadata": {
        "id": "DLM4NHKG5eAa"
      },
      "source": [
        "# Parte b"
      ]
    },
    {
      "cell_type": "markdown",
      "metadata": {
        "id": "9Kl7t7ZC5eAd"
      },
      "source": [
        "## Ecuación en Dominios Perforados"
      ]
    },
    {
      "cell_type": "markdown",
      "metadata": {
        "id": "DzMwr13A5eAg"
      },
      "source": [
        "Para $\\Omega = [0, 1]^2\\backslash B ((0.5, 0.5), 0.3)$, considere:\n",
        "$$\n",
        "\\left(  P \\right)  \\left\\{\n",
        "\\begin{array}\n",
        "[c]{ccc}\n",
        "-\\Delta u(x,y)=&0,  & \\text{si }(x,y)\\text{ en }\\Omega \\\\\n",
        "u(x,y)=&g(x,y), & \\text{si} (x,y)\\text{ en }\\partial\\Omega\n",
        "\\end{array}\n",
        "\\right.\n",
        "$$\n",
        "\n",
        "y $g$ dada por:\n",
        "\n",
        "$$\n",
        "g\\left(  x,y\\right)  =\\left\\{\n",
        "\\begin{array}\n",
        "[c]{cc}\n",
        "2  & \\text{si }(x,y) \\in \\partial [0,1]^2 \\\\\n",
        "0  & \\text{si }(x,y) \\in \\partial B ((0.5, 0.5), 0.3)\n",
        "\\end{array}\n",
        "\\right.\n",
        "$$\n",
        "\n",
        "\n",
        "\n",
        "\n"
      ]
    },
    {
      "cell_type": "markdown",
      "metadata": {
        "id": "6oebmKfk5eAi"
      },
      "source": [
        "**P1.** Genere una función que reciba un punto de la malla $(x_j , y_k)$ y entregue como resultado $1$ si es un\n",
        "punto interior al cual se le puede calcular $\\Delta u$ con la aproximación utilizada en la fórmula de $5$ puntos."
      ]
    },
    {
      "cell_type": "code",
      "execution_count": 9,
      "metadata": {
        "id": "GQhM-OJM5eAk"
      },
      "outputs": [],
      "source": [
        "def xx(xj,yk,h):\n",
        "  if xj+h<=1 and (xj+h-0.5)**2+(yk-0.5)**2>0.3**2 and (xj+h)>=0:\n",
        "    if xj-h<=1  and (xj-h-0.5)**2+(yk-0.5)**2>0.3**2 and (xj-h)>=0:\n",
        "      return 1\n",
        "  else:\n",
        "    return 0\n",
        "\n",
        "def yy(xj,yk,h):\n",
        "  if yk+h<=1 and (xj-0.5)**2+(yk+h-0.5)**2>0.3**2 and yk+h>0:\n",
        "    if yk-h<=1 and (xj-0.5)**2+(yk-h-0.5)**2>0.3**2 and yk-h>0:\n",
        "      return 1\n",
        "  else:\n",
        "    return 0\n",
        "\n",
        "def interior(xj,yk,h):\n",
        "  return xx(xj,yk,h)*yy(xj,yk,h)"
      ]
    },
    {
      "cell_type": "markdown",
      "metadata": {
        "id": "DKxaaSbi5eAl"
      },
      "source": [
        "**P2.** Asuma que la matriz del sistema es de la forma $A = A_x + A_y$, donde $A_x$ tiene los coeficientes adecuados\n",
        "para la aproximación de la derivada parcial según $x$ y lo equivalente para $A_y$. Encuentre la forma\n",
        "que deben tener $A_x$ y $A_y$ y escriba un programa que calcule dichas matrices."
      ]
    },
    {
      "cell_type": "code",
      "execution_count": 8,
      "metadata": {
        "id": "7zLURq6S5eAn"
      },
      "outputs": [],
      "source": [
        "def Ahx(N):\n",
        "  h=1/(N+1)\n",
        "  Ax=np.zeros((N**2,N**2))\n",
        "  for j in range(1,N+1):\n",
        "    for i in range(1,N+1):\n",
        "      if xx(i*h,j*h,h)==1:\n",
        "        row= np.zeros(N**2)\n",
        "        row[(j-1)*N+i-1]=2\n",
        "        if i==1:\n",
        "          row[(j-1)*N+i+1-1]=-1\n",
        "        if i==N:\n",
        "          row[(j-1)*N+i-1-1]=-1\n",
        "        else:\n",
        "          row[(j-1)*N+i+1-1]=-1\n",
        "          row[(j-1)*N+i-1-1]=-1\n",
        "      else:\n",
        "        if (i*h)**2+(j*h)**2<0.3**2:\n",
        "          row= np.zeros(N**2)\n",
        "          row[(j-1)*N+i-1]=1\n",
        "        else:\n",
        "\n",
        "          if i*h<0.5:\n",
        "            hbarra=abs((0.5-np.sqrt(0.3**2-(j*h-0.5)**2))-i*h)\n",
        "            gamma=2/(hbarra*h+hbarra**2)\n",
        "            alfa=2/(hbarra*h+h**2)\n",
        "            beta=-alfa-gamma          \n",
        "            row= np.zeros(N**2)\n",
        "            row[(j-1)*N+i-1]=beta\n",
        "            row[(j-1)*N+i-1-1]=alfa\n",
        "\n",
        "          else: #i*h>0.5\n",
        "            hbarra=abs(i*h-(0.5+np.sqrt(0.3**2-(j*h-0.5)**2)))\n",
        "            gamma=2/(hbarra*h+hbarra**2)\n",
        "            alfa=2/(hbarra*h+h**2)\n",
        "            beta=-alfa-gamma          \n",
        "            row= np.zeros(N**2)\n",
        "            row[(j-1)*N+i-1]=beta\n",
        "            row[(j-1)*N+i+1-1]=alfa\n",
        "      Ax[(j-1)*N+i-1,:]=row\n",
        "  return ((1/h)**2)*Ax\n",
        "\n",
        "def Ahy(N):\n",
        "  h=1/(N+1)\n",
        "  Ay=np.zeros((N**2,N**2))\n",
        "  for j in range(1,N+1):\n",
        "    for i in range(1,N+1):\n",
        "      if yy(i*h,j*h,h)==1:\n",
        "        row= np.zeros(N**2)\n",
        "        row[(j-1)*N+i-1]=2\n",
        "        if j==1:\n",
        "          row[(j-1)*N+i+N-1]=-1\n",
        "        if j==N:\n",
        "          row[(j-1)*N+i-N-1]=-1\n",
        "        else:\n",
        "          row[(j-1)*N+i+N-1]=-1\n",
        "          row[(j-1)*N+i-N-1]=-1\n",
        "      else:\n",
        "        if (i*h)**2+(j*h)**2<0.3**2:\n",
        "          row= np.zeros(N**2)\n",
        "          row[(j-1)*N+i-1]=1\n",
        "        else:\n",
        "\n",
        "          if j*h<0.5:\n",
        "            hbarra=abs((0.5-np.sqrt(0.3**2-(i*h-0.5)**2))-j*h)\n",
        "            gamma=2/(hbarra*h+hbarra**2)\n",
        "            alfa=2/(hbarra*h+h**2)\n",
        "            beta=-alfa-gamma          \n",
        "            row= np.zeros(N**2)\n",
        "            row[(j-1)*N+i-1]=beta\n",
        "            row[(j-1)*N+i-N-1]=alfa\n",
        "\n",
        "          else: #i*h>0.5\n",
        "            hbarra=abs((0.5-np.sqrt(0.3**2-(i*h-0.5)**2))-j*h)\n",
        "            gamma=2/(hbarra*h+hbarra**2)\n",
        "            alfa=2/(hbarra*h+h**2)\n",
        "            beta=-alfa-gamma          \n",
        "            row= np.zeros(N**2)\n",
        "            row[(j-1)*N+i-1]=beta\n",
        "            row[(j-1)*N+i+N-1]=alfa\n",
        "      Ay[(j-1)*N+i-1,:]=row\n",
        "  \n",
        "  return ((1/h)**2)*Ay"
      ]
    },
    {
      "cell_type": "markdown",
      "metadata": {
        "id": "FBy9X_Kw5eAo"
      },
      "source": [
        "**P3.** Escriba una función que calcule $b_h$ adaptado a este caso."
      ]
    },
    {
      "cell_type": "code",
      "execution_count": 7,
      "metadata": {
        "id": "R0caToR45eAp"
      },
      "outputs": [],
      "source": [
        "def bh(N):\n",
        "  h=1/(N+1)\n",
        "  b=np.zeros(N**2)\n",
        "  for j in range(1,N+1):\n",
        "    for i in range(1,N+1):\n",
        "      if i==1:\n",
        "        b[(j-1)*N+i-1]+=(2/h**2)\n",
        "      if i==N:\n",
        "        b[(j-1)*N+i-1]+=(2/h**2)\n",
        "      if j==1:\n",
        "        b[(j-1)*N+i-1]+=(2/h**2)\n",
        "      if j==N:\n",
        "        b[(j-1)*N+i-1]+=(2/h**2)\n",
        "  return b\n",
        "\n",
        "def solve2(N):\n",
        "  Ax=Ahx(N)\n",
        "  Ay=Ahy(N)\n",
        "  Ah=Ax+Ay\n",
        "  b=bh(N)\n",
        "  sol = sp.sparse.linalg.spsolve(Ah,b)\n",
        "  return sol"
      ]
    },
    {
      "cell_type": "markdown",
      "metadata": {
        "id": "s9L_5u9Y5eAr"
      },
      "source": [
        "**P4.** Resuelva el sistema y grafique la solución aproximada para $N = 10, 20, 30, 40, 50$. Comente sus resultados."
      ]
    },
    {
      "cell_type": "code",
      "execution_count": null,
      "metadata": {
        "id": "MjjrIzaI5eAt"
      },
      "outputs": [],
      "source": [
        ""
      ]
    },
    {
      "cell_type": "markdown",
      "metadata": {
        "id": "KIH_G3_15eAt"
      },
      "source": [
        "**P5.** ¿Qué sucede con el condicionamiento de la matriz utilizando la fórmula de la Parte a?¿Cómo adaptaría su código para el caso $f\\neq 0$?"
      ]
    },
    {
      "cell_type": "code",
      "execution_count": null,
      "metadata": {
        "id": "MUwoz9Q25eAv"
      },
      "outputs": [],
      "source": [
        ""
      ]
    }
  ],
  "metadata": {
    "kernelspec": {
      "display_name": "Python 3",
      "language": "python",
      "name": "python3"
    },
    "language_info": {
      "codemirror_mode": {
        "name": "ipython",
        "version": 3
      },
      "file_extension": ".py",
      "mimetype": "text/x-python",
      "name": "python",
      "nbconvert_exporter": "python",
      "pygments_lexer": "ipython3",
      "version": "3.7.3"
    },
    "colab": {
      "name": "20220324152326E6B536140EDFF0__Enunciado_-_Lab1.ipynb",
      "provenance": []
    }
  },
  "nbformat": 4,
  "nbformat_minor": 0
}