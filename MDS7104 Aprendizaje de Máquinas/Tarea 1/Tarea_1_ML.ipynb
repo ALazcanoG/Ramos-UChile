{
  "nbformat": 4,
  "nbformat_minor": 0,
  "metadata": {
    "colab": {
      "provenance": []
    },
    "kernelspec": {
      "name": "python3",
      "display_name": "Python 3"
    },
    "language_info": {
      "name": "python"
    }
  },
  "cells": [
    {
      "cell_type": "markdown",
      "source": [
        "# Tarea 1: Aprendizaje de Máquinas\n",
        "\n",
        "### Autor: Arturo Lazcano\n",
        "\n",
        "#### Profesor: Felipe Tobar\n",
        "#### Auxiliares: Catherine Benavides, Camila Bergasa, Víctor Caro, Camilo Carvajal, Diego Cortéz y Stefano Schiappacasse"
      ],
      "metadata": {
        "id": "kiF9wxbAZ7Pf"
      }
    },
    {
      "cell_type": "markdown",
      "source": [
        "### Importación Librerías\n",
        "\n"
      ],
      "metadata": {
        "id": "fnTt_q-gf7uO"
      }
    },
    {
      "cell_type": "code",
      "source": [
        "# Librerías principales\n",
        "import pandas as pd\n",
        "import numpy as np\n",
        "import matplotlib.pyplot as plt\n",
        "import random\n",
        "\n",
        "# Machine learning\n",
        "from sklearn.model_selection import train_test_split\n",
        "from sklearn.preprocessing import StandardScaler\n",
        "from sklearn.linear_model import LinearRegression\n",
        "from sklearn import linear_model\n",
        "from sklearn.metrics import mean_squared_error\n",
        "from sklearn.preprocessing import PolynomialFeatures\n",
        "\n",
        "# Alertas\n",
        "import warnings\n",
        "warnings.filterwarnings('ignore')"
      ],
      "metadata": {
        "id": "wx4RGZ4if-tO"
      },
      "execution_count": 14,
      "outputs": []
    },
    {
      "cell_type": "markdown",
      "source": [
        "## P1: Regresión Lineal Bayesiana\n",
        "\n",
        "(Esconder para ver solo la P2)"
      ],
      "metadata": {
        "id": "NUnR8SkIH-v0"
      }
    },
    {
      "cell_type": "markdown",
      "source": [
        "Sea $X$ una variable aleatoria en $\\mathbb{R}^p$\n",
        "e $Y$ variable aleatoria a valores $\\mathbb{R}$. Consideremos el modelo de regresión lineal:\n",
        "$Y = \\beta_0 + \\beta^T X + \\epsilon$, con $\\epsilon ∼ \\mathcal{N} (0, \\sigma^2)$, con $\\beta = (\\beta_1, . . . , \\beta_p)^T$. Suponemos $\\sigma^2$ conocido. Nos interesamos en la estimación Bayesiana de los parámetros $\\theta = (\\beta_0, \\beta_1, . . . , \\beta_p)$. Suponemos que la distribución $X$ no depende de $\\theta$. Sean $(x_i, y_i) \\ 1\\leq i \\leq N$ datos."
      ],
      "metadata": {
        "id": "4OPNyyeyH-v1"
      }
    },
    {
      "cell_type": "markdown",
      "source": [
        "### (a) "
      ],
      "metadata": {
        "id": "NFQ5r2aPH-v1"
      }
    },
    {
      "cell_type": "markdown",
      "source": [
        "Demuestre que el estimador máximo a posteriori con un prior constante (que no depende de $\\theta$) equivale al estimador de máxima verosimilitud.  \n",
        "\n",
        "**Demostración:**  \n",
        "\n",
        "Por definición de máximo a posteriori (MAP) tenemos que:  \n",
        "\n",
        "$\\theta_{MAP} = \\underset{\\Theta}{\\operatorname{argmax}} p(\\theta|\\mathcal{D})\n",
        " = \\underset{\\Theta}{\\operatorname{argmax}} \\frac{p(\\mathcal{D}|\\theta) p(\\theta)}{p(\\mathcal{D})} = \\underset{\\Theta}{\\operatorname{argmax}} p(\\mathcal{D}|\\theta) p(\\theta)$  \n",
        " Pues $p(\\mathcal{D})$ no depende de $\\theta$ y no juega un rol en el argmax. Luego,  \n",
        "\n",
        " $ \\underset{\\Theta}{\\operatorname{argmax}} p(\\mathcal{D}|\\theta) p(\\theta) = \n",
        " \\underset{\\Theta}{\\operatorname{argmax}} \\big[\\log(p(\\mathcal{D}|\\theta)) + \\log(p(\\theta))\\big] $  \n",
        " Ya que la función $\\log$ es una función monótona creciente por lo cual el problema de optimización es equivalente. Así, si escogemos un prior constante (independiente de $\\theta$, su logaritmo tampoco) juega un rol en encontrar el argmax por lo que podemos quitarlo de la ecuación. Así, obtenemos:  \n",
        "\n",
        " $\\theta_{MAP} =  \\underset{\\Theta}{\\operatorname{argmax}} \\big[ \\log(p(\\mathcal{D}|\\theta)) \\big] = \\underset{\\Theta}{\\operatorname{argmax}} \\big[ p(\\mathcal{D}|\\theta) \\big] = \\theta_{MLE} \\ $ ya que podemos pensar en quitar el logaritmo sin afectar al problema de optimización."
      ],
      "metadata": {
        "id": "AC1Ni7RMH-v1"
      }
    },
    {
      "cell_type": "markdown",
      "source": [
        "Supongamos que usamos el prior siguiente:  \n",
        "\n",
        "$ p(\\beta_i) = \\frac{1}{\\sqrt{2\\pi}\\tau} \\cdot e^{- \\frac{\\beta_i^2}{2\\tau^2}} $"
      ],
      "metadata": {
        "id": "Pf-EoVbTH-v1"
      }
    },
    {
      "cell_type": "markdown",
      "source": [
        "### (b) "
      ],
      "metadata": {
        "id": "ckH8wMz3H-v1"
      }
    },
    {
      "cell_type": "markdown",
      "source": [
        "Compute el estimador máximo a posteriori. Identifique a qué estimador conocido corresponde.  \n",
        "\n",
        "**Respuesta:**  \n",
        "\n",
        "Para obtener el máximo a posteriori, procedemos a calcular la expresión:  \n",
        "\n",
        "$ \\underset{\\Theta}{\\operatorname{max}} \\big[ p(\\theta|x,y) \\big] = \\underset{\\Theta}{\\operatorname{max}} \\big[ p(y|x,\\theta) p(\\theta) \\big] $  \n",
        "\n",
        "En la ecuación anterior, $\\theta$ son nuestros parámetros, es decir, $\\theta = (\\beta_0, ..., \\beta_p)$.  \n",
        "Luego, para calcular el primer término, podemos pensar en que al fijar el parámetro $\\theta$, la probabilidad de un par de datos $(x,y)$ estará dada por una alejada de la recta $\\beta_0 + \\beta^T x$. Así, podemos pensar en una distribución normal pero centrada en $\\beta_0 + \\beta^T x$ de varianza $\\sigma^2$. Esto se refleja en la siguiente ecuación:  \n",
        "\n",
        "$ p(y|x,\\theta) = \\frac{1}{\\sigma \\sqrt{2\\pi}} e^{\\frac{-1}{2} \\big(\\frac{y - (\\beta_0 + \\beta^T x)}{\\sigma}\\big)^2} $  \n",
        "\n",
        "Luego, por enunciado, $ p(\\beta_i) = \\frac{1}{\\sqrt{2\\pi}\\tau} e^{- \\frac{\\beta_i^2}{2\\tau^2}} $ por lo que procedemos a multiplicar estas dos expresiones:  \n",
        "\n",
        "$\\frac{1}{\\sigma \\sqrt{2\\pi}} e^{\\frac{-1}{2} \\big(\\frac{y - (\\beta_0 + \\beta^T x)}{\\sigma}\\big)^2} \\cdot \\frac{1}{\\sqrt{2\\pi}\\tau} \\prod_{i = 1}^{p} e^{- \\frac{\\beta_i^2}{2\\tau^2}}$   \n",
        "$ = \\frac{1}{\\sigma \\sqrt{2\\pi}} e^{\\frac{-1}{2\\sigma^2} (y - (\\beta_0 + \\beta^T x))^2} \\cdot \\frac{1}{\\sqrt{2\\pi}\\tau} \\prod_{i = 1}^{p} e^{- \\frac{\\beta_i^2}{2\\tau^2}}$  \n",
        "$= \\frac{1}{2\\pi \\sigma \\tau} e^{\\frac{-1}{2\\sigma^2} (y - (\\beta_0 + \\beta^T x))^2} \\cdot \\prod_{i = 1}^{p} e^{- \\frac{\\beta_i^2}{2\\tau^2}}$  \n",
        "\n",
        "Por lo tanto, $\\theta_{MAP} = \\underset{\\Theta}{\\operatorname{max}} \\bigg[ \\frac{1}{2\\pi \\sigma \\tau} e^{\\frac{-1}{2\\sigma^2} (y - (\\beta_0 + \\beta^T x))^2} \\cdot \\prod_{i = 1}^{p} e^{- \\frac{\\beta_i^2}{2\\tau^2}} \\bigg] $  \n",
        "y podemos tirar $\\log$ por ser una función monótona creciente y no afectar al cálcuo del máximo:  \n",
        "\n",
        "$\\theta_{MAP} = \\underset{\\Theta}{\\operatorname{max}}\\bigg[ \\log\\bigg( \\frac{1}{2\\pi \\sigma \\tau} e^{\\frac{-1}{2\\sigma^2} (y - (\\beta_0 + \\beta^T x))^2} \\cdot \\prod_{i = 1}^{p} e^{- \\frac{\\beta_i^2}{2\\tau^2}} \\bigg) \\bigg]$  \n",
        "$ = \\underset{\\Theta}{\\operatorname{max}}\\bigg[ \\log\\bigg( \\frac{1}{2\\pi \\sigma \\tau} e^{\\frac{-1}{2\\sigma^2} (y - (\\beta_0 + \\beta^T x))^2}\\bigg) + \\log\\bigg(\\prod_{i = 1}^{p} e^{- \\frac{\\beta_i^2}{2\\tau^2}} \\bigg) \\bigg] $  \n",
        "$ = \\underset{\\Theta}{\\operatorname{max}}\\bigg[ \\log\\big( \\frac{1}{2\\pi \\sigma \\tau} \\big) - {\\frac{1}{2\\sigma^2} (y - (\\beta_0 + \\beta^T x))^2}\\bigg) + \\sum_{i = 1}^{p}\\log\\big( e^{- \\frac{\\beta_i^2}{2\\tau^2}} \\big) \\bigg] $  \n",
        "$ = \\underset{\\Theta}{\\operatorname{max}}\\bigg[ \\log\\big( \\frac{1}{2\\pi \\sigma \\tau} \\big) - {\\frac{1}{2\\sigma^2} (y - (\\beta_0 + \\beta^T x))^2}\\bigg) + \\sum_{i = 1}^{p} - \\frac{\\beta_i^2}{2\\tau^2} \\bigg] $  \n",
        "$ = \\underset{\\Theta}{\\operatorname{max}}\\bigg[ - {\\frac{1}{2\\sigma^2} (y - (\\beta_0 + \\beta^T x))^2}\\bigg) + \\sum_{i = 1}^{p} - \\frac{\\beta_i^2}{2\\tau^2} \\bigg] $  \n",
        "\n",
        "Ya que el término $\\log\\big( \\frac{1}{2\\pi \\sigma \\tau} \\big)$ no depende de $\\theta$ y como $máx f = -mín -f$ obtenemos:  \n",
        "\n",
        "$\\theta_{MAP} = \\underset{\\Theta}{\\operatorname{min}}\\bigg[{\\frac{1}{2\\sigma^2} (y - (\\beta_0 + \\beta^T x))^2}\\bigg) + \\sum_{i = 1}^{p}\\frac{\\beta_i^2}{2\\tau^2} \\bigg] $ y multiplicando por $2\\sigma^2 \\neq 0$ resulta:  \n",
        "\n",
        "$\\theta_{MAP} = \\underset{\\Theta}{\\operatorname{min}}\\bigg[{ (y - (\\beta_0 + \\beta^T x))^2}\\bigg) + \\frac{2\\sigma^2}{2\\tau^2}\\sum_{i = 1}^{p}\\beta_i^2 \\bigg] $  \n",
        "\n",
        "$ = \\underset{\\Theta}{\\operatorname{min}}\\bigg[{ (y - (\\beta_0 + \\beta^T x))^2}\\bigg) + \\frac{\\sigma^2}{\\tau^2} ||\\theta||_2^2 \\bigg] $  \n",
        "\n",
        "Siendo este la solución del problema de regularización de Tikhonov (Ridge regression) donde $\\frac{\\sigma^2}{\\tau^2} >0$, y como se puede ver en el apunte, página 19, su solución es explícita y viene de calcular el gradiente con respecto a $\\theta$ e imponer esto igual a 0. Así, si definimos la expresión anterior como $J$ y $\\rho := \\sigma^2/\\tau^2$, queda:  \n",
        "\n",
        "$ \\nabla_{\\theta} J = -2(Y-X\\theta)^TX + 2\\rho\\theta^T = 0$  \n",
        "$ ⟺ -Y^TX + \\theta X^TX + \\rho\\theta^T = 0$  \n",
        "$ ⟺ \\theta^T = Y^TX(X^TX + \\rho I_d)^{-1}$ donde $(X^TX + \\rho I_d)$ es s.d.p por lo cual es invertible  \n",
        "$ ⟺ \\theta = (X^TX + \\rho I_d)^{-1}X^TY$  \n",
        "\n",
        "Finamente, concluímos que $\\theta_{MAP} = (X^TX + \\rho I_d)^{-1}X^TY$ es el estimador de Ridge."
      ],
      "metadata": {
        "id": "HYs-GISTH-v2"
      }
    },
    {
      "cell_type": "markdown",
      "source": [
        "### (c) "
      ],
      "metadata": {
        "id": "PXANXonnH-v2"
      }
    },
    {
      "cell_type": "markdown",
      "source": [
        "Considere los casos\n",
        "\n",
        "\n",
        "*   $\\tau → \\infty$\n",
        "*   $\\tau → 0$  \n",
        "\n",
        "Argumente qué sucede en cada caso, tanto en términos del estimador encontrado, como en términos “Bayesianos” (esto es, piense en la forma que tendrían los priors en ambos casos).\n",
        "\n"
      ],
      "metadata": {
        "id": "PLH46hFBH-v2"
      }
    },
    {
      "cell_type": "markdown",
      "source": [
        "**Respuesta:**  \n",
        "\n",
        "* $\\tau → \\infty:$ El estimador $\\hat{\\theta} = (X^TX + \\frac{\\sigma^2}{\\tau^2} I_d)^{-1}X^TY$ tiende a $\\hat{\\theta} = (X^TX)^{-1}X^TY$, es decir, que el estimador tiende a ser el mínimos cuadrados. Esto también se puede ver en su formulación al problema de optimización, pues al hacer tender $\\tau$ a $\\infty$ lo que hago es quitar la restricción de regularización, recuperando el problema original (sin regularización).  \n",
        "Con respecto al prior, la distribución normal tiende a una distribución uniforme que sólo toma valores iguales a 0, sin embargo, al ser una distribución de probabilidad, esta sigue integrando uno, pero a lo largo de toda la recta real. Esto se puede pensar como una distribución uniforme que se acerca lo que más queramos al 0 pero que no es justo igual a 0.  \n",
        "\n",
        "* $\\tau → 0:$  El estimador en este caso queda un término que tiende a infinito en la expresión $\\hat{\\theta} = (X^TX + \\frac{\\sigma^2}{\\tau^2} I_d)^{-1}X^TY$, por lo tanto, veamos mejor el problema de optimización correspondiente:  \n",
        "$\\hat{\\theta} = \\underset{\\Theta}{\\operatorname{argmin}} \\bigg[||Y-X\\theta||^2 + \\rho||\\theta||^2_2\\bigg] $  \n",
        "Acá, vemos que, como $\\tau → 0:$, $\\rho → \\infty:$ por lo que el único caso en el que el problema está bien definido es cuando los parámetros $\\theta$ tienden a 0, a la misma (o más) rapidez que $\\rho$. Es por esto que, a pesar de no conocer la forma explícita de $\\hat{\\theta}$ necesitamos que los $\\theta$ tiendan a 0.  \n",
        "Con respecto al prior, vemos que la forma de la normal se va haciendo cada vez más angosta, pues la varianza está tendiendo a 0. Así, al punto límite, vemos que la distribución original (Gaussiana) pasa a ser un delta de Dirac.  \n",
        "Recordemos que esta \"función\" (distribución en el sentido matemático) también cumple la propiedad de integrar 1 sobre los reales. Notar que, como estamos haciendo tender la varianza a 0, el punto el cual valdrá 1 en el delta de Dirac es justamente la media, es decir, $0$."
      ],
      "metadata": {
        "id": "7CSCJyJvH-v2"
      }
    },
    {
      "cell_type": "markdown",
      "source": [
        "### (d) "
      ],
      "metadata": {
        "id": "nIWjCL6MH-v2"
      }
    },
    {
      "cell_type": "markdown",
      "source": [
        "Ahora denote $\\rho = \\frac{\\sigma^2}{\\tau^2}$ que lo interpretaremos como un hiper-parámetro de nuestro modelo.  \n",
        "Demuestre que el estimador resultante de la minimización es insesgado si y sólo si $\\rho = 0$."
      ],
      "metadata": {
        "id": "KRXpDrGVH-v3"
      }
    },
    {
      "cell_type": "markdown",
      "source": [
        "**Respuesta:**  \n",
        "\n",
        "Recordemos que la definición de estimador insesgado es que para un estimador $\\hat{g}(X)$ de $g(\\theta)$, se cumpla que $\\mathbb{E}(\\hat{g}(x)) = g(\\theta)$.  \n",
        "\n",
        "Veamos que el estimador $\\hat{\\theta} = (X^TX + \\rho I_d)^{-1}X^TY $ se puede escribir de la siguiente forma:  \n",
        "\n",
        "$\\hat{\\theta} = (X^TX + \\rho I_d)^{-1}X^TY = (X^TX + \\rho I_d)^{-1} X^TX(X^TX)^{-1} X^TY $  \n",
        "Donde podemos identificar que los últimos términos corresponden al estimador de mínimos cuadrados ordinario, ie, $\\hat{\\theta}_{MC}$ por lo tanto obtenemos:  \n",
        "\n",
        "$\\hat{\\theta} = (X^TX + \\rho I_d)^{-1}X^TY = (X^TX + \\rho I_d)^{-1} X^TX \\ \\hat{\\theta}_{MC}$. Así,  \n",
        "\n",
        "$\\mathbb{E}(\\hat{\\theta} | X) = (X^TX + \\rho I_d)^{-1} X^TX \\ \\mathbb{E}(\\hat{\\theta}_{MC})$ donde sabemos que el estimador $\\hat{\\theta}_{MC}$ es insesgado, por lo cual su esperanza es $\\mathbb{E} (\\hat{\\theta}_{MC}) = \\theta$. Así, reemplazando en la ecuación anterior:  \n",
        "\n",
        "$\\mathbb{E}(\\hat{\\theta} | X) = (X^TX + \\rho I_d)^{-1} X^TX \\ \\theta$.  \n",
        "\n",
        "En la expresión anterior podemos ver que la única opción de que nuestro estimador sea insesgado es que la matriz $(X^TX + \\rho I_d)^{-1} X^TX$ sea la identidad. Notemos que esto ocurre si, y solo si, $\\rho = 0$. La implicancia podemos pensar en su contrarecíproca y es trivial ver que, si $\\rho \\neq 0$, entonces $(X^TX + \\rho I_d)^{-1} X^TX$ no es la matriz identidad. Probando el resultado pedido."
      ],
      "metadata": {
        "id": "LB6ORAbdH-v3"
      }
    },
    {
      "cell_type": "markdown",
      "source": [
        "## P2: Regresión lineal y clasificación"
      ],
      "metadata": {
        "id": "cT_Xlu83FZ0v"
      }
    },
    {
      "cell_type": "markdown",
      "source": [
        "### Importación Base de Datos"
      ],
      "metadata": {
        "id": "LW1-moAQZ1Qa"
      }
    },
    {
      "cell_type": "code",
      "source": [
        "# Leer archivo (subirlo a \"files\" de colab es mucho más rápido)\n",
        "\n",
        "#from google.colab import files\n",
        "#uploaded = files.upload()"
      ],
      "metadata": {
        "id": "IaJdmovicD67"
      },
      "execution_count": 15,
      "outputs": []
    },
    {
      "cell_type": "code",
      "source": [
        "# Leer dataframe\n",
        "df = pd.read_csv('amazon_reviews_us_Gift_Card_v1_00.tsv', sep='\\t') \n",
        "\n",
        "# Seleccionar 20% de datos\n",
        "random.seed(20470051)\n",
        "df = df.sample(frac = 0.20, random_state = 20470051)\n",
        "\n",
        "# Rehacer índice\n",
        "new_index = [i for i in range(len(df))]\n",
        "df.index = new_index\n",
        "\n",
        "df.head()"
      ],
      "metadata": {
        "colab": {
          "base_uri": "https://localhost:8080/",
          "height": 565
        },
        "id": "gcog3guUcic_",
        "outputId": "79ca60ae-80f4-47f6-edfa-9da66c892456"
      },
      "execution_count": 16,
      "outputs": [
        {
          "output_type": "execute_result",
          "data": {
            "text/plain": [
              "  marketplace  customer_id       review_id  product_id  product_parent  \\\n",
              "0          US     44731959   R19FNQKKQAC3Q  B004LLIKVU       473048287   \n",
              "1          US     12349341   R8Z9IQC3YD4AU  B00A48G0D4       848703272   \n",
              "2          US      4758673  R3PUB7D0VFJHFF  B0091JKYLQ       941945933   \n",
              "3          US     46642216  R21CZQKTT6V7PC  B00BWDGYL8       610435021   \n",
              "4          US     24752152  R3R4RCSR9VUH2F  B00B2TFSO6        89375983   \n",
              "\n",
              "                                       product_title product_category  \\\n",
              "0                             Amazon.com eGift Cards        Gift Card   \n",
              "1       Amazon eGift Card - Happy Birthday (Candles)        Gift Card   \n",
              "2  Amazon.com Gift Card for Any Amount in a Santa...        Gift Card   \n",
              "3  Amazon eGift Card - Birthday Hazard (Animated)...        Gift Card   \n",
              "4               Amazon eGift Card - Thank You (Note)        Gift Card   \n",
              "\n",
              "   star_rating  helpful_votes  total_votes vine verified_purchase  \\\n",
              "0            5              0            0    N                 Y   \n",
              "1            5              0            0    N                 Y   \n",
              "2            5              0            0    N                 Y   \n",
              "3            5              0            0    N                 Y   \n",
              "4            4              0            0    N                 Y   \n",
              "\n",
              "                            review_headline  \\\n",
              "0     is for me fantastic. Is fast and safe   \n",
              "1  Stop with the Frantic Shopping, Already!   \n",
              "2                      Christmas gift card.   \n",
              "3                For the 'senior' birthday!   \n",
              "4      Simple design but can be used always   \n",
              "\n",
              "                                         review_body review_date  \n",
              "0  The Gift Card - Email, is for me fantastic. Is...  2014-08-01  \n",
              "1  With numerous styles and types and seasons fro...  2013-10-31  \n",
              "2  It went over very big with the family I sent i...  2015-01-04  \n",
              "3  The perfect gift card for my sister who just t...  2015-06-15  \n",
              "4  Can be improved with stylish design and more d...  2014-01-17  "
            ],
            "text/html": [
              "\n",
              "  <div id=\"df-69c111df-b14c-4cd0-85cb-7b73614fb599\">\n",
              "    <div class=\"colab-df-container\">\n",
              "      <div>\n",
              "<style scoped>\n",
              "    .dataframe tbody tr th:only-of-type {\n",
              "        vertical-align: middle;\n",
              "    }\n",
              "\n",
              "    .dataframe tbody tr th {\n",
              "        vertical-align: top;\n",
              "    }\n",
              "\n",
              "    .dataframe thead th {\n",
              "        text-align: right;\n",
              "    }\n",
              "</style>\n",
              "<table border=\"1\" class=\"dataframe\">\n",
              "  <thead>\n",
              "    <tr style=\"text-align: right;\">\n",
              "      <th></th>\n",
              "      <th>marketplace</th>\n",
              "      <th>customer_id</th>\n",
              "      <th>review_id</th>\n",
              "      <th>product_id</th>\n",
              "      <th>product_parent</th>\n",
              "      <th>product_title</th>\n",
              "      <th>product_category</th>\n",
              "      <th>star_rating</th>\n",
              "      <th>helpful_votes</th>\n",
              "      <th>total_votes</th>\n",
              "      <th>vine</th>\n",
              "      <th>verified_purchase</th>\n",
              "      <th>review_headline</th>\n",
              "      <th>review_body</th>\n",
              "      <th>review_date</th>\n",
              "    </tr>\n",
              "  </thead>\n",
              "  <tbody>\n",
              "    <tr>\n",
              "      <th>0</th>\n",
              "      <td>US</td>\n",
              "      <td>44731959</td>\n",
              "      <td>R19FNQKKQAC3Q</td>\n",
              "      <td>B004LLIKVU</td>\n",
              "      <td>473048287</td>\n",
              "      <td>Amazon.com eGift Cards</td>\n",
              "      <td>Gift Card</td>\n",
              "      <td>5</td>\n",
              "      <td>0</td>\n",
              "      <td>0</td>\n",
              "      <td>N</td>\n",
              "      <td>Y</td>\n",
              "      <td>is for me fantastic. Is fast and safe</td>\n",
              "      <td>The Gift Card - Email, is for me fantastic. Is...</td>\n",
              "      <td>2014-08-01</td>\n",
              "    </tr>\n",
              "    <tr>\n",
              "      <th>1</th>\n",
              "      <td>US</td>\n",
              "      <td>12349341</td>\n",
              "      <td>R8Z9IQC3YD4AU</td>\n",
              "      <td>B00A48G0D4</td>\n",
              "      <td>848703272</td>\n",
              "      <td>Amazon eGift Card - Happy Birthday (Candles)</td>\n",
              "      <td>Gift Card</td>\n",
              "      <td>5</td>\n",
              "      <td>0</td>\n",
              "      <td>0</td>\n",
              "      <td>N</td>\n",
              "      <td>Y</td>\n",
              "      <td>Stop with the Frantic Shopping, Already!</td>\n",
              "      <td>With numerous styles and types and seasons fro...</td>\n",
              "      <td>2013-10-31</td>\n",
              "    </tr>\n",
              "    <tr>\n",
              "      <th>2</th>\n",
              "      <td>US</td>\n",
              "      <td>4758673</td>\n",
              "      <td>R3PUB7D0VFJHFF</td>\n",
              "      <td>B0091JKYLQ</td>\n",
              "      <td>941945933</td>\n",
              "      <td>Amazon.com Gift Card for Any Amount in a Santa...</td>\n",
              "      <td>Gift Card</td>\n",
              "      <td>5</td>\n",
              "      <td>0</td>\n",
              "      <td>0</td>\n",
              "      <td>N</td>\n",
              "      <td>Y</td>\n",
              "      <td>Christmas gift card.</td>\n",
              "      <td>It went over very big with the family I sent i...</td>\n",
              "      <td>2015-01-04</td>\n",
              "    </tr>\n",
              "    <tr>\n",
              "      <th>3</th>\n",
              "      <td>US</td>\n",
              "      <td>46642216</td>\n",
              "      <td>R21CZQKTT6V7PC</td>\n",
              "      <td>B00BWDGYL8</td>\n",
              "      <td>610435021</td>\n",
              "      <td>Amazon eGift Card - Birthday Hazard (Animated)...</td>\n",
              "      <td>Gift Card</td>\n",
              "      <td>5</td>\n",
              "      <td>0</td>\n",
              "      <td>0</td>\n",
              "      <td>N</td>\n",
              "      <td>Y</td>\n",
              "      <td>For the 'senior' birthday!</td>\n",
              "      <td>The perfect gift card for my sister who just t...</td>\n",
              "      <td>2015-06-15</td>\n",
              "    </tr>\n",
              "    <tr>\n",
              "      <th>4</th>\n",
              "      <td>US</td>\n",
              "      <td>24752152</td>\n",
              "      <td>R3R4RCSR9VUH2F</td>\n",
              "      <td>B00B2TFSO6</td>\n",
              "      <td>89375983</td>\n",
              "      <td>Amazon eGift Card - Thank You (Note)</td>\n",
              "      <td>Gift Card</td>\n",
              "      <td>4</td>\n",
              "      <td>0</td>\n",
              "      <td>0</td>\n",
              "      <td>N</td>\n",
              "      <td>Y</td>\n",
              "      <td>Simple design but can be used always</td>\n",
              "      <td>Can be improved with stylish design and more d...</td>\n",
              "      <td>2014-01-17</td>\n",
              "    </tr>\n",
              "  </tbody>\n",
              "</table>\n",
              "</div>\n",
              "      <button class=\"colab-df-convert\" onclick=\"convertToInteractive('df-69c111df-b14c-4cd0-85cb-7b73614fb599')\"\n",
              "              title=\"Convert this dataframe to an interactive table.\"\n",
              "              style=\"display:none;\">\n",
              "        \n",
              "  <svg xmlns=\"http://www.w3.org/2000/svg\" height=\"24px\"viewBox=\"0 0 24 24\"\n",
              "       width=\"24px\">\n",
              "    <path d=\"M0 0h24v24H0V0z\" fill=\"none\"/>\n",
              "    <path d=\"M18.56 5.44l.94 2.06.94-2.06 2.06-.94-2.06-.94-.94-2.06-.94 2.06-2.06.94zm-11 1L8.5 8.5l.94-2.06 2.06-.94-2.06-.94L8.5 2.5l-.94 2.06-2.06.94zm10 10l.94 2.06.94-2.06 2.06-.94-2.06-.94-.94-2.06-.94 2.06-2.06.94z\"/><path d=\"M17.41 7.96l-1.37-1.37c-.4-.4-.92-.59-1.43-.59-.52 0-1.04.2-1.43.59L10.3 9.45l-7.72 7.72c-.78.78-.78 2.05 0 2.83L4 21.41c.39.39.9.59 1.41.59.51 0 1.02-.2 1.41-.59l7.78-7.78 2.81-2.81c.8-.78.8-2.07 0-2.86zM5.41 20L4 18.59l7.72-7.72 1.47 1.35L5.41 20z\"/>\n",
              "  </svg>\n",
              "      </button>\n",
              "      \n",
              "  <style>\n",
              "    .colab-df-container {\n",
              "      display:flex;\n",
              "      flex-wrap:wrap;\n",
              "      gap: 12px;\n",
              "    }\n",
              "\n",
              "    .colab-df-convert {\n",
              "      background-color: #E8F0FE;\n",
              "      border: none;\n",
              "      border-radius: 50%;\n",
              "      cursor: pointer;\n",
              "      display: none;\n",
              "      fill: #1967D2;\n",
              "      height: 32px;\n",
              "      padding: 0 0 0 0;\n",
              "      width: 32px;\n",
              "    }\n",
              "\n",
              "    .colab-df-convert:hover {\n",
              "      background-color: #E2EBFA;\n",
              "      box-shadow: 0px 1px 2px rgba(60, 64, 67, 0.3), 0px 1px 3px 1px rgba(60, 64, 67, 0.15);\n",
              "      fill: #174EA6;\n",
              "    }\n",
              "\n",
              "    [theme=dark] .colab-df-convert {\n",
              "      background-color: #3B4455;\n",
              "      fill: #D2E3FC;\n",
              "    }\n",
              "\n",
              "    [theme=dark] .colab-df-convert:hover {\n",
              "      background-color: #434B5C;\n",
              "      box-shadow: 0px 1px 3px 1px rgba(0, 0, 0, 0.15);\n",
              "      filter: drop-shadow(0px 1px 2px rgba(0, 0, 0, 0.3));\n",
              "      fill: #FFFFFF;\n",
              "    }\n",
              "  </style>\n",
              "\n",
              "      <script>\n",
              "        const buttonEl =\n",
              "          document.querySelector('#df-69c111df-b14c-4cd0-85cb-7b73614fb599 button.colab-df-convert');\n",
              "        buttonEl.style.display =\n",
              "          google.colab.kernel.accessAllowed ? 'block' : 'none';\n",
              "\n",
              "        async function convertToInteractive(key) {\n",
              "          const element = document.querySelector('#df-69c111df-b14c-4cd0-85cb-7b73614fb599');\n",
              "          const dataTable =\n",
              "            await google.colab.kernel.invokeFunction('convertToInteractive',\n",
              "                                                     [key], {});\n",
              "          if (!dataTable) return;\n",
              "\n",
              "          const docLinkHtml = 'Like what you see? Visit the ' +\n",
              "            '<a target=\"_blank\" href=https://colab.research.google.com/notebooks/data_table.ipynb>data table notebook</a>'\n",
              "            + ' to learn more about interactive tables.';\n",
              "          element.innerHTML = '';\n",
              "          dataTable['output_type'] = 'display_data';\n",
              "          await google.colab.output.renderOutput(dataTable, element);\n",
              "          const docLink = document.createElement('div');\n",
              "          docLink.innerHTML = docLinkHtml;\n",
              "          element.appendChild(docLink);\n",
              "        }\n",
              "      </script>\n",
              "    </div>\n",
              "  </div>\n",
              "  "
            ]
          },
          "metadata": {},
          "execution_count": 16
        }
      ]
    },
    {
      "cell_type": "code",
      "source": [
        "# Pequeño análisis exploratorio\n",
        "print('Columnas dataframe: \\n', '\\n', df.columns.values.tolist())\n",
        "print('\\n')\n",
        "print('Cantidad de datos: \\n', '\\n', len(df))"
      ],
      "metadata": {
        "colab": {
          "base_uri": "https://localhost:8080/"
        },
        "id": "nHPd9i8lecGe",
        "outputId": "4d87aa59-60b3-4bd6-d6d4-bc3be89c8436"
      },
      "execution_count": 17,
      "outputs": [
        {
          "output_type": "stream",
          "name": "stdout",
          "text": [
            "Columnas dataframe: \n",
            " \n",
            " ['marketplace', 'customer_id', 'review_id', 'product_id', 'product_parent', 'product_title', 'product_category', 'star_rating', 'helpful_votes', 'total_votes', 'vine', 'verified_purchase', 'review_headline', 'review_body', 'review_date']\n",
            "\n",
            "\n",
            "Cantidad de datos: \n",
            " \n",
            " 26409\n"
          ]
        }
      ]
    },
    {
      "cell_type": "markdown",
      "source": [
        "### (a)"
      ],
      "metadata": {
        "id": "eQ8g8Mxbfse1"
      }
    },
    {
      "cell_type": "code",
      "source": [
        "# Gráfico de datos sobre la columna star_rating\n",
        "df['star_rating'].value_counts(sort=False).reindex(range(1,6)).plot.bar()\n",
        "plt.title('Distribución de puntuación')\n",
        "plt.ylabel('Cantidad')\n",
        "plt.xlabel('Estrellas')\n",
        "plt.show()"
      ],
      "metadata": {
        "colab": {
          "base_uri": "https://localhost:8080/",
          "height": 467
        },
        "id": "s1JswIBENeNt",
        "outputId": "24a4b636-bce4-49bf-d6eb-29a84fa68310"
      },
      "execution_count": 18,
      "outputs": [
        {
          "output_type": "display_data",
          "data": {
            "text/plain": [
              "<Figure size 640x480 with 1 Axes>"
            ],
            "image/png": "[encoded data removed]"
          },
          "metadata": {}
        }
      ]
    },
    {
      "cell_type": "markdown",
      "source": [
        "### (b)"
      ],
      "metadata": {
        "id": "82KqojfGPRck"
      }
    },
    {
      "cell_type": "code",
      "source": [
        "# Creación de columna \"length_of_review\"\n",
        "df['length_of_review'] = df['review_body'] # + df['review_headline']\n",
        "df['length_of_review'] = df['length_of_review'].replace(np.nan, '')\n",
        "df['length_of_review'] = df['length_of_review'].apply(lambda x: len(x))\n",
        "\n",
        "# Reemplazo de \"Y\" por 1 y \"N\" por 0 en la columna \"verified_purchase\"\n",
        "df['verified_purchase'] = df['verified_purchase'].replace('Y', 1)\n",
        "df['verified_purchase'] = df['verified_purchase'].replace('N', 0)"
      ],
      "metadata": {
        "id": "djfrCcFAiRbk"
      },
      "execution_count": 19,
      "outputs": []
    },
    {
      "cell_type": "code",
      "source": [
        "# Separación de conjunto de entrenamiento y testeo\n",
        "X = df[['verified_purchase', 'total_votes', 'length_of_review']]\n",
        "y = df['star_rating']\n",
        "\n",
        "#Escalamos los datos\n",
        "scaler = StandardScaler() \n",
        "X[['total_votes', 'length_of_review']] = scaler.fit_transform(X[['total_votes', 'length_of_review']])\n",
        "\n",
        "\n",
        "X_train, X_test, y_train, y_test = train_test_split(X, y, test_size=0.1, random_state=20470051)"
      ],
      "metadata": {
        "id": "hQRcE4dQfuwz"
      },
      "execution_count": 20,
      "outputs": []
    },
    {
      "cell_type": "code",
      "source": [
        "# Regresión lineal\n",
        "regr = LinearRegression()\n",
        "\n",
        "# fit\n",
        "regr.fit(X_train, y_train)\n",
        "\n",
        "# extraer parámetros del modelo\n",
        "parametros = [regr.intercept_] + list(regr.coef_)\n",
        "print('Coeficientes de la regresión lineal: \\n')\n",
        "for i in range(4):\n",
        "  print(f'theta_{str(i)}: ', parametros[i])\n",
        "\n",
        "# Printeo del ECM\n",
        "print('\\n Error Cuadrático Medio (ECM): \\n')\n",
        "y_pred_train = regr.predict(X_train)\n",
        "y_pred_test = regr.predict(X_test)\n",
        "print('Conjunto de entrenamiento: ', mean_squared_error(y_train, y_pred_train))\n",
        "print('Conjunto de testeo: ', mean_squared_error(y_test, y_pred_test))"
      ],
      "metadata": {
        "colab": {
          "base_uri": "https://localhost:8080/"
        },
        "id": "xxJaeNHWpHo0",
        "outputId": "49659b1b-ea01-4aaf-e150-470dd81376c8"
      },
      "execution_count": 21,
      "outputs": [
        {
          "output_type": "stream",
          "name": "stdout",
          "text": [
            "Coeficientes de la regresión lineal: \n",
            "\n",
            "theta_0:  4.501517491697115\n",
            "theta_1:  0.24918125088952092\n",
            "theta_2:  -0.04580985872401752\n",
            "theta_3:  -0.18402544668759033\n",
            "\n",
            " Error Cuadrático Medio (ECM): \n",
            "\n",
            "Conjunto de entrenamiento:  0.6218960596543702\n",
            "Conjunto de testeo:  0.6713566125549589\n"
          ]
        }
      ]
    },
    {
      "cell_type": "markdown",
      "source": [
        "Estos parámetros $(\\theta_0, \\theta_1, \\theta_2, \\theta_3)$ son el peso que toma cada variable de entrada ($x$) para predecir de mejor forma la variable target ($y$) que en este caso es `star_rating`. Es decir, representan la relación que deben tener en un modelo lineal para ajustar de mejor forma los datos. En este caso, $\\theta_0$ es el intercepto, es decir, el término independiente del modelo lineal.  \n",
        "\n",
        "Con respecto a ECM, como sabemos es una métrica de evaluación con rango en $[0, \\infty]$, donde mientras más cercano al 0, significa que el modelo entrega un mejor resultado sobre sus predicciones con respecto al dato real.  \n",
        "En este caso los ECM en el conjunto de entrenamiento y testeo son similares y están alrededor de 0.6 - 0.7, lo cual es un número poco interpretable sin datos extras. Sin embargo, que los errores en los distintos conjuntos sean similares es una buena señal de que el modelo no tuvo overfitting."
      ],
      "metadata": {
        "id": "JKv5qcf3p8Kv"
      }
    },
    {
      "cell_type": "markdown",
      "source": [
        "### (c)"
      ],
      "metadata": {
        "id": "nSjpA2FoYRXw"
      }
    },
    {
      "cell_type": "code",
      "source": [
        "# Regresión LASSO y Ridge\n",
        "Rho = np.linspace(0, 100, 100)\n",
        "\n",
        "ECM_train_lasso = []\n",
        "ECM_test_lasso = []\n",
        "theta_lasso = []\n",
        "\n",
        "ECM_train_ridge = []\n",
        "ECM_test_ridge = []\n",
        "theta_ridge = []\n",
        "\n",
        "for rho in Rho:\n",
        "  # LASSO\n",
        "  lasso = linear_model.Lasso(alpha=rho)\n",
        "  lasso.fit(X_train, y_train)\n",
        "  y_pred_train = lasso.predict(X_train)\n",
        "  y_pred_test = lasso.predict(X_test)\n",
        "  ECM_train_lasso.append(mean_squared_error(y_train, y_pred_train))\n",
        "  ECM_test_lasso.append(mean_squared_error(y_test, y_pred_test))\n",
        "  theta_lasso.append([lasso.intercept_] + list(lasso.coef_))\n",
        "  # Ridge\n",
        "  ridge = linear_model.Ridge(alpha=rho)\n",
        "  ridge.fit(X_train, y_train)\n",
        "  y_pred_train_r = ridge.predict(X_train)\n",
        "  y_pred_test_r = ridge.predict(X_test)\n",
        "  ECM_train_ridge.append(mean_squared_error(y_train, y_pred_train_r))\n",
        "  ECM_test_ridge.append(mean_squared_error(y_test, y_pred_test_r))\n",
        "  theta_ridge.append([ridge.intercept_] + list(ridge.coef_))\n",
        "\n",
        "# gráfico ECM vs rho\n",
        "# LASSO\n",
        "fig, axs = plt.subplots(1,3)\n",
        "fig.set_size_inches(15,5) \n",
        "axs[0].plot(Rho, ECM_train_lasso, label='ECM training data')\n",
        "axs[0].plot(Rho, ECM_test_lasso, label='ECM test data')\n",
        "axs[0].set_title(r'ECM vs $\\rho$ (LASSO)')\n",
        "axs[0].set_xlabel(r'$\\rho$')\n",
        "axs[0].set_ylabel('ECM')\n",
        "axs[0].legend(loc=\"lower right\")\n",
        "axs[0].grid()\n",
        "#Ridge\n",
        "axs[1].plot(Rho, ECM_train_ridge, label='ECM training data')\n",
        "axs[1].plot(Rho, ECM_test_ridge, label='ECM test data')\n",
        "axs[1].set_title(r'ECM vs $\\rho$ (Ridge)')\n",
        "axs[1].set_xlabel(r'$\\rho$')\n",
        "axs[1].set_ylabel('ECM')\n",
        "axs[1].legend(loc=\"center right\")\n",
        "axs[1].grid()\n",
        "# norma parámetros\n",
        "axs[2].plot(Rho, list(map(lambda x: np.linalg.norm(x), theta_lasso)), label='Norma lasso')\n",
        "axs[2].plot(Rho, list(map(lambda x: np.linalg.norm(x), theta_ridge)), label='Norma ridge')\n",
        "axs[2].set_title(r'Norma $\\theta$ vs $\\rho$')\n",
        "axs[2].set_xlabel(r'$\\rho$')\n",
        "axs[2].set_ylabel('Norma')\n",
        "axs[2].legend(loc=\"center right\")\n",
        "axs[2].grid()\n",
        "plt.show()"
      ],
      "metadata": {
        "colab": {
          "base_uri": "https://localhost:8080/",
          "height": 490
        },
        "id": "f0QiAjPqYaks",
        "outputId": "07c0031f-5a52-4617-a30a-42bdf9ec3dff"
      },
      "execution_count": 22,
      "outputs": [
        {
          "output_type": "display_data",
          "data": {
            "text/plain": [
              "<Figure size 1500x500 with 3 Axes>"
            ],
            "image/png": "[encoded data removed]"
          },
          "metadata": {}
        }
      ]
    },
    {
      "cell_type": "markdown",
      "source": [
        "En el tercer gráfico sobre la norma de los parámetros podemos ver que, en magnitud, son similares para ambos modelos, sin embargo, que dependiendo del valor de $\\rho$, la norma puede tener tendencias a crecer. En este caso, la norma de $\\theta$ para el modelo de Tikhonov es siempre menor al de LASSO."
      ],
      "metadata": {
        "id": "jPUQFrOv8lGB"
      }
    },
    {
      "cell_type": "markdown",
      "source": [
        "### (d)"
      ],
      "metadata": {
        "id": "mkjrtDFsYSaj"
      }
    },
    {
      "cell_type": "markdown",
      "source": [
        "La siguiente celda contiene un modelo polinómico de grado 2 donde, para una entrada tipo $[x,y]$, su formulación matemática es la siguiente:  \n",
        "\n",
        "$ [1,x,y,x^2,y^2,xy] $  \n",
        "\n",
        "Es decir, agrega 6 columnas al modelo que son tomadas en cuenta para su entrenamiento (en la práctica, el método fit_transform agrega otra columna de 1's para ajustar dimensionalidad/bias)"
      ],
      "metadata": {
        "id": "OTMN0WUk-Qbl"
      }
    },
    {
      "cell_type": "code",
      "source": [
        "# definimos el grado del polinomio\n",
        "poly_grade = 2\n",
        "\n",
        "#escalamos los datos\n",
        "X_poly_train = PolynomialFeatures(poly_grade).fit_transform(X_train)\n",
        "X_poly_test = PolynomialFeatures(poly_grade).fit_transform(X_test)\n",
        "\n",
        "#ajustamos el modelo\n",
        "clf = LinearRegression().fit(X_poly_train, y_train)\n",
        "\n",
        "# Printeos de ECM\n",
        "print('Error Cuadrático Medio (ECM): \\n')\n",
        "y_pred_train = clf.predict(X_poly_train)\n",
        "y_pred_test = clf.predict(X_poly_test)\n",
        "print('Conjunto de entrenamiento: ', mean_squared_error(y_train, y_pred_train))\n",
        "print('Conjunto de testeo: ', mean_squared_error(y_test, y_pred_test))"
      ],
      "metadata": {
        "colab": {
          "base_uri": "https://localhost:8080/"
        },
        "id": "KIZg4Lj4uLBG",
        "outputId": "17375981-007e-4c6f-dae9-38a0a54377a2"
      },
      "execution_count": 23,
      "outputs": [
        {
          "output_type": "stream",
          "name": "stdout",
          "text": [
            "Error Cuadrático Medio (ECM): \n",
            "\n",
            "Conjunto de entrenamiento:  0.6099806560126493\n",
            "Conjunto de testeo:  0.6494805819515056\n"
          ]
        }
      ]
    },
    {
      "cell_type": "markdown",
      "source": [
        "### (e)"
      ],
      "metadata": {
        "id": "P54kBxI2YTc1"
      }
    },
    {
      "cell_type": "markdown",
      "source": [
        "A modo de elegir un modelo que resuelva este problema, recomendaría la regresión de Ridge ya que posee menor ECM, lo cual es un buen indicador que el modelo ajusta de mejor forma, notando que en el conjunto de testeo este valor tampoco crece de forma abrupta. Sin embargo, tanto el modelo lineal como de LASSO se escapan con sus métricas, ya que para esta cantidad de datos y tipo de problema todos estos modelos se ajustan de forma similar.  \n",
        "Pensando en el principio de parsimonia, el modelo lineal es también una buena opción.  \n",
        "\n",
        "En caso de usar mayor cantidad de datos, habría que considerar el tiempo de ejecución que pudiésen tener estos algoritmos para tomar en cuenta este factor en la decisión final."
      ],
      "metadata": {
        "id": "Dam4TihB_yTp"
      }
    },
    {
      "cell_type": "markdown",
      "source": [
        "### (f)"
      ],
      "metadata": {
        "id": "cBO0yFj_YUgc"
      }
    },
    {
      "cell_type": "code",
      "source": [
        "# función softmax (sigmoide para reg logistica con 2 clases)\n",
        "def softmax_(x):\n",
        "  \"\"\" A un vector x le calcula la expresión e^x_i / sum_i(e^x_i)\n",
        "    Para cada i.\n",
        "\n",
        "    Parameters\n",
        "    ----------\n",
        "    x : array\n",
        "        Vector al que se calcula la softmax\n",
        "\n",
        "    Returns\n",
        "    -------\n",
        "    array: \n",
        "        vector con softmax aplicado\n",
        "  \"\"\"\n",
        "  return np.exp(x) / np.sum(np.exp(x), axis=1).reshape(-1,1)\n",
        "\n",
        "class MultipleLogRegression:\n",
        "  \"\"\" Clase de Regresión Logística\n",
        "  \"\"\"\n",
        "  def __init__(self, lr=0.001, iter=100, umbral=0.001):\n",
        "    self.lr = lr\n",
        "    self.iter = iter\n",
        "    self.umbral = umbral\n",
        "    self.perdida = []\n",
        "    self.pesos = []\n",
        "\n",
        "  def fit(self, X, Y):\n",
        "    \"\"\" Entrena el objeto creado con os conjuntos de datos X, Y.\n",
        "\n",
        "    Parameters\n",
        "    ----------\n",
        "    X : pandas.DataFrame\n",
        "        Conjunto al que se le aplica la regresión\n",
        "\n",
        "    Y : pandas.DataFrame\n",
        "        Conjunto que indica las clases de los datos en X\n",
        "\n",
        "    Returns\n",
        "    -------\n",
        "    self: \n",
        "        Objeto entrenado\n",
        "    \"\"\"\n",
        "    # Pasarlos a np.array\n",
        "    X = np.array(X)\n",
        "    Y = np.array(Y)\n",
        "    # Clases\n",
        "    self.clases = np.unique(Y)\n",
        "    X = np.insert(X, 0, 1, axis=1) # bias/sesgo\n",
        "    Y = self.one_hot_encoding(Y) # Pasar Y a one-hot-encoding\n",
        "    # Parámetros del modelo\n",
        "    self.pesos = np.zeros((len(self.clases),X.shape[1]))\n",
        "    i = 0\n",
        "    while (i <= self.iter):\n",
        "      # gradiente descendiente\n",
        "      pred = softmax_(np.dot(X, self.pesos.T).reshape(-1,len(self.clases)))\n",
        "      self.perdida.append(-1 * np.mean(Y*np.log(pred)))\n",
        "      error = Y - softmax_(np.dot(X, self.pesos.T).reshape(-1,len(self.clases)))\n",
        "      nuevo = (self.lr * np.dot(error.T, X))\n",
        "      self.pesos = self.pesos + nuevo\n",
        "      i = i+1\n",
        "    return self\n",
        "\n",
        "  def one_hot_encoding(self, Y):\n",
        "    \"\"\" Aplica la técnica one-hot-encoding al conjunto Y.\n",
        "\n",
        "    Parameters\n",
        "    ----------\n",
        "    Y : pandas.DataFrame\n",
        "        Conjunto al que queremos transformar a {0,1}^k\n",
        "        donde k es el número de clases.\n",
        "\n",
        "    Returns\n",
        "    -------\n",
        "    array: \n",
        "        Matriz con cada fila de la forma {0,1}^k\n",
        "    \"\"\"\n",
        "    dicc_clases = {c:i for i,c in enumerate(self.clases)} # diccionario con las clases de Y\n",
        "    return np.eye(len(self.clases))[np.vectorize(lambda c: dicc_clases[c])(Y).reshape(-1)]\n",
        "\n",
        "  def predict(self, X):\n",
        "    \"\"\" Predice las clases a los datos del conjunto X.\n",
        "\n",
        "    Parameters\n",
        "    ----------\n",
        "    X : pandas.DataFrame\n",
        "        Conjunto con los datos de cada feature al cual se le quiere\n",
        "        predecir su clase.\n",
        "\n",
        "    Returns\n",
        "    -------\n",
        "    array: \n",
        "        Matriz con cada predicción sobre su clase\n",
        "    \"\"\"\n",
        "    X = np.array(X) # Pasar X a np.array\n",
        "    X = np.insert(X, 0, 1, axis=1) # bias/sesgo\n",
        "    prob = softmax_(np.dot(X, self.pesos.T).reshape(-1,len(self.clases))) # Vector de probabilidades\n",
        "    pred = np.argmax(prob, axis=1) + 1 # Asignar la máxima probabilidad como la clase elegida\n",
        "    return pred"
      ],
      "metadata": {
        "id": "GemjOvmlaK6P"
      },
      "execution_count": 24,
      "outputs": []
    },
    {
      "cell_type": "code",
      "source": [
        "# Objeto regresión logística\n",
        "regr_lg = MultipleLogRegression()\n",
        "\n",
        "# Entrenamiento\n",
        "regr_lg.fit(X_train,y_train)\n",
        "\n",
        "# Printeos ECM\n",
        "print('Error cuadrático medio (ECM) Regresión Logística Multiclase: \\n')\n",
        "y_pred_train = regr_lg.predict(X_train)\n",
        "y_pred_test = regr_lg.predict(X_test)\n",
        "print('Conjunto de entrenamiento: ', mean_squared_error(y_train, y_pred_train))\n",
        "print('Conjunto de testeo: ', mean_squared_error(y_test, y_pred_test))"
      ],
      "metadata": {
        "id": "cwHL84oi3Xzg",
        "colab": {
          "base_uri": "https://localhost:8080/"
        },
        "outputId": "8f32b452-316b-4906-bf0a-dc7faece276e"
      },
      "execution_count": 25,
      "outputs": [
        {
          "output_type": "stream",
          "name": "stdout",
          "text": [
            "Error cuadrático medio (ECM) Regresión Logística Multiclase: \n",
            "\n",
            "Conjunto de entrenamiento:  0.769269606193201\n",
            "Conjunto de testeo:  0.8186293070806513\n"
          ]
        }
      ]
    },
    {
      "cell_type": "markdown",
      "source": [
        "En la celda anterior se pueden ver los resultados de la regresión logistica construida desde 0. Con respecto al ECM, estos valores son un poco más altos que el de los modelos vistos anteriormente, del orden de 0.1 - 0.3 (probando varios conjuntos).  \n",
        "Esto se puede deber al tipo de modelo que estamos imponiendo a resolver el problema como a la implementación no optimizada que tiene esta regresión logistica pues recordemos que, en los modelos anteriores, estos vienen de librerías expertas en la implementación y optimización.  \n",
        "\n",
        "Es por esto que, para este problema, seguiría recomendando uno de los modelos vistos en las preguntas anteriores."
      ],
      "metadata": {
        "id": "XDIRvgOfA9CB"
      }
    },
    {
      "cell_type": "markdown",
      "source": [
        "### (g)"
      ],
      "metadata": {
        "id": "0A9S9FkSaMRm"
      }
    },
    {
      "cell_type": "markdown",
      "source": [
        "En la teoría, un modelo de regresión es más adecuado que uno de clasificación, meramente por el hecho de que el target en este dataset es `star_rating`, es decir, es un número del 1 al 5. Así, métodos de regresión interpretan fácilmente que un número del estilo 4.8 es más cercano a la predicción del valor 5 que del valor 1.  \n",
        "Recordemos que los modelos de clasificación suelen ser usados con datos categóricos o que posean \"diferencias\" similares, como puede ser clasificar, por ejemplo, si un animal es perro, gato o conejo, ya que no hay \"un animal más cerca que otro\".  \n",
        "\n",
        "Sin embargo, en la práctica, dependiendo de os datos, podemos encontrar escenarios muy distintos. Es así, como a pesar de que en la teoría un modelo es mejor que otro, siempre se deben pensar (y ojalá probar) en ambos métodos."
      ],
      "metadata": {
        "id": "XjYj34b7Dm7D"
      }
    },
    {
      "cell_type": "code",
      "source": [
        "# Pasar .ipynb a html (después pasarlo a .pdf es más lindo)\n",
        "# !jupyter nbconvert --to html /content/Tarea_1_ML\\ \\(1\\).ipynb"
      ],
      "metadata": {
        "id": "W7hHBMKxHF9-"
      },
      "execution_count": 26,
      "outputs": []
    }
  ]
}