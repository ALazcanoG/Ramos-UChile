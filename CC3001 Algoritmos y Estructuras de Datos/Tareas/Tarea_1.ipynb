{
 "cells": [
  {
   "cell_type": "markdown",
   "metadata": {},
   "source": [
    "## Nombre: Arturo Lazcano "
   ]
  },
  {
   "cell_type": "markdown",
   "metadata": {
    "colab_type": "text",
    "id": "_Q2SFIAPOylT"
   },
   "source": [
    "# CC3001 Primavera 2020 Tarea 1\n",
    "\n",
    "## Marcador de tenis\n",
    "\n",
    "### Profesores\n",
    "Sección 1 Benjamín Bustos •\n",
    "Sección 2 Jérémy Barbay •\n",
    "Sección 3 Patricio Poblete / Nelson Baloian\n",
    "\n",
    "![marcador-tenis](https://github.com/ppoblete/CC3001-2020-2-Tareas/blob/master/marcador-tenis.png?raw=1)"
   ]
  },
  {
   "cell_type": "markdown",
   "metadata": {
    "colab_type": "text",
    "id": "IAaBIWKlOylU"
   },
   "source": [
    "El objetivo de esta tarea es que usted implemente un sistema para que el árbitro de un partido de tenis vaya anotando quién gana cada pelota que se juega, y que a partir de esto se lleve actualizado el marcador del juego. Para simplificar, solo se pide llevar el marcador durante un juego, y no para el set ni para el match. También vamos a suponer que los jugadores son \"A\" y \"B\", con \"A\" al servicio. En la cuenta, la primera cifra corresponde a \"A\" y la segunda a \"B\".\n",
    "\n",
    "El marcador en un juego comienza \"0-0\". Luego, con cada pelota ganada va avanzando a \"15\", \"30\", \"40\", \"juego\", pero para ganar el juego hay que tener diferencia de dos pelotas ganadas respecto del oponente, de modo que si se llega a \"40-40\", el siguiente paso es \"ventaja\" y de ahí a \"juego\", si se gana la siguiente pelota, o se vuelve a \"iguales\", si se pierde.\n",
    "\n",
    "El siguiente programa implementa una versión simplificada de esto, en que gana el que primero llega a 3, lo cual serviría para ir contando sets ganados en un partido \"al mejor de 5\":"
   ]
  },
  {
   "cell_type": "code",
   "execution_count": 2,
   "metadata": {
    "colab": {},
    "colab_type": "code",
    "id": "qkl1Tc3YOylV"
   },
   "outputs": [],
   "source": [
    "def marcador(jugadorA, jugadorB):\n",
    "    print(\"Juegan\", jugadorA, \"vs.\", jugadorB)\n",
    "    puntosA=0\n",
    "    puntosB=0\n",
    "    while True:\n",
    "        print(\"Marcador: \", puntosA, \"-\", puntosB)\n",
    "        if puntosA==3 or puntosB==3:\n",
    "            break\n",
    "        x=input(\"Ingrese A o B: \").upper()\n",
    "        if x==\"A\":\n",
    "            puntosA+=1\n",
    "        elif x==\"B\":\n",
    "            puntosB+=1\n",
    "        else:\n",
    "            print(\"Error: jugador desconocido:\", x)\n",
    "    if puntosA==3:\n",
    "        print(\"Gana\", jugadorA)\n",
    "    else:\n",
    "        print(\"Gana\", jugadorB)"
   ]
  },
  {
   "cell_type": "markdown",
   "metadata": {
    "colab_type": "text",
    "id": "uUdBcdbGOylf"
   },
   "source": [
    "Tomando como base este código, escriba a continuación un programa que implemente lo que se pide, y pruébelo con la siguiente secuencia de entrada. El programa debe terminar cuando un jugador gana el juego.\n",
    "\n",
    "```\n",
    "A A B A B B B A A B B B\n",
    "```\n",
    "\n",
    "Además, invente varias otras secuencias y muestre también sus resultados. "
   ]
  },
  {
   "cell_type": "code",
   "execution_count": 1,
   "metadata": {},
   "outputs": [
    {
     "name": "stdout",
     "output_type": "stream",
     "text": [
      "Juegan Federer vs. Nadal\n",
      "Marcador:  0 - 0\n",
      "Ingrese A o B: a\n",
      "Marcador:  15 - 0\n",
      "Ingrese A o B: a\n",
      "Marcador:  30 - 0\n",
      "Ingrese A o B: b\n",
      "Marcador:  30 - 15\n",
      "Ingrese A o B: a\n",
      "Marcador:  40 - 15\n",
      "Ingrese A o B: b\n",
      "Marcador:  40 - 30\n",
      "Ingrese A o B: b\n",
      "Marcador:  40 - 40\n",
      "Ingrese A o B: b\n",
      "Marcador:  40 - Ad\n",
      "Ingrese A o B: a\n",
      "Marcador:  40 - 40\n",
      "Ingrese A o B: a\n",
      "Marcador:  Ad - 40\n",
      "Ingrese A o B: b\n",
      "Marcador:  40 - 40\n",
      "Ingrese A o B: b\n",
      "Marcador:  40 - Ad\n",
      "Ingrese A o B: b\n",
      "Gana Nadal\n"
     ]
    }
   ],
   "source": [
    "def marcadorFinal(jugadorA, jugadorB):\n",
    "    print(\"Juegan\", jugadorA, \"vs.\", jugadorB)\n",
    "    puntosA=0\n",
    "    puntosB=0\n",
    "    while True:\n",
    "        print(\"Marcador: \", puntosA, \"-\", puntosB)\n",
    "        x=input(\"Ingrese A o B: \").upper()\n",
    "        if x==\"A\":\n",
    "            if puntosA==30:\n",
    "                puntosA+=10\n",
    "            elif puntosA==40:\n",
    "                if puntosB==\"Ad\":\n",
    "                    puntosB=40\n",
    "                elif puntosB==40:\n",
    "                    puntosA=\"Ad\"\n",
    "                else:\n",
    "                    print(\"Gana\", jugadorA)\n",
    "                    return\n",
    "            elif puntosA==\"Ad\":\n",
    "                print(\"Gana\", jugadorA)\n",
    "                return\n",
    "            else:\n",
    "                puntosA+=15\n",
    "        elif x==\"B\":\n",
    "            if puntosB==30:\n",
    "                puntosB+=10\n",
    "            elif puntosB==40:\n",
    "                if puntosA==\"Ad\":\n",
    "                    puntosA=40\n",
    "                elif puntosA==40:\n",
    "                    puntosB=\"Ad\"\n",
    "                else:\n",
    "                    print(\"Gana\", jugadorB)\n",
    "                    return\n",
    "            elif puntosB==\"Ad\":\n",
    "                print(\"Gana\", jugadorB)\n",
    "                return\n",
    "            else:\n",
    "                puntosB+=15\n",
    "        else:\n",
    "            print(\"Error: jugador desconocido:\", x)\n",
    "            \n",
    "marcadorFinal(\"Federer\",\"Nadal\")"
   ]
  },
  {
   "cell_type": "code",
   "execution_count": 2,
   "metadata": {},
   "outputs": [
    {
     "name": "stdout",
     "output_type": "stream",
     "text": [
      "Juegan Federer vs. Nadal\n",
      "Marcador:  0 - 0\n",
      "Ingrese A o B: a\n",
      "Marcador:  15 - 0\n",
      "Ingrese A o B: a\n",
      "Marcador:  30 - 0\n",
      "Ingrese A o B: b\n",
      "Marcador:  30 - 15\n",
      "Ingrese A o B: a\n",
      "Marcador:  40 - 15\n",
      "Ingrese A o B: b\n",
      "Marcador:  40 - 30\n",
      "Ingrese A o B: a\n",
      "Gana Federer\n"
     ]
    }
   ],
   "source": [
    "marcadorFinal(\"Federer\",\"Nadal\")"
   ]
  },
  {
   "cell_type": "code",
   "execution_count": 3,
   "metadata": {},
   "outputs": [
    {
     "name": "stdout",
     "output_type": "stream",
     "text": [
      "Juegan Federer vs. Nadal\n",
      "Marcador:  0 - 0\n",
      "Ingrese A o B: a\n",
      "Marcador:  15 - 0\n",
      "Ingrese A o B: a\n",
      "Marcador:  30 - 0\n",
      "Ingrese A o B: b\n",
      "Marcador:  30 - 15\n",
      "Ingrese A o B: b\n",
      "Marcador:  30 - 30\n",
      "Ingrese A o B: x\n",
      "Error: jugador desconocido: X\n",
      "Marcador:  30 - 30\n",
      "Ingrese A o B: a\n",
      "Marcador:  40 - 30\n",
      "Ingrese A o B: n\n",
      "Error: jugador desconocido: N\n",
      "Marcador:  40 - 30\n",
      "Ingrese A o B: b\n",
      "Marcador:  40 - 40\n",
      "Ingrese A o B: a\n",
      "Marcador:  Ad - 40\n",
      "Ingrese A o B: t\n",
      "Error: jugador desconocido: T\n",
      "Marcador:  Ad - 40\n",
      "Ingrese A o B: b\n",
      "Marcador:  40 - 40\n",
      "Ingrese A o B: b\n",
      "Marcador:  40 - Ad\n",
      "Ingrese A o B: r\n",
      "Error: jugador desconocido: R\n",
      "Marcador:  40 - Ad\n",
      "Ingrese A o B: b\n",
      "Gana Nadal\n"
     ]
    }
   ],
   "source": [
    "marcadorFinal(\"Federer\",\"Nadal\")"
   ]
  },
  {
   "cell_type": "code",
   "execution_count": 4,
   "metadata": {},
   "outputs": [
    {
     "name": "stdout",
     "output_type": "stream",
     "text": [
      "Juegan Federer vs. Nadal\n",
      "Marcador:  0 - 0\n",
      "Ingrese A o B: b\n",
      "Marcador:  0 - 15\n",
      "Ingrese A o B: b\n",
      "Marcador:  0 - 30\n",
      "Ingrese A o B: b\n",
      "Marcador:  0 - 40\n",
      "Ingrese A o B: b\n",
      "Gana Nadal\n"
     ]
    }
   ],
   "source": [
    "marcadorFinal(\"Federer\",\"Nadal\")"
   ]
  },
  {
   "cell_type": "markdown",
   "metadata": {},
   "source": [
    "El código de marcadorFinal toma como base el código ya dado usando el while true y la forma en que se pregunta por un jugador y la interacción con el usuario. Por otro lado, el algoritmo es simétrico con respecto a los jugadores A y B, colocándose en todos los casos posibles, ya sea un jugador ganando 40-0, 40-15, 40-30, o teniendo que recurrir a jugar un desempate y se mantiene el uso de \"jugador desconocido\" en caso que no se ingrese A o B.\n",
    "Por último, se muestran ejemplos de posibles juegos y la funcionalidad del algoritmo en cada situación."
   ]
  },
  {
   "cell_type": "markdown",
   "metadata": {
    "colab_type": "text",
    "id": "jzrNv3ZkOylh"
   },
   "source": [
    "## ¿Qué hay que entregar?\n",
    "\n",
    "Usted debe entregar este mismo archivo, modificado de acuerdo a lo que se pide. Haga todos los cambios necesarios para explicar y documentar adecuadamente su código. No olvide poner su nombre."
   ]
  }
 ],
 "metadata": {
  "colab": {
   "name": "Copy of CC3001 2020-2 Tarea 1.ipynb",
   "provenance": []
  },
  "kernelspec": {
   "display_name": "Python 3",
   "language": "python",
   "name": "python3"
  },
  "language_info": {
   "codemirror_mode": {
    "name": "ipython",
    "version": 3
   },
   "file_extension": ".py",
   "mimetype": "text/x-python",
   "name": "python",
   "nbconvert_exporter": "python",
   "pygments_lexer": "ipython3",
   "version": "3.8.3"
  }
 },
 "nbformat": 4,
 "nbformat_minor": 1
}
