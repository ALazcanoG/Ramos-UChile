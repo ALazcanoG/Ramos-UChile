{
 "cells": [
  {
   "cell_type": "markdown",
   "metadata": {},
   "source": [
    "# Nombre: Arturo Lazcano\n",
    "## RUT: 20.470.051-6"
   ]
  },
  {
   "cell_type": "markdown",
   "metadata": {
    "id": "jbGTgr_lRz25"
   },
   "source": [
    "# CC3001 Otoño 2020 Tarea 6: Comparación de métodos de hashing\n"
   ]
  },
  {
   "cell_type": "markdown",
   "metadata": {
    "id": "FW_kdPNBDWMo"
   },
   "source": [
    "Profesores: Sección 1 Benjamin Bustos, Seccion 2 Jérémy Barbay, Sección 3 Patricio Poblete y Nelson Baloian\n"
   ]
  },
  {
   "cell_type": "markdown",
   "metadata": {
    "id": "EO5XDucz1enK"
   },
   "source": [
    "## Temas abordados"
   ]
  },
  {
   "cell_type": "markdown",
   "metadata": {
    "id": "KsQpR5jk1h_y"
   },
   "source": [
    "1. [ ] Hashing Abierto\n",
    "1. [ ] Búsqueda binaria\n"
   ]
  },
  {
   "cell_type": "markdown",
   "metadata": {
    "id": "vbJTCiJ_F6Ff"
   },
   "source": [
    "## Objetivos de aprendizaje\n"
   ]
  },
  {
   "cell_type": "markdown",
   "metadata": {
    "id": "vaHYh8E61d6A"
   },
   "source": [
    "Despues de realizar esta tarea, el alumno debería\n",
    "1. [ ] tener un mejor entendimiento de cómo funciona la técnica de Hashing  en sus modalidad de encadenamiento para resolver colisiones  y cómo se comporta empíricamente;\n"
   ]
  },
  {
   "cell_type": "markdown",
   "metadata": {
    "id": "9rEulNwi1Wnv"
   },
   "source": [
    "## Entrega"
   ]
  },
  {
   "cell_type": "markdown",
   "metadata": {
    "id": "Airlyusam2BK"
   },
   "source": [
    "Entrega: Para que su tarea sea evaluada, ustedes deben entregar una copia de este Python Notebook completado con texto (explicaciones de su trabajo), el código de sus funciones y de sus pruebas (al menos 10 por cada función)."
   ]
  },
  {
   "cell_type": "markdown",
   "metadata": {
    "id": "hxUbupV9DevT"
   },
   "source": [
    "\n",
    "---\n",
    "\n",
    "# Instrucciones"
   ]
  },
  {
   "cell_type": "markdown",
   "metadata": {
    "id": "U2mpd7vX4rty"
   },
   "source": [
    "## Lo pedido"
   ]
  },
  {
   "cell_type": "markdown",
   "metadata": {
    "id": "uMpmFedFPAic"
   },
   "source": [
    "En esta tarea Usted debe implementar y comparar la eficiencia de Hashing con encadenamiento (listas enlazadas), versus búsqueda binaria. Para eso se le pide primero que complete la clase Hashing, que implementa una tabla de hashing que resuelve las colisiones con encadenamiento (puede además definir otras clases auxiliares):"
   ]
  },
  {
   "cell_type": "code",
   "execution_count": 138,
   "metadata": {
    "colab": {
     "base_uri": "https://localhost:8080/"
    },
    "id": "XdOzK3ZzRF0e",
    "outputId": "7d527867-5e0e-4aa6-985c-0f914e7af039"
   },
   "outputs": [
    {
     "name": "stdout",
     "output_type": "stream",
     "text": [
      "6649\n",
      "6740\n",
      "9660\n",
      "4642\n",
      "1870\n",
      "3411\n",
      "7299\n",
      "3484\n",
      "3032\n",
      "6996\n",
      "2037\n",
      "493\n",
      "2097\n",
      "3950\n",
      "3272\n",
      "6668\n",
      "7121\n",
      "3202\n",
      "4509\n",
      "5912\n",
      "2944\n",
      "4396\n",
      "7683\n",
      "9090\n",
      "960\n",
      "9157\n",
      "3304\n",
      "3463\n",
      "1019\n",
      "6908\n",
      "6990\n",
      "3488\n",
      "3585\n",
      "9309\n",
      "417\n",
      "5589\n",
      "7254\n",
      "8079\n",
      "64\n",
      "5899\n",
      "3446\n",
      "9837\n",
      "4127\n",
      "1916\n",
      "8551\n",
      "478\n",
      "692\n",
      "8260\n",
      "999\n",
      "1711\n"
     ]
    }
   ],
   "source": [
    "import random, sympy, numpy\n",
    "# Clase nodo para la creaci+on de listas enlazadas\n",
    "class Nodo:\n",
    "    def __init__(self, info, sgte=None):\n",
    "        self.info=info\n",
    "        self.sgte=sgte\n",
    "# Creación de clase para listas enlazadas con las funciones necesarias\n",
    "class Lista:\n",
    "    def __init__(self):\n",
    "        self.primero=None\n",
    "        \n",
    "    def insertar_al_inicio(self,info):\n",
    "        self.primero=Nodo(info,self.primero)\n",
    "        \n",
    "    # función que recorre una Lista enlazada y busca (si es que está) el valor x \n",
    "    # y retorna las comparaciones hechas en la busqueda (c=comparaciones, c=0 al inicio)    \n",
    "    def recorrer(self,x,c):\n",
    "        aux=None\n",
    "        c+=1 #comparación cuando Nodo.info==x\n",
    "        primero=self.primero\n",
    "        while primero.info!=x:\n",
    "            c+=1\n",
    "            primero=primero.sgte\n",
    "            if type(primero)==type(aux):\n",
    "                break\n",
    "        return c\n",
    "        \n",
    "class Hashing:\n",
    "    def __init__ (self,m):\n",
    "     # Inicializacion de tabla de tamaño m \n",
    "        self.m = m  # tamaño de la tabla\n",
    "        self.p = sympy.randprime(100000,1000000) #Genera un numero primo al azar dentro del rango especificado\n",
    "        self.a = random.randint(1,self.p) # genera un numero entero al azar dentro del rango especificado\n",
    "        self.tabla=numpy.full(m, None, dtype=object) #Crea un arreglo que puede contener objetos (punteros a ellos)\n",
    "\n",
    "    def h(self,x): \n",
    "    # retorna el valor hashing para x = ((a*x)mod PRIME)mod m\n",
    "        return  ((self.a*x)%self.p)%self.m\n",
    "    \n",
    "    def insertar(self,x):\n",
    "    # inserta un elemento en la tabla\n",
    "        if self.tabla[self.h(x)]==None: #caso cuando en el \"casillero\" es None, agrega el número\n",
    "            self.tabla[self.h(x)]=x\n",
    "        elif type(self.tabla[self.h(x)])==Lista: #caso cuando el \"casillero\" ya es una lista enlazada,\n",
    "            self.tabla[self.h(x)].insertar_al_inicio(x) # agrega el elemento a la lista\n",
    "        elif type(self.tabla[self.h(x)])==int: #caso cuando en el \"casillero\" hay solo un número\n",
    "            self.tabla[self.h(x)]=Lista()\n",
    "            self.tabla[self.h(x)].insertar_al_inicio(self.tabla[self.h(x)])\n",
    "            self.tabla[self.h(x)].insertar_al_inicio(x) #crea una lista enlazada con el número anterior\n",
    "                                                        #y el nuevo\n",
    "    \n",
    "    def buscar(self,x):\n",
    "    # retorna el numero de COMPARACIONES que hizo para determinar si  \n",
    "    # x estaba o no en la tabla \n",
    "        if self.tabla[self.h(x)]==None: #si el casillero es None, el numero no está (1 comparacion)\n",
    "            return 1\n",
    "        elif type(self.tabla[self.h(x)])==int and self.tabla[self.h(x)]==x:\n",
    "            return 1 #retorna 1 si en el casillero está el valor x\n",
    "        elif type(self.tabla[self.h(x)])==Lista: # si hay una lista enlazada, recorrerla y ver si está x\n",
    "            return self.tabla[self.h(x)].recorrer(x,0)\n",
    "\n",
    "# a continuacion se prueba el funcionamiento de la funcion de Hashing dada\n",
    "c = Hashing(10000)\n",
    "for i in range(50):\n",
    "    print(c.h(random.randint(1,10000)))"
   ]
  },
  {
   "cell_type": "markdown",
   "metadata": {
    "id": "GLDp2EAxyhVW"
   },
   "source": [
    "Ademas debe modificar la búsqueda binaria (VERSION OPTIMIZADA, descrita en el Capítulo 4 Sección \"Una manera más eficiente de programar la búsqueda binaria\") para que devuelva el número de comparaciones realizadas durante la búsqueda."
   ]
  },
  {
   "cell_type": "code",
   "execution_count": 139,
   "metadata": {
    "id": "qrT1sw8sY2s3"
   },
   "outputs": [],
   "source": [
    "# Búsqueda binaria, versión iterativa y con <=\n",
    "# busca x en el arreglo a y retorna las comparaciones hechas\n",
    "def bbin(x,a):\n",
    "    n=len(a)\n",
    "    i=0\n",
    "    j=n-1\n",
    "    comparaciones=0\n",
    "    while i<j: # conjunto tiene al menos 2 elementos\n",
    "        k=(i+j)//2\n",
    "        if x<=a[k]:\n",
    "            j=k    # x estaría en a[i],...,a[k]\n",
    "            comparaciones+=1\n",
    "        else:\n",
    "            i=k+1  # x estaría en a[k+1],...,a[j]\n",
    "            comparaciones+=1\n",
    "    # al terminar, el conjunto factible se ha reducido a 0 o 1 elemento\n",
    "    # por lo tanto sumamos la última comparación (si está o no el número)\n",
    "    comparaciones+=1 \n",
    "    return comparaciones"
   ]
  },
  {
   "cell_type": "markdown",
   "metadata": {
    "id": "6Wx021sLOVNw"
   },
   "source": [
    "Luego escriba el codigo necesario para realizar los siguientes experimentos y mostrar los resultados en graficos usando *%pylab inline*, como se ha visto en ejemplos en los apuntes del curso: \n",
    "\n",
    "1.   Crear un conjunto de $n=100.000$ numeros enteros únicos (sin repeticion) entre $0$ y $100.000.000$ y ponerlos en un arreglo ordenado y en una tabla de hashing de tamaño $m=10.000$. Para ordenar el arreglo puede usar el método *sort()*.\n",
    "2.   Generar $t=1.000$ números entre $0$ y $100.000.000$ y registrar el número de comparaciones promedio que se obtiene al buscarlos en el arreglo con busqueda binaria ($c1$) y con la tabla de hashing ($c2$).\n",
    "3.   Repetir el experimento anterior para $n$ variable (a lo menos $10$ veces), de modo de encontrar el factor de carga para el cual el los resultados de la busqueda binaria y la busqueda con hashing encadenado en una tabla de tamaño $10.000$ sean iguales. Recuerde que el factor de carga se define como $n/m$, con $n=$ numero de elementos en la tabla, y $m=$ tamaño de la tabla (queda fijo $m =$ 10.000 para esta tarea).\n",
    "4.   Para mostrar gráficamente ese punto, con los resultados de los experimentos pedidos en el punto anterior confeccione un grafico con curvas uniendo los puntos $n$ vs. $c1$ y $n$ vs. $c2$.\n",
    "\n",
    "Recuerde que para graficar curvas en esta plataforma puede hacer lo siguiente:"
   ]
  },
  {
   "cell_type": "code",
   "execution_count": 140,
   "metadata": {},
   "outputs": [
    {
     "name": "stdout",
     "output_type": "stream",
     "text": [
      "Populating the interactive namespace from numpy and matplotlib\n",
      "número de comparaciones (c1,c2):\n"
     ]
    },
    {
     "data": {
      "text/plain": [
       "(17.682, 11.168)"
      ]
     },
     "execution_count": 140,
     "metadata": {},
     "output_type": "execute_result"
    }
   ],
   "source": [
    "%pylab inline\n",
    "import random\n",
    "#creación de array c1 y ordenación\n",
    "c1=random.sample(range(100000001), 100000)\n",
    "c1.sort()\n",
    "#creacion de Hashing de tamaño 10000\n",
    "c2=Hashing(10000)\n",
    "for i in range(100000):\n",
    "    c2.insertar(c2.h(random.randint(1,100000000)))\n",
    "#creación del array t     \n",
    "t=[]\n",
    "for i in range(0,1000):\n",
    "    numero=randint(0,100000000)\n",
    "    t.append(numero)\n",
    "#función que retorna el promedio de comparaciones hechas de busquedas de un número de t, en c1 y c2\n",
    "def promedio_comparaciones(t,c1,c2):\n",
    "    listaCompc1=[] # lista de comparaciones de c1\n",
    "    listaCompc2=[] # lista de comparaciones de c2\n",
    "    for i in t:\n",
    "        listaCompc1.append(bbin(i,c1))\n",
    "        listaCompc2.append(c2.buscar(i)) \n",
    "    def promedio(l): #funcion que calcula el promedio, sin contar los casilleros None\n",
    "        suma=0\n",
    "        divisor=0\n",
    "        for i in l:\n",
    "            if i is not None:\n",
    "                suma+=i\n",
    "                divisor+=1\n",
    "        return suma/divisor\n",
    "    pc1=promedio(listaCompc1)\n",
    "    pc2=promedio(listaCompc2)\n",
    "    return (pc1,pc2)\n",
    "\n",
    "print(\"número de comparaciones (c1,c2):\")\n",
    "promedio_comparaciones(t,c1,c2)"
   ]
  },
  {
   "cell_type": "markdown",
   "metadata": {},
   "source": [
    "# 10 repeticiones del experimento variando n (t constante)"
   ]
  },
  {
   "cell_type": "code",
   "execution_count": 141,
   "metadata": {},
   "outputs": [
    {
     "name": "stdout",
     "output_type": "stream",
     "text": [
      "Populating the interactive namespace from numpy and matplotlib\n",
      "n=50.000 y comparaciones (c1,c2):\n",
      "(16.688, 6.204123711340206)\n",
      "n=25.000 y comparaciones (c1,c2):\n",
      "(15.681, 3.7982885085574574)\n",
      "n=10.000 y comparaciones (c1,c2):\n",
      "(14.367, 1.900990099009901)\n",
      "n=120.000 y comparaciones (c1,c2):\n",
      "(17.901, 13.737)\n",
      "n=150.000 y comparaciones (c1,c2):\n",
      "(18.261, 16.176)\n",
      "n=500.000 y comparaciones (c1,c2):\n",
      "(19.95, 51.504)\n",
      "n=350.000 y comparaciones (c1,c2):\n",
      "(19.496, 35.165)\n",
      "n=250.000 y comparaciones (c1,c2):\n",
      "(18.956, 25.698)\n",
      "n=200.000 y comparaciones (c1,c2):\n",
      "(18.703, 20.757)\n",
      "n=175.000 y comparaciones (c1,c2):\n",
      "(18.52, 18.63)\n"
     ]
    }
   ],
   "source": [
    "%pylab inline\n",
    "import random\n",
    "#arreglos auxiliares para graficar\n",
    "c11=[]\n",
    "c22=[]\n",
    "\n",
    "# n=50.000\n",
    "c1=random.sample(range(100000001), 50000)\n",
    "c1.sort()\n",
    "c2=Hashing(10000)\n",
    "for i in range(50000):\n",
    "    c2.insertar(c2.h(random.randint(1,100000000)))\n",
    "print(\"n=50.000 y comparaciones (c1,c2):\")\n",
    "c11.append(promedio_comparaciones(t,c1,c2)[0])\n",
    "c22.append(promedio_comparaciones(t,c1,c2)[1])\n",
    "print(promedio_comparaciones(t,c1,c2))\n",
    "\n",
    "# n=25.000\n",
    "c1=random.sample(range(100000001), 25000)\n",
    "c1.sort()\n",
    "c2=Hashing(10000)\n",
    "for i in range(25000):\n",
    "    c2.insertar(c2.h(random.randint(1,100000000)))\n",
    "print(\"n=25.000 y comparaciones (c1,c2):\")\n",
    "c11.append(promedio_comparaciones(t,c1,c2)[0])\n",
    "c22.append(promedio_comparaciones(t,c1,c2)[1])\n",
    "print(promedio_comparaciones(t,c1,c2))\n",
    "\n",
    "# n=10.000\n",
    "c1=random.sample(range(100000001), 10000)\n",
    "c1.sort()\n",
    "c2=Hashing(10000)\n",
    "for i in range(10000):\n",
    "    c2.insertar(c2.h(random.randint(1,100000000)))\n",
    "print(\"n=10.000 y comparaciones (c1,c2):\")\n",
    "c11.append(promedio_comparaciones(t,c1,c2)[0])\n",
    "c22.append(promedio_comparaciones(t,c1,c2)[1])\n",
    "print(promedio_comparaciones(t,c1,c2))\n",
    "\n",
    "# n=120.000\n",
    "c1=random.sample(range(100000001), 120000)\n",
    "c1.sort()\n",
    "c2=Hashing(10000)\n",
    "for i in range(120000):\n",
    "    c2.insertar(c2.h(random.randint(1,100000000)))\n",
    "print(\"n=120.000 y comparaciones (c1,c2):\")\n",
    "c11.append(promedio_comparaciones(t,c1,c2)[0])\n",
    "c22.append(promedio_comparaciones(t,c1,c2)[1])\n",
    "print(promedio_comparaciones(t,c1,c2))\n",
    "\n",
    "# n=150.000\n",
    "c1=random.sample(range(100000001), 150000)\n",
    "c1.sort()\n",
    "c2=Hashing(10000)\n",
    "for i in range(150000):\n",
    "    c2.insertar(c2.h(random.randint(1,100000000)))\n",
    "print(\"n=150.000 y comparaciones (c1,c2):\")\n",
    "c11.append(promedio_comparaciones(t,c1,c2)[0])\n",
    "c22.append(promedio_comparaciones(t,c1,c2)[1])\n",
    "print(promedio_comparaciones(t,c1,c2))\n",
    "\n",
    "# n=500.000\n",
    "c1=random.sample(range(100000001), 500000)\n",
    "c1.sort()\n",
    "c2=Hashing(10000)\n",
    "for i in range(500000):\n",
    "    c2.insertar(c2.h(random.randint(1,100000000)))\n",
    "print(\"n=500.000 y comparaciones (c1,c2):\")\n",
    "c11.append(promedio_comparaciones(t,c1,c2)[0])\n",
    "c22.append(promedio_comparaciones(t,c1,c2)[1])\n",
    "print(promedio_comparaciones(t,c1,c2))\n",
    "\n",
    "# n=350.000\n",
    "c1=random.sample(range(100000001), 350000)\n",
    "c1.sort()\n",
    "c2=Hashing(10000)\n",
    "for i in range(350000):\n",
    "    c2.insertar(c2.h(random.randint(1,100000000)))\n",
    "print(\"n=350.000 y comparaciones (c1,c2):\")\n",
    "c11.append(promedio_comparaciones(t,c1,c2)[0])\n",
    "c22.append(promedio_comparaciones(t,c1,c2)[1])\n",
    "print(promedio_comparaciones(t,c1,c2))\n",
    "\n",
    "# n=250.000\n",
    "c1=random.sample(range(100000001), 250000)\n",
    "c1.sort()\n",
    "c2=Hashing(10000)\n",
    "for i in range(250000):\n",
    "    c2.insertar(c2.h(random.randint(1,100000000)))\n",
    "print(\"n=250.000 y comparaciones (c1,c2):\")\n",
    "c11.append(promedio_comparaciones(t,c1,c2)[0])\n",
    "c22.append(promedio_comparaciones(t,c1,c2)[1])\n",
    "print(promedio_comparaciones(t,c1,c2))\n",
    "\n",
    "# n=200.000\n",
    "c1=random.sample(range(100000001), 200000)\n",
    "c1.sort()\n",
    "c2=Hashing(10000)\n",
    "for i in range(200000):\n",
    "    c2.insertar(c2.h(random.randint(1,100000000)))\n",
    "print(\"n=200.000 y comparaciones (c1,c2):\")\n",
    "c11.append(promedio_comparaciones(t,c1,c2)[0])\n",
    "c22.append(promedio_comparaciones(t,c1,c2)[1])\n",
    "print(promedio_comparaciones(t,c1,c2))\n",
    "\n",
    "# n=175.000\n",
    "c1=random.sample(range(100000001), 175000)\n",
    "c1.sort()\n",
    "c2=Hashing(10000)\n",
    "for i in range(175000):\n",
    "    c2.insertar(c2.h(random.randint(1,100000000)))\n",
    "print(\"n=175.000 y comparaciones (c1,c2):\")\n",
    "c11.append(promedio_comparaciones(t,c1,c2)[0])\n",
    "c22.append(promedio_comparaciones(t,c1,c2)[1])\n",
    "print(promedio_comparaciones(t,c1,c2))"
   ]
  },
  {
   "cell_type": "code",
   "execution_count": 142,
   "metadata": {
    "colab": {
     "base_uri": "https://localhost:8080/",
     "height": 300
    },
    "id": "jATntyKxYCOo",
    "outputId": "32c99560-7d95-4fa4-d591-f878edb711eb"
   },
   "outputs": [
    {
     "data": {
      "text/plain": [
       "Text(0, 0.5, 'Comparaciones')"
      ]
     },
     "execution_count": 142,
     "metadata": {},
     "output_type": "execute_result"
    },
    {
     "data": {
      "image/png": "[encoded data removed]",
      "text/plain": [
       "<Figure size 432x288 with 1 Axes>"
      ]
     },
     "metadata": {
      "needs_background": "light"
     },
     "output_type": "display_data"
    }
   ],
   "source": [
    "# Grafico\n",
    "n = [50000, 25000, 10000, 120000, 150000, 500000, 350000, 250000, 200000, 175000]\n",
    "n.sort()\n",
    "c11.sort()\n",
    "c22.sort()\n",
    "plt.plot(n,c11,label='Busqueda Binaria')\n",
    "plt.plot(n,c22,label='Hashing')\n",
    "plt.legend(loc=\"upper left\")\n",
    "plt.title('Promedio de comparaciones en función de n')\n",
    "plt.xlabel('n')\n",
    "plt.ylabel('Comparaciones')"
   ]
  },
  {
   "cell_type": "markdown",
   "metadata": {},
   "source": [
    "# Conclusión:  \n",
    "A través de los experimentos hechos, podemos ver como Hashing es mas eficiente que una busqueda binaria para n relativamente pequeños (tamaño<175.000) y, por el contrario, la busqueda binaria es mucho mas eficiente que el método Hashing para n grandes, y esta eficiencia se nota bastante mientras n se hace más grande.  \n",
    "Por último, dado los 10 experimentos sobre cambiar n, se observa que el factor n/m tal que la cantidad de comparaciones c1 y c2 son relativamente iguales es de 17,5 y es cuando n=175.000 (recordando que m es fijo y m=10.000)"
   ]
  }
 ],
 "metadata": {
  "colab": {
   "collapsed_sections": [],
   "name": "CC3001 Tarea 6 2020-2.ipynb",
   "provenance": []
  },
  "kernelspec": {
   "display_name": "Python 3",
   "language": "python",
   "name": "python3"
  },
  "language_info": {
   "codemirror_mode": {
    "name": "ipython",
    "version": 3
   },
   "file_extension": ".py",
   "mimetype": "text/x-python",
   "name": "python",
   "nbconvert_exporter": "python",
   "pygments_lexer": "ipython3",
   "version": "3.8.3"
  }
 },
 "nbformat": 4,
 "nbformat_minor": 1
}
