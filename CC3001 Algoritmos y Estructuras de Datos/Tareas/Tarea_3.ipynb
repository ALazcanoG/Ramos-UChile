{
 "cells": [
  {
   "cell_type": "markdown",
   "metadata": {},
   "source": [
    "# Nombre: Arturo Lazcano\n",
    "## RUT: 20.470.051-6"
   ]
  },
  {
   "cell_type": "markdown",
   "metadata": {
    "id": "jRX7kOrTBd4u"
   },
   "source": [
    "# CC3001 Primavera 2020 Tarea 3\n",
    "## Multiplicación de Polinomios\n",
    "## Profesores\n",
    "Sección 1 Benjamin Bustos • Sección 2 Jérémy Barbay • Sección 3 Patricio Poblete / Nelson Baloian"
   ]
  },
  {
   "cell_type": "markdown",
   "metadata": {
    "id": "8Kgcb5OWXUOf"
   },
   "source": [
    "El objetivo de esta tarea es implementar y comparar los dos algoritmos de multiplicación de polinomios que aparecen en el apunte: el algoritmo por fuerza bruta y el que utiliza la técnica de diseño \"Dividir para Reinar\", que de acuerdo al análisis realizado toma tiempo $\\Theta(n^{1.59})$. Para esta tarea, los coeficientes a considerar son de tipo entero."
   ]
  },
  {
   "cell_type": "markdown",
   "metadata": {
    "id": "ebFYdxEgXUOh"
   },
   "source": [
    "## Algoritmo cuadrático"
   ]
  },
  {
   "cell_type": "markdown",
   "metadata": {
    "id": "oaVoNSFeXUOn"
   },
   "source": [
    "La función ``multpol`` implementa el algoritmo de multiplicación de polinomios por fuerza bruta, que toma tiempo $\\Theta(n^2)$."
   ]
  },
  {
   "cell_type": "code",
   "execution_count": 39,
   "metadata": {
    "id": "UoZwKb5xBYDF"
   },
   "outputs": [],
   "source": [
    "import numpy as np\n",
    "\n",
    "def multpol(a, b):\n",
    "    '''\n",
    "    multpol: array array -> array\n",
    "    Recibe dos arreglos, a y b, que contienen los coeficientes de los polinomios\n",
    "    (valores enteros), y devuelve un arreglo con los coeficientes resultantes de\n",
    "    multiplicar ambos polinomios. Ambos arreglos deben tener el mismo largo\n",
    "    Ejemplo: \n",
    "    Sea pol1 = [-1, 2, -3, 4] el arreglo que representa al polinomio -1 + 2x -3x**2 + 4x**3\n",
    "    Sea pol2 = [0, 0, 0, 2] el arreglo que representa al polinomio 2x**3\n",
    "    multpol(pol1, pol2) devuelve el arreglo [0, 0, 0, -2, 4, -6, 8], que corresponde al\n",
    "    polinomio -2x**3 + 4x**4 - 6x**5 + 8x**6\n",
    "    '''\n",
    "    n = len(a)\n",
    "    assert len(b) == n\n",
    "    c = np.zeros(2 * n - 1, dtype = int)\n",
    "    for i in range(0, n):\n",
    "        for j in range(0, n):\n",
    "            c[i + j] += a[i] * b[j]\n",
    "    return c\n",
    "\n",
    "# Test\n",
    "pol1 = np.array([-1, 2, -3, 4], dtype = int)\n",
    "pol2 = np.array([0, 0, 0, 2], dtype = int)\n",
    "resultado = np.array([0, 0, 0, -2, 4, -6, 8], dtype = int)\n",
    "assert np.array_equal(multpol(pol1, pol2), resultado)"
   ]
  },
  {
   "cell_type": "code",
   "execution_count": 40,
   "metadata": {
    "colab": {
     "base_uri": "https://localhost:8080/",
     "height": 52
    },
    "id": "nPtSGXDrBxFH",
    "outputId": "453e08a4-4407-4eac-f036-fe8d2118c568"
   },
   "outputs": [
    {
     "data": {
      "text/plain": [
       "array([  2,   1,  -3,  18,  -6,   3, -19,  19,  23,  -9,  19,   0,  -2,\n",
       "         8,   2])"
      ]
     },
     "execution_count": 40,
     "metadata": {},
     "output_type": "execute_result"
    }
   ],
   "source": [
    "multpol(np.array([2, 3, -6, 1, 2, 0, 4, 1], dtype = int), np.array([1, -1, 3, 1, 4, -2, 0, 2], dtype = int))\n"
   ]
  },
  {
   "cell_type": "markdown",
   "metadata": {
    "id": "mBHj75AKXUOw"
   },
   "source": [
    "## Algoritmo basado en Dividir para Reinar"
   ]
  },
  {
   "cell_type": "markdown",
   "metadata": {
    "id": "YPAIVErGXUOw"
   },
   "source": [
    "A continuación, implemente el algoritmo de multiplicación de polinomios que utiliza tres multiplicaciones recursivas, que toma tiempo $\\Theta(n^{1.59})$. Para implementar este algoritmo, puede suponer que el tamaño de los arreglos es siempre una potencia de 2."
   ]
  },
  {
   "cell_type": "code",
   "execution_count": 41,
   "metadata": {
    "id": "3CsXZmu3XUOx"
   },
   "outputs": [],
   "source": [
    "import numpy as np\n",
    "\n",
    "def multpol2(a, b):\n",
    "    '''\n",
    "    multpol2: array array -> array\n",
    "    Recibe dos arreglos, a y b, que contienen los coeficientes de los polinomios\n",
    "    (valores enteros), y devuelve un arreglo con los coeficientes resultantes de\n",
    "    multiplicar ambos polinomios. Utiliza el algoritmo recursivo basado en\n",
    "    Dividir para Reinar visto en catedra, que realiza tres llamados recursivos.\n",
    "    Ambos arreglos deben tener el mismo largo\n",
    "    Ejemplo: \n",
    "    Sea pol1 = [2, 3, -6, 1, 2, 0, 4, 1] el arreglo que representa al\n",
    "    polinomio 2 + 3x - 6x**2 + x**3 + 2x**4 + 4x**6 + x**7\n",
    "    Sea pol2 = [1, -1, 3, 1, 4, -2, 0, 2] el arreglo que representa al\n",
    "    polinomio 1 - x + 3x**2 + x**3 + 4x**4 - 2x**5 + 2x**7\n",
    "    multpol(pol1, pol2) devuelve el arreglo\n",
    "    [2, 1, -3, 18, -6, 3, -19, 19, 23, -9, 19, 0, -2, 8, 2], que corresponde al\n",
    "    polinomio 2 + x - 3x**2 + 18x**3 - 6x**4 + 3x**5 - 19x**6 + 19x**7 + 23x**8 - \n",
    "    9x**9 + 19x**10 - 2x**12 + 8x*13 + 2x**14 \n",
    "    '''\n",
    "    # Implemente su algoritmo aqui\n",
    "    n=len(a)\n",
    "    assert n==len(b)\n",
    "    A1=a[:n//2]\n",
    "    A2=a[n//2:]\n",
    "    B1=b[:n//2]\n",
    "    B2=b[n//2:]\n",
    "    if n==1:\n",
    "        return a*b\n",
    "    elif n==2:\n",
    "        E=a[0]*b[0]\n",
    "        F=a[1]*b[1]\n",
    "        D=(a[0]+a[1])*(b[0]+b[1])\n",
    "        C=np.append(np.append(E,(D-E-F)),F)\n",
    "        return C\n",
    "    else:\n",
    "        E=multpol2(A1,B1)\n",
    "        F=multpol2(A2,B2)\n",
    "        D=multpol2((A1+A2),(B1+B2))\n",
    "        aux0=np.array([0])\n",
    "        C=np.append(np.append(E,aux0),F)\n",
    "        k=(len(E)+1)//2\n",
    "        C[k:(len(C)-k)]+=(D-E-F)\n",
    "        return C\n",
    "    \n",
    "# Tests\n",
    "pol1 = np.array([-1, 2, -3, 4], dtype = int)\n",
    "pol2 = np.array([0, 0, 0, 2], dtype = int)\n",
    "resultado = np.array([0, 0, 0, -2, 4, -6, 8], dtype = int)\n",
    "assert np.array_equal(multpol2(pol1, pol2), resultado)\n",
    "pol1 = np.array([2,3,-6,1,2,0,4,1], dtype = int)\n",
    "pol2 = np.array([1,-1,3,1,4,-2,0,2], dtype = int)\n",
    "resultado = np.array([2, 1, -3, 18, -6, 3, -19, 19, 23, -9, 19, 0, -2, 8, 2], dtype = int)\n",
    "assert np.array_equal(multpol2(pol1, pol2), resultado)"
   ]
  },
  {
   "cell_type": "markdown",
   "metadata": {
    "id": "c13tCF1QB530"
   },
   "source": [
    "Ahora, muestre ejemplos de uso de su función ``multpol2``, mostrando el resultado para al menos cuatro ejemplos distintos de multiplicaciones de polinomios, con grados de polinomios distintos para cada ejemplo."
   ]
  },
  {
   "cell_type": "code",
   "execution_count": 42,
   "metadata": {
    "id": "oLyJICGcB1kt"
   },
   "outputs": [
    {
     "name": "stdout",
     "output_type": "stream",
     "text": [
      "[-72]\n",
      "[-24  66 -36]\n",
      "[  0   0   0   0   0   0   4  23 -22  36  12  -5 -12  -5   2]\n",
      "[ 2  2  4  4 -6  2 -7  3 12  2  7 -3  6 18 18 17 21 26 44 19 15 10  4 40\n",
      " 30 20 10  0  0  0  0]\n"
     ]
    }
   ],
   "source": [
    "# Implemente sus ejemplos de uso aquí\n",
    "# Ejemplo1\n",
    "pol1 = np.array([-24], dtype = int)\n",
    "pol2 = np.array([3], dtype = int)\n",
    "print(multpol2(pol1,pol2))\n",
    "# Ejemplo2\n",
    "pol1 = np.array([-8,6], dtype = int)\n",
    "pol2 = np.array([3,-6], dtype = int)\n",
    "print(multpol2(pol1,pol2))\n",
    "# Ejemplo3\n",
    "pol1 = np.array([1,6,-4,8,5,0,-3,-2], dtype = int)\n",
    "pol2 = np.array([0,0,0,0,0,0,4,-1], dtype = int)\n",
    "print(multpol2(pol1,pol2))\n",
    "# Ejemplo4\n",
    "pol1 = np.array([1,2,3,4,0,0,0,0,4,3,2,1,0,0,0,0], dtype = int)\n",
    "pol2 = np.array([2,-2,2,-2,0,0,1,1,-1,-1,2,4,0,0,0,10], dtype = int)\n",
    "print(multpol2(pol1,pol2))"
   ]
  },
  {
   "cell_type": "markdown",
   "metadata": {
    "id": "xYZGIRf-Dv9W"
   },
   "source": [
    "# Comparación de ambos algoritmos para $n$ grande"
   ]
  },
  {
   "cell_type": "markdown",
   "metadata": {
    "id": "CFw6b1o_XUO3"
   },
   "source": [
    "La función ``%timeit`` de Python permite medir el tiempo tomado para la ejecución de una función. Por ejemplo, el siguiente código genera dos polinomios representados por arreglos aleatorios de tamaño $n$, y luego calcula cuánto demora en ejecutarse la función ``multpol`` para multiplicar ambos polinomios."
   ]
  },
  {
   "cell_type": "code",
   "execution_count": 43,
   "metadata": {
    "colab": {
     "base_uri": "https://localhost:8080/",
     "height": 52
    },
    "id": "umI-Kj97D123",
    "outputId": "ae8f9bc2-638a-4de0-c5c2-437f8821232b"
   },
   "outputs": [
    {
     "name": "stdout",
     "output_type": "stream",
     "text": [
      "297 µs ± 47.1 µs per loop (mean ± std. dev. of 7 runs, 1000 loops each)\n"
     ]
    }
   ],
   "source": [
    "n = 16\n",
    "a = np.random.randint(-10, 10, n)\n",
    "b = np.random.randint(-10, 10, n)\n",
    "%timeit multpol(a,b)"
   ]
  },
  {
   "cell_type": "markdown",
   "metadata": {
    "id": "wsMOkjN9XUO7"
   },
   "source": [
    "Implemente ahora un experimento para descubrir a partir de qué valor de $n$ la función ``multpol2`` es más eficiente que la función ``multpol``. Utilice valores de $n$ que sean potencias de 2 para realizar este experimento. Pruebe con al menos diez valores distintos de $n$."
   ]
  },
  {
   "cell_type": "code",
   "execution_count": 44,
   "metadata": {
    "id": "Kp8IAMvIXUO7"
   },
   "outputs": [
    {
     "name": "stdout",
     "output_type": "stream",
     "text": [
      "Tiempo ejecución multpol (n=2):\n",
      "8.68 µs ± 551 ns per loop (mean ± std. dev. of 7 runs, 100000 loops each)\n",
      "Tiempo ejecución multpol2 (n=2):\n",
      "31 µs ± 4.38 µs per loop (mean ± std. dev. of 7 runs, 10000 loops each)\n",
      "Tiempo ejecución multpol (n=4):\n",
      "23.3 µs ± 3.57 µs per loop (mean ± std. dev. of 7 runs, 10000 loops each)\n",
      "Tiempo ejecución multpol2 (n=4):\n",
      "108 µs ± 6.67 µs per loop (mean ± std. dev. of 7 runs, 10000 loops each)\n",
      "Tiempo ejecución multpol (n=16):\n",
      "310 µs ± 24.9 µs per loop (mean ± std. dev. of 7 runs, 1000 loops each)\n",
      "Tiempo ejecución multpol2 (n=16):\n",
      "1.08 ms ± 47.7 µs per loop (mean ± std. dev. of 7 runs, 1000 loops each)\n",
      "Tiempo ejecución multpol (n=32):\n",
      "1.05 ms ± 32.8 µs per loop (mean ± std. dev. of 7 runs, 1000 loops each)\n",
      "Tiempo ejecución multpol2 (n=32):\n",
      "3.11 ms ± 175 µs per loop (mean ± std. dev. of 7 runs, 100 loops each)\n",
      "Tiempo ejecución multpol (n=64):\n",
      "4.12 ms ± 152 µs per loop (mean ± std. dev. of 7 runs, 100 loops each)\n",
      "Tiempo ejecución multpol2 (n=64):\n",
      "9.2 ms ± 457 µs per loop (mean ± std. dev. of 7 runs, 100 loops each)\n",
      "Tiempo ejecución multpol (n=128):\n",
      "16.3 ms ± 464 µs per loop (mean ± std. dev. of 7 runs, 100 loops each)\n",
      "Tiempo ejecución multpol2 (n=128):\n",
      "26.7 ms ± 651 µs per loop (mean ± std. dev. of 7 runs, 10 loops each)\n",
      "Tiempo ejecución multpol (n=256):\n",
      "64.2 ms ± 2.56 ms per loop (mean ± std. dev. of 7 runs, 10 loops each)\n",
      "Tiempo ejecución multpol2 (n=256):\n",
      "82.2 ms ± 4.4 ms per loop (mean ± std. dev. of 7 runs, 10 loops each)\n",
      "Tiempo ejecución multpol (n=512):\n",
      "263 ms ± 16.9 ms per loop (mean ± std. dev. of 7 runs, 1 loop each)\n",
      "Tiempo ejecución multpol2 (n=512):\n",
      "249 ms ± 19.4 ms per loop (mean ± std. dev. of 7 runs, 1 loop each)\n",
      "Tiempo ejecución multpol (n=1024):\n",
      "1.07 s ± 40.1 ms per loop (mean ± std. dev. of 7 runs, 1 loop each)\n",
      "Tiempo ejecución multpol2 (n=1024):\n",
      "742 ms ± 25.4 ms per loop (mean ± std. dev. of 7 runs, 1 loop each)\n",
      "Tiempo ejecución multpol (n=2048):\n",
      "1.06 s ± 37 ms per loop (mean ± std. dev. of 7 runs, 1 loop each)\n",
      "Tiempo ejecución multpol2 (n=2048):\n",
      "743 ms ± 27.5 ms per loop (mean ± std. dev. of 7 runs, 1 loop each)\n"
     ]
    }
   ],
   "source": [
    "# Implemente su experimento aqui\n",
    "#n=2\n",
    "n = 2\n",
    "a = np.random.randint(-10, 10, n)\n",
    "b = np.random.randint(-10, 10, n)\n",
    "print(\"Tiempo ejecución multpol (n=2):\")\n",
    "%timeit multpol(a,b)\n",
    "a = np.random.randint(-10, 10, n)\n",
    "b = np.random.randint(-10, 10, n)\n",
    "print(\"Tiempo ejecución multpol2 (n=2):\")\n",
    "%timeit multpol2(a,b)\n",
    "#n=4\n",
    "n = 4\n",
    "a = np.random.randint(-10, 10, n)\n",
    "b = np.random.randint(-10, 10, n)\n",
    "print(\"Tiempo ejecución multpol (n=4):\")\n",
    "%timeit multpol(a,b)\n",
    "a = np.random.randint(-10, 10, n)\n",
    "b = np.random.randint(-10, 10, n)\n",
    "print(\"Tiempo ejecución multpol2 (n=4):\")\n",
    "%timeit multpol2(a,b)\n",
    "#n=16\n",
    "n = 16\n",
    "a = np.random.randint(-10, 10, n)\n",
    "b = np.random.randint(-10, 10, n)\n",
    "print(\"Tiempo ejecución multpol (n=16):\")\n",
    "%timeit multpol(a,b)\n",
    "a = np.random.randint(-10, 10, n)\n",
    "b = np.random.randint(-10, 10, n)\n",
    "print(\"Tiempo ejecución multpol2 (n=16):\")\n",
    "%timeit multpol2(a,b)\n",
    "#n=32\n",
    "n = 32\n",
    "a = np.random.randint(-10, 10, n)\n",
    "b = np.random.randint(-10, 10, n)\n",
    "print(\"Tiempo ejecución multpol (n=32):\")\n",
    "%timeit multpol(a,b)\n",
    "a = np.random.randint(-10, 10, n)\n",
    "b = np.random.randint(-10, 10, n)\n",
    "print(\"Tiempo ejecución multpol2 (n=32):\")\n",
    "%timeit multpol2(a,b)\n",
    "#n=64\n",
    "n = 64\n",
    "a = np.random.randint(-10, 10, n)\n",
    "b = np.random.randint(-10, 10, n)\n",
    "print(\"Tiempo ejecución multpol (n=64):\")\n",
    "%timeit multpol(a,b)\n",
    "a = np.random.randint(-10, 10, n)\n",
    "b = np.random.randint(-10, 10, n)\n",
    "print(\"Tiempo ejecución multpol2 (n=64):\")\n",
    "%timeit multpol2(a,b)\n",
    "#n=128\n",
    "n = 128\n",
    "a = np.random.randint(-10, 10, n)\n",
    "b = np.random.randint(-10, 10, n)\n",
    "print(\"Tiempo ejecución multpol (n=128):\")\n",
    "%timeit multpol(a,b)\n",
    "a = np.random.randint(-10, 10, n)\n",
    "b = np.random.randint(-10, 10, n)\n",
    "print(\"Tiempo ejecución multpol2 (n=128):\")\n",
    "%timeit multpol2(a,b)\n",
    "#n=256\n",
    "n = 256\n",
    "a = np.random.randint(-10, 10, n)\n",
    "b = np.random.randint(-10, 10, n)\n",
    "print(\"Tiempo ejecución multpol (n=256):\")\n",
    "%timeit multpol(a,b)\n",
    "a = np.random.randint(-10, 10, n)\n",
    "b = np.random.randint(-10, 10, n)\n",
    "print(\"Tiempo ejecución multpol2 (n=256):\")\n",
    "%timeit multpol2(a,b)\n",
    "#n=512\n",
    "n = 512\n",
    "a = np.random.randint(-10, 10, n)\n",
    "b = np.random.randint(-10, 10, n)\n",
    "print(\"Tiempo ejecución multpol (n=512):\")\n",
    "%timeit multpol(a,b)\n",
    "a = np.random.randint(-10, 10, n)\n",
    "b = np.random.randint(-10, 10, n)\n",
    "print(\"Tiempo ejecución multpol2 (n=512):\")\n",
    "%timeit multpol2(a,b)\n",
    "#n=1024\n",
    "n = 1024\n",
    "a = np.random.randint(-10, 10, n)\n",
    "b = np.random.randint(-10, 10, n)\n",
    "print(\"Tiempo ejecución multpol (n=1024):\")\n",
    "%timeit multpol(a,b)\n",
    "a = np.random.randint(-10, 10, n)\n",
    "b = np.random.randint(-10, 10, n)\n",
    "print(\"Tiempo ejecución multpol2 (n=1024):\")\n",
    "%timeit multpol2(a,b)\n",
    "#n=1024\n",
    "n = 1024\n",
    "a = np.random.randint(-10, 10, n)\n",
    "b = np.random.randint(-10, 10, n)\n",
    "print(\"Tiempo ejecución multpol (n=2048):\")\n",
    "%timeit multpol(a,b)\n",
    "a = np.random.randint(-10, 10, n)\n",
    "b = np.random.randint(-10, 10, n)\n",
    "print(\"Tiempo ejecución multpol2 (n=2048):\")\n",
    "%timeit multpol2(a,b)"
   ]
  },
  {
   "cell_type": "markdown",
   "metadata": {
    "id": "JpI2PGOeXUO_"
   },
   "source": [
    "[Explique los resultados de su experimento en esta celda]  \n",
    "### Conclusión\n",
    "Se probó con 10 números distintos potencias de 2 (2, 4, 16, 32, 64, 128, 256, 512, 1024 y 2048) y se puede observar que desde el número 256 ya existe una diferencia de tiempo entre los dos algoritmos, a favor del método de ``multpol2``. Con este experimento se puede concluir que, a pesar que ``multpol2`` hace efectivamente menos multiplicaciones, el hecho de crear arrays, concatenarlos y sumarlos hace un trabajo considerable pero para números relativamente altos este algoritmo es bastante más eficiente, pues ``multpol`` crece exponencialmente."
   ]
  }
 ],
 "metadata": {
  "colab": {
   "collapsed_sections": [],
   "name": "Copy of Multiplicación de polinomios.ipynb",
   "provenance": []
  },
  "kernelspec": {
   "display_name": "Python 3",
   "language": "python",
   "name": "python3"
  },
  "language_info": {
   "codemirror_mode": {
    "name": "ipython",
    "version": 3
   },
   "file_extension": ".py",
   "mimetype": "text/x-python",
   "name": "python",
   "nbconvert_exporter": "python",
   "pygments_lexer": "ipython3",
   "version": "3.8.3"
  }
 },
 "nbformat": 4,
 "nbformat_minor": 1
}
