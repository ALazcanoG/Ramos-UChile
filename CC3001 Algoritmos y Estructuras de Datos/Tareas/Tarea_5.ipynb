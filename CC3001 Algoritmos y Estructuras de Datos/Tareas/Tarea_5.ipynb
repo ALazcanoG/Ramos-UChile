{
 "cells": [
  {
   "cell_type": "markdown",
   "metadata": {},
   "source": [
    "# Nombre: Arturo Lazcano\n",
    "## RUT: 20.470.051-6"
   ]
  },
  {
   "cell_type": "markdown",
   "metadata": {
    "id": "W264sNBjewyS"
   },
   "source": [
    "# CC3001 Primavera 2020 Tarea 5\n",
    "# Inserción en la raíz en un ABB\n",
    "## Profesores\n",
    "Sección 1 Benjamin Bustos • Sección 2 Jérémy Barbay • Sección 3 Patricio Poblete / Nelson Baloian"
   ]
  },
  {
   "cell_type": "markdown",
   "metadata": {
    "id": "m8Rb6XLFewyT"
   },
   "source": [
    "---\n",
    "\n",
    "# CONTEXTO"
   ]
  },
  {
   "cell_type": "markdown",
   "metadata": {
    "id": "qO1wwYo7ewyW"
   },
   "source": [
    "El algoritmo usual de inserción en un ABB realiza una búsqueda infurctuosa para la nueva llave, y la coloca en el lugar de la hoja en donde termina la búsqueda. Se dice que es una *inserción en las hojas*.\n",
    "\n",
    "Por contraposición, un algoritmo de *inserción en la raíz* deja la nueva llave como raíz del árbol resultante. En el apunte aparece un algoritmo de este tipo basado en *rotaciones*.\n",
    "\n",
    "El objetivo de esta tarea es implementar inserción en la raíz de un ABB usando un algoritmo alternativo, basado en la operación ``cut``(corte).\n",
    "\n",
    "Para comenzar, recordemos esta implementación del algoritmo de inserción usual (inserción en las hojas) adaptada del apunte:"
   ]
  },
  {
   "cell_type": "code",
   "execution_count": 4,
   "metadata": {
    "id": "JLwRwHBdewyX"
   },
   "outputs": [],
   "source": [
    "class Nodoi:\n",
    "    def __init__(self, izq, info, der):\n",
    "        self.izq=izq\n",
    "        self.info=info\n",
    "        self.der=der\n",
    "        \n",
    "    def insert(self,x):\n",
    "        assert x!=self.info\n",
    "        if x<self.info:\n",
    "            return Nodoi(self.izq.insert(x),self.info,self.der)\n",
    "        else:\n",
    "            return Nodoi(self.izq,self.info,self.der.insert(x))\n",
    "        \n",
    "    def __str__(self):\n",
    "        return \"(\"+self.izq.__str__()+str(self.info)+self.der.__str__()+\")\"\n",
    "\n",
    "class Nodoe:\n",
    "    def __init__(self):\n",
    "        pass\n",
    "    \n",
    "    def insert(self,x):\n",
    "        return Nodoi(Nodoe(),x,Nodoe())\n",
    "    \n",
    "    def __str__(self):\n",
    "        return\"☐\"\n",
    "\n",
    "class Arbol:\n",
    "    def __init__(self,raiz=Nodoe()):\n",
    "        self.raiz=raiz     \n",
    "        \n",
    "    def insert(self,x):\n",
    "        self.raiz=self.raiz.insert(x)\n",
    "    \n",
    "    def __str__(self):        \n",
    "        return self.raiz.__str__()"
   ]
  },
  {
   "cell_type": "markdown",
   "metadata": {
    "id": "fDxlhHBPewyd"
   },
   "source": [
    "Probemos este algoritmo con una secuencia de inserciones:"
   ]
  },
  {
   "cell_type": "code",
   "execution_count": 5,
   "metadata": {
    "id": "0MwfhoUwewye",
    "outputId": "7184b5d6-1d41-4e59-93d1-4f43ce67f808"
   },
   "outputs": [
    {
     "name": "stdout",
     "output_type": "stream",
     "text": [
      "(((☐1☐)2(☐3☐))4(((☐5☐)6(☐7(☐8☐)))9☐))\n"
     ]
    }
   ],
   "source": [
    "lista=[4,9,6,2,7,1,8,3,5]\n",
    "a=Arbol()\n",
    "for x in lista:\n",
    "    a.insert(x)\n",
    "print(a)"
   ]
  },
  {
   "cell_type": "markdown",
   "metadata": {
    "id": "0lDD0QD_ewyt"
   },
   "source": [
    "Para definir el algoritmo de inserción en la raíz, definimos primero la operación ``cut(x)``. La idea es la siguiente: dado un árbol $A$ y una llave $x$ que no está en el árbol, el resultado de ejecutar $\\text{cut}(x)$ sobre el árbol $A$ es una tupla $(A_{<x},A_{>x})$, que contiene como primera componente el árbol que contiene solo las llaves que son menores que $x$, y similarmente la segunda componente es el árbol con las llaves mayores que $x$. Por ejemplo:\n",
    "\n",
    "![T5-cut](https://github.com/ppoblete/CC3001-2020-2-Tareas/blob/master/T5-cut.png?raw=1)\n",
    "\n",
    "La operación ``cut(x)`` se puede definir recursivamente:\n",
    "\n",
    "Para el caso de un árbol no vacío con raíz $r$, con $x<r$:\n",
    "\n",
    "![T5-cut2](https://github.com/ppoblete/CC3001-2020-2-Tareas/blob/master/T5-cut2.png?raw=1)\n",
    "\n",
    "El caso $x>r$ es simétrico.\n",
    "\n",
    "El caso de borde es que al hacer ``cut(x)``sobre un nodo ☐, el resultado es una tupla (☐,☐).\n",
    "\n",
    "En base a esta operación ``cut(x)``, es fácil definir una operación ``root_insert(x)``. En efecto, para insertar una nueva llave $x$ en la raíz de un árbol $A$, se hace un corte con $x$ al árbol $A$, y luego se construye el árbol\n",
    "\n",
    "![T5-cut3](https://github.com/ppoblete/CC3001-2020-2-Tareas/blob/master/T5-cut3.png?raw=1)"
   ]
  },
  {
   "cell_type": "markdown",
   "metadata": {
    "id": "rp6tXFp5ewy2"
   },
   "source": [
    "# INSTRUCCIONES"
   ]
  },
  {
   "cell_type": "markdown",
   "metadata": {
    "id": "Oe01FDHAewy3"
   },
   "source": [
    "## Parte 1: ``cut(x)`` y ``root_insert(x)``"
   ]
  },
  {
   "cell_type": "markdown",
   "metadata": {
    "id": "nnmFh7-vewy4"
   },
   "source": [
    "Modifique las clases provistas para agregar la operación ``cut(x)``y la operación ``root_insert(x)``. Escriba acá su código para las clases completas:"
   ]
  },
  {
   "cell_type": "code",
   "execution_count": 11,
   "metadata": {},
   "outputs": [],
   "source": [
    "class Nodoi:\n",
    "    def __init__(self, izq, info, der):\n",
    "        self.izq=izq\n",
    "        self.info=info\n",
    "        self.der=der\n",
    "        \n",
    "    def insert(self,x):\n",
    "        assert x!=self.info\n",
    "        if x<self.info:\n",
    "            return Nodoi(self.izq.insert(x),self.info,self.der)\n",
    "        else:\n",
    "            return Nodoi(self.izq,self.info,self.der.insert(x))\n",
    "    \n",
    "    def root_insert(self,izq,x,der):\n",
    "        assert x!=self.info\n",
    "        return Nodoi(izq,x,der)\n",
    "        \n",
    "    \n",
    "    def __str__(self):\n",
    "        return \"(\"+self.izq.__str__()+str(self.info)+self.der.__str__()+\")\"\n",
    "    \n",
    "\n",
    "class Nodoe:\n",
    "    def __init__(self):\n",
    "        self.info=\"()\"\n",
    "        self.der=()\n",
    "        self.izq=()\n",
    "    \n",
    "    def insert(self,x):\n",
    "        return Nodoi(Nodoe(),x,Nodoe())\n",
    "    \n",
    "    def root_insert(self,izq,der):\n",
    "        return Nodoi()\n",
    "    \n",
    "    def __str__(self):\n",
    "        return\"☐\"\n",
    "    \n",
    "    def root_insert(self,x):\n",
    "        return Nodoi(Nodoe())\n",
    "\n",
    "class Arbol:\n",
    "    def __init__(self,raiz=Nodoe()):\n",
    "        self.raiz=raiz\n",
    "        \n",
    "    def insert(self,x):\n",
    "        self.raiz=self.raiz.insert(x)\n",
    "    \n",
    "    def __str__(self):        \n",
    "        return self.raiz.__str__()\n",
    "    \n",
    "    def recorrer(self):\n",
    "        recorrido=[]\n",
    "        def aux(r):\n",
    "            if r.info==\"()\":\n",
    "                return\n",
    "            recorrido.append(r.info)\n",
    "            aux(r.izq)\n",
    "            aux(r.der)\n",
    "        aux(self.raiz)\n",
    "        borrar=[]\n",
    "        for i in range(0,len(recorrido)):\n",
    "            if recorrido[i]==():\n",
    "                borrar.append(i)\n",
    "        borrar.reverse()\n",
    "        for k in borrar:\n",
    "            recorrido.pop(k)\n",
    "        return recorrido\n",
    "    \n",
    "    def cut(self,x):\n",
    "        r=self.recorrer()\n",
    "        subArboles=([],[])\n",
    "        for i in r:\n",
    "            if i<x:\n",
    "                subArboles[0].append(i)\n",
    "            elif i>x:\n",
    "                subArboles[1].append(i)\n",
    "            else:\n",
    "                print(\"valor x ya existe en el arbol\")\n",
    "        aizq=Arbol()\n",
    "        ader=Arbol()\n",
    "        for i in subArboles[0]:\n",
    "            aizq.insert(i)\n",
    "        for d in subArboles[1]:\n",
    "            ader.insert(d)\n",
    "        return (aizq,ader)\n",
    "    \n",
    "    def root_insert(self,x):\n",
    "        if self.raiz.info==\"()\":\n",
    "            self.raiz=Nodoi(Nodoe(),x,Nodoe())            \n",
    "        else:\n",
    "            SA=self.cut(x)\n",
    "            self.raiz=Nodoi(SA[0].raiz,x,SA[1].raiz)"
   ]
  },
  {
   "cell_type": "markdown",
   "metadata": {
    "id": "2YPnD2MSewy5"
   },
   "source": [
    "## Parte 2: Evaluación experimental"
   ]
  },
  {
   "cell_type": "markdown",
   "metadata": {
    "id": "j0qi8nqJewy6"
   },
   "source": [
    "A continuación, ejecute lo siguiente para probar su implementación:"
   ]
  },
  {
   "cell_type": "code",
   "execution_count": 14,
   "metadata": {
    "id": "h0X001Uqewy7"
   },
   "outputs": [
    {
     "name": "stdout",
     "output_type": "stream",
     "text": [
      "resultado nuevo =  (((☐1☐)2(☐3☐))4(((☐5☐)6(☐7(☐8☐)))9☐))\n",
      "resultado antiguo= (((☐1☐)2(☐3☐))4(((☐5☐)6(☐7(☐8☐)))9☐))\n"
     ]
    }
   ],
   "source": [
    "lista=[4,9,6,2,7,1,8,3,5]\n",
    "a=Arbol()\n",
    "for x in reversed(lista):\n",
    "    a.root_insert(x)\n",
    "print(\"resultado nuevo = \",a)\n",
    "\n",
    "lista=[4,9,6,2,7,1,8,3,5]\n",
    "a=Arbol()\n",
    "for x in lista:\n",
    "    a.insert(x)\n",
    "print(\"resultado antiguo=\",a)"
   ]
  },
  {
   "cell_type": "markdown",
   "metadata": {
    "id": "UX12fMWGewzB"
   },
   "source": [
    "Si todo está bien, el resultado de insertar al lista reversa usando ``root_insert``debería ser igual al obtenido insertando la lista original usando ``insert``."
   ]
  },
  {
   "cell_type": "markdown",
   "metadata": {
    "id": "j3LxIBHAewzE"
   },
   "source": [
    "## ¿Qué hay que entregar?\n",
    "\n",
    "Usted debe entregar este mismo archivo, modificado de acuerdo a lo que se pide. Haga todos los cambios necesarios para explicar y documentar adecuadamente su código. No olvide poner su nombre."
   ]
  }
 ],
 "metadata": {
  "colab": {
   "name": "Copy of CC3001 2020-2 Tarea 5.ipynb",
   "provenance": []
  },
  "kernelspec": {
   "display_name": "Python 3",
   "language": "python",
   "name": "python3"
  },
  "language_info": {
   "codemirror_mode": {
    "name": "ipython",
    "version": 3
   },
   "file_extension": ".py",
   "mimetype": "text/x-python",
   "name": "python",
   "nbconvert_exporter": "python",
   "pygments_lexer": "ipython3",
   "version": "3.8.3"
  }
 },
 "nbformat": 4,
 "nbformat_minor": 1
}
