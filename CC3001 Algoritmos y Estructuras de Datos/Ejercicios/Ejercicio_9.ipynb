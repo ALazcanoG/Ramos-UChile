{
 "cells": [
  {
   "cell_type": "markdown",
   "metadata": {},
   "source": [
    "# Nombre: Arturo Lazcano\n",
    "## RUT: 20.470.051-6"
   ]
  },
  {
   "cell_type": "markdown",
   "metadata": {
    "id": "X-mNQkluccKd"
   },
   "source": [
    "# Ejercicio 9\n",
    "El ejercicio de esta semana corresponde al 6.2 del apunte."
   ]
  },
  {
   "cell_type": "markdown",
   "metadata": {
    "id": "T7ZZCLJ56QXB"
   },
   "source": [
    "### Ejercicio (Número de operaciones *split*)\n",
    "\n",
    "Supongamos que comenzamos con un árbol 2-3 vacío y a continuación insertamos $n$ llaves. El objetivo de este ejercicio es calcular cuántas operaciones *split* se pueden llegar a ejecutar a lo largo de este proceso, en el peor caso.\n",
    "\n",
    "Una manera de acotar este número de operaciones es ver que una inserción puede gatillar la ejecución de $O(\\log{n})$ operaciones *split*, y como son $n$ inserciones, el número total de operaciones *split* es $O(n\\log{n})$.\n",
    "\n",
    "Lo anterior es una cota superior, pero en realidad está muy sobredimensionada.\n",
    "\n",
    "Demuestre que el número total de operaciones *split* ejecutadas al insertar $n$ llaves comenzando con un árbol 2-3 vacío es $O(n)$ en el peor caso. Escriba su demostración en el siguiente recuadro.\n",
    "\n",
    "*Indicación*: Considere el impacto de un *split* sobre el número de nodos del árbol."
   ]
  },
  {
   "cell_type": "markdown",
   "metadata": {
    "id": "N4zB8P-Q6QXB"
   },
   "source": [
    "#### Demostración:\n",
    "\n"
   ]
  },
  {
   "cell_type": "markdown",
   "metadata": {},
   "source": [
    "Siguiendo un poco la indicación, podemos notar que al momento de hacer una inserción al árbol, el peor caso en términos de split, es que la raíz del árbol se divida, y en tal caso la altura aumenta en 1.  \n",
    "Luego, notemos que los peores casos nombrados antes se dan en las inserciones $2^k-1$ con $k\\in \\mathbb{N}$  \n",
    "Así, podemos denotar $k^*=\\left \\lfloor{log(n)}\\right \\rfloor $ como el k maximo tal que $2^{k^*} -1 \\leq n$ con $n$ el número de nodos.  \n",
    "Por último, trabajando un poco el hint, cuando la raíz hace un split, la cantidad de nodos $n$ es igual a la cantidad de inserciones pues ocurrieron todos los splits posibles. Por otro lado, cada split hace que haya 1 nodo extra exceptuando en el peor caso (split en raíz) que hay 2 nodos extras por ende:  \n",
    "Cantidad de Splits (S) = Nodos (n) - Altura del árbol (h)  \n",
    "Donde h es el \"k\" en la expresión $2^k-1=n$ y despejando, $h=log_2(n+1)$ por lo que  \n",
    "$S=n-h=n-log_2(n+1)$ y viendo el orden que toma esto, al ser n el valor predominante, la cantidad de splits en n inserciones tiene $\\mathcal{O}(n)$"
   ]
  }
 ],
 "metadata": {
  "colab": {
   "name": "Ejercicio 9.ipynb",
   "provenance": []
  },
  "kernelspec": {
   "display_name": "Python 3",
   "language": "python",
   "name": "python3"
  },
  "language_info": {
   "codemirror_mode": {
    "name": "ipython",
    "version": 3
   },
   "file_extension": ".py",
   "mimetype": "text/x-python",
   "name": "python",
   "nbconvert_exporter": "python",
   "pygments_lexer": "ipython3",
   "version": "3.8.3"
  }
 },
 "nbformat": 4,
 "nbformat_minor": 1
}
