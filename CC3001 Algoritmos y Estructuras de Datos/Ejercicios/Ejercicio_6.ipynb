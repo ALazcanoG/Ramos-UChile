{
 "cells": [
  {
   "cell_type": "markdown",
   "metadata": {},
   "source": [
    "# Nombre: Arturo Lazcano\n",
    "## Rut: 20.470.051-6"
   ]
  },
  {
   "cell_type": "markdown",
   "metadata": {
    "id": "BNmUUggtK551"
   },
   "source": [
    "# Ejercicio 6\n",
    "Este corresponde al ejercicio 4.2 del apunte."
   ]
  },
  {
   "cell_type": "markdown",
   "metadata": {
    "id": "0WW1OiVbcAB6"
   },
   "source": [
    "Usando la clase Lista, escriba una función que pueda ser invocada como ``L.reversar()``, que al ejecutarse re-enlace los nodos de la lista de modo que queden en el orden opuesto al original, en tiempo lineal en el largo de la lista. Esto debe hacerse solo modificando punteros, sin crear nuevos nodos. Escriba a continuación la definición de la clase ``Lista`` incluyendo la función ``reversar``."
   ]
  },
  {
   "cell_type": "code",
   "execution_count": 37,
   "metadata": {
    "id": "pKaI-X3scAB6"
   },
   "outputs": [],
   "source": [
    "class Nodo:\n",
    "    def __init__(self, info, sgte=None):\n",
    "        self.info=info\n",
    "        self.sgte=sgte\n",
    "\n",
    "\n",
    "class Lista:\n",
    "    def __init__(self):\n",
    "        self.primero=None\n",
    "        \n",
    "    def insertar_al_inicio(self,info):\n",
    "        self.primero=Nodo(info,self.primero)\n",
    "    \n",
    "    def insertar_despues_de(self,p,info): # inserta después de nodo p\n",
    "        p.sgte=Nodo(info,p.sgte)\n",
    "    \n",
    "    def eliminar_al_inicio(self):\n",
    "        assert self.primero is not None\n",
    "        self.primero=self.primero.sgte\n",
    "    \n",
    "    def eliminar_sgte_de(self,p): # elimina el nodo siguiente de p\n",
    "        assert p.sgte is not None\n",
    "        p.sgte=p.sgte.sgte\n",
    "    \n",
    "    def k_esimo(self,k): # retorna k-esimo nodo, o None si fuera de rango\n",
    "        p=self.primero\n",
    "        j=1\n",
    "        while p is not None:\n",
    "            if j==k:\n",
    "                return p\n",
    "            p=p.sgte\n",
    "            j+=1\n",
    "        return None\n",
    "    \n",
    "    def imprimir(self):\n",
    "        p=self.primero\n",
    "        while p is not None:\n",
    "            print(p.info, end=\" \")\n",
    "            p=p.sgte\n",
    "        print()\n",
    "        \n",
    "    def reversar(self):\n",
    "        if (self.primero==None) or (self.primero.sgte==None):\n",
    "            return self.primero\n",
    "        else:\n",
    "            ant=None         \n",
    "            pres=self.primero     \n",
    "            sgte=pres.sgte\n",
    "            while pres is not None:\n",
    "                pres.sgte=ant\n",
    "                ant=pres  \n",
    "                pres=sgte    \n",
    "                if sgte is not None:\n",
    "                    sgte=sgte.sgte\n",
    "            self.primero=ant"
   ]
  },
  {
   "cell_type": "markdown",
   "metadata": {
    "id": "k9as4a5acAGH"
   },
   "source": [
    "Luego pruebe su función:"
   ]
  },
  {
   "cell_type": "code",
   "execution_count": 38,
   "metadata": {},
   "outputs": [
    {
     "name": "stdout",
     "output_type": "stream",
     "text": [
      "42 65 13 44 \n",
      "44 13 65 42 \n"
     ]
    }
   ],
   "source": [
    "L=Lista()\n",
    "L.insertar_al_inicio(44)\n",
    "L.insertar_al_inicio(13)\n",
    "L.insertar_al_inicio(65)\n",
    "L.insertar_al_inicio(42)\n",
    "L.imprimir()\n",
    "L.reversar()\n",
    "L.imprimir()"
   ]
  },
  {
   "cell_type": "markdown",
   "metadata": {
    "id": "uKj_FxuucAGx"
   },
   "source": [
    "A continuación, escriba instrucciones para probar esta función para reversar una lista de largo 0 y una lista de largo 1."
   ]
  },
  {
   "cell_type": "code",
   "execution_count": 39,
   "metadata": {},
   "outputs": [
    {
     "name": "stdout",
     "output_type": "stream",
     "text": [
      "Primera impresión:\n",
      "\n",
      "Segunda impresión:\n",
      "\n"
     ]
    }
   ],
   "source": [
    "L=Lista()\n",
    "print(\"Primera impresión:\")\n",
    "L.imprimir()\n",
    "L.reversar()\n",
    "print(\"Segunda impresión:\")\n",
    "L.imprimir()"
   ]
  },
  {
   "cell_type": "code",
   "execution_count": 40,
   "metadata": {},
   "outputs": [
    {
     "name": "stdout",
     "output_type": "stream",
     "text": [
      "Primera impresión:\n",
      "100 \n",
      "Segunda impresión:\n",
      "100 \n"
     ]
    }
   ],
   "source": [
    "LL=Lista()\n",
    "LL.insertar_al_inicio(100)\n",
    "print(\"Primera impresión:\")\n",
    "LL.imprimir()\n",
    "LL.reversar()\n",
    "print(\"Segunda impresión:\")\n",
    "LL.imprimir()"
   ]
  },
  {
   "cell_type": "code",
   "execution_count": null,
   "metadata": {},
   "outputs": [],
   "source": []
  }
 ],
 "metadata": {
  "colab": {
   "name": "Ejercicio 6.ipynb",
   "provenance": []
  },
  "kernelspec": {
   "display_name": "Python 3",
   "language": "python",
   "name": "python3"
  },
  "language_info": {
   "codemirror_mode": {
    "name": "ipython",
    "version": 3
   },
   "file_extension": ".py",
   "mimetype": "text/x-python",
   "name": "python",
   "nbconvert_exporter": "python",
   "pygments_lexer": "ipython3",
   "version": "3.8.3"
  }
 },
 "nbformat": 4,
 "nbformat_minor": 1
}
