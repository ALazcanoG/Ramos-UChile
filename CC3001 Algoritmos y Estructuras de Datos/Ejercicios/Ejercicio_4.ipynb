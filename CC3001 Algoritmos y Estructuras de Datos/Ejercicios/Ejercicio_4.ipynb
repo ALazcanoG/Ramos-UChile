{
 "cells": [
  {
   "cell_type": "markdown",
   "metadata": {},
   "source": [
    "# Nombre: Arturo Lazcano\n",
    "## Rut: 20.470.051-6"
   ]
  },
  {
   "cell_type": "markdown",
   "metadata": {
    "id": "4VIops-aV51-"
   },
   "source": [
    "# Ejercicio 4\n",
    "Este ejercicio corresponde a los ejercicios 2.1 y 2.3 del apunte."
   ]
  },
  {
   "cell_type": "markdown",
   "metadata": {
    "id": "D6LfPjOY64iH"
   },
   "source": [
    "### P1\n",
    "\n",
    "Resuelva la ecuación homogénea de las Torres de Hanoi:\n",
    "\n",
    "$$\n",
    "\\begin{align}\n",
    "a_n-3a_{n-1}+2a_{n-2}&=0 \\text{ para } n\\ge 2\\\\\n",
    "a_0=0\\\\\n",
    "a_1=1\n",
    "\\end{align}\n",
    "$$"
   ]
  },
  {
   "cell_type": "markdown",
   "metadata": {
    "id": "qjgpN8V564iL"
   },
   "source": [
    "### P2\n",
    "\n",
    "El método del ordenación **Stooge Sort** es un método recursivo que puede describirse de la siguiente manera:\n",
    "\n",
    "* Si el primer elemento es mayor que el último, los intercambiamos\n",
    "* Si hay 3 o más elementos en la lista, entonces:\n",
    "    * Ordenar los primeros 2/3 de la lista recursivamente\n",
    "    * Ordenar los últimos 2/3 de la lista, recursivamente, y\n",
    "    * Ordenar (¡de nuevo!) los primeros 2/3 de la lista.\n",
    "\n",
    "Escriba una ecuación que modele el tiempo de ejecución de Stooge Sort y resuélvala usando el Teorema Maestro."
   ]
  },
  {
   "cell_type": "markdown",
   "metadata": {},
   "source": [
    "# Resolución P1"
   ]
  },
  {
   "cell_type": "markdown",
   "metadata": {},
   "source": [
    "La ecuación dada es lineal y homogénea por lo tanto la ecuación caracteristica está dada por \n",
    "$\\lambda^2-3\\lambda +2=0$  Resolviendo queda:  \n",
    "$\\lambda^2-3\\lambda +2=0$ = $(\\lambda-1)(\\lambda-2)=0$  \n",
    "Por lo cual las soluciones son:\n",
    "$\\lambda_1=1$ y $\\lambda_2=2$  \n",
    "Resolviendo la ecuación original como se vió en clases resulta:  \n",
    "$(*)$ $a_n=A\\lambda_1^n + B\\lambda_2^n$ con $A,B$ constantes.  \n",
    "Para la primera condición inicial se tiene que $ 0=a_0 = A\\lambda_1^0 + B\\lambda_2^0 \\Rightarrow A=-B$  \n",
    "Entonces $(*)$ queda:  $a_n=B\\lambda_2^n - B\\lambda_1^n = B(\\lambda_2^n - \\lambda_1^n)$  \n",
    "  Por último, para la segunda condición inicial se tiene que\n",
    "$ 1=a_1=B(\\lambda_2^1 - \\lambda_1^1) = B(2-1) = B$ entonces $B=1$ y $A=-1$\n",
    "$\\Rightarrow a_n=B(\\lambda_2^n - \\lambda_1^n)=(2^n - 1^n)=2^n-1$"
   ]
  },
  {
   "cell_type": "markdown",
   "metadata": {},
   "source": [
    "# Resolución P2"
   ]
  },
  {
   "cell_type": "markdown",
   "metadata": {},
   "source": [
    "Este método, tal y como esta descrito, realiza 3 subproblemas recursivos (ordenar 2/3 de la lista 3 veces). Esto nos dice que $P=3$.  \n",
    "Como se ordena 2/3 de la lista, el tamaño de cada subproblema es $\\frac{n}{q}=\\frac{2n}{3}$.  \n",
    "Luego, la instrucción de cambiar el primer y último elemento en caso que se necesite, es una comparación básica, es decir, $C=1$ y no hay \"for\" ni funciones recursivas por lo tanto, $r=0$.  \n",
    "Así, por teorema maestro:  \n",
    "$T(n)=3T(\\frac{2n}{3}) + 1$ y como $\\frac{2}{3}^0=1 < 3  \n",
    "\\Rightarrow T(n)=\\Theta(n^{log_q(P)})=\\Theta(n^{log_{\\frac{2}{3}}(3)})$ (Tiempo de ejecución de Stooge Sort)"
   ]
  },
  {
   "cell_type": "code",
   "execution_count": null,
   "metadata": {},
   "outputs": [],
   "source": []
  }
 ],
 "metadata": {
  "colab": {
   "name": "Ejercicio 3.ipynb",
   "provenance": []
  },
  "kernelspec": {
   "display_name": "Python 3",
   "language": "python",
   "name": "python3"
  },
  "language_info": {
   "codemirror_mode": {
    "name": "ipython",
    "version": 3
   },
   "file_extension": ".py",
   "mimetype": "text/x-python",
   "name": "python",
   "nbconvert_exporter": "python",
   "pygments_lexer": "ipython3",
   "version": "3.8.3"
  }
 },
 "nbformat": 4,
 "nbformat_minor": 1
}
