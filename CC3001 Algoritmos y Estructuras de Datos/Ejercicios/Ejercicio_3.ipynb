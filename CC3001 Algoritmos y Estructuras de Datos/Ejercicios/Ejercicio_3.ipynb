{
 "cells": [
  {
   "cell_type": "markdown",
   "metadata": {},
   "source": [
    "## Nombre: Arturo Lazcano\n",
    "### RUT: 20.470.051-6"
   ]
  },
  {
   "cell_type": "markdown",
   "metadata": {
    "colab_type": "text",
    "id": "bYzngFZhMlRG"
   },
   "source": [
    "#### Nota: Este corresponde al ejercicio 1.4 del apunte\n",
    "### Ejercicio 1.4\n",
    "\n",
    "Se le llama \"Camel Case\" a la convención de escribir una frase sin espacios, pero marcando el inicio de cada palabra poniendo su primera letra en mayúscula. Por ejemplo, la frase\n",
    "```\n",
    "\"  Algoritmos y    estructuras de   datos   \"\n",
    "```\n",
    "transformada a Camel Case queda así:\n",
    "```\n",
    "\"AlgoritmosYEstructurasDeDatos\"\n",
    "```\n",
    "\n",
    "Escriba una función que transforme a Camel Case y pruébela:"
   ]
  },
  {
   "cell_type": "code",
   "execution_count": 154,
   "metadata": {
    "colab": {},
    "colab_type": "code",
    "id": "OQSeB6uMMlRG"
   },
   "outputs": [],
   "source": [
    "def CamelCase(s):\n",
    "    \"\"\"Retorna un string conteniendo la versión Camel Case del string s\"\"\"\n",
    "    # Escriba aquí su algoritmo\n",
    "    n=len(s)\n",
    "    # Transformar el string s a lista\n",
    "    L=list(s)\n",
    "    # Arreglo de caso de un string de una letra o str vacío\n",
    "    if n==0:\n",
    "        return s\n",
    "    else:\n",
    "        L[0]=L[0].upper()\n",
    "    # Asignar mayúsculas a cada inicio de palabra\n",
    "    for k in range(1,n):\n",
    "        if L[k]!=' ' and L[k-1]==' ':\n",
    "            L[k]=L[k].upper()\n",
    "    # Deja en minúsculas las letras que están en medio de la palabra\n",
    "    for k in range(1,n):\n",
    "        if L[k]!=' ' and L[k-1]!=' ':\n",
    "            L[k]=L[k].lower()\n",
    "    # Elimina espacios ' ' de la lista\n",
    "    for k in range(0,n):\n",
    "        if L[n-1-k]==' ':\n",
    "            L.pop(n-1-k)\n",
    "    # Para el nuevo largo de la lista, se crea un string vacío y se le agregan las letras\n",
    "    # que hay en cada casilla de la lista\n",
    "    LargoNuevo=len(L)\n",
    "    ccs=''\n",
    "    for i in range(0,LargoNuevo):\n",
    "        string=str(L[i])\n",
    "        ccs+=string\n",
    "    # Retorna el nuevo string creado\n",
    "    return ccs"
   ]
  },
  {
   "cell_type": "code",
   "execution_count": 155,
   "metadata": {
    "colab": {},
    "colab_type": "code",
    "id": "08xbQvFdMlRI"
   },
   "outputs": [
    {
     "name": "stdout",
     "output_type": "stream",
     "text": [
      "AlgoritmosYEstructurasDeDatos\n"
     ]
    }
   ],
   "source": [
    "print(CamelCase(\"    Algoritmos y    estructuras de   datos   \"))"
   ]
  }
 ],
 "metadata": {
  "colab": {
   "name": "Ejercicio 3.ipynb",
   "provenance": []
  },
  "kernelspec": {
   "display_name": "Python 3",
   "language": "python",
   "name": "python3"
  },
  "language_info": {
   "codemirror_mode": {
    "name": "ipython",
    "version": 3
   },
   "file_extension": ".py",
   "mimetype": "text/x-python",
   "name": "python",
   "nbconvert_exporter": "python",
   "pygments_lexer": "ipython3",
   "version": "3.8.3"
  }
 },
 "nbformat": 4,
 "nbformat_minor": 1
}
