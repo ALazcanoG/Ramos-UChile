{
 "cells": [
  {
   "cell_type": "markdown",
   "metadata": {},
   "source": [
    "# Nombre: Arturo Lazcano\n",
    "## RUT: 20.470.051-6"
   ]
  },
  {
   "cell_type": "markdown",
   "metadata": {
    "id": "4VIops-aV51-"
   },
   "source": [
    "# Ejercicio 5\n",
    "Este ejercicio corresponde a los ejercicios 3.1 y 3.2 del apunte."
   ]
  },
  {
   "cell_type": "markdown",
   "metadata": {
    "id": "N-i_DW7Ti46i"
   },
   "source": [
    "### P1\n",
    "\n",
    "Si tenemos dos números complejos\n",
    "\n",
    "$$\n",
    "\\begin{align}\n",
    "u&=a+bi\\\\\n",
    "v&=c+di\n",
    "\\end{align}\n",
    "$$\n",
    "\n",
    "podemos calcular su producto\n",
    "\n",
    "$$\n",
    "uv=(ac-bd)+(ad+bc)i\n",
    "$$\n",
    "\n",
    "haciendo 4 multiplicación de números reales.\n",
    "\n",
    "Encuentre una forma de realizar este cálculo haciendo solo 3 multiplicaciones de números reales."
   ]
  },
  {
   "cell_type": "markdown",
   "metadata": {},
   "source": [
    "# Solución P1"
   ]
  },
  {
   "cell_type": "markdown",
   "metadata": {},
   "source": [
    "<img src=\"p1.jpg\">"
   ]
  },
  {
   "cell_type": "markdown",
   "metadata": {
    "id": "nTvSOs1Ni47F"
   },
   "source": [
    "### P2\n",
    "\n",
    "Si $f_n$ son los números de Fibonacci, demuestre que, para todo $n\\ge 1$,\n",
    "\n",
    "$$\n",
    "\\begin{pmatrix}\n",
    "1 & 1\\\\\n",
    "1 & 0\n",
    "\\end{pmatrix}^n\n",
    "=\n",
    "\\begin{pmatrix}\n",
    "f_{n+1} & f_n \\\\\n",
    "f_n & f_{n-1}\n",
    "\\end{pmatrix}\n",
    "$$"
   ]
  },
  {
   "cell_type": "markdown",
   "metadata": {},
   "source": [
    "# Solución P2"
   ]
  },
  {
   "cell_type": "markdown",
   "metadata": {},
   "source": [
    "<img src=\"p2.jpg\">"
   ]
  }
 ],
 "metadata": {
  "colab": {
   "name": "Ejercicio 5.ipynb",
   "provenance": []
  },
  "kernelspec": {
   "display_name": "Python 3",
   "language": "python",
   "name": "python3"
  },
  "language_info": {
   "codemirror_mode": {
    "name": "ipython",
    "version": 3
   },
   "file_extension": ".py",
   "mimetype": "text/x-python",
   "name": "python",
   "nbconvert_exporter": "python",
   "pygments_lexer": "ipython3",
   "version": "3.8.3"
  }
 },
 "nbformat": 4,
 "nbformat_minor": 1
}
