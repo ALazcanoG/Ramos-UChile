{
 "cells": [
  {
   "cell_type": "markdown",
   "metadata": {},
   "source": [
    "# Nombre: Arturo Lazcano\n",
    "## RUT: 20.470.051-6"
   ]
  },
  {
   "cell_type": "markdown",
   "metadata": {
    "id": "BXqFT59NY5Lg"
   },
   "source": [
    "# Ejercicio 11\n",
    "El ejercicio de esta semana corresponde al 7.1 del apunte."
   ]
  },
  {
   "cell_type": "markdown",
   "metadata": {
    "id": "fDoim_oCGoeD"
   },
   "source": [
    "### Ejercicio (Quicksort con mediana de 3)\n",
    "\n",
    "Modifique el algoritmo Quicksort para que en la fase de partición utilice como pivote a la mediana de 3 elementos elegidos al azar.\n",
    "\n",
    "Para esto, se recomienda modificar el algoritmo de partición de modo que seleccione 3 elementos al azar en el rango $i..j$ y los ordene, dejando en $a[i]$ el mínimo de los 3, en $a[i+1]$ la mediana de los 3 y en $a[j]$ el máximo de los 3. Luego, se aplica el algoritmo de partición ya conocido al segmento $a[i+2],\\ldots,a[j-1]$, con $a[i+1]$ como pivote. Al terminar, el pivote se mueve al centro y se retorna su posición.\n",
    "\n",
    "Otro cambio que se debe hacer es tratar los casos de arreglos de tamaño $0$, $1$ y $2$ como casos de borde, y aplicar ``qsort`` recursivo solo a arreglos de tamaño mayor o igual a 3.\n",
    "\n",
    "En el siguiente recuadro escriba su algoritmo modificado y luego ejecute las instrucciones de prueba del recuadro siguiente."
   ]
  },
  {
   "cell_type": "code",
   "execution_count": 296,
   "metadata": {},
   "outputs": [],
   "source": [
    "import random\n",
    "def quicksort3(a):\n",
    "    qsort(a,0,len(a)-1)\n",
    "\n",
    "def qsort(a,i,j): # ordena a[i],...,a[j]\n",
    "    if len(a[i:j+1])>=3:#i+1<j: # quedan 3 o más elementos por ordenar\n",
    "        k=particion(a,i,j)\n",
    "        qsort(a,i,k-1)\n",
    "        qsort(a,k+1,j)\n",
    "    else: # casos bases del enunciado\n",
    "        if len(a[i:j+1])==2 and a[j]<=a[i]:\n",
    "            (a[j],a[i])=(a[i],a[j])\n",
    "\n",
    "def particion(a,i,j): # particiona a[i],...,a[j], retorna en k posición del pivote\n",
    "    # generación de 3 números al azar k en i..j\n",
    "    k=random.sample(range(i,j+1), 3)\n",
    "    k1=k[0]\n",
    "    k2=k[1]\n",
    "    k3=k[2]\n",
    "    l=[a[k1],a[k2],a[k3]] \n",
    "    l.sort()\n",
    "    L=[(a[k1],k1),(a[k2],k2),(a[k3],k3)] #L es de la forma (a[k_i] , k_i)\n",
    "    L.sort(key=lambda tup: tup[0]) #ordenacion de L con respecto a los a[k_i]\n",
    "    # funcion auxiliar para intercambiar valores en a\n",
    "    def swap(a,L,i,j):\n",
    "        a[i],a[L[0][1]]=a[L[0][1]],a[i]\n",
    "        indice1=list(a).index(L[1][0])\n",
    "        a[i+1],a[indice1]=a[indice1],a[i+1]\n",
    "        indice2=list(a).index(L[2][0])\n",
    "        a[j],a[indice2]=a[indice2],a[j]\n",
    "    swap(a,L,i,j)\n",
    "    s=i+1\n",
    "    #algoritmo conocido de quicksort\n",
    "    for t in range(s,j):\n",
    "        if a[t+1]<=a[i+1]:\n",
    "            (a[s+1],a[t+1])=(a[t+1],a[s+1])\n",
    "            s=s+1\n",
    "    # mover pivote al centro\n",
    "    (a[i+1],a[s])=(a[s],a[i+1])\n",
    "    return s"
   ]
  },
  {
   "cell_type": "code",
   "execution_count": 316,
   "metadata": {
    "id": "mrgB64KvGoeE",
    "outputId": "1fb77f60-6c3f-4744-fd22-ac0673986433"
   },
   "outputs": [
    {
     "name": "stdout",
     "output_type": "stream",
     "text": [
      "[0.18787326 0.52030167 0.16894889 0.29814786 0.09610665 0.81523304\n",
      " 0.73589628 0.85082922 0.76380197 0.61059923 0.38358957 0.11380465]\n",
      "Desordenado\n",
      "[0.09610665 0.11380465 0.16894889 0.18787326 0.29814786 0.38358957\n",
      " 0.52030167 0.61059923 0.73589628 0.76380197 0.81523304 0.85082922]\n",
      "Ordenado\n"
     ]
    }
   ],
   "source": [
    "import numpy as np\n",
    "def chequea_orden(a):\n",
    "    print(\"Ordenado\" if np.all(a[:-1]<=a[1:]) else \"Desordenado\")\n",
    "\n",
    "a= np.random.random(12)\n",
    "print(a)\n",
    "chequea_orden(a)\n",
    "quicksort3(a)\n",
    "print(a)\n",
    "chequea_orden(a)"
   ]
  }
 ],
 "metadata": {
  "colab": {
   "name": "Ejercicio 11.ipynb",
   "provenance": []
  },
  "kernelspec": {
   "display_name": "Python 3",
   "language": "python",
   "name": "python3"
  },
  "language_info": {
   "codemirror_mode": {
    "name": "ipython",
    "version": 3
   },
   "file_extension": ".py",
   "mimetype": "text/x-python",
   "name": "python",
   "nbconvert_exporter": "python",
   "pygments_lexer": "ipython3",
   "version": "3.8.3"
  }
 },
 "nbformat": 4,
 "nbformat_minor": 1
}
