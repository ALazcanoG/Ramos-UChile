{
 "cells": [
  {
   "cell_type": "markdown",
   "metadata": {},
   "source": [
    "# Nombre: Arturo Lazcano\n",
    "## Rut: 20.470.051-6"
   ]
  },
  {
   "cell_type": "markdown",
   "metadata": {
    "id": "AHgyEzjMVM1s"
   },
   "source": [
    "# Ejercicio 10\n",
    "El ejercicio de esta semana corresponde al 6.3 del apunte."
   ]
  },
  {
   "cell_type": "markdown",
   "metadata": {
    "id": "7bVbKqr5FKYP"
   },
   "source": [
    "### Ejercicio 6.3 (Inserciones en una tabla de hashing con Linear Probing)\n",
    "\n",
    "Suponga que se tiene una tabla de hashing con Linear Probing, de tamaño 10, inicialmente vacía, con la función de hashing $h(x) = x \\bmod 10$ (por ejemplo, $h(64)=4$). Muestre en la siguiente tabla el resultado de insertar (a mano) la siguiente secuencia de llaves:\n",
    "\n",
    "```\n",
    "34, 59, 45, 27, 14, 22, 75, 25\n",
    "```"
   ]
  },
  {
   "cell_type": "markdown",
   "metadata": {
    "id": "oaUbnuezFKYP"
   },
   "source": [
    "![EjercicioLinearProbing](https://github.com/ppoblete/AED/blob/master/EjercicioLinearProbing.png?raw=1)\n",
    "\n",
    "Utilizaremos la siguiente función para ver si su respuesta está correcta:"
   ]
  },
  {
   "cell_type": "code",
   "execution_count": 6,
   "metadata": {
    "id": "uRUHSyNUFKYP"
   },
   "outputs": [],
   "source": [
    "def chequea_tabla(lista):\n",
    "    h=0\n",
    "    for x in lista:\n",
    "        h = (h*100+x) % 100000007\n",
    "    print(\"OK\" if h==60375958 else \"Error\")"
   ]
  },
  {
   "cell_type": "markdown",
   "metadata": {
    "id": "RfBezRYOFKYP"
   },
   "source": [
    "En el siguiente recuadro reemplace la lista de ceros por la lista de los elementos resultantes en la tabla. Si un casillero queda vacío, escriba un cero."
   ]
  },
  {
   "cell_type": "markdown",
   "metadata": {},
   "source": [
    "### Respuesta:  \n",
    "La lista sería [25,0,22,0,34,45,14,27,75,59]"
   ]
  },
  {
   "cell_type": "code",
   "execution_count": 7,
   "metadata": {
    "id": "fzteVsIKFKYP",
    "outputId": "202c93e6-d1c7-4a92-b1bf-6c10494ccbf4"
   },
   "outputs": [
    {
     "name": "stdout",
     "output_type": "stream",
     "text": [
      "OK\n"
     ]
    }
   ],
   "source": [
    "chequea_tabla([25,0,22,0,34,45,14,27,75,59])"
   ]
  }
 ],
 "metadata": {
  "colab": {
   "collapsed_sections": [],
   "name": "Ejercicio 10.ipynb",
   "provenance": []
  },
  "kernelspec": {
   "display_name": "Python 3",
   "language": "python",
   "name": "python3"
  },
  "language_info": {
   "codemirror_mode": {
    "name": "ipython",
    "version": 3
   },
   "file_extension": ".py",
   "mimetype": "text/x-python",
   "name": "python",
   "nbconvert_exporter": "python",
   "pygments_lexer": "ipython3",
   "version": "3.8.3"
  }
 },
 "nbformat": 4,
 "nbformat_minor": 1
}
