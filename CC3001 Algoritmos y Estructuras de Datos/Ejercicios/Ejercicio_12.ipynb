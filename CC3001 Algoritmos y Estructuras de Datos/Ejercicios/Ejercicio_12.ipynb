{
 "cells": [
  {
   "cell_type": "markdown",
   "metadata": {},
   "source": [
    "# Nombre: Arturo Lazcano\n",
    "## RUT: 20.470.051-6"
   ]
  },
  {
   "cell_type": "markdown",
   "metadata": {
    "id": "kStNrjIRm7pa"
   },
   "source": [
    "# Ejercicio 12\n",
    "El ejercicio de esta semana corresponde al 7.2 del apunte."
   ]
  },
  {
   "cell_type": "markdown",
   "metadata": {
    "id": "_QHi0tMRN5pI"
   },
   "source": [
    "### Ejercicio (Radix Sort)\n",
    "\n",
    "Ordene el conjunto\n",
    "\n",
    "```\n",
    "    73895\n",
    "    93754\n",
    "    82149\n",
    "    99046\n",
    "    04853\n",
    "    94171\n",
    "    54963\n",
    "    70471\n",
    "    80564\n",
    "    66496\n",
    "```\n",
    "\n",
    "usando Radix Sort. Muestre el estado del conjunto después cada pasada (una pasada consiste en la separación en grupos de acuerdo a los dígitos presentes en la columna que se está procesando, seguida de la concatenación de los grupos resultantes). Recuerde que las columnas se procesan de derecha a izquierda."
   ]
  },
  {
   "cell_type": "markdown",
   "metadata": {},
   "source": [
    "El estado del conjunto despues de cada pasada se printea en el código de abajo :)"
   ]
  },
  {
   "cell_type": "code",
   "execution_count": 84,
   "metadata": {},
   "outputs": [
    {
     "name": "stdout",
     "output_type": "stream",
     "text": [
      "Pasada por la posición 5 (de izquierda a derecha):\n",
      "[94171, 70471, 4853, 54963, 93754, 80564, 73895, 99046, 66496, 82149]\n",
      "Pasada por la posición 4 (de izquierda a derecha):\n",
      "[99046, 82149, 4853, 93754, 54963, 80564, 94171, 70471, 73895, 66496]\n",
      "Pasada por la posición 3 (de izquierda a derecha):\n",
      "[99046, 82149, 94171, 70471, 66496, 80564, 93754, 4853, 73895, 54963]\n",
      "Pasada por la posición 2 (de izquierda a derecha):\n",
      "[70471, 80564, 82149, 93754, 73895, 94171, 4853, 54963, 66496, 99046]\n",
      "Pasada por la posición 1 (de izquierda a derecha):\n",
      "[4853, 54963, 66496, 70471, 73895, 80564, 82149, 93754, 94171, 99046]\n"
     ]
    }
   ],
   "source": [
    "def RadixSort(c): # c=array con números a ordenar\n",
    "    #función para calcular el largo máximo (mayor cant. de digitos) de los números de c\n",
    "    largo=0\n",
    "    for i in c:\n",
    "        if largo<len(str(i)):\n",
    "            largo=len(str(i))\n",
    "    #función auxiliar para transfomrar una lista de números. ej: [12,34]=[[1,2],[3,4]]\n",
    "    # Esta función tambien transforma un número xyz a 0xyz, con la cantidad de 0's necesaria\n",
    "    # para que el largo del numero sea igual que el máximo (en el ejemplo es 4853)\n",
    "    def Lista(c):\n",
    "        L=[]\n",
    "        for i in c: \n",
    "            x=list(map(int,str(i)))\n",
    "            if len(x)<largo:\n",
    "                while len(x)<largo:\n",
    "                    x.insert(0,0)\n",
    "                    L.append(x)\n",
    "            else:\n",
    "                L.append(x)\n",
    "        return L \n",
    "    #función auxiliar que hace el proceso inverso a la función anterior\n",
    "    def ListaP(L):\n",
    "        LP=[]\n",
    "        for e in L:\n",
    "            if len(e)!=0:\n",
    "                LP.append(int(''.join(map(str,e))))\n",
    "        return LP  \n",
    "    #función auxiliar para concatenar la lista de indices auxiliares\n",
    "    def ListaP2(LI):\n",
    "        LP=[]\n",
    "        for e in LI:\n",
    "            if len(e)!=0:\n",
    "                for num in e:\n",
    "                    LP.append(int(''.join(map(str,num))))\n",
    "        return LP  \n",
    "    \n",
    "    L=Lista(c)\n",
    "    def OrdenarPorIndice(L,largo,ListaIndices,indice):\n",
    "        ListaIndices = [[] for _ in range(0,10)] #lista de indices auxiliar (del 0 al 9)\n",
    "        for i in L:\n",
    "            index=i[indice]\n",
    "            ListaIndices[index].append(i) \n",
    "        lp=ListaP2(ListaIndices)\n",
    "        print(lp)\n",
    "        return lp\n",
    "    #función que realiza la ordenación por indice para cada digito de derecha a izquierda\n",
    "    def final(L,largo,ListaIndices):\n",
    "        for indice in range(0,largo):\n",
    "            print(\"Pasada por la posición\",largo-indice,\"(de izquierda a derecha):\")\n",
    "            llpp=OrdenarPorIndice(L,largo,ListaIndices,largo-1-indice)\n",
    "            L=Lista(llpp)\n",
    "            \n",
    "    return final(L,largo,ListaIndices)\n",
    "        \n",
    "c=[73895,93754,82149,99046,4853,94171,54963,70471,80564,66496]\n",
    "RadixSort(c)"
   ]
  }
 ],
 "metadata": {
  "colab": {
   "name": "Ejercicio 12.ipynb",
   "provenance": []
  },
  "kernelspec": {
   "display_name": "Python 3",
   "language": "python",
   "name": "python3"
  },
  "language_info": {
   "codemirror_mode": {
    "name": "ipython",
    "version": 3
   },
   "file_extension": ".py",
   "mimetype": "text/x-python",
   "name": "python",
   "nbconvert_exporter": "python",
   "pygments_lexer": "ipython3",
   "version": "3.8.3"
  }
 },
 "nbformat": 4,
 "nbformat_minor": 1
}
