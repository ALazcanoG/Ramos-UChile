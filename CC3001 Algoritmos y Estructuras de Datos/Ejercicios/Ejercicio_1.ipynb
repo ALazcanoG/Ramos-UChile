{
  "nbformat": 4,
  "nbformat_minor": 0,
  "metadata": {
    "colab": {
      "name": "Ejercicios.ipynb",
      "provenance": []
    },
    "kernelspec": {
      "name": "python3",
      "display_name": "Python 3"
    }
  },
  "cells": [
    {
      "cell_type": "markdown",
      "metadata": {
        "id": "sF44_5t993ND",
        "colab_type": "text"
      },
      "source": [
        "La función maximo hace  n−1  comparaciones de elementos para encontrar el máximo de un conjunto de tamaño  n .\n",
        "\n",
        "Supongamos que se desea escribir una función minmax que al ser llamada con una lista de números, retorne un par ordenado (tupla) (min,max), con el mínimo y el máximo elemento del conjunto, respectivamente. Escriba a continuación esa función haciendo dos pasadas sobre los datos: una para encontrar el mínimo y otra para encontrar el máximo, y pruébela sobre una lista de ejemplo."
      ]
    },
    {
      "cell_type": "code",
      "metadata": {
        "id": "6GuJjkaz-8NO",
        "colab_type": "code",
        "colab": {
          "base_uri": "https://localhost:8080/",
          "height": 34
        },
        "outputId": "546f14d5-4b30-4c14-adf1-3c4d1f5ea6e6"
      },
      "source": [
        "def minmax(a):\n",
        "    # escribir la función aquí\n",
        "    minimo=a[0]\n",
        "    for k in range(1,len(a)):\n",
        "      if a[k]<minimo:\n",
        "        minimo=a[k]\n",
        "    #proceso análogo pero cambiando la variable a maximo\n",
        "    maximo=a[0]\n",
        "    for i in range(1,len(a)):\n",
        "      if a[i]>maximo:\n",
        "        maximo=a[i]\n",
        "    \n",
        "    return(minimo,maximo)\n",
        "\n",
        "#Este algoritmo realiza 2n-2 comparaciones para encontrar el mín y el máx\n",
        "\n",
        "# Probarla acá\n",
        "minmax([45,21,34,67,55,89,44,12])"
      ],
      "execution_count": 46,
      "outputs": [
        {
          "output_type": "execute_result",
          "data": {
            "text/plain": [
              "(12, 89)"
            ]
          },
          "metadata": {
            "tags": []
          },
          "execution_count": 46
        }
      ]
    },
    {
      "cell_type": "markdown",
      "metadata": {
        "id": "uuM8yxFoQawT",
        "colab_type": "text"
      },
      "source": [
        "La función anterior debería hacer  2n−2  comparaciones de elementos ( 2n−3  si se evita comparar el elemento seleccionado en la primera pasada). ¿Será posible encontrar el mínimo y el máximo haciendo muchas menos comparaciones?\n",
        "\n",
        "¡La respuesta es que sí! Veámoslo con un ejemplo. Para simplificar, supongamos que la lista es de largo par:\n",
        "\n",
        "[45,21,34,67,55,89,44,12] \n",
        "\n",
        "Luego comparemos cada elemento que está en una posición par con su vecino de la derecha, e intercambiémoslos de modo que el par quede en orden ascendente (recuerde que las posiciones comienzan desde cero):\n",
        "\n",
        "[21,45,34,67,55,89,12,44] \n",
        "\n",
        "Luego hagamos una pasada solo sobre las posiciones pares para encontrar el mínimo ( 12 ), y otra pasada solo entre las posiciones impares para encontrar el máximo ( 89 ). ¡Listo!\n",
        "\n",
        "Programe este nuevo algoritmo, pruébelo y diga cuántas comparaciones hace en total."
      ]
    },
    {
      "cell_type": "code",
      "metadata": {
        "id": "1Nlw7cG_Hyh6",
        "colab_type": "code",
        "colab": {
          "base_uri": "https://localhost:8080/",
          "height": 51
        },
        "outputId": "cea1cbd5-e243-42cc-89cb-6114a9345556"
      },
      "source": [
        "def minmax2(a):\n",
        "    # escribir la función aquí\n",
        "#orden de pares ascendente en la lista\n",
        "    #caso largo de lista par\n",
        "    if len(a)%2==0:\n",
        "      for k in range(0, len(a), 2):\n",
        "        if a[k]>a[k+1]:    \n",
        "          a[k],a[k+1]=a[k+1],a[k]\n",
        "    #caso largo de lista impar\n",
        "    else:\n",
        "      for k in range(0, len(a)-1, 2):\n",
        "        if a[k]>a[k+1]:  \n",
        "          a[k],a[k+1]=a[k+1],a[k]\n",
        "    minimo=a[0]\n",
        "    #recorrido posiciones pares\n",
        "    for i in range(0,len(a),2):\n",
        "      if a[i]<minimo:\n",
        "        minimo=a[i]\n",
        "    maximo=a[0]\n",
        "    #recorrido posiciones impares\n",
        "    for i in range(1, len(a),2):\n",
        "      if a[i]>maximo:\n",
        "        maximo=a[i]\n",
        "    #comparación del maximo con el último valor de la lista impar que no recorre el for anterior\n",
        "    if maximo<a[len(a)-1]:\n",
        "      maximo=a[len(a)-1]\n",
        "    return(minimo,maximo)\n",
        "\n",
        "#Este algoritmo realiza (3n/2)-2 comparaciones cuando la lista es de largo par\n",
        "#Y realiza (3n-3)/2 comparaciones cuando la lista es de largo impar\n",
        "\n",
        "# Probarla acá\n",
        "ejemplo1=minmax2([45,21,34,67,55,89,44,12]) #lista par\n",
        "ejemplo2=minmax2([12,5,19,86,57,66,33,23,94]) #lista impar\n",
        "print(ejemplo1)\n",
        "print(ejemplo2)"
      ],
      "execution_count": 47,
      "outputs": [
        {
          "output_type": "stream",
          "text": [
            "(12, 89)\n",
            "(5, 94)\n"
          ],
          "name": "stdout"
        }
      ]
    },
    {
      "cell_type": "markdown",
      "metadata": {
        "id": "NnK9VnYIQBBR",
        "colab_type": "text"
      },
      "source": [
        "Como se menciona en un comentario del algoritmo, el primer minmax realiza $2n-2$ comparaciones para encontrar el resultado, mientras que su versión optimizada realiza $(3n/2)-2$ comparaciones en caso que la lista sea de largo par, y $(3n-3)/2$ en caso de ser de largo impar (esto pues al ordenar la lista de largo impar el último valor no se toma en cuenta por lo que hay que realizar una comparación con respecto a este).\n"
      ]
    }
  ]
}