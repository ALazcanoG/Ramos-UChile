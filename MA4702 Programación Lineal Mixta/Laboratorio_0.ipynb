{
 "cells": [
  {
   "cell_type": "markdown",
   "metadata": {},
   "source": [
    "# Laboratorio 00\n",
    "### Curso MA4702 año 2021\n",
    "### Profesores Iván Rapaport y José Soto \n",
    "\n",
    "Este es un laboratorio de prueba en el cual usaremos parte del tiempo para usar zoom en grupos, para que puedan trabajar en escribir y resolver modelos, y finalmente puedan entender el proceso de entrega.\n",
    "\n",
    "Este laboratorio no tiene evaluación asociada pero si una entrega al final del mismo. \n",
    "Si bien la entrega no se evaluará, preocúpense de hacerla bien pues les puede servir de base para futuros laboratorios.\n",
    "En particular, la tarea 1 que se mandará el día lunes hará uso de las funciones que cree hoy en el laboratorio.\n",
    "\n",
    "Debe ingresar al zoom con su nombre y apellido tal como aparece en la lista de integrantes del curso (no se permiten nicknames o abreviaciones en el nombre durante los laboratorio).\n",
    "\n",
    "La primera parte del laboratorio consiste en una descripción global del mismo y una prueba del sistema de asignación aleatoria de zoom en grupos.\n",
    "\n",
    "\n"
   ]
  },
  {
   "cell_type": "markdown",
   "metadata": {},
   "source": [
    "## 1. Instrucciones.\n",
    "\n",
    "* Complete la celda \"2. Datos grupo\".\n",
    "* Lea el enunciado.\n",
    "* Complete los ejercicios 1, 2, 3, 4 y 5 (hasta donde alcanze)\n",
    "* (Recomendamos que uno de los integrantes del grupo mantenga la versión oficial de su grupo, el resto\n",
    "  puede ejecutar celdas de prueba en sus propios Jupiter, cambiando el orden, etc)\n",
    "* Antes de entregar, en el menú de Jupyter ejecute Kernel -> Restart and Run All. \n",
    "* Esto correrá todas las celdas del archivo en orden (puede tomar algo de tiempo)\n",
    "* Guarde una copia del archivo .ipynb luego de esto. Eso es lo que debe entregar.\n",
    "* Un representante del grupo debe subir el archivo .ipynb por el modulo de tareas de ucursos en la tarea: \n",
    "  Laboratorio de diagnostico.\n",
    "* Plazo de entrega:  Miércoles 31 de marzo a las 18:00"
   ]
  },
  {
   "cell_type": "markdown",
   "metadata": {},
   "source": [
    "## 2. Datos grupo\n",
    "\n",
    "Grupo: 06\n",
    "\n",
    "Integrantes:\n",
    "- Arturo Lazcano\n",
    "- Felipe Urrutia\n",
    "- Francisco Maldonado\n",
    "- Sebastián Cobaise"
   ]
  },
  {
   "cell_type": "markdown",
   "metadata": {},
   "source": [
    "# 3 Preparacion\n",
    "\n",
    "Antes de empezar a trabajar asegurese de tener los siguientes paquetes instalados\n",
    "JuMP, Gurobi, CSV, Combinatorics\n",
    "y luego llameslo con el comando ``using``"
   ]
  },
  {
   "cell_type": "code",
   "execution_count": 1,
   "metadata": {},
   "outputs": [],
   "source": [
    "import Pkg\n",
    "\n",
    "#Pkg.add(\"JuMP\")\n",
    "#Pkg.add(\"Gurobi\")\n",
    "#Pkg.add(\"CSV\")\n",
    "#Pkg.add(\"Combinatorics\")\n",
    "#Pkg.add(\"DataFrames\")\n",
    "\n",
    "# Nota: Luego de instalar estos paquetes\n",
    "# comente todas las lineas anteriores para que no\n",
    "# vuelvan a cargarse cuando ejecute el archivo nuevamente\n",
    "\n",
    "using JuMP, Gurobi, CSV, Combinatorics, DataFrames"
   ]
  },
  {
   "cell_type": "markdown",
   "metadata": {},
   "source": [
    "\n",
    "# 4. Lectura de grafos de un archivo.\n",
    "\n",
    "\n",
    "\n",
    "En este laboratorio usaremos una estructura simple para grafos:\n",
    "\n",
    "> Llamaremos ``N`` al número de vértices del grafo. Supondremos que sus vértices son elementos de ``1:N`` y que los pesos son valores enteros (esto es para evitar trabajar con decimales en los datos).\n",
    ">\n",
    "> Las aristas serán arreglos de objetos de 2 elementos ``[i,j]`` donde ``i<j``. Estarán en un arreglo ``E``.\n",
    ">\n",
    "> ``w`` será una diccionario tal que ``w[e]`` tiene el valor de w[e]\n",
    ">\n",
    "> (Note que si quiere acceder al peso de [1, 2] por ejemplo, debe escribir w[ [1, 2] ]\n",
    "\n",
    "La siguiente funcion recibe un archivo .csv (tipo estándar para recibir datos) que corresponde a una tabla con 3 columnas de datos donde la primera fila es de la forma N 0 0 y el resto son cero o mas lineas con valores i j w"
   ]
  },
  {
   "cell_type": "code",
   "execution_count": 2,
   "metadata": {},
   "outputs": [
    {
     "data": {
      "text/plain": [
       "leegrafo (generic function with 1 method)"
      ]
     },
     "execution_count": 2,
     "metadata": {},
     "output_type": "execute_result"
    }
   ],
   "source": [
    "function leegrafo(archivocsv)\n",
    "    M=Matrix(CSV.read(archivocsv, DataFrame, header=0))\n",
    "    N=M[1,1]\n",
    "    w=Dict{Array{Int64,1},Int64}()\n",
    "    for i in 2:size(M,1)\n",
    "        e=[M[i,1],M[i,2]]\n",
    "        w[e]=M[i,3]\n",
    "    end\n",
    "    E=sort(collect(keys(w)))\n",
    "return N,E,w\n",
    "end"
   ]
  },
  {
   "cell_type": "code",
   "execution_count": 3,
   "metadata": {},
   "outputs": [
    {
     "name": "stdout",
     "output_type": "stream",
     "text": [
      "E = [[1, 2], [1, 3], [1, 6], [1, 8], [2, 3], [2, 5], [3, 4], [3, 8], [4, 5], [4, 7], [4, 8], [5, 6], [5, 7], [6, 7], [7, 8]]\n"
     ]
    },
    {
     "data": {
      "text/plain": [
       "15-element Array{Array{Int64,1},1}:\n",
       " [1, 2]\n",
       " [1, 3]\n",
       " [1, 6]\n",
       " [1, 8]\n",
       " [2, 3]\n",
       " [2, 5]\n",
       " [3, 4]\n",
       " [3, 8]\n",
       " [4, 5]\n",
       " [4, 7]\n",
       " [4, 8]\n",
       " [5, 6]\n",
       " [5, 7]\n",
       " [6, 7]\n",
       " [7, 8]"
      ]
     },
     "execution_count": 3,
     "metadata": {},
     "output_type": "execute_result"
    }
   ],
   "source": [
    "N,E,w=leegrafo(\"grafo1.csv\")\n",
    "@show(E)"
   ]
  },
  {
   "cell_type": "code",
   "execution_count": 4,
   "metadata": {},
   "outputs": [
    {
     "name": "stdout",
     "output_type": "stream",
     "text": [
      "e = [1, 2]\n",
      "w[e] = 15\n",
      "e = [1, 3]\n",
      "w[e] = 15\n",
      "e = [1, 6]\n",
      "w[e] = 5\n",
      "e = [1, 8]\n",
      "w[e] = 5\n",
      "e = [2, 3]\n",
      "w[e] = 15\n",
      "e = [2, 5]\n",
      "w[e] = 5\n",
      "e = [3, 4]\n",
      "w[e] = 5\n",
      "e = [3, 8]\n",
      "w[e] = 5\n",
      "e = [4, 5]\n",
      "w[e] = 15\n",
      "e = [4, 7]\n",
      "w[e] = 5\n",
      "e = [4, 8]\n",
      "w[e] = 15\n",
      "e = [5, 6]\n",
      "w[e] = 15\n",
      "e = [5, 7]\n",
      "w[e] = 5\n",
      "e = [6, 7]\n",
      "w[e] = 15\n",
      "e = [7, 8]\n",
      "w[e] = 15\n"
     ]
    }
   ],
   "source": [
    "for e in E\n",
    "    @show(e,w[e])\n",
    "end"
   ]
  },
  {
   "cell_type": "markdown",
   "metadata": {},
   "source": [
    "# 5. Formulaciones del MST\n",
    "\n",
    "En este laboratorio investigaremos distintos modelos para el problema de encontrar un árbol generador de peso\n",
    "mínimo (MST) en un grafo $G = (V,E)$ con pesos positivos $w\\colon E \\to \\mathbb{R}^+$.\n",
    "Como usted ya sabe, este problema se puede resolver mediante distintos algoritmos combinatoriales tales como el de Prim o el de Kruskal. Estos son en general mucho más eficientes de lo que se puede lograr con un solver de uso general para programación lineal mixta. Sin embargo los algoritmos combinatoriales no siempre se pueden modificar para manejar dificultades típicas como por ejemplo la inclusión de restricciones adicionales. Entender como resolver MST usando programación lineal mixta es útil como primer paso para resolver problemas más complejos.\n",
    "\n",
    "Les pediremos que escriban y prueben 4 modelos diferentes del problema del MST. El primer modelo estará a medio hacer, el resto deberá crearlos desde cero. Al final del laboratorio, además, debe correr una parte adicional.\n",
    "\n",
    "Para cada modelo (digamos que se llama NOMBRE) se le pedirá lo siguiente\n",
    "\n",
    "1. Escribir una funcion modelo_nombre(N,E,w) que reciba valores N, E, w descritos anteriormente \n",
    "   y que devuelva un modelo en JuMP\n",
    "   \n",
    "2. Resolver el modelo en una instancia de prueba ubicado en el archivo \"grafo1.csv\"\n",
    "   Para esto debe escribir en una celda de Jupyter instrucciones similares a la siguiente:\n",
    "   ```julia\n",
    "   N,E,w=leegrafo(\"grafo1.csv\")\n",
    "   @time mimodelo = modelo_nombre(N,E,w)\n",
    "   @time optimize(modelo_nombre)\n",
    "   # luego debe escribir instrucciones para que muestre en la pantalla el valor del MST encontrado\n",
    "   # y el conjunto de aristas del MST encontrado \n",
    "   ```  \n",
    "3. Nota: Puede probar sus modelos en los grafos de prueba \"grafo1.csv\" hasta \"grafo9.csv\". \n",
    "   En la tarea (que se publicará el día lunes) se les pedirá trabajar con estos grafos, con los modelos anteriores \n",
    "   y con nuevos modelos.\n",
    "\n",
    "\n",
    "> Nota adicional.\n",
    "> En algunos modelos necesitará trabajar con conjuntos potencia. \n",
    "> Básese en el siguiente ejemplo para conseguir lo que necesite\n",
    "> (el comando powerset es parte del paquete Combinatorics que cargó al comienzo) "
   ]
  },
  {
   "cell_type": "code",
   "execution_count": 5,
   "metadata": {},
   "outputs": [
    {
     "name": "stdout",
     "output_type": "stream",
     "text": [
      "search: \u001b[0m\u001b[1mp\u001b[22m\u001b[0m\u001b[1mo\u001b[22m\u001b[0m\u001b[1mw\u001b[22m\u001b[0m\u001b[1me\u001b[22m\u001b[0m\u001b[1mr\u001b[22m\u001b[0m\u001b[1ms\u001b[22m\u001b[0m\u001b[1me\u001b[22m\u001b[0m\u001b[1mt\u001b[22m GRB_INT_\u001b[0m\u001b[1mP\u001b[22mAR_FL\u001b[0m\u001b[1mO\u001b[22m\u001b[0m\u001b[1mW\u001b[22mCOV\u001b[0m\u001b[1mE\u001b[22m\u001b[0m\u001b[1mR\u001b[22mCUT\u001b[0m\u001b[1mS\u001b[22m\n",
      "\n"
     ]
    },
    {
     "data": {
      "text/latex": [
       "\\begin{verbatim}\n",
       "powerset(a, min=0, max=length(a))\n",
       "\\end{verbatim}\n",
       "Generate all subsets of an indexable object \\texttt{a} including the empty set, with cardinality bounded by \\texttt{min} and \\texttt{max}. Because the number of subsets can be very large, this function returns an iterator object. Use \\texttt{collect(powerset(a, min, max))} to get an array of all subsets.\n",
       "\n"
      ],
      "text/markdown": [
       "```\n",
       "powerset(a, min=0, max=length(a))\n",
       "```\n",
       "\n",
       "Generate all subsets of an indexable object `a` including the empty set, with cardinality bounded by `min` and `max`. Because the number of subsets can be very large, this function returns an iterator object. Use `collect(powerset(a, min, max))` to get an array of all subsets.\n"
      ],
      "text/plain": [
       "\u001b[36m  powerset(a, min=0, max=length(a))\u001b[39m\n",
       "\n",
       "  Generate all subsets of an indexable object \u001b[36ma\u001b[39m including the empty set, with\n",
       "  cardinality bounded by \u001b[36mmin\u001b[39m and \u001b[36mmax\u001b[39m. Because the number of subsets can be\n",
       "  very large, this function returns an iterator object. Use\n",
       "  \u001b[36mcollect(powerset(a, min, max))\u001b[39m to get an array of all subsets."
      ]
     },
     "execution_count": 5,
     "metadata": {},
     "output_type": "execute_result"
    }
   ],
   "source": [
    "?powerset"
   ]
  },
  {
   "cell_type": "code",
   "execution_count": 6,
   "metadata": {},
   "outputs": [
    {
     "name": "stdout",
     "output_type": "stream",
     "text": [
      "[1, 4, 10]\n",
      "[1, 5, 9]\n",
      "[1, 5, 10]\n",
      "[1, 6, 8]\n",
      "[1, 6, 9]\n",
      "[1, 7, 8]\n",
      "[2, 3, 10]\n",
      "[2, 4, 9]\n",
      "[2, 4, 10]\n",
      "[2, 5, 8]\n",
      "[2, 5, 9]\n",
      "[2, 6, 7]\n",
      "[2, 6, 8]\n",
      "[3, 4, 8]\n",
      "[3, 4, 9]\n",
      "[3, 5, 7]\n",
      "[3, 5, 8]\n",
      "[3, 6, 7]\n",
      "[4, 5, 6]\n",
      "[4, 5, 7]\n",
      "[1, 2, 3, 9]\n",
      "[1, 2, 3, 10]\n",
      "[1, 2, 4, 8]\n",
      "[1, 2, 4, 9]\n",
      "[1, 2, 5, 7]\n",
      "[1, 2, 5, 8]\n",
      "[1, 2, 6, 7]\n",
      "[1, 3, 4, 7]\n",
      "[1, 3, 4, 8]\n",
      "[1, 3, 5, 6]\n",
      "[1, 3, 5, 7]\n",
      "[1, 4, 5, 6]\n",
      "[2, 3, 4, 6]\n",
      "[2, 3, 4, 7]\n",
      "[2, 3, 5, 6]\n",
      "[1, 2, 3, 4, 5]\n",
      "[1, 2, 3, 4, 6]\n"
     ]
    }
   ],
   "source": [
    "# Ejemplo: imprimir todos los subconjuntos de 1:10 de tamaños 3 a 5 cuya suma de elementos esté entre 15 y 16\n",
    " for X in powerset(1:10, 3, 5)\n",
    "    if sum(X)>=15 && sum(X)<=16\n",
    "        println(X)\n",
    "    end\n",
    "end"
   ]
  },
  {
   "cell_type": "markdown",
   "metadata": {},
   "source": [
    "# 6. Ejercicios."
   ]
  },
  {
   "cell_type": "markdown",
   "metadata": {},
   "source": [
    "## Ejercicio 1. Formulacion del MST como PLE por corte"
   ]
  },
  {
   "cell_type": "markdown",
   "metadata": {},
   "source": [
    "Recuerde que un subgrafo $H = (V, F)$ de $G=(V,E)$ es conexo si y solo si la siguiente condición de corte se cumple:\n",
    "   \n",
    ">   $\\delta_F(S) \\geq 1$, para todo $S\\subseteq V, S\\neq \\emptyset, S\\neq V$\n",
    "   \n",
    "Recuerde además que  los árboles generadores de $G$ son exactamente los subgrafos $H = (V, F)$ conexos con $|F| = n−1$ aristas.\n",
    "\n",
    "Usando la caracterización anterior, el modelo (M1) siguiente resulta ser un modelo exacto para MST\n",
    "\n",
    "$$\n",
    "\\begin{align*}\n",
    "(\\text{M1}) \\quad \\min \\sum_{e\\in E}&w_e x_e\\\\\n",
    " \\sum_{e \\in \\delta_E(S)} x_e= x(\\delta_E(S))&\\geq 1, \\qquad \\text{para todo $S\\subseteq V, S\\neq \\emptyset, S\\neq V$.}\\\\\n",
    "x(E) &= n-1\\\\\n",
    "0\\leq x_e  &\\leq 1, \\qquad \\text{para todo $e\\in E$}\\\\\n",
    "x_e &\\in \\mathbb{Z}\n",
    "\\end{align*}\n",
    "$$"
   ]
  },
  {
   "cell_type": "markdown",
   "metadata": {},
   "source": [
    "### Parte 1.a. \n",
    "Escribir una funcion ``modelo_cortes(N,E,w)`` que reciba valores N, E, w descritos anteriormente y que devuelva un modelo en JuMP"
   ]
  },
  {
   "cell_type": "code",
   "execution_count": 7,
   "metadata": {},
   "outputs": [
    {
     "data": {
      "text/plain": [
       "modelo_cortes (generic function with 1 method)"
      ]
     },
     "execution_count": 7,
     "metadata": {},
     "output_type": "execute_result"
    }
   ],
   "source": [
    "function modelo_cortes(N,E,w)\n",
    "    # 1. Crear modelo, asignar Gurobi como el optimizador\n",
    "    mimodelo = Model()\n",
    "    set_optimizer(mimodelo, Gurobi.Optimizer)\n",
    "    \n",
    "    set_optimizer_attributes(mimodelo, \"outputflag\"=> 0)\n",
    "    \n",
    "    # 2. Declarar variables de decisión (recomendamos usar este formato)\n",
    "    @variable(mimodelo, 0<=x[i in 1:N,j in 1:N; [i,j] in E]<=1, Int)\n",
    "    \n",
    "    #3. Función objetivo\n",
    "    @objective(mimodelo, Min, sum(x[e[1],e[2]]*w[e] for e in E))\n",
    "\n",
    "    # 3. Escribir restricciones (llenar)\n",
    "    for S in powerset(1:N, 1, N-1)\n",
    "        @constraint(mimodelo, sum(x[e[1], e[2]] for e in E if ((e[1] in S) && !(e[2] in S)) || ((e[2] in S) && !(e[1] in S))) >= 1)\n",
    "    end\n",
    "    # no olvidar ninguna restriccion  \n",
    "    @constraint(mimodelo, sum(x[e[1], e[2]] for e in E) == N-1)\n",
    "    \n",
    "    return mimodelo\n",
    "end\n"
   ]
  },
  {
   "cell_type": "markdown",
   "metadata": {},
   "source": [
    "### Parte 1.b \n",
    "Resolver MST, usando el modelo, en una instancia de prueba ubicado en el archivo \"grafo1.csv\". "
   ]
  },
  {
   "cell_type": "code",
   "execution_count": 8,
   "metadata": {},
   "outputs": [
    {
     "name": "stdout",
     "output_type": "stream",
     "text": [
      "Grafo con 8 nodos y 15 aristas\n",
      "Academic license - for non-commercial use only - expires 2021-05-20\n",
      "  3.442344 seconds (14.00 M allocations: 722.976 MiB, 7.54% gc time)\n"
     ]
    }
   ],
   "source": [
    "# Lea el grafo y cree el modelo, mostrando el tiempo de ejecución\n",
    "N,E,w=leegrafo(\"grafo1.csv\")\n",
    "println(\"Grafo con $N nodos y $(size(E,1)) aristas\")\n",
    "@time mimodelo = modelo_cortes(N,E,w);"
   ]
  },
  {
   "cell_type": "code",
   "execution_count": 9,
   "metadata": {},
   "outputs": [
    {
     "name": "stdout",
     "output_type": "stream",
     "text": [
      "  7.048259 seconds (32.17 M allocations: 1.614 GiB, 6.93% gc time)\n"
     ]
    }
   ],
   "source": [
    "# Optimice el modelo, mostrando el tiempo de ejecución\n",
    "@time optimize!(mimodelo);"
   ]
  },
  {
   "cell_type": "code",
   "execution_count": 10,
   "metadata": {},
   "outputs": [
    {
     "data": {
      "text/plain": [
       "JuMP.Containers.SparseAxisArray{Float64,2,Tuple{Int64,Int64}} with 15 entries:\n",
       "  [1, 6]  =  1.0\n",
       "  [2, 3]  =  -0.0\n",
       "  [5, 6]  =  -0.0\n",
       "  [2, 5]  =  1.0\n",
       "  [4, 7]  =  1.0\n",
       "  [4, 5]  =  -0.0\n",
       "  [1, 3]  =  -0.0\n",
       "  [4, 8]  =  -0.0\n",
       "  [7, 8]  =  -0.0\n",
       "  [1, 8]  =  1.0\n",
       "  [6, 7]  =  -0.0\n",
       "  [1, 2]  =  -0.0\n",
       "  [3, 8]  =  1.0\n",
       "  [3, 4]  =  1.0\n",
       "  [5, 7]  =  1.0"
      ]
     },
     "execution_count": 10,
     "metadata": {},
     "output_type": "execute_result"
    }
   ],
   "source": [
    "# Muestre el valor objetivo (objective_value)\n",
    "objective_value(mimodelo)\n",
    "value.(mimodelo[:x])"
   ]
  },
  {
   "cell_type": "code",
   "execution_count": 11,
   "metadata": {},
   "outputs": [
    {
     "data": {
      "text/plain": [
       "7-element Array{Array{Int64,1},1}:\n",
       " [1, 6]\n",
       " [1, 8]\n",
       " [2, 5]\n",
       " [3, 4]\n",
       " [3, 8]\n",
       " [4, 7]\n",
       " [5, 7]"
      ]
     },
     "execution_count": 11,
     "metadata": {},
     "output_type": "execute_result"
    }
   ],
   "source": [
    "# Mostrar aristas de valor 1\n",
    "[e for e in E if value(mimodelo[:x][e[1],e[2]]) ≈ 1]"
   ]
  },
  {
   "cell_type": "markdown",
   "metadata": {},
   "source": [
    "## Ejercicio 2. Formulacion del MST como PLE por ciclos"
   ]
  },
  {
   "cell_type": "markdown",
   "metadata": {},
   "source": [
    "Recuerde que un subgrafo $H = (V, F)$ de $G=(V,E)$ es aciclico si y solo si la siguiente condición de eliminación de  ciclos se cumple:\n",
    "   \n",
    ">   $|F[S]|\\leq |S|-1$, para todo $S\\subseteq V, S\\neq \\emptyset, S\\neq V$\n",
    "   \n",
    "Recuerde además que  los árboles generadores de $G$ son exactamente los subgrafos $H = (V, F)$ acíclicos con $|F| = n−1$ aristas.\n",
    "\n",
    "Usando la caracterización anterior, el modelo (M2) siguiente resulta ser un modelo exacto para MST\n",
    "\n",
    "$$\n",
    "\\begin{align*}\n",
    "(\\text{M2}) \\quad \\min \\sum_{e\\in E}&w_e x_e\\\\\n",
    "x(E[S])&\\leq |S|-1, \\qquad \\text{para todo $S\\subseteq V, S\\neq \\emptyset, S\\neq V$.}\\\\\n",
    "x(E) &= n-1\\\\\n",
    "0\\leq x_e  &\\leq 1, \\qquad \\text{para todo $e\\in E$}\\\\\n",
    "x_e &\\in \\mathbb{Z}\n",
    "\\end{align*}\n",
    "$$"
   ]
  },
  {
   "cell_type": "markdown",
   "metadata": {},
   "source": [
    "### Parte 2.a. \n",
    "Escribir una funcion ``modelo_ciclos(N,E,w)`` que reciba valores N, E, w descritos anteriormente y que devuelva un modelo en JuMP para (M2)"
   ]
  },
  {
   "cell_type": "code",
   "execution_count": 12,
   "metadata": {},
   "outputs": [
    {
     "data": {
      "text/plain": [
       "modelo_ciclos (generic function with 1 method)"
      ]
     },
     "execution_count": 12,
     "metadata": {},
     "output_type": "execute_result"
    }
   ],
   "source": [
    "function modelo_ciclos(N,E,w)\n",
    "    mimodelo = Model()\n",
    "    set_optimizer(mimodelo, Gurobi.Optimizer)\n",
    "    \n",
    "    set_optimizer_attributes(mimodelo, \"outputflag\"=> 0)\n",
    "    \n",
    "    @variable(mimodelo, 0<= x[i in 1:N, j in 1:N; [i, j] in E]<=1, Int)\n",
    "    \n",
    "    @objective(mimodelo, Min, sum(x[e[1], e[2]] * w[e] for e in E))\n",
    "    \n",
    "    for S in powerset(1:N, 1, N-1)\n",
    "        @constraint(mimodelo, sum(x[e[1], e[2]] for e in E if (e[1] in S && e[2] in S)) <= length(S) - 1)\n",
    "    end\n",
    "    @constraint(mimodelo, sum(x[e[1], e[2]] for e in E) == N-1)\n",
    "        \n",
    "    return mimodelo\n",
    "end"
   ]
  },
  {
   "cell_type": "markdown",
   "metadata": {},
   "source": [
    "### Parte 2.b \n",
    "Resolver MST, usando el modelo, en una instancia de prueba ubicado en el archivo \"grafo1.csv\". "
   ]
  },
  {
   "cell_type": "code",
   "execution_count": 13,
   "metadata": {},
   "outputs": [
    {
     "name": "stdout",
     "output_type": "stream",
     "text": [
      "Academic license - for non-commercial use only - expires 2021-05-20\r\n",
      "  0.287022 seconds (690.93 k allocations: 36.788 MiB, 9.96% gc time)\n"
     ]
    }
   ],
   "source": [
    "# Lea el grafo y cree el modelo, mostrando el tiempo de ejecución\n",
    "N,E,w=leegrafo(\"grafo1.csv\")\n",
    "@time mimodelo=modelo_ciclos(N, E, w);"
   ]
  },
  {
   "cell_type": "code",
   "execution_count": 14,
   "metadata": {},
   "outputs": [
    {
     "name": "stdout",
     "output_type": "stream",
     "text": [
      "  0.410227 seconds (1.33 M allocations: 68.770 MiB, 20.32% gc time)\n"
     ]
    }
   ],
   "source": [
    "# Optimice el modelo, mostrando el tiempo de ejecución\n",
    "@time optimize!(mimodelo);"
   ]
  },
  {
   "cell_type": "code",
   "execution_count": 15,
   "metadata": {},
   "outputs": [
    {
     "data": {
      "text/plain": [
       "35.0"
      ]
     },
     "execution_count": 15,
     "metadata": {},
     "output_type": "execute_result"
    }
   ],
   "source": [
    "# Muestre el valor objetivo (objective_value)\n",
    "objective_value(mimodelo)"
   ]
  },
  {
   "cell_type": "code",
   "execution_count": 16,
   "metadata": {},
   "outputs": [
    {
     "data": {
      "text/plain": [
       "7-element Array{Array{Int64,1},1}:\n",
       " [1, 6]\n",
       " [1, 8]\n",
       " [2, 5]\n",
       " [3, 4]\n",
       " [3, 8]\n",
       " [4, 7]\n",
       " [5, 7]"
      ]
     },
     "execution_count": 16,
     "metadata": {},
     "output_type": "execute_result"
    }
   ],
   "source": [
    "# Mostrar aristas de valor 1\n",
    "[e for e in E if value(mimodelo[:x][e[1], e[2]]) ≈ 1]"
   ]
  },
  {
   "cell_type": "markdown",
   "metadata": {},
   "source": [
    "## Ejercicio 3. Formulacion del MST como PLE por arborescencias"
   ]
  },
  {
   "cell_type": "markdown",
   "metadata": {},
   "source": [
    "Sea $G' = (V,A)$ el digrafo obtenido al reemplazar cada arista $ij$ de E por dos arcos antiparalelos $(i, j); (j, i) \\in A$.\n",
    "\n",
    "Un subgrafo $H=(V,F)$ de $G=(V,E)$ es un árbol generador si y solo si podemos dirigir este árbol a una arborescencia enraizada en un nodo fijo $r\\in V$. En otras palabras\n",
    "1. Debemos poder elegir exactamente una dirección para cada e en E\n",
    "2. Cada nodo $v\\in V$ tiene exactamente un arco entrante (que viene de su padre), excepto $r\\in V$ que no tiene padres. Esto dice que hay exactamente n-1 nodos.\n",
    "\n",
    "Podemos escribir esto como un programa lineal entero extendido (es decir con variables adicionales $\\{y_a\\}_{a\\in A}$ como sigue (aqui $r\\in V$ es un vértice fijo que se elige antes)\n",
    "\n",
    "\n",
    "$$\\begin{align*}\n",
    "(\\text{M3}) \\quad \\min \\sum_{e\\in E}&w_e x_e\\\\\n",
    "x(E) &= n-1\\\\\n",
    "y_{i,j}+y_{j,i}&= x_e, \\qquad\\text{para todo $e=ij\\in E$}\\\\\n",
    "y(\\delta^-(i))&= 1, \\qquad \\text{para todo $i\\in V-r$}\\\\\n",
    "y(\\delta^-(r))&= 0,\\\\\n",
    "y_a&\\geq 0, \\qquad \\text{para todo $(i,j)\\in A$}\\\\\n",
    "0\\leq x_e  &\\leq 1, \\qquad \\text{para todo $e\\in E$}\\\\\n",
    "x_e &\\in \\mathbb{Z}, \\qquad \\text{para todo $e\\in E$}\\\\\n",
    "y_a &\\in \\mathbb{Z}, \\qquad \\text{para todo $a\\in A$}\\\\\n",
    "\\end{align*}\n",
    "$$"
   ]
  },
  {
   "cell_type": "markdown",
   "metadata": {},
   "source": [
    "### Parte 3.a. \n",
    "Escribir una funcion ``modelo_arborescencia(N,E,w)`` que reciba valores N, E, w descritos anteriormente y que devuelva un modelo en JuMP para (M3)"
   ]
  },
  {
   "cell_type": "code",
   "execution_count": 17,
   "metadata": {},
   "outputs": [
    {
     "data": {
      "text/plain": [
       "modelo_arborescencia (generic function with 1 method)"
      ]
     },
     "execution_count": 17,
     "metadata": {},
     "output_type": "execute_result"
    }
   ],
   "source": [
    "function modelo_arborescencia(N,E,w)\n",
    "    mimodelo = Model(Gurobi.Optimizer)\n",
    "    \n",
    "    set_optimizer_attributes(mimodelo, \"outputflag\"=> 0)\n",
    "    \n",
    "    # nota: puede crear el conjunto A primero, use r=1\n",
    "    # De preferencia acá indexe las variables \"y\" por pares ordenados \n",
    "    # y[i in ..., j in...; [i,j] in ...], no por y[a in A], pues de esta ultima manera debe usar y[[i,j]] para trabajar.\n",
    "    \n",
    "    \n",
    "    \n",
    "    A = copy(E)\n",
    "    append!(A, [[e[2], e[1]] for e in E])\n",
    "    \n",
    "    @variable(mimodelo, 0<= x[i in 1:N, j in 1:N; [i, j] in E]<=1, Int)\n",
    "    \n",
    "    @variable(mimodelo, 0<= y[i in 1:N, j in 1:N; [i, j] in A], Int)\n",
    "    \n",
    "    @objective(mimodelo, Min, sum(x[e[1], e[2]] * w[e] for e in E))\n",
    "    \n",
    "    @constraint(mimodelo, sum(x[e[1], e[2]] for e in E) == N-1)\n",
    "    \n",
    "    for e in E\n",
    "        @constraint(mimodelo, y[e[1], e[2]] + y[e[2], e[1]] == x[e[1], e[2]])\n",
    "    end\n",
    "    \n",
    "    for i in 2:N\n",
    "        @constraint(mimodelo, sum(y[j, i] for j in 1:N if [j, i] in A) >= 1)\n",
    "    end\n",
    "    \n",
    "    @constraint(mimodelo, sum(y[j, 1] for j in 1:N if [j, 1] in A) == 0)\n",
    "    \n",
    "    # nota: No necesita usar for para crear restricciones simples, puede indexarlas directamente\n",
    "    # @constraint(mimodelo, [i in 1:N], restriccion para i)\n",
    "    return mimodelo\n",
    "end"
   ]
  },
  {
   "cell_type": "markdown",
   "metadata": {},
   "source": [
    "### Parte 3.b \n",
    "Resolver MST, usando el modelo, en una instancia de prueba ubicado en el archivo \"grafo1.csv\". "
   ]
  },
  {
   "cell_type": "code",
   "execution_count": 18,
   "metadata": {
    "scrolled": true
   },
   "outputs": [
    {
     "name": "stdout",
     "output_type": "stream",
     "text": [
      "Academic license - for non-commercial use only - expires 2021-05-20\r\n",
      "  0.292633 seconds (787.55 k allocations: 41.635 MiB)\n"
     ]
    },
    {
     "data": {
      "text/latex": [
       "$$ \\begin{alignat*}{1}\\min\\quad & 15 x_{1,2} + 15 x_{1,3} + 5 x_{1,6} + 5 x_{1,8} + 15 x_{2,3} + 5 x_{2,5} + 5 x_{3,4} + 5 x_{3,8} + 15 x_{4,5} + 5 x_{4,7} + 15 x_{4,8} + 15 x_{5,6} + 5 x_{5,7} + 15 x_{6,7} + 15 x_{7,8}\\\\\n",
       "\\text{Subject to} \\quad & x_{1,2} + x_{1,3} + x_{1,6} + x_{1,8} + x_{2,3} + x_{2,5} + x_{3,4} + x_{3,8} + x_{4,5} + x_{4,7} + x_{4,8} + x_{5,6} + x_{5,7} + x_{6,7} + x_{7,8} = 7.0\\\\\n",
       " & -x_{1,2} + y_{1,2} + y_{2,1} = 0.0\\\\\n",
       " & -x_{1,3} + y_{1,3} + y_{3,1} = 0.0\\\\\n",
       " & -x_{1,6} + y_{1,6} + y_{6,1} = 0.0\\\\\n",
       " & -x_{1,8} + y_{1,8} + y_{8,1} = 0.0\\\\\n",
       " & -x_{2,3} + y_{2,3} + y_{3,2} = 0.0\\\\\n",
       " & -x_{2,5} + y_{2,5} + y_{5,2} = 0.0\\\\\n",
       " & -x_{3,4} + y_{3,4} + y_{4,3} = 0.0\\\\\n",
       " & -x_{3,8} + y_{3,8} + y_{8,3} = 0.0\\\\\n",
       " & -x_{4,5} + y_{4,5} + y_{5,4} = 0.0\\\\\n",
       " & -x_{4,7} + y_{4,7} + y_{7,4} = 0.0\\\\\n",
       " & -x_{4,8} + y_{4,8} + y_{8,4} = 0.0\\\\\n",
       " & -x_{5,6} + y_{5,6} + y_{6,5} = 0.0\\\\\n",
       " & -x_{5,7} + y_{5,7} + y_{7,5} = 0.0\\\\\n",
       " & -x_{6,7} + y_{6,7} + y_{7,6} = 0.0\\\\\n",
       " & -x_{7,8} + y_{7,8} + y_{8,7} = 0.0\\\\\n",
       " & y_{2,1} + y_{3,1} + y_{6,1} + y_{8,1} = 0.0\\\\\n",
       " & y_{1,2} + y_{3,2} + y_{5,2} \\geq 1.0\\\\\n",
       " & y_{1,3} + y_{2,3} + y_{4,3} + y_{8,3} \\geq 1.0\\\\\n",
       " & y_{3,4} + y_{5,4} + y_{7,4} + y_{8,4} \\geq 1.0\\\\\n",
       " & y_{2,5} + y_{4,5} + y_{6,5} + y_{7,5} \\geq 1.0\\\\\n",
       " & y_{1,6} + y_{5,6} + y_{7,6} \\geq 1.0\\\\\n",
       " & y_{4,7} + y_{5,7} + y_{6,7} + y_{8,7} \\geq 1.0\\\\\n",
       " & y_{1,8} + y_{3,8} + y_{4,8} + y_{7,8} \\geq 1.0\\\\\n",
       " & x_{1,2} \\geq 0.0\\\\\n",
       " & x_{1,3} \\geq 0.0\\\\\n",
       " & x_{1,6} \\geq 0.0\\\\\n",
       " & x_{1,8} \\geq 0.0\\\\\n",
       " & x_{2,3} \\geq 0.0\\\\\n",
       " & x_{2,5} \\geq 0.0\\\\\n",
       " & x_{3,4} \\geq 0.0\\\\\n",
       " & x_{3,8} \\geq 0.0\\\\\n",
       " & x_{4,5} \\geq 0.0\\\\\n",
       " & x_{4,7} \\geq 0.0\\\\\n",
       " & x_{4,8} \\geq 0.0\\\\\n",
       " & x_{5,6} \\geq 0.0\\\\\n",
       " & x_{5,7} \\geq 0.0\\\\\n",
       " & x_{6,7} \\geq 0.0\\\\\n",
       " & x_{7,8} \\geq 0.0\\\\\n",
       " & y_{1,2} \\geq 0.0\\\\\n",
       " & y_{1,3} \\geq 0.0\\\\\n",
       " & y_{1,6} \\geq 0.0\\\\\n",
       " & y_{1,8} \\geq 0.0\\\\\n",
       " & y_{2,1} \\geq 0.0\\\\\n",
       " & y_{2,3} \\geq 0.0\\\\\n",
       " & y_{2,5} \\geq 0.0\\\\\n",
       " & y_{3,1} \\geq 0.0\\\\\n",
       " & y_{3,2} \\geq 0.0\\\\\n",
       " & y_{3,4} \\geq 0.0\\\\\n",
       " & y_{3,8} \\geq 0.0\\\\\n",
       " & y_{4,3} \\geq 0.0\\\\\n",
       " & y_{4,5} \\geq 0.0\\\\\n",
       " & y_{4,7} \\geq 0.0\\\\\n",
       " & y_{4,8} \\geq 0.0\\\\\n",
       " & y_{5,2} \\geq 0.0\\\\\n",
       " & y_{5,4} \\geq 0.0\\\\\n",
       " & y_{5,6} \\geq 0.0\\\\\n",
       " & y_{5,7} \\geq 0.0\\\\\n",
       " & y_{6,1} \\geq 0.0\\\\\n",
       " & y_{6,5} \\geq 0.0\\\\\n",
       " & y_{6,7} \\geq 0.0\\\\\n",
       " & y_{7,4} \\geq 0.0\\\\\n",
       " & y_{7,5} \\geq 0.0\\\\\n",
       " & y_{7,6} \\geq 0.0\\\\\n",
       " & y_{7,8} \\geq 0.0\\\\\n",
       " & y_{8,1} \\geq 0.0\\\\\n",
       " & y_{8,3} \\geq 0.0\\\\\n",
       " & y_{8,4} \\geq 0.0\\\\\n",
       " & y_{8,7} \\geq 0.0\\\\\n",
       " & x_{1,2} \\leq 1.0\\\\\n",
       " & x_{1,3} \\leq 1.0\\\\\n",
       " & x_{1,6} \\leq 1.0\\\\\n",
       " & x_{1,8} \\leq 1.0\\\\\n",
       " & x_{2,3} \\leq 1.0\\\\\n",
       " & x_{2,5} \\leq 1.0\\\\\n",
       " & x_{3,4} \\leq 1.0\\\\\n",
       " & x_{3,8} \\leq 1.0\\\\\n",
       " & x_{4,5} \\leq 1.0\\\\\n",
       " & x_{4,7} \\leq 1.0\\\\\n",
       " & x_{4,8} \\leq 1.0\\\\\n",
       " & x_{5,6} \\leq 1.0\\\\\n",
       " & x_{5,7} \\leq 1.0\\\\\n",
       " & x_{6,7} \\leq 1.0\\\\\n",
       " & x_{7,8} \\leq 1.0\\\\\n",
       " & x_{1,2} integer\\\\\n",
       " & x_{1,3} integer\\\\\n",
       " & x_{1,6} integer\\\\\n",
       " & x_{1,8} integer\\\\\n",
       " & x_{2,3} integer\\\\\n",
       " & x_{2,5} integer\\\\\n",
       " & x_{3,4} integer\\\\\n",
       " & x_{3,8} integer\\\\\n",
       " & x_{4,5} integer\\\\\n",
       " & x_{4,7} integer\\\\\n",
       " & x_{4,8} integer\\\\\n",
       " & x_{5,6} integer\\\\\n",
       " & x_{5,7} integer\\\\\n",
       " & x_{6,7} integer\\\\\n",
       " & x_{7,8} integer\\\\\n",
       " & y_{1,2} integer\\\\\n",
       " & y_{1,3} integer\\\\\n",
       " & y_{1,6} integer\\\\\n",
       " & y_{1,8} integer\\\\\n",
       " & y_{2,1} integer\\\\\n",
       " & y_{2,3} integer\\\\\n",
       " & y_{2,5} integer\\\\\n",
       " & y_{3,1} integer\\\\\n",
       " & y_{3,2} integer\\\\\n",
       " & y_{3,4} integer\\\\\n",
       " & y_{3,8} integer\\\\\n",
       " & y_{4,3} integer\\\\\n",
       " & y_{4,5} integer\\\\\n",
       " & y_{4,7} integer\\\\\n",
       " & y_{4,8} integer\\\\\n",
       " & y_{5,2} integer\\\\\n",
       " & y_{5,4} integer\\\\\n",
       " & y_{5,6} integer\\\\\n",
       " & y_{5,7} integer\\\\\n",
       " & y_{6,1} integer\\\\\n",
       " & y_{6,5} integer\\\\\n",
       " & y_{6,7} integer\\\\\n",
       " & y_{7,4} integer\\\\\n",
       " & y_{7,5} integer\\\\\n",
       " & y_{7,6} integer\\\\\n",
       " & y_{7,8} integer\\\\\n",
       " & y_{8,1} integer\\\\\n",
       " & y_{8,3} integer\\\\\n",
       " & y_{8,4} integer\\\\\n",
       " & y_{8,7} integer\\\\\n",
       "\\end{alignat*}\n",
       " $$"
      ],
      "text/plain": [
       "A JuMP Model\n",
       "Minimization problem with:\n",
       "Variables: 45\n",
       "Objective function type: GenericAffExpr{Float64,VariableRef}\n",
       "`GenericAffExpr{Float64,VariableRef}`-in-`MathOptInterface.EqualTo{Float64}`: 17 constraints\n",
       "`GenericAffExpr{Float64,VariableRef}`-in-`MathOptInterface.GreaterThan{Float64}`: 7 constraints\n",
       "`VariableRef`-in-`MathOptInterface.GreaterThan{Float64}`: 45 constraints\n",
       "`VariableRef`-in-`MathOptInterface.LessThan{Float64}`: 15 constraints\n",
       "`VariableRef`-in-`MathOptInterface.Integer`: 45 constraints\n",
       "Model mode: AUTOMATIC\n",
       "CachingOptimizer state: EMPTY_OPTIMIZER\n",
       "Solver name: Gurobi\n",
       "Names registered in the model: x, y"
      ]
     },
     "execution_count": 18,
     "metadata": {},
     "output_type": "execute_result"
    }
   ],
   "source": [
    "# Lea el grafo y cree el modelo, mostrando el tiempo de ejecución\n",
    "N, E, w = leegrafo(\"grafo1.csv\")\n",
    "@time mimodelo = modelo_arborescencia(N,E,w)"
   ]
  },
  {
   "cell_type": "code",
   "execution_count": 19,
   "metadata": {},
   "outputs": [
    {
     "name": "stdout",
     "output_type": "stream",
     "text": [
      "  0.002194 seconds (1.31 k allocations: 140.375 KiB)\n"
     ]
    }
   ],
   "source": [
    "# Optimice el modelo, mostrando el tiempo de ejecución\n",
    "@time optimize!(mimodelo)"
   ]
  },
  {
   "cell_type": "code",
   "execution_count": 20,
   "metadata": {},
   "outputs": [
    {
     "name": "stdout",
     "output_type": "stream",
     "text": [
      "  0.000018 seconds (6 allocations: 128 bytes)\n"
     ]
    },
    {
     "data": {
      "text/plain": [
       "35.0"
      ]
     },
     "execution_count": 20,
     "metadata": {},
     "output_type": "execute_result"
    }
   ],
   "source": [
    "# Muestre el valor objetivo (objective_value)\n",
    "@time objective_value(mimodelo)"
   ]
  },
  {
   "cell_type": "code",
   "execution_count": 21,
   "metadata": {},
   "outputs": [
    {
     "data": {
      "text/plain": [
       "7-element Array{Array{Int64,1},1}:\n",
       " [1, 6]\n",
       " [1, 8]\n",
       " [2, 5]\n",
       " [3, 4]\n",
       " [3, 8]\n",
       " [4, 7]\n",
       " [5, 7]"
      ]
     },
     "execution_count": 21,
     "metadata": {},
     "output_type": "execute_result"
    }
   ],
   "source": [
    "# Mostrar aristas de valor 1\n",
    "[e for e in E if value(mimodelo[:x][e[1], e[2]]) ≈ 1]"
   ]
  },
  {
   "cell_type": "markdown",
   "metadata": {},
   "source": [
    "## Ejercicio 4. Formulacion del MST por componentes\n",
    "\n",
    "Defina el conjunto \n",
    "$S=\\{(i,j,k)\\colon i\\neq j, j\\neq k, k\\neq i, \\{i,j\\}\\in E\\}$\n",
    "\n",
    "Si $T$ es un árbol, y definimos $x_{\\{i,j\\}}$ como la indicatriz del evento $\\{i,j\\}\\in T$ y $z_{i,j,k}$ como la indicatriz del evento $\\{i,j\\}$ es arista de $T$ y $k$ está en la componente de $j$ en el grafo $T-ij$, entonces se puede probar que este punto es factible en el PLE que listaremos a continuación. Usando esto se puede probar que el siguiente modelo es exacto:\n",
    "\n",
    "\n",
    "$$\\begin{align*}\n",
    "(\\text{M4}) \\quad \\min \\sum_{e\\in E}&w_e x_e\\\\\n",
    "x(E) &= n-1\\\\\n",
    "z_{i,j,k}+z_{j,i,k}&= x_e, \\qquad\\text{para todo $e=ij\\in E$}\\\\\n",
    "x_{i,k} + \\sum_{j\\in V\\colon (i,j,k)\\in S}z_{i,j,k}&=1, \\qquad\\text{para todo $ik\\in E$}\\\\\n",
    "z_{i,j,k}&\\geq 0, \\qquad \\text{para todo $(i,j,k)\\in S$}\\\\\n",
    "0\\leq x_e  &\\leq 1, \\qquad \\text{para todo $e\\in E$}\\\\\n",
    "x_e &\\in \\mathbb{Z}, \\qquad \\text{para todo $e\\in E$}\\\\\n",
    "z_{i,j,k} &\\in \\mathbb{Z}, \\qquad \\text{para todo $(i,j,k)\\in S$}\\\\\n",
    "\\end{align*}\n",
    "$$"
   ]
  },
  {
   "cell_type": "markdown",
   "metadata": {},
   "source": [
    "### Parte 4.a. \n",
    "Escribir una funcion ``modelo_componentes(N,E,w)`` que reciba valores N, E, w descritos anteriormente y que devuelva un modelo en JuMP para (M3)"
   ]
  },
  {
   "cell_type": "code",
   "execution_count": 22,
   "metadata": {},
   "outputs": [
    {
     "data": {
      "text/plain": [
       "modelo_componentes (generic function with 1 method)"
      ]
     },
     "execution_count": 22,
     "metadata": {},
     "output_type": "execute_result"
    }
   ],
   "source": [
    "function modelo_componentes(N,E,w)\n",
    "    mimodelo = Model(Gurobi.Optimizer)\n",
    "    set_optimizer_attributes(mimodelo, \"outputflag\"=> 0)\n",
    "\n",
    "    S = [ [i, j, k] for i in 1:N for j in 1:N for k in 1:N if (i != j && j !=k && k != i && ([i, j] in E || [j, i] in E))]\n",
    "    \n",
    "    @variable(mimodelo, 0<= x[i in 1:N, j in 1:N; [i, j] in E]<=1, Int)\n",
    "    @variable(mimodelo, 0<= z[i in 1:N, j in 1:N, k in 1:N; [i, j, k] in S], Int)\n",
    "    \n",
    "    @objective(mimodelo, Min, sum(x[e[1], e[2]] * w[e] for e in E))\n",
    "    \n",
    "    @constraint(mimodelo, sum(x[e[1], e[2]] for e in E) == N-1)\n",
    "    \n",
    "    for e in E\n",
    "        for k in 1:N\n",
    "            if [e[1], e[2], k] in S\n",
    "                @constraint(mimodelo, z[e[1], e[2], k] + z[e[2], e[1], k] == x[e[1], e[2]])\n",
    "            end\n",
    "        end\n",
    "    end\n",
    "    \n",
    "    for e in E\n",
    "        @constraint(mimodelo, x[e[1], e[2]] + sum(z[e[1], j, e[2]] for j in 1:N if [e[1], j, e[2]] in S) == 1)\n",
    "    end\n",
    "    \n",
    "    # nota: puede crear el conjunto S primero\n",
    "    \n",
    "    return mimodelo\n",
    "end"
   ]
  },
  {
   "cell_type": "markdown",
   "metadata": {},
   "source": [
    "### Parte 4.b \n",
    "Resolver MST, usando el modelo, en una instancia de prueba ubicado en el archivo \"grafo1.csv\". "
   ]
  },
  {
   "cell_type": "code",
   "execution_count": 23,
   "metadata": {},
   "outputs": [
    {
     "name": "stdout",
     "output_type": "stream",
     "text": [
      "Academic license - for non-commercial use only - expires 2021-05-20\r\n",
      "  0.617744 seconds (1.90 M allocations: 97.833 MiB, 5.16% gc time)\n"
     ]
    },
    {
     "data": {
      "text/latex": [
       "$$ \\begin{alignat*}{1}\\min\\quad & 15 x_{1,2} + 15 x_{1,3} + 5 x_{1,6} + 5 x_{1,8} + 15 x_{2,3} + 5 x_{2,5} + 5 x_{3,4} + 5 x_{3,8} + 15 x_{4,5} + 5 x_{4,7} + 15 x_{4,8} + 15 x_{5,6} + 5 x_{5,7} + 15 x_{6,7} + 15 x_{7,8}\\\\\n",
       "\\text{Subject to} \\quad & x_{1,2} + x_{1,3} + x_{1,6} + x_{1,8} + x_{2,3} + x_{2,5} + x_{3,4} + x_{3,8} + x_{4,5} + x_{4,7} + x_{4,8} + x_{5,6} + x_{5,7} + x_{6,7} + x_{7,8} = 7.0\\\\\n",
       " & -x_{1,2} + z_{1,2,3} + z_{2,1,3} = 0.0\\\\\n",
       " & -x_{1,2} + z_{1,2,4} + z_{2,1,4} = 0.0\\\\\n",
       " & -x_{1,2} + z_{1,2,5} + z_{2,1,5} = 0.0\\\\\n",
       " & -x_{1,2} + z_{1,2,6} + z_{2,1,6} = 0.0\\\\\n",
       " & -x_{1,2} + z_{1,2,7} + z_{2,1,7} = 0.0\\\\\n",
       " & -x_{1,2} + z_{1,2,8} + z_{2,1,8} = 0.0\\\\\n",
       " & -x_{1,3} + z_{1,3,2} + z_{3,1,2} = 0.0\\\\\n",
       " & -x_{1,3} + z_{1,3,4} + z_{3,1,4} = 0.0\\\\\n",
       " & -x_{1,3} + z_{1,3,5} + z_{3,1,5} = 0.0\\\\\n",
       " & -x_{1,3} + z_{1,3,6} + z_{3,1,6} = 0.0\\\\\n",
       " & -x_{1,3} + z_{1,3,7} + z_{3,1,7} = 0.0\\\\\n",
       " & -x_{1,3} + z_{1,3,8} + z_{3,1,8} = 0.0\\\\\n",
       " & -x_{1,6} + z_{1,6,2} + z_{6,1,2} = 0.0\\\\\n",
       " & -x_{1,6} + z_{1,6,3} + z_{6,1,3} = 0.0\\\\\n",
       " & -x_{1,6} + z_{1,6,4} + z_{6,1,4} = 0.0\\\\\n",
       " & -x_{1,6} + z_{1,6,5} + z_{6,1,5} = 0.0\\\\\n",
       " & -x_{1,6} + z_{1,6,7} + z_{6,1,7} = 0.0\\\\\n",
       " & -x_{1,6} + z_{1,6,8} + z_{6,1,8} = 0.0\\\\\n",
       " & -x_{1,8} + z_{1,8,2} + z_{8,1,2} = 0.0\\\\\n",
       " & -x_{1,8} + z_{1,8,3} + z_{8,1,3} = 0.0\\\\\n",
       " & -x_{1,8} + z_{1,8,4} + z_{8,1,4} = 0.0\\\\\n",
       " & -x_{1,8} + z_{1,8,5} + z_{8,1,5} = 0.0\\\\\n",
       " & -x_{1,8} + z_{1,8,6} + z_{8,1,6} = 0.0\\\\\n",
       " & -x_{1,8} + z_{1,8,7} + z_{8,1,7} = 0.0\\\\\n",
       " & -x_{2,3} + z_{2,3,1} + z_{3,2,1} = 0.0\\\\\n",
       " & -x_{2,3} + z_{2,3,4} + z_{3,2,4} = 0.0\\\\\n",
       " & -x_{2,3} + z_{2,3,5} + z_{3,2,5} = 0.0\\\\\n",
       " & -x_{2,3} + z_{2,3,6} + z_{3,2,6} = 0.0\\\\\n",
       " & -x_{2,3} + z_{2,3,7} + z_{3,2,7} = 0.0\\\\\n",
       " & -x_{2,3} + z_{2,3,8} + z_{3,2,8} = 0.0\\\\\n",
       " & -x_{2,5} + z_{2,5,1} + z_{5,2,1} = 0.0\\\\\n",
       " & -x_{2,5} + z_{2,5,3} + z_{5,2,3} = 0.0\\\\\n",
       " & -x_{2,5} + z_{2,5,4} + z_{5,2,4} = 0.0\\\\\n",
       " & -x_{2,5} + z_{2,5,6} + z_{5,2,6} = 0.0\\\\\n",
       " & -x_{2,5} + z_{2,5,7} + z_{5,2,7} = 0.0\\\\\n",
       " & -x_{2,5} + z_{2,5,8} + z_{5,2,8} = 0.0\\\\\n",
       " & -x_{3,4} + z_{3,4,1} + z_{4,3,1} = 0.0\\\\\n",
       " & -x_{3,4} + z_{3,4,2} + z_{4,3,2} = 0.0\\\\\n",
       " & -x_{3,4} + z_{3,4,5} + z_{4,3,5} = 0.0\\\\\n",
       " & -x_{3,4} + z_{3,4,6} + z_{4,3,6} = 0.0\\\\\n",
       " & -x_{3,4} + z_{3,4,7} + z_{4,3,7} = 0.0\\\\\n",
       " & -x_{3,4} + z_{3,4,8} + z_{4,3,8} = 0.0\\\\\n",
       " & -x_{3,8} + z_{3,8,1} + z_{8,3,1} = 0.0\\\\\n",
       " & -x_{3,8} + z_{3,8,2} + z_{8,3,2} = 0.0\\\\\n",
       " & -x_{3,8} + z_{3,8,4} + z_{8,3,4} = 0.0\\\\\n",
       " & -x_{3,8} + z_{3,8,5} + z_{8,3,5} = 0.0\\\\\n",
       " & -x_{3,8} + z_{3,8,6} + z_{8,3,6} = 0.0\\\\\n",
       " & -x_{3,8} + z_{3,8,7} + z_{8,3,7} = 0.0\\\\\n",
       " & -x_{4,5} + z_{4,5,1} + z_{5,4,1} = 0.0\\\\\n",
       " & -x_{4,5} + z_{4,5,2} + z_{5,4,2} = 0.0\\\\\n",
       " & -x_{4,5} + z_{4,5,3} + z_{5,4,3} = 0.0\\\\\n",
       " & -x_{4,5} + z_{4,5,6} + z_{5,4,6} = 0.0\\\\\n",
       " & -x_{4,5} + z_{4,5,7} + z_{5,4,7} = 0.0\\\\\n",
       " & -x_{4,5} + z_{4,5,8} + z_{5,4,8} = 0.0\\\\\n",
       " & -x_{4,7} + z_{4,7,1} + z_{7,4,1} = 0.0\\\\\n",
       " & -x_{4,7} + z_{4,7,2} + z_{7,4,2} = 0.0\\\\\n",
       " & -x_{4,7} + z_{4,7,3} + z_{7,4,3} = 0.0\\\\\n",
       " & -x_{4,7} + z_{4,7,5} + z_{7,4,5} = 0.0\\\\\n",
       " & -x_{4,7} + z_{4,7,6} + z_{7,4,6} = 0.0\\\\\n",
       " & -x_{4,7} + z_{4,7,8} + z_{7,4,8} = 0.0\\\\\n",
       " & -x_{4,8} + z_{4,8,1} + z_{8,4,1} = 0.0\\\\\n",
       " & -x_{4,8} + z_{4,8,2} + z_{8,4,2} = 0.0\\\\\n",
       " & -x_{4,8} + z_{4,8,3} + z_{8,4,3} = 0.0\\\\\n",
       " & -x_{4,8} + z_{4,8,5} + z_{8,4,5} = 0.0\\\\\n",
       " & -x_{4,8} + z_{4,8,6} + z_{8,4,6} = 0.0\\\\\n",
       " & -x_{4,8} + z_{4,8,7} + z_{8,4,7} = 0.0\\\\\n",
       " & -x_{5,6} + z_{5,6,1} + z_{6,5,1} = 0.0\\\\\n",
       " & -x_{5,6} + z_{5,6,2} + z_{6,5,2} = 0.0\\\\\n",
       " & -x_{5,6} + z_{5,6,3} + z_{6,5,3} = 0.0\\\\\n",
       " & -x_{5,6} + z_{5,6,4} + z_{6,5,4} = 0.0\\\\\n",
       " & -x_{5,6} + z_{5,6,7} + z_{6,5,7} = 0.0\\\\\n",
       " & -x_{5,6} + z_{5,6,8} + z_{6,5,8} = 0.0\\\\\n",
       " & -x_{5,7} + z_{5,7,1} + z_{7,5,1} = 0.0\\\\\n",
       " & -x_{5,7} + z_{5,7,2} + z_{7,5,2} = 0.0\\\\\n",
       " & -x_{5,7} + z_{5,7,3} + z_{7,5,3} = 0.0\\\\\n",
       " & -x_{5,7} + z_{5,7,4} + z_{7,5,4} = 0.0\\\\\n",
       " & -x_{5,7} + z_{5,7,6} + z_{7,5,6} = 0.0\\\\\n",
       " & -x_{5,7} + z_{5,7,8} + z_{7,5,8} = 0.0\\\\\n",
       " & -x_{6,7} + z_{6,7,1} + z_{7,6,1} = 0.0\\\\\n",
       " & -x_{6,7} + z_{6,7,2} + z_{7,6,2} = 0.0\\\\\n",
       " & -x_{6,7} + z_{6,7,3} + z_{7,6,3} = 0.0\\\\\n",
       " & -x_{6,7} + z_{6,7,4} + z_{7,6,4} = 0.0\\\\\n",
       " & -x_{6,7} + z_{6,7,5} + z_{7,6,5} = 0.0\\\\\n",
       " & -x_{6,7} + z_{6,7,8} + z_{7,6,8} = 0.0\\\\\n",
       " & -x_{7,8} + z_{7,8,1} + z_{8,7,1} = 0.0\\\\\n",
       " & -x_{7,8} + z_{7,8,2} + z_{8,7,2} = 0.0\\\\\n",
       " & -x_{7,8} + z_{7,8,3} + z_{8,7,3} = 0.0\\\\\n",
       " & -x_{7,8} + z_{7,8,4} + z_{8,7,4} = 0.0\\\\\n",
       " & -x_{7,8} + z_{7,8,5} + z_{8,7,5} = 0.0\\\\\n",
       " & -x_{7,8} + z_{7,8,6} + z_{8,7,6} = 0.0\\\\\n",
       " & x_{1,2} + z_{1,3,2} + z_{1,6,2} + z_{1,8,2} = 1.0\\\\\n",
       " & x_{1,3} + z_{1,2,3} + z_{1,6,3} + z_{1,8,3} = 1.0\\\\\n",
       " & x_{1,6} + z_{1,2,6} + z_{1,3,6} + z_{1,8,6} = 1.0\\\\\n",
       " & x_{1,8} + z_{1,2,8} + z_{1,3,8} + z_{1,6,8} = 1.0\\\\\n",
       " & x_{2,3} + z_{2,1,3} + z_{2,5,3} = 1.0\\\\\n",
       " & x_{2,5} + z_{2,1,5} + z_{2,3,5} = 1.0\\\\\n",
       " & x_{3,4} + z_{3,1,4} + z_{3,2,4} + z_{3,8,4} = 1.0\\\\\n",
       " & x_{3,8} + z_{3,1,8} + z_{3,2,8} + z_{3,4,8} = 1.0\\\\\n",
       " & x_{4,5} + z_{4,3,5} + z_{4,7,5} + z_{4,8,5} = 1.0\\\\\n",
       " & x_{4,7} + z_{4,3,7} + z_{4,5,7} + z_{4,8,7} = 1.0\\\\\n",
       " & x_{4,8} + z_{4,3,8} + z_{4,5,8} + z_{4,7,8} = 1.0\\\\\n",
       " & x_{5,6} + z_{5,2,6} + z_{5,4,6} + z_{5,7,6} = 1.0\\\\\n",
       " & x_{5,7} + z_{5,2,7} + z_{5,4,7} + z_{5,6,7} = 1.0\\\\\n",
       " & x_{6,7} + z_{6,1,7} + z_{6,5,7} = 1.0\\\\\n",
       " & x_{7,8} + z_{7,4,8} + z_{7,5,8} + z_{7,6,8} = 1.0\\\\\n",
       " & x_{1,2} \\geq 0.0\\\\\n",
       " & x_{1,3} \\geq 0.0\\\\\n",
       " & x_{1,6} \\geq 0.0\\\\\n",
       " & x_{1,8} \\geq 0.0\\\\\n",
       " & x_{2,3} \\geq 0.0\\\\\n",
       " & x_{2,5} \\geq 0.0\\\\\n",
       " & x_{3,4} \\geq 0.0\\\\\n",
       " & x_{3,8} \\geq 0.0\\\\\n",
       " & x_{4,5} \\geq 0.0\\\\\n",
       " & x_{4,7} \\geq 0.0\\\\\n",
       " & x_{4,8} \\geq 0.0\\\\\n",
       " & x_{5,6} \\geq 0.0\\\\\n",
       " & x_{5,7} \\geq 0.0\\\\\n",
       " & x_{6,7} \\geq 0.0\\\\\n",
       " & x_{7,8} \\geq 0.0\\\\\n",
       " & z_{1,2,3} \\geq 0.0\\\\\n",
       " & z_{1,2,4} \\geq 0.0\\\\\n",
       " & z_{1,2,5} \\geq 0.0\\\\\n",
       " & z_{1,2,6} \\geq 0.0\\\\\n",
       " & z_{1,2,7} \\geq 0.0\\\\\n",
       " & z_{1,2,8} \\geq 0.0\\\\\n",
       " & z_{1,3,2} \\geq 0.0\\\\\n",
       " & z_{1,3,4} \\geq 0.0\\\\\n",
       " & z_{1,3,5} \\geq 0.0\\\\\n",
       " & z_{1,3,6} \\geq 0.0\\\\\n",
       " & z_{1,3,7} \\geq 0.0\\\\\n",
       " & z_{1,3,8} \\geq 0.0\\\\\n",
       " & z_{1,6,2} \\geq 0.0\\\\\n",
       " & z_{1,6,3} \\geq 0.0\\\\\n",
       " & z_{1,6,4} \\geq 0.0\\\\\n",
       " & z_{1,6,5} \\geq 0.0\\\\\n",
       " & z_{1,6,7} \\geq 0.0\\\\\n",
       " & z_{1,6,8} \\geq 0.0\\\\\n",
       " & z_{1,8,2} \\geq 0.0\\\\\n",
       " & z_{1,8,3} \\geq 0.0\\\\\n",
       " & z_{1,8,4} \\geq 0.0\\\\\n",
       " & z_{1,8,5} \\geq 0.0\\\\\n",
       " & z_{1,8,6} \\geq 0.0\\\\\n",
       " & z_{1,8,7} \\geq 0.0\\\\\n",
       " & z_{2,1,3} \\geq 0.0\\\\\n",
       " & z_{2,1,4} \\geq 0.0\\\\\n",
       " & z_{2,1,5} \\geq 0.0\\\\\n",
       " & z_{2,1,6} \\geq 0.0\\\\\n",
       " & z_{2,1,7} \\geq 0.0\\\\\n",
       " & z_{2,1,8} \\geq 0.0\\\\\n",
       " & z_{2,3,1} \\geq 0.0\\\\\n",
       " & z_{2,3,4} \\geq 0.0\\\\\n",
       " & z_{2,3,5} \\geq 0.0\\\\\n",
       " & z_{2,3,6} \\geq 0.0\\\\\n",
       " & z_{2,3,7} \\geq 0.0\\\\\n",
       " & z_{2,3,8} \\geq 0.0\\\\\n",
       " & z_{2,5,1} \\geq 0.0\\\\\n",
       " & z_{2,5,3} \\geq 0.0\\\\\n",
       " & z_{2,5,4} \\geq 0.0\\\\\n",
       " & z_{2,5,6} \\geq 0.0\\\\\n",
       " & z_{2,5,7} \\geq 0.0\\\\\n",
       " & z_{2,5,8} \\geq 0.0\\\\\n",
       " & z_{3,1,2} \\geq 0.0\\\\\n",
       " & z_{3,1,4} \\geq 0.0\\\\\n",
       " & z_{3,1,5} \\geq 0.0\\\\\n",
       " & z_{3,1,6} \\geq 0.0\\\\\n",
       " & z_{3,1,7} \\geq 0.0\\\\\n",
       " & z_{3,1,8} \\geq 0.0\\\\\n",
       " & z_{3,2,1} \\geq 0.0\\\\\n",
       " & z_{3,2,4} \\geq 0.0\\\\\n",
       " & z_{3,2,5} \\geq 0.0\\\\\n",
       " & z_{3,2,6} \\geq 0.0\\\\\n",
       " & z_{3,2,7} \\geq 0.0\\\\\n",
       " & z_{3,2,8} \\geq 0.0\\\\\n",
       " & z_{3,4,1} \\geq 0.0\\\\\n",
       " & z_{3,4,2} \\geq 0.0\\\\\n",
       " & z_{3,4,5} \\geq 0.0\\\\\n",
       " & z_{3,4,6} \\geq 0.0\\\\\n",
       " & z_{3,4,7} \\geq 0.0\\\\\n",
       " & z_{3,4,8} \\geq 0.0\\\\\n",
       " & z_{3,8,1} \\geq 0.0\\\\\n",
       " & z_{3,8,2} \\geq 0.0\\\\\n",
       " & z_{3,8,4} \\geq 0.0\\\\\n",
       " & z_{3,8,5} \\geq 0.0\\\\\n",
       " & z_{3,8,6} \\geq 0.0\\\\\n",
       " & z_{3,8,7} \\geq 0.0\\\\\n",
       " & z_{4,3,1} \\geq 0.0\\\\\n",
       " & z_{4,3,2} \\geq 0.0\\\\\n",
       " & z_{4,3,5} \\geq 0.0\\\\\n",
       " & z_{4,3,6} \\geq 0.0\\\\\n",
       " & z_{4,3,7} \\geq 0.0\\\\\n",
       " & z_{4,3,8} \\geq 0.0\\\\\n",
       " & z_{4,5,1} \\geq 0.0\\\\\n",
       " & z_{4,5,2} \\geq 0.0\\\\\n",
       " & z_{4,5,3} \\geq 0.0\\\\\n",
       " & z_{4,5,6} \\geq 0.0\\\\\n",
       " & z_{4,5,7} \\geq 0.0\\\\\n",
       " & z_{4,5,8} \\geq 0.0\\\\\n",
       " & z_{4,7,1} \\geq 0.0\\\\\n",
       " & z_{4,7,2} \\geq 0.0\\\\\n",
       " & z_{4,7,3} \\geq 0.0\\\\\n",
       " & z_{4,7,5} \\geq 0.0\\\\\n",
       " & z_{4,7,6} \\geq 0.0\\\\\n",
       " & z_{4,7,8} \\geq 0.0\\\\\n",
       " & z_{4,8,1} \\geq 0.0\\\\\n",
       " & z_{4,8,2} \\geq 0.0\\\\\n",
       " & z_{4,8,3} \\geq 0.0\\\\\n",
       " & z_{4,8,5} \\geq 0.0\\\\\n",
       " & z_{4,8,6} \\geq 0.0\\\\\n",
       " & z_{4,8,7} \\geq 0.0\\\\\n",
       " & z_{5,2,1} \\geq 0.0\\\\\n",
       " & z_{5,2,3} \\geq 0.0\\\\\n",
       " & z_{5,2,4} \\geq 0.0\\\\\n",
       " & z_{5,2,6} \\geq 0.0\\\\\n",
       " & z_{5,2,7} \\geq 0.0\\\\\n",
       " & z_{5,2,8} \\geq 0.0\\\\\n",
       " & z_{5,4,1} \\geq 0.0\\\\\n",
       " & z_{5,4,2} \\geq 0.0\\\\\n",
       " & z_{5,4,3} \\geq 0.0\\\\\n",
       " & z_{5,4,6} \\geq 0.0\\\\\n",
       " & z_{5,4,7} \\geq 0.0\\\\\n",
       " & z_{5,4,8} \\geq 0.0\\\\\n",
       " & z_{5,6,1} \\geq 0.0\\\\\n",
       " & z_{5,6,2} \\geq 0.0\\\\\n",
       " & z_{5,6,3} \\geq 0.0\\\\\n",
       " & z_{5,6,4} \\geq 0.0\\\\\n",
       " & z_{5,6,7} \\geq 0.0\\\\\n",
       " & z_{5,6,8} \\geq 0.0\\\\\n",
       " & z_{5,7,1} \\geq 0.0\\\\\n",
       " & z_{5,7,2} \\geq 0.0\\\\\n",
       " & z_{5,7,3} \\geq 0.0\\\\\n",
       " & z_{5,7,4} \\geq 0.0\\\\\n",
       " & z_{5,7,6} \\geq 0.0\\\\\n",
       " & z_{5,7,8} \\geq 0.0\\\\\n",
       " & z_{6,1,2} \\geq 0.0\\\\\n",
       " & z_{6,1,3} \\geq 0.0\\\\\n",
       " & z_{6,1,4} \\geq 0.0\\\\\n",
       " & z_{6,1,5} \\geq 0.0\\\\\n",
       " & z_{6,1,7} \\geq 0.0\\\\\n",
       " & z_{6,1,8} \\geq 0.0\\\\\n",
       " & z_{6,5,1} \\geq 0.0\\\\\n",
       " & z_{6,5,2} \\geq 0.0\\\\\n",
       " & z_{6,5,3} \\geq 0.0\\\\\n",
       " & z_{6,5,4} \\geq 0.0\\\\\n",
       " & z_{6,5,7} \\geq 0.0\\\\\n",
       " & z_{6,5,8} \\geq 0.0\\\\\n",
       " & z_{6,7,1} \\geq 0.0\\\\\n",
       " & z_{6,7,2} \\geq 0.0\\\\\n",
       " & z_{6,7,3} \\geq 0.0\\\\\n",
       " & z_{6,7,4} \\geq 0.0\\\\\n",
       " & z_{6,7,5} \\geq 0.0\\\\\n",
       " & z_{6,7,8} \\geq 0.0\\\\\n",
       " & z_{7,4,1} \\geq 0.0\\\\\n",
       " & z_{7,4,2} \\geq 0.0\\\\\n",
       " & z_{7,4,3} \\geq 0.0\\\\\n",
       " & z_{7,4,5} \\geq 0.0\\\\\n",
       " & z_{7,4,6} \\geq 0.0\\\\\n",
       " & z_{7,4,8} \\geq 0.0\\\\\n",
       " & z_{7,5,1} \\geq 0.0\\\\\n",
       " & z_{7,5,2} \\geq 0.0\\\\\n",
       " & z_{7,5,3} \\geq 0.0\\\\\n",
       " & z_{7,5,4} \\geq 0.0\\\\\n",
       " & z_{7,5,6} \\geq 0.0\\\\\n",
       " & z_{7,5,8} \\geq 0.0\\\\\n",
       " & z_{7,6,1} \\geq 0.0\\\\\n",
       " & z_{7,6,2} \\geq 0.0\\\\\n",
       " & z_{7,6,3} \\geq 0.0\\\\\n",
       " & z_{7,6,4} \\geq 0.0\\\\\n",
       " & z_{7,6,5} \\geq 0.0\\\\\n",
       " & z_{7,6,8} \\geq 0.0\\\\\n",
       " & z_{7,8,1} \\geq 0.0\\\\\n",
       " & z_{7,8,2} \\geq 0.0\\\\\n",
       " & z_{7,8,3} \\geq 0.0\\\\\n",
       " & z_{7,8,4} \\geq 0.0\\\\\n",
       " & z_{7,8,5} \\geq 0.0\\\\\n",
       " & z_{7,8,6} \\geq 0.0\\\\\n",
       " & z_{8,1,2} \\geq 0.0\\\\\n",
       " & z_{8,1,3} \\geq 0.0\\\\\n",
       " & z_{8,1,4} \\geq 0.0\\\\\n",
       " & z_{8,1,5} \\geq 0.0\\\\\n",
       " & z_{8,1,6} \\geq 0.0\\\\\n",
       " & z_{8,1,7} \\geq 0.0\\\\\n",
       " & z_{8,3,1} \\geq 0.0\\\\\n",
       " & z_{8,3,2} \\geq 0.0\\\\\n",
       " & z_{8,3,4} \\geq 0.0\\\\\n",
       " & z_{8,3,5} \\geq 0.0\\\\\n",
       " & z_{8,3,6} \\geq 0.0\\\\\n",
       " & z_{8,3,7} \\geq 0.0\\\\\n",
       " & z_{8,4,1} \\geq 0.0\\\\\n",
       " & z_{8,4,2} \\geq 0.0\\\\\n",
       " & z_{8,4,3} \\geq 0.0\\\\\n",
       " & z_{8,4,5} \\geq 0.0\\\\\n",
       " & z_{8,4,6} \\geq 0.0\\\\\n",
       " & z_{8,4,7} \\geq 0.0\\\\\n",
       " & z_{8,7,1} \\geq 0.0\\\\\n",
       " & z_{8,7,2} \\geq 0.0\\\\\n",
       " & z_{8,7,3} \\geq 0.0\\\\\n",
       " & z_{8,7,4} \\geq 0.0\\\\\n",
       " & z_{8,7,5} \\geq 0.0\\\\\n",
       " & z_{8,7,6} \\geq 0.0\\\\\n",
       " & x_{1,2} \\leq 1.0\\\\\n",
       " & x_{1,3} \\leq 1.0\\\\\n",
       " & x_{1,6} \\leq 1.0\\\\\n",
       " & x_{1,8} \\leq 1.0\\\\\n",
       " & x_{2,3} \\leq 1.0\\\\\n",
       " & x_{2,5} \\leq 1.0\\\\\n",
       " & x_{3,4} \\leq 1.0\\\\\n",
       " & x_{3,8} \\leq 1.0\\\\\n",
       " & x_{4,5} \\leq 1.0\\\\\n",
       " & x_{4,7} \\leq 1.0\\\\\n",
       " & x_{4,8} \\leq 1.0\\\\\n",
       " & x_{5,6} \\leq 1.0\\\\\n",
       " & x_{5,7} \\leq 1.0\\\\\n",
       " & x_{6,7} \\leq 1.0\\\\\n",
       " & x_{7,8} \\leq 1.0\\\\\n",
       " & x_{1,2} integer\\\\\n",
       " & x_{1,3} integer\\\\\n",
       " & x_{1,6} integer\\\\\n",
       " & x_{1,8} integer\\\\\n",
       " & x_{2,3} integer\\\\\n",
       " & x_{2,5} integer\\\\\n",
       " & x_{3,4} integer\\\\\n",
       " & x_{3,8} integer\\\\\n",
       " & x_{4,5} integer\\\\\n",
       " & x_{4,7} integer\\\\\n",
       " & x_{4,8} integer\\\\\n",
       " & x_{5,6} integer\\\\\n",
       " & x_{5,7} integer\\\\\n",
       " & x_{6,7} integer\\\\\n",
       " & x_{7,8} integer\\\\\n",
       " & z_{1,2,3} integer\\\\\n",
       " & z_{1,2,4} integer\\\\\n",
       " & z_{1,2,5} integer\\\\\n",
       " & z_{1,2,6} integer\\\\\n",
       " & z_{1,2,7} integer\\\\\n",
       " & z_{1,2,8} integer\\\\\n",
       " & z_{1,3,2} integer\\\\\n",
       " & z_{1,3,4} integer\\\\\n",
       " & z_{1,3,5} integer\\\\\n",
       " & z_{1,3,6} integer\\\\\n",
       " & z_{1,3,7} integer\\\\\n",
       " & z_{1,3,8} integer\\\\\n",
       " & z_{1,6,2} integer\\\\\n",
       " & z_{1,6,3} integer\\\\\n",
       " & z_{1,6,4} integer\\\\\n",
       " & z_{1,6,5} integer\\\\\n",
       " & z_{1,6,7} integer\\\\\n",
       " & z_{1,6,8} integer\\\\\n",
       " & z_{1,8,2} integer\\\\\n",
       " & z_{1,8,3} integer\\\\\n",
       " & z_{1,8,4} integer\\\\\n",
       " & z_{1,8,5} integer\\\\\n",
       " & z_{1,8,6} integer\\\\\n",
       " & z_{1,8,7} integer\\\\\n",
       " & z_{2,1,3} integer\\\\\n",
       " & z_{2,1,4} integer\\\\\n",
       " & z_{2,1,5} integer\\\\\n",
       " & z_{2,1,6} integer\\\\\n",
       " & z_{2,1,7} integer\\\\\n",
       " & z_{2,1,8} integer\\\\\n",
       " & z_{2,3,1} integer\\\\\n",
       " & z_{2,3,4} integer\\\\\n",
       " & z_{2,3,5} integer\\\\\n",
       " & z_{2,3,6} integer\\\\\n",
       " & z_{2,3,7} integer\\\\\n",
       " & z_{2,3,8} integer\\\\\n",
       " & z_{2,5,1} integer\\\\\n",
       " & z_{2,5,3} integer\\\\\n",
       " & z_{2,5,4} integer\\\\\n",
       " & z_{2,5,6} integer\\\\\n",
       " & z_{2,5,7} integer\\\\\n",
       " & z_{2,5,8} integer\\\\\n",
       " & z_{3,1,2} integer\\\\\n",
       " & z_{3,1,4} integer\\\\\n",
       " & z_{3,1,5} integer\\\\\n",
       " & z_{3,1,6} integer\\\\\n",
       " & z_{3,1,7} integer\\\\\n",
       " & z_{3,1,8} integer\\\\\n",
       " & z_{3,2,1} integer\\\\\n",
       " & z_{3,2,4} integer\\\\\n",
       " & z_{3,2,5} integer\\\\\n",
       " & z_{3,2,6} integer\\\\\n",
       " & z_{3,2,7} integer\\\\\n",
       " & z_{3,2,8} integer\\\\\n",
       " & z_{3,4,1} integer\\\\\n",
       " & z_{3,4,2} integer\\\\\n",
       " & z_{3,4,5} integer\\\\\n",
       " & z_{3,4,6} integer\\\\\n",
       " & z_{3,4,7} integer\\\\\n",
       " & z_{3,4,8} integer\\\\\n",
       " & z_{3,8,1} integer\\\\\n",
       " & z_{3,8,2} integer\\\\\n",
       " & z_{3,8,4} integer\\\\\n",
       " & z_{3,8,5} integer\\\\\n",
       " & z_{3,8,6} integer\\\\\n",
       " & z_{3,8,7} integer\\\\\n",
       " & z_{4,3,1} integer\\\\\n",
       " & z_{4,3,2} integer\\\\\n",
       " & z_{4,3,5} integer\\\\\n",
       " & z_{4,3,6} integer\\\\\n",
       " & z_{4,3,7} integer\\\\\n",
       " & z_{4,3,8} integer\\\\\n",
       " & z_{4,5,1} integer\\\\\n",
       " & z_{4,5,2} integer\\\\\n",
       " & z_{4,5,3} integer\\\\\n",
       " & z_{4,5,6} integer\\\\\n",
       " & z_{4,5,7} integer\\\\\n",
       " & z_{4,5,8} integer\\\\\n",
       " & z_{4,7,1} integer\\\\\n",
       " & z_{4,7,2} integer\\\\\n",
       " & z_{4,7,3} integer\\\\\n",
       " & z_{4,7,5} integer\\\\\n",
       " & z_{4,7,6} integer\\\\\n",
       " & z_{4,7,8} integer\\\\\n",
       " & z_{4,8,1} integer\\\\\n",
       " & z_{4,8,2} integer\\\\\n",
       " & z_{4,8,3} integer\\\\\n",
       " & z_{4,8,5} integer\\\\\n",
       " & z_{4,8,6} integer\\\\\n",
       " & z_{4,8,7} integer\\\\\n",
       " & z_{5,2,1} integer\\\\\n",
       " & z_{5,2,3} integer\\\\\n",
       " & z_{5,2,4} integer\\\\\n",
       " & z_{5,2,6} integer\\\\\n",
       " & z_{5,2,7} integer\\\\\n",
       " & z_{5,2,8} integer\\\\\n",
       " & z_{5,4,1} integer\\\\\n",
       " & z_{5,4,2} integer\\\\\n",
       " & z_{5,4,3} integer\\\\\n",
       " & z_{5,4,6} integer\\\\\n",
       " & z_{5,4,7} integer\\\\\n",
       " & z_{5,4,8} integer\\\\\n",
       " & z_{5,6,1} integer\\\\\n",
       " & z_{5,6,2} integer\\\\\n",
       " & z_{5,6,3} integer\\\\\n",
       " & z_{5,6,4} integer\\\\\n",
       " & z_{5,6,7} integer\\\\\n",
       " & z_{5,6,8} integer\\\\\n",
       " & z_{5,7,1} integer\\\\\n",
       " & z_{5,7,2} integer\\\\\n",
       " & z_{5,7,3} integer\\\\\n",
       " & z_{5,7,4} integer\\\\\n",
       " & z_{5,7,6} integer\\\\\n",
       " & z_{5,7,8} integer\\\\\n",
       " & z_{6,1,2} integer\\\\\n",
       " & z_{6,1,3} integer\\\\\n",
       " & z_{6,1,4} integer\\\\\n",
       " & z_{6,1,5} integer\\\\\n",
       " & z_{6,1,7} integer\\\\\n",
       " & z_{6,1,8} integer\\\\\n",
       " & z_{6,5,1} integer\\\\\n",
       " & z_{6,5,2} integer\\\\\n",
       " & z_{6,5,3} integer\\\\\n",
       " & z_{6,5,4} integer\\\\\n",
       " & z_{6,5,7} integer\\\\\n",
       " & z_{6,5,8} integer\\\\\n",
       " & z_{6,7,1} integer\\\\\n",
       " & z_{6,7,2} integer\\\\\n",
       " & z_{6,7,3} integer\\\\\n",
       " & z_{6,7,4} integer\\\\\n",
       " & z_{6,7,5} integer\\\\\n",
       " & z_{6,7,8} integer\\\\\n",
       " & z_{7,4,1} integer\\\\\n",
       " & z_{7,4,2} integer\\\\\n",
       " & z_{7,4,3} integer\\\\\n",
       " & z_{7,4,5} integer\\\\\n",
       " & z_{7,4,6} integer\\\\\n",
       " & z_{7,4,8} integer\\\\\n",
       " & z_{7,5,1} integer\\\\\n",
       " & z_{7,5,2} integer\\\\\n",
       " & z_{7,5,3} integer\\\\\n",
       " & z_{7,5,4} integer\\\\\n",
       " & z_{7,5,6} integer\\\\\n",
       " & z_{7,5,8} integer\\\\\n",
       " & z_{7,6,1} integer\\\\\n",
       " & z_{7,6,2} integer\\\\\n",
       " & z_{7,6,3} integer\\\\\n",
       " & z_{7,6,4} integer\\\\\n",
       " & z_{7,6,5} integer\\\\\n",
       " & z_{7,6,8} integer\\\\\n",
       " & z_{7,8,1} integer\\\\\n",
       " & z_{7,8,2} integer\\\\\n",
       " & z_{7,8,3} integer\\\\\n",
       " & z_{7,8,4} integer\\\\\n",
       " & z_{7,8,5} integer\\\\\n",
       " & z_{7,8,6} integer\\\\\n",
       " & z_{8,1,2} integer\\\\\n",
       " & z_{8,1,3} integer\\\\\n",
       " & z_{8,1,4} integer\\\\\n",
       " & z_{8,1,5} integer\\\\\n",
       " & z_{8,1,6} integer\\\\\n",
       " & z_{8,1,7} integer\\\\\n",
       " & z_{8,3,1} integer\\\\\n",
       " & z_{8,3,2} integer\\\\\n",
       " & z_{8,3,4} integer\\\\\n",
       " & z_{8,3,5} integer\\\\\n",
       " & z_{8,3,6} integer\\\\\n",
       " & z_{8,3,7} integer\\\\\n",
       " & z_{8,4,1} integer\\\\\n",
       " & z_{8,4,2} integer\\\\\n",
       " & z_{8,4,3} integer\\\\\n",
       " & z_{8,4,5} integer\\\\\n",
       " & z_{8,4,6} integer\\\\\n",
       " & z_{8,4,7} integer\\\\\n",
       " & z_{8,7,1} integer\\\\\n",
       " & z_{8,7,2} integer\\\\\n",
       " & z_{8,7,3} integer\\\\\n",
       " & z_{8,7,4} integer\\\\\n",
       " & z_{8,7,5} integer\\\\\n",
       " & z_{8,7,6} integer\\\\\n",
       "\\end{alignat*}\n",
       " $$"
      ],
      "text/plain": [
       "A JuMP Model\n",
       "Minimization problem with:\n",
       "Variables: 195\n",
       "Objective function type: GenericAffExpr{Float64,VariableRef}\n",
       "`GenericAffExpr{Float64,VariableRef}`-in-`MathOptInterface.EqualTo{Float64}`: 106 constraints\n",
       "`VariableRef`-in-`MathOptInterface.GreaterThan{Float64}`: 195 constraints\n",
       "`VariableRef`-in-`MathOptInterface.LessThan{Float64}`: 15 constraints\n",
       "`VariableRef`-in-`MathOptInterface.Integer`: 195 constraints\n",
       "Model mode: AUTOMATIC\n",
       "CachingOptimizer state: EMPTY_OPTIMIZER\n",
       "Solver name: Gurobi\n",
       "Names registered in the model: x, z"
      ]
     },
     "execution_count": 23,
     "metadata": {},
     "output_type": "execute_result"
    }
   ],
   "source": [
    "# Lea el grafo y cree el modelo, mostrando el tiempo de ejecución\n",
    "N, E, w = leegrafo(\"grafo1.csv\")\n",
    "@time mimodelo4 = modelo_componentes(N, E, w)"
   ]
  },
  {
   "cell_type": "code",
   "execution_count": 24,
   "metadata": {},
   "outputs": [],
   "source": [
    "# Optimice el modelo, mostrando el tiempo de ejecución\n",
    "optimize!(mimodelo4);"
   ]
  },
  {
   "cell_type": "code",
   "execution_count": 25,
   "metadata": {},
   "outputs": [
    {
     "data": {
      "text/plain": [
       "35.0"
      ]
     },
     "execution_count": 25,
     "metadata": {},
     "output_type": "execute_result"
    }
   ],
   "source": [
    "# Muestre el valor objetivo (objective_value)\n",
    "objective_value(mimodelo4)"
   ]
  },
  {
   "cell_type": "code",
   "execution_count": 26,
   "metadata": {},
   "outputs": [
    {
     "data": {
      "text/plain": [
       "JuMP.Containers.SparseAxisArray{Float64,2,Tuple{Int64,Int64}} with 15 entries:\n",
       "  [1, 6]  =  1.0\n",
       "  [2, 3]  =  -0.0\n",
       "  [5, 6]  =  -0.0\n",
       "  [2, 5]  =  1.0\n",
       "  [4, 7]  =  1.0\n",
       "  [4, 5]  =  -0.0\n",
       "  [1, 3]  =  -0.0\n",
       "  [4, 8]  =  -0.0\n",
       "  [7, 8]  =  -0.0\n",
       "  [1, 8]  =  1.0\n",
       "  [6, 7]  =  0.0\n",
       "  [1, 2]  =  -0.0\n",
       "  [3, 8]  =  1.0\n",
       "  [3, 4]  =  1.0\n",
       "  [5, 7]  =  1.0"
      ]
     },
     "execution_count": 26,
     "metadata": {},
     "output_type": "execute_result"
    }
   ],
   "source": [
    "# Mostrar aristas de valor 1\n",
    "value.(mimodelo4[:x])"
   ]
  },
  {
   "cell_type": "markdown",
   "metadata": {},
   "source": [
    "## Ejercicio 5. Pequeña prueba de la calidad de cada formulación\n",
    "\n",
    "Cree una función ``Prueba(N,e,w)`` que reciba valores N,E,w y realice lo siguiente\n",
    "\n",
    "1. Para cada modelo resuelva el problema asociado 2 veces: una vez con todas las variables enteras y la segunda vez quitando la restricción de integralidad (puede usar el comando unset_integer(nombremodelo[:nombrevariable]))\n",
    "\n",
    "La única salida que se pide, es que al final de todas las ejecuciones, no entremedio del texto que manda Gurobi, se\n",
    "imprima en la pantalla 4 lineas, una con cada modelo. Como sigue:\n",
    "\n",
    "> Modelo (NOMBRE):  Valor del PLE = (valor_objetivo_PLE). Valor del PL = (valor_objetivo_PL)\n",
    "\n",
    "2. Ejecute su función en los grafos \"grafo1.csv\" al \"grafo5.csv\".\n"
   ]
  },
  {
   "cell_type": "code",
   "execution_count": 27,
   "metadata": {},
   "outputs": [
    {
     "data": {
      "text/plain": [
       "Prueba (generic function with 1 method)"
      ]
     },
     "execution_count": 27,
     "metadata": {},
     "output_type": "execute_result"
    }
   ],
   "source": [
    "function Prueba(N, E, w)\n",
    "    output = \"\"\n",
    "    for modelo in [modelo_cortes, modelo_ciclos, modelo_arborescencia, modelo_componentes]\n",
    "        mimodelo = modelo(N, E, w);\n",
    "        optimize!(mimodelo);\n",
    "        valor_objetivo_PLE = objective_value(mimodelo);\n",
    "        mimodelo = modelo(N, E, w);\n",
    "        for t in mimodelo[:x]\n",
    "            unset_integer(t)\n",
    "        end\n",
    "        if modelo == modelo_arborescencia\n",
    "            for t in mimodelo[:y]\n",
    "                unset_integer(t)\n",
    "            end\n",
    "        end\n",
    "        if modelo == modelo_componentes\n",
    "            for t in mimodelo[:z]\n",
    "                unset_integer(t)\n",
    "            end\n",
    "        end\n",
    "        optimize!(mimodelo);\n",
    "        valor_objetivo_PL = objective_value(mimodelo);\n",
    "        output = output * \"Modelo ($modelo): Valor del PLE = $valor_objetivo_PLE . Valor del PL = $valor_objetivo_PL\" * \"\\n\"\n",
    "    end\n",
    "    println(output)\n",
    "end"
   ]
  },
  {
   "cell_type": "code",
   "execution_count": 28,
   "metadata": {},
   "outputs": [
    {
     "name": "stdout",
     "output_type": "stream",
     "text": [
      "---grafo1.csv---\n",
      "Academic license - for non-commercial use only - expires 2021-05-20\n",
      "Academic license - for non-commercial use only - expires 2021-05-20\n",
      "Academic license - for non-commercial use only - expires 2021-05-20\n",
      "Academic license - for non-commercial use only - expires 2021-05-20\n",
      "Academic license - for non-commercial use only - expires 2021-05-20\n",
      "Academic license - for non-commercial use only - expires 2021-05-20\n",
      "Academic license - for non-commercial use only - expires 2021-05-20\n",
      "Academic license - for non-commercial use only - expires 2021-05-20\n",
      "Modelo (modelo_cortes): Valor del PLE = 35.0 . Valor del PL = 35.0\n",
      "Modelo (modelo_ciclos): Valor del PLE = 35.0 . Valor del PL = 35.0\n",
      "Modelo (modelo_arborescencia): Valor del PLE = 35.0 . Valor del PL = 35.0\n",
      "Modelo (modelo_componentes): Valor del PLE = 35.0 . Valor del PL = 35.0\n",
      "\n",
      "---grafo2.csv---\n",
      "Academic license - for non-commercial use only - expires 2021-05-20\n",
      "Academic license - for non-commercial use only - expires 2021-05-20\n",
      "Academic license - for non-commercial use only - expires 2021-05-20\n",
      "Academic license - for non-commercial use only - expires 2021-05-20\n",
      "Academic license - for non-commercial use only - expires 2021-05-20\n",
      "Academic license - for non-commercial use only - expires 2021-05-20\n",
      "Academic license - for non-commercial use only - expires 2021-05-20\n",
      "Academic license - for non-commercial use only - expires 2021-05-20\n",
      "Modelo (modelo_cortes): Valor del PLE = 233.0 . Valor del PL = 230.5\n",
      "Modelo (modelo_ciclos): Valor del PLE = 233.0 . Valor del PL = 233.0\n",
      "Modelo (modelo_arborescencia): Valor del PLE = 233.0 . Valor del PL = 233.0\n",
      "Modelo (modelo_componentes): Valor del PLE = 228.0 . Valor del PL = 228.0\n",
      "\n",
      "---grafo3.csv---\n",
      "Academic license - for non-commercial use only - expires 2021-05-20\n",
      "Academic license - for non-commercial use only - expires 2021-05-20\n",
      "Academic license - for non-commercial use only - expires 2021-05-20\n",
      "Academic license - for non-commercial use only - expires 2021-05-20\n",
      "Academic license - for non-commercial use only - expires 2021-05-20\n",
      "Academic license - for non-commercial use only - expires 2021-05-20\n",
      "Academic license - for non-commercial use only - expires 2021-05-20\n",
      "Academic license - for non-commercial use only - expires 2021-05-20\n",
      "Modelo (modelo_cortes): Valor del PLE = 159.0 . Valor del PL = 153.5\n",
      "Modelo (modelo_ciclos): Valor del PLE = 159.0 . Valor del PL = 159.0\n",
      "Modelo (modelo_arborescencia): Valor del PLE = 159.0 . Valor del PL = 159.0\n",
      "Modelo (modelo_componentes): Valor del PLE = 159.0 . Valor del PL = 159.0\n",
      "\n",
      "---grafo4.csv---\n",
      "Academic license - for non-commercial use only - expires 2021-05-20\n",
      "Academic license - for non-commercial use only - expires 2021-05-20\n",
      "Academic license - for non-commercial use only - expires 2021-05-20\n",
      "Academic license - for non-commercial use only - expires 2021-05-20\n",
      "Academic license - for non-commercial use only - expires 2021-05-20\n",
      "Academic license - for non-commercial use only - expires 2021-05-20\n",
      "Academic license - for non-commercial use only - expires 2021-05-20\n",
      "Academic license - for non-commercial use only - expires 2021-05-20\n",
      "Modelo (modelo_cortes): Valor del PLE = 110.0 . Valor del PL = 108.5\n",
      "Modelo (modelo_ciclos): Valor del PLE = 110.0 . Valor del PL = 110.0\n",
      "Modelo (modelo_arborescencia): Valor del PLE = 110.0 . Valor del PL = 110.0\n",
      "Modelo (modelo_componentes): Valor del PLE = 110.0 . Valor del PL = 110.0\n",
      "\n",
      "---grafo5.csv---\n",
      "Academic license - for non-commercial use only - expires 2021-05-20\n",
      "Academic license - for non-commercial use only - expires 2021-05-20\n",
      "Academic license - for non-commercial use only - expires 2021-05-20\n",
      "Academic license - for non-commercial use only - expires 2021-05-20\n",
      "Academic license - for non-commercial use only - expires 2021-05-20\n",
      "Academic license - for non-commercial use only - expires 2021-05-20\n",
      "Academic license - for non-commercial use only - expires 2021-05-20\n",
      "Academic license - for non-commercial use only - expires 2021-05-20\n",
      "Modelo (modelo_cortes): Valor del PLE = 201.0 . Valor del PL = 201.0\n",
      "Modelo (modelo_ciclos): Valor del PLE = 201.0 . Valor del PL = 201.0\n",
      "Modelo (modelo_arborescencia): Valor del PLE = 201.0 . Valor del PL = 201.0\n",
      "Modelo (modelo_componentes): Valor del PLE = 193.0 . Valor del PL = 193.0\n",
      "\n"
     ]
    }
   ],
   "source": [
    "for i in 1:5   \n",
    "    println(\"---grafo$i.csv---\")\n",
    "    N, e, w = leegrafo(\"grafo$i.csv\")\n",
    "    Prueba(N, e, w)\n",
    "end"
   ]
  }
 ],
 "metadata": {
  "kernelspec": {
   "display_name": "Julia 1.5.4",
   "language": "julia",
   "name": "julia-1.5"
  },
  "language_info": {
   "file_extension": ".jl",
   "mimetype": "application/julia",
   "name": "julia",
   "version": "1.5.4"
  }
 },
 "nbformat": 4,
 "nbformat_minor": 2
}
