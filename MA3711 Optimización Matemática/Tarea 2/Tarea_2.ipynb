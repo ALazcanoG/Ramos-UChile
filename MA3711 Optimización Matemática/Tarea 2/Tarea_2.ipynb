{
  "nbformat": 4,
  "nbformat_minor": 0,
  "metadata": {
    "colab": {
      "name": "Tarea2Opti.ipynb",
      "provenance": [],
      "collapsed_sections": [
        "G5TnXt9JIwvl"
      ]
    },
    "kernelspec": {
      "name": "python3",
      "display_name": "Python 3"
    }
  },
  "cells": [
    {
      "cell_type": "markdown",
      "metadata": {
        "id": "AxFqFV7V1Xs5",
        "colab_type": "text"
      },
      "source": [
        "###Imports"
      ]
    },
    {
      "cell_type": "code",
      "metadata": {
        "id": "8Cn_N_kQc0ei",
        "colab_type": "code",
        "colab": {}
      },
      "source": [
        "import numpy as np\n",
        "from numpy import *\n",
        "from sympy import Derivative, diff, simplify\n",
        "from sympy import Symbol\n",
        "from sympy import *\n",
        "import sympy\n",
        "import time\n",
        "from math import log"
      ],
      "execution_count": 3,
      "outputs": []
    },
    {
      "cell_type": "markdown",
      "metadata": {
        "id": "1-spUY_SI7ss",
        "colab_type": "text"
      },
      "source": [
        "###Implementación de los métodos DFP y BFGS"
      ]
    },
    {
      "cell_type": "code",
      "metadata": {
        "id": "wWmb2kMrMva8",
        "colab_type": "code",
        "colab": {}
      },
      "source": [
        "#armijo: num num num func np.array(2x1) np.array(2x1) num -> num\n",
        "#Esta función entrega un alfa apropiado según la condición de armijo\n",
        "#dado=\n",
        "#a0: un alfa inicial. \n",
        "#t: el tau de la condición\n",
        "#w: el omega de la condición\n",
        "#f: la función objetivo\n",
        "#xk: el punto de la iteración\n",
        "#dk: la dirección de la iteración\n",
        "#valor: la función objetivo evaluada en xk\n",
        "\n",
        "def armijo(a0, t, w, f, xk, dk, valor):\n",
        "  \n",
        "  contador=0\n",
        "  ak=a0\n",
        "\n",
        "  auxAR=sympy.sympify(f).subs(x,xk[0]+ak*dk[0])\n",
        "  valor1=sympy.sympify(auxAR).subs(y,xk[1]+ak*dk[1])\n",
        "  \n",
        "  #cálculo del gradiente evaluado en xk\n",
        "  gradAux1=np.array([(f.diff(x)),(f.diff(y))])\n",
        "  aux2=(sympy.sympify(gradAux1).subs(x,xk[0]))\n",
        "  aux3=(sympy.sympify(aux2).subs(y,xk[1]))\n",
        "  gradiente=np.array([[aux3[0]],[aux3[1]]])\n",
        "  \n",
        "  if valor1<=valor+(w*ak)*gradiente.T.dot(dk):\n",
        "    return ak\n",
        "  else:\n",
        "    ak=t*ak\n",
        "    contador+=1\n",
        "    return armijo(ak, t, w, f, xk, dk, valor)"
      ],
      "execution_count": 6,
      "outputs": []
    },
    {
      "cell_type": "code",
      "metadata": {
        "id": "fNnW2MGouqLH",
        "colab_type": "code",
        "colab": {}
      },
      "source": [
        "#DFP: np.array(2x2) np.array(2x1) np.array(2x1) num -> np.array(2x2)\n",
        "#Entrega la siguiente matriz del método DFP,dada la matriz anterior\n",
        "#y las variables pk, qk ,yk del método \n",
        "\n",
        "def DFP(H,pk,qk,yk):\n",
        "  HNueva=H-H.dot(qk.dot(qk.T)).dot(H)/(qk.T.dot(H.dot(qk)))+yk*pk.dot(pk.T)\n",
        "  return HNueva"
      ],
      "execution_count": 7,
      "outputs": []
    },
    {
      "cell_type": "code",
      "metadata": {
        "id": "whsfSFQYem8R",
        "colab_type": "code",
        "colab": {}
      },
      "source": [
        "#minDFP: func np.array(2x1) num int num num-> np.array(4x1)\n",
        "#minimiza la función objetivo con el método DFP dada la función, un punto inicial,\n",
        "#un valor épsilon de tolerancia, el número de iteraciones máximas permitidas,\n",
        "#un alfa inicial para armijo y un omega para armijo\n",
        "\n",
        "def minDFP(f, x0, e, iteracionesMax, a0, w):\n",
        "  contador=0\n",
        "  H=np.eye(2)\n",
        "  xk=x0\n",
        "  tiempoInicial = time.time()\n",
        "  while contador<iteracionesMax:\n",
        "    #función evaluada en xk\n",
        "    aux1=(sympy.sympify(f).subs(x,xk[0]))\n",
        "    valor=(sympy.sympify(aux1).subs(y,xk[1]))\n",
        "\n",
        "    #cálculo del gradiente evaluado en xk\n",
        "    gradAux1=np.array([(f.diff(x)),(f.diff(y))])\n",
        "    aux2=(sympy.sympify(gradAux1).subs(x,xk[0]))\n",
        "    aux3=(sympy.sympify(aux2).subs(y,xk[1]))\n",
        "    gradiente=np.array([[aux3[0]],[aux3[1]]])\n",
        "\n",
        "    if gradiente[0]**2+gradiente[1]**2<e**2:\n",
        "      tiempoFinal=time.time()\n",
        "      duracion=tiempoFinal-tiempoInicial\n",
        "      return np.array([[xk],[valor],[contador],[duracion]])\n",
        "    \n",
        "    #dirección del paso\n",
        "    dk=-H.dot(gradiente)\n",
        "    \n",
        "    #alfa (armijo(a0, t, w, f, xk, dk, valor))\n",
        "    ak=armijo(a0, 0.4, w, f, xk, dk, valor)\n",
        "\n",
        "    #cálculo del siguiente punto\n",
        "    xSiguiente=xk+ak*dk\n",
        "\n",
        "    #cálculo del siguiente gradiente\n",
        "    gradAux2=np.array([(f.diff(x)),(f.diff(y))])\n",
        "    aux4=(sympy.sympify(gradAux2).subs(x,xSiguiente[0]))\n",
        "    aux5=(sympy.sympify(aux4).subs(y,xSiguiente[1]))\n",
        "    gradSiguiente=np.array([[aux5[0]],[aux5[1]]])\n",
        "\n",
        "    #cálculo de la siguiente H\n",
        "    pk=xSiguiente-xk\n",
        "    qk=gradSiguiente-gradiente\n",
        "    yk=1/pk.T.dot(qk)\n",
        "    \n",
        "    #nueva H\n",
        "    H=DFP(H,pk,qk,yk)\n",
        "\n",
        "    #actualizar datos\n",
        "    xk=xSiguiente\n",
        "    contador+=1\n",
        "  print(\"Iteraciones máximas superadas\")\n",
        "  return"
      ],
      "execution_count": 8,
      "outputs": []
    },
    {
      "cell_type": "code",
      "metadata": {
        "id": "2f1bpNTcuQ76",
        "colab_type": "code",
        "colab": {}
      },
      "source": [
        "#BFGS: np.array(2x2) np.array(2x1) np.array(2x1) num -> np.array(2x2)\n",
        "#Entrega la siguiente matriz del método BFGS,dada la matriz anterior\n",
        "#y las variables pk, qk ,yk del método \n",
        "\n",
        "def BFGS(H,pk,qk,yk):\n",
        "  Id=np.eye(2)\n",
        "  HNueva=(Id-yk*pk.dot(qk.T)).dot(H.dot(Id-yk*qk.dot(pk.T)))+yk*pk.dot(pk.T)\n",
        "  return HNueva"
      ],
      "execution_count": 9,
      "outputs": []
    },
    {
      "cell_type": "code",
      "metadata": {
        "id": "_fIOPOteHBpb",
        "colab_type": "code",
        "colab": {}
      },
      "source": [
        "#minBFGS: func np.array(2x1) num int num num-> np.array(4x1)\n",
        "#minimiza la función objetivo con el método BFGS dada la función, un punto inicial,\n",
        "#un valor épsilon de tolerancia, el número de iteraciones máximas permitidas,\n",
        "#un alfa inicial para armijo y un omega para armijo\n",
        "\n",
        "def minBFGS(f, x0, e, iteracionesMax, a0, w):\n",
        "  contador=0\n",
        "  H=np.eye(2)\n",
        "  xk=x0\n",
        "  tiempoInicial = time.time()\n",
        "  while contador<iteracionesMax:\n",
        "    #función evaluada en xk\n",
        "    aux1=(sympy.sympify(f).subs(x,xk[0]))\n",
        "    valor=(sympy.sympify(aux1).subs(y,xk[1]))\n",
        "\n",
        "    #cálculo del gradiente evaluado en xk\n",
        "    gradAux1=np.array([(f.diff(x)),(f.diff(y))])\n",
        "    aux2=(sympy.sympify(gradAux1).subs(x,xk[0]))\n",
        "    aux3=(sympy.sympify(aux2).subs(y,xk[1]))\n",
        "    gradiente=np.array([[aux3[0]],[aux3[1]]])\n",
        "\n",
        "    if gradiente[0]**2+gradiente[1]**2<e**2:\n",
        "      tiempoFinal=time.time()\n",
        "      duracion=tiempoFinal-tiempoInicial\n",
        "      return np.array([[xk],[valor],[contador],[duracion]])\n",
        "    \n",
        "\n",
        "    #dirección del paso\n",
        "    dk=-H.dot(gradiente)\n",
        "    \n",
        "    #alfa (armijo(a0, t, w, f, xk, dk, valor de f en xk))\n",
        "    ak=armijo(a0, 0.4, w, f, xk, dk, valor)\n",
        "\n",
        "    #cálculo del siguiente punto\n",
        "    xSiguiente=xk+ak*dk\n",
        "    \n",
        "    #cálculo del siguiente gradiente\n",
        "    gradAux2=np.array([(f.diff(x)),(f.diff(y))])\n",
        "    aux4=(sympy.sympify(gradAux2).subs(x,xSiguiente[0]))\n",
        "    aux5=(sympy.sympify(aux4).subs(y,xSiguiente[1]))\n",
        "    gradSiguiente=np.array([[aux5[0]],[aux5[1]]])\n",
        "    \n",
        "\n",
        "    #cálculo de la siguiente H\n",
        "    pk=xSiguiente-xk\n",
        "    qk=gradSiguiente-gradiente\n",
        "    yk=1/pk.T.dot(qk)\n",
        "    \n",
        "    #nueva H\n",
        "    H=BFGS(H,pk,qk,yk)\n",
        "    \n",
        "    #actualizar datos\n",
        "    xk=xSiguiente\n",
        "    contador+=1\n",
        "  print(\"Iteraciones máximas superadas\")\n",
        "  return"
      ],
      "execution_count": 10,
      "outputs": []
    },
    {
      "cell_type": "markdown",
      "metadata": {
        "id": "G5TnXt9JIwvl",
        "colab_type": "text"
      },
      "source": [
        "###P1 Uso de los métodos en las funciones"
      ]
    },
    {
      "cell_type": "markdown",
      "metadata": {
        "id": "fTN_1A9GLB_1",
        "colab_type": "text"
      },
      "source": [
        "####Función 1"
      ]
    },
    {
      "cell_type": "code",
      "metadata": {
        "id": "UatOC4gZIM_q",
        "colab_type": "code",
        "colab": {
          "base_uri": "https://localhost:8080/",
          "height": 374
        },
        "outputId": "dabc964c-a413-497f-b0a7-8268b688dca8"
      },
      "source": [
        "x=Symbol('x')\n",
        "y=Symbol('y')\n",
        "f1=x**2 + y**2\n",
        "print(\"Metodo DFP\")\n",
        "sol1=minDFP(f1, np.array([[-24.],[23.]]), 0.1, 1000, 1, 0.0001)\n",
        "print(\"Punto ideal:\")\n",
        "print(sol1[0][0])\n",
        "print(\"Valor:\")\n",
        "print(sol1[1])\n",
        "print(\"Iteraciones:\")\n",
        "print(sol1[2])\n",
        "print(\"Tiempo demorado (s):\")\n",
        "print(sol1[3])\n",
        "\n",
        "print(\"\")\n",
        "\n",
        "print(\"Metodo BFGS\")\n",
        "sol2=minBFGS(f1, np.array([[-24],[23.]]), 0.1, 1000, 1, 0.0001)\n",
        "\n",
        "print(\"Punto ideal:\")\n",
        "print(sol2[0][0])\n",
        "print(\"Valor:\")\n",
        "print(sol2[1])\n",
        "print(\"Iteraciones:\")\n",
        "print(sol2[2])\n",
        "print(\"Tiempo demorado (s):\")\n",
        "print(sol2[3])"
      ],
      "execution_count": null,
      "outputs": [
        {
          "output_type": "stream",
          "text": [
            "Metodo DFP\n",
            "Punto ideal:\n",
            "[[0]\n",
            " [-8.88178419700125e-16]]\n",
            "Valor:\n",
            "[7.88860905221012e-31]\n",
            "Iteraciones:\n",
            "[2]\n",
            "Tiempo demorado (s):\n",
            "[0.015521764755249023]\n",
            "\n",
            "Metodo BFGS\n",
            "Punto ideal:\n",
            "[[0]\n",
            " [0]]\n",
            "Valor:\n",
            "[0]\n",
            "Iteraciones:\n",
            "[2]\n",
            "Tiempo demorado (s):\n",
            "[0.008841276168823242]\n"
          ],
          "name": "stdout"
        }
      ]
    },
    {
      "cell_type": "markdown",
      "metadata": {
        "id": "cxoOvSJiOh_U",
        "colab_type": "text"
      },
      "source": [
        "####Función 2\n"
      ]
    },
    {
      "cell_type": "code",
      "metadata": {
        "id": "RJvycA_KOlgt",
        "colab_type": "code",
        "colab": {
          "base_uri": "https://localhost:8080/",
          "height": 374
        },
        "outputId": "0a2c2b4a-85af-4193-cf97-365f70b73687"
      },
      "source": [
        "x=Symbol('x')\n",
        "y=Symbol('y')\n",
        "f2= (x+2*y-7)**2 + (2*x+y-5)**2\n",
        "print(\"Metodo DFP\")\n",
        "sol1=minDFP(f2, np.array([[-24.],[23.]]), 0.1, 1000, 1, 0.0001)\n",
        "print(\"Punto ideal:\")\n",
        "print(sol1[0][0])\n",
        "print(\"Valor:\")\n",
        "print(sol1[1])\n",
        "print(\"Iteraciones:\")\n",
        "print(sol1[2])\n",
        "print(\"Tiempo demorado (s):\")\n",
        "print(sol1[3])\n",
        "\n",
        "print(\"\")\n",
        "\n",
        "print(\"Metodo BFGS\")\n",
        "sol2=minBFGS(f2, np.array([[-24],[23.]]), 0.1, 1000, 1, 0.0001)\n",
        "\n",
        "print(\"Punto ideal:\")\n",
        "print(sol2[0][0])\n",
        "print(\"Valor:\")\n",
        "print(sol2[1])\n",
        "print(\"Iteraciones:\")\n",
        "print(sol2[2])\n",
        "print(\"Tiempo demorado (s):\")\n",
        "print(sol2[3])"
      ],
      "execution_count": null,
      "outputs": [
        {
          "output_type": "stream",
          "text": [
            "Metodo DFP\n",
            "Punto ideal:\n",
            "[[1.00044755727725]\n",
            " [2.99957914496850]]\n",
            "Valor:\n",
            "[3.80278513674318e-7]\n",
            "Iteraciones:\n",
            "[4]\n",
            "Tiempo demorado (s):\n",
            "[0.05342531204223633]\n",
            "\n",
            "Metodo BFGS\n",
            "Punto ideal:\n",
            "[[1.00034614623616]\n",
            " [3.00252815484470]]\n",
            "Valor:\n",
            "[3.95578109494544e-5]\n",
            "Iteraciones:\n",
            "[4]\n",
            "Tiempo demorado (s):\n",
            "[0.029596805572509766]\n"
          ],
          "name": "stdout"
        }
      ]
    },
    {
      "cell_type": "markdown",
      "metadata": {
        "id": "bpHMeEm9O7J3",
        "colab_type": "text"
      },
      "source": [
        "####Función 3"
      ]
    },
    {
      "cell_type": "code",
      "metadata": {
        "id": "ktNCZ8IJO9BH",
        "colab_type": "code",
        "colab": {
          "base_uri": "https://localhost:8080/",
          "height": 374
        },
        "outputId": "fc45de14-327d-4f1a-f4f0-bd657eea2071"
      },
      "source": [
        "x=Symbol('x')\n",
        "y=Symbol('y')\n",
        "f3= (x**2 +y-11)**2 + (x + y**2 - 7)**2\n",
        "print(\"Metodo DFP\")\n",
        "sol1=minDFP(f3, np.array([[-24.],[23.]]), 0.1, 1000, 1, 0.0001)\n",
        "print(\"Punto ideal:\")\n",
        "print(sol1[0][0])\n",
        "print(\"Valor:\")\n",
        "print(sol1[1])\n",
        "print(\"Iteraciones:\")\n",
        "print(sol1[2])\n",
        "print(\"Tiempo demorado (s):\")\n",
        "print(sol1[3])\n",
        "\n",
        "print(\"\")\n",
        "\n",
        "print(\"Metodo BFGS\")\n",
        "sol2=minBFGS(f3, np.array([[-24],[23.]]), 0.1, 1000, 1, 0.0001)\n",
        "\n",
        "print(\"Punto ideal:\")\n",
        "print(sol2[0][0])\n",
        "print(\"Valor:\")\n",
        "print(sol2[1])\n",
        "print(\"Iteraciones:\")\n",
        "print(sol2[2])\n",
        "print(\"Tiempo demorado (s):\")\n",
        "print(sol2[3])"
      ],
      "execution_count": null,
      "outputs": [
        {
          "output_type": "stream",
          "text": [
            "Metodo DFP\n",
            "Punto ideal:\n",
            "[[3.58381910510125]\n",
            " [-1.84676900579577]]\n",
            "Valor:\n",
            "[4.06999929252785e-5]\n",
            "Iteraciones:\n",
            "[35]\n",
            "Tiempo demorado (s):\n",
            "[0.27361059188842773]\n",
            "\n",
            "Metodo BFGS\n",
            "Punto ideal:\n",
            "[[3.58455529796635]\n",
            " [-1.84809099698903]]\n",
            "Valor:\n",
            "[8.94343347640957e-7]\n",
            "Iteraciones:\n",
            "[17]\n",
            "Tiempo demorado (s):\n",
            "[0.15492749214172363]\n"
          ],
          "name": "stdout"
        }
      ]
    },
    {
      "cell_type": "markdown",
      "metadata": {
        "id": "Bpe_AeJwT5ZL",
        "colab_type": "text"
      },
      "source": [
        "###P2 Método Barrera"
      ]
    },
    {
      "cell_type": "code",
      "metadata": {
        "id": "ThbcsHcnXLbj",
        "colab_type": "code",
        "colab": {}
      },
      "source": [
        "#barrera: func func np.array num int num num\n",
        "#Resuelve un problema de minimización dada\n",
        "#la función objetivo, la función de restricción,\n",
        "#un punto inicial factible, un epsilon de tolerancia,\n",
        "#la cantidad máxima de subproblemas a realizar\n",
        "#y los valores de alfa y omega para el paso de armijo.\n",
        "\n",
        "def barrera(f,g,x0,e,subproblemasMax, a0, w):\n",
        "  contador=0\n",
        "  tiempoInicial = time.time()\n",
        "  b=-sympy.log(-g)\n",
        "  tk=1/(contador+1)**3\n",
        "  while contador<subproblemasMax:\n",
        "\n",
        "    tksig=1/(contador+2)**3\n",
        "    iteracion=minBFGS(f+tk*b, x0, 0.1, subproblemasMax, a0, w)\n",
        "\n",
        "    xk=iteracion[0][0]\n",
        "\n",
        "    xksig=minBFGS(f+tksig*b, x0, 0.1, subproblemasMax, a0, w)[0][0]\n",
        "\n",
        "    nxk=sqrt(xk[0]**2 + xk[1]**2)\n",
        "    nxksig=sqrt(xksig[0]**2 + xksig[1]**2)\n",
        "    \n",
        "    if nxksig-nxk <= e:\n",
        "      sol=iteracion\n",
        "\n",
        "      #cálculo duración\n",
        "      tiempoFinal = time.time()\n",
        "      duracion=tiempoFinal-tiempoInicial\n",
        "\n",
        "      #cálculo del valor en la solución\n",
        "      aux1=sympy.sympify(f).subs(x,sol[0][0][0])\n",
        "      valor=sympy.sympify(aux1).subs(y,sol[0][0][1])\n",
        "\n",
        "      print(\"Punto ideal:\")\n",
        "      print(sol[0][0])\n",
        "      print(\"Valor:\") \n",
        "      print(valor)\n",
        "      print(\"Subproblemas resueltos:\")\n",
        "      print(contador+1)\n",
        "      print(\"Tiempo demorado (s):\")\n",
        "      print(duracion)\n",
        "      return\n",
        "\n",
        "    #actualizar datos\n",
        "    tk=tksig\n",
        "    contador+=1\n",
        "    \n",
        "  print('Cantidad de subproblemas máximos superada')"
      ],
      "execution_count": 11,
      "outputs": []
    },
    {
      "cell_type": "markdown",
      "metadata": {
        "id": "TBaUYRvnm3EQ",
        "colab_type": "text"
      },
      "source": [
        "####Función 1"
      ]
    },
    {
      "cell_type": "code",
      "metadata": {
        "id": "m3AvVqnGm54n",
        "colab_type": "code",
        "colab": {
          "base_uri": "https://localhost:8080/",
          "height": 170
        },
        "outputId": "c69ed083-09cb-481b-988e-5d89d43c69e3"
      },
      "source": [
        "x=Symbol('x')\n",
        "y=Symbol('y')\n",
        "f1=x**2 + y**2\n",
        "g1=x+y+100\n",
        "\n",
        "#barrera(f,g,x0,e,subproblemasMax, a0, w)\n",
        "barrera(f1, g1, np.array([[-100.],[-70.]]), 0.1, 10000000, 0.001, 0.0001)"
      ],
      "execution_count": null,
      "outputs": [
        {
          "output_type": "stream",
          "text": [
            "Punto ideal:\n",
            "[[-50.0111697664278]\n",
            " [-49.9988361928255]]\n",
            "Valor:\n",
            "5001.00072204346\n",
            "Subproblemas resueltos:\n",
            "1\n",
            "Tiempo demorado (s):\n",
            "144.85149717330933\n"
          ],
          "name": "stdout"
        }
      ]
    },
    {
      "cell_type": "markdown",
      "metadata": {
        "id": "Q4o2cvX3a_m4",
        "colab_type": "text"
      },
      "source": [
        "####Función 2"
      ]
    },
    {
      "cell_type": "code",
      "metadata": {
        "id": "dPVwOvvpa19a",
        "colab_type": "code",
        "colab": {
          "base_uri": "https://localhost:8080/",
          "height": 170
        },
        "outputId": "a5ee454d-a4de-4e8f-c211-d22d8eac39b5"
      },
      "source": [
        "#9 horas.\n",
        "#Este problema demoró alrededor de 9 horas. \n",
        "\n",
        "x=Symbol('x')\n",
        "y=Symbol('y')\n",
        "f2=(1-x)**2 + 100*(y-x**2)**2\n",
        "g2=(x-1)**3-y+1\n",
        "\n",
        "#barrera(f,g,x0,e,subproblemasMax, a0, w)\n",
        "barrera(f2, g2, np.array([[-10.],[ -10.]]), 0.1, 10000000, 0.00001, 0.0000000000001)"
      ],
      "execution_count": null,
      "outputs": [
        {
          "output_type": "stream",
          "text": [
            "Punto ideal:\n",
            "[[-0.506263011142664]\n",
            " [0.258124543788796]]\n",
            "Valor:\n",
            "2.26916033913982\n",
            "Subproblemas resueltos:\n",
            "1\n",
            "Tiempo demorado (s):\n",
            "32576.222229242325\n"
          ],
          "name": "stdout"
        }
      ]
    },
    {
      "cell_type": "markdown",
      "metadata": {
        "id": "jQwXnk4zbCxZ",
        "colab_type": "text"
      },
      "source": [
        "####Función 3"
      ]
    },
    {
      "cell_type": "code",
      "metadata": {
        "id": "4V2fH6lIbION",
        "colab_type": "code",
        "colab": {}
      },
      "source": [
        "#Esta parte demoró mucho, por lo que no arroja solución.\n",
        "\n",
        "#x=Symbol('x')\n",
        "#y=Symbol('y')\n",
        "#f3=(1-x)**2 + 100*(y-x**2)**2\n",
        "#g3=x+y-2\n",
        "\n",
        "#barrera(f,g,x0,e,subproblemasMax, a0, w)\n",
        "#barrera(f3, g3, np.array([[-10.],[-10.]]), 0.1, 10000000, 0.000005, 0.00000000000001)"
      ],
      "execution_count": null,
      "outputs": []
    }
  ]
}